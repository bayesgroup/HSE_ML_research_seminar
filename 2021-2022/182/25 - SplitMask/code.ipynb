{
  "nbformat": 4,
  "nbformat_minor": 0,
  "metadata": {
    "colab": {
      "name": "SplitMask",
      "provenance": [],
      "collapsed_sections": [
        "mck78721Ucde"
      ]
    },
    "kernelspec": {
      "name": "python3",
      "display_name": "Python 3"
    },
    "language_info": {
      "name": "python"
    },
    "accelerator": "GPU"
  },
  "cells": [
    {
      "cell_type": "markdown",
      "source": [
        "# Эксперимент\n",
        "Хотим посмотреть, насколько эффектино можно предобучить ViT с помщью авторской функции потерь SplitMask на ооооочень маленькой наразмеченной выборке картинок (9469 штучек -- imagenette2-320).\n",
        "\n",
        "Для этого проведём 3 эксперимента. Чтобы оценить качество предобученных, будем дообучать предобученный ViT на урезенный tiny-imagenet (10000 тренировочных картинок, 10000 валидационных, 200 классов).\n",
        "\n",
        "Попробуем 3 варианта получения предобученных весов:\n",
        "1. не будуем предобучать;\n",
        "2. предобучим самодельныйм c помощью самодельного SplitMask К СТАТЬЕ НУЖНО ПУБЛИКОВТЬ КОД!!!\n",
        "3. скачаем веса предобученные на ImageNet в supervised манере. \n"
      ],
      "metadata": {
        "id": "dgUbkD2fPIA_"
      }
    },
    {
      "cell_type": "code",
      "execution_count": null,
      "metadata": {
        "colab": {
          "base_uri": "https://localhost:8080/"
        },
        "id": "WABFoj08NrY0",
        "outputId": "39d08eec-2095-46b6-cc3c-0f0e731bc2f0"
      },
      "outputs": [
        {
          "output_type": "stream",
          "name": "stdout",
          "text": [
            "Collecting vit-pytorch\n",
            "  Downloading vit_pytorch-0.26.7-py3-none-any.whl (50 kB)\n",
            "\u001b[?25l\r\u001b[K     |██████▌                         | 10 kB 20.1 MB/s eta 0:00:01\r\u001b[K     |█████████████                   | 20 kB 8.9 MB/s eta 0:00:01\r\u001b[K     |███████████████████▌            | 30 kB 7.9 MB/s eta 0:00:01\r\u001b[K     |██████████████████████████      | 40 kB 7.4 MB/s eta 0:00:01\r\u001b[K     |████████████████████████████████| 50 kB 3.0 MB/s \n",
            "\u001b[?25hRequirement already satisfied: torch>=1.6 in /usr/local/lib/python3.7/dist-packages (from vit-pytorch) (1.10.0+cu111)\n",
            "Requirement already satisfied: torchvision in /usr/local/lib/python3.7/dist-packages (from vit-pytorch) (0.11.1+cu111)\n",
            "Collecting einops>=0.3\n",
            "  Downloading einops-0.4.0-py3-none-any.whl (28 kB)\n",
            "Requirement already satisfied: typing-extensions in /usr/local/lib/python3.7/dist-packages (from torch>=1.6->vit-pytorch) (3.10.0.2)\n",
            "Requirement already satisfied: pillow!=8.3.0,>=5.3.0 in /usr/local/lib/python3.7/dist-packages (from torchvision->vit-pytorch) (7.1.2)\n",
            "Requirement already satisfied: numpy in /usr/local/lib/python3.7/dist-packages (from torchvision->vit-pytorch) (1.19.5)\n",
            "Installing collected packages: einops, vit-pytorch\n",
            "Successfully installed einops-0.4.0 vit-pytorch-0.26.7\n",
            "Collecting info-nce-pytorch\n",
            "  Downloading info_nce_pytorch-0.1.4-py3-none-any.whl (4.8 kB)\n",
            "Requirement already satisfied: torch in /usr/local/lib/python3.7/dist-packages (from info-nce-pytorch) (1.10.0+cu111)\n",
            "Requirement already satisfied: typing-extensions in /usr/local/lib/python3.7/dist-packages (from torch->info-nce-pytorch) (3.10.0.2)\n",
            "Installing collected packages: info-nce-pytorch\n",
            "Successfully installed info-nce-pytorch-0.1.4\n"
          ]
        }
      ],
      "source": [
        "! pip install vit-pytorch\n",
        "! pip install info-nce-pytorch"
      ]
    },
    {
      "cell_type": "code",
      "source": [
        "from google.colab import drive\n",
        "drive.mount('/content/drive')\n",
        "\n",
        "! cp /content/drive/MyDrive/HSE/НИС/SplitMask/imagenette2-320.tgz .\n",
        "! tar zxf imagenette2-320.tgz"
      ],
      "metadata": {
        "colab": {
          "base_uri": "https://localhost:8080/"
        },
        "id": "fRsqBRSnRhGp",
        "outputId": "4b127a03-c378-4b68-9731-fc102e096ad1"
      },
      "execution_count": null,
      "outputs": [
        {
          "output_type": "stream",
          "name": "stdout",
          "text": [
            "Mounted at /content/drive\n"
          ]
        }
      ]
    },
    {
      "cell_type": "code",
      "source": [
        "import torch\n",
        "from torch import nn\n",
        "import torch.nn.functional as F\n",
        "from einops import repeat\n",
        "from vit_pytorch.vit import Transformer\n",
        "from torch.utils.data import Dataset, DataLoader\n",
        "import numpy as np\n",
        "import PIL\n",
        "import torchvision.transforms as transforms\n",
        "import os\n",
        "import glob\n",
        "from vit_pytorch import ViT\n",
        "from torch.optim import Adam\n",
        "import tqdm\n",
        "from info_nce import InfoNCE \n",
        "\n",
        "IMAGE_SIZE = 256"
      ],
      "metadata": {
        "id": "WhDbntOOT_Qj"
      },
      "execution_count": null,
      "outputs": []
    },
    {
      "cell_type": "code",
      "source": [
        "class MyDataset(Dataset):\n",
        "    def __init__(self, transform, folder):\n",
        "        super().__init__()\n",
        "        self.transform = transform\n",
        "        self.files = [y for x in os.walk(folder) for y in glob.glob(os.path.join(x[0], '*.JPEG'))]\n",
        "        \n",
        "    def __len__(self):\n",
        "        return len(self.files)\n",
        "    \n",
        "    def __getitem__(self, index):\n",
        "        image = np.array(PIL.Image.open(self.files[index]))\n",
        "        if len(image.shape) == 2:\n",
        "            image = np.stack((image, image, image), axis=-1)\n",
        "        image = self.transform(image)\n",
        "        return image"
      ],
      "metadata": {
        "id": "LWo8w8CATscy"
      },
      "execution_count": null,
      "outputs": []
    },
    {
      "cell_type": "code",
      "source": [
        "transform = transforms.Compose(\n",
        "    [\n",
        "        transforms.ToTensor(),\n",
        "        transforms.Resize((IMAGE_SIZE, IMAGE_SIZE)),\n",
        "        transforms.Normalize(\n",
        "            mean=[0.485, 0.456, 0.406],\n",
        "            std=[0.229, 0.224, 0.225],\n",
        "        )\n",
        "    ]\n",
        ")"
      ],
      "metadata": {
        "id": "ExTO3TfNUYzz"
      },
      "execution_count": null,
      "outputs": []
    },
    {
      "cell_type": "code",
      "source": [
        "dataset_trn = MyDataset(transform, \"/content/imagenette2-320/train\")\n",
        "dataset_val = MyDataset(transform, \"/content/imagenette2-320/val\")\n",
        "print(len(dataset_trn))\n",
        "print(len(dataset_val))"
      ],
      "metadata": {
        "colab": {
          "base_uri": "https://localhost:8080/"
        },
        "id": "uFXlILqmaenT",
        "outputId": "12fa7efb-9529-4d69-bdbf-8927ce4c4c8f"
      },
      "execution_count": null,
      "outputs": [
        {
          "output_type": "stream",
          "name": "stdout",
          "text": [
            "9469\n",
            "3925\n"
          ]
        }
      ]
    },
    {
      "cell_type": "code",
      "source": [
        "class SplitMaskLoss(nn.Module):\n",
        "    def __init__(\n",
        "        self,\n",
        "        *,\n",
        "        encoder,\n",
        "        decoder_depth = 1,\n",
        "        decoder_heads = 8,\n",
        "        decoder_dim_head = 64\n",
        "    ):\n",
        "        super().__init__()\n",
        "        # extract some hyperparameters and functions from encoder (vision transformer to be trained)\n",
        "\n",
        "        self.encoder = encoder\n",
        "        num_patches, encoder_dim = encoder.pos_embedding.shape[-2:]\n",
        "        self.to_patch, self.patch_to_emb = encoder.to_patch_embedding[:2]\n",
        "        pixel_values_per_patch = self.patch_to_emb.weight.shape[-1]\n",
        "\n",
        "        # decoder parameters\n",
        "\n",
        "        self.mask_token = nn.Parameter(torch.randn(encoder_dim))\n",
        "        self.decoder = Transformer(dim = encoder_dim, depth = decoder_depth, heads = decoder_heads, dim_head = decoder_dim_head, mlp_dim = encoder_dim * 4)\n",
        "        self.decoder_pos_emb = nn.Embedding(num_patches, encoder_dim)\n",
        "        self.to_pixels = nn.Linear(encoder_dim, pixel_values_per_patch)\n",
        "         \n",
        "        self.pooling = nn.AvgPool1d(64)\n",
        "        self.infonceloss = InfoNCE()\n",
        "\n",
        "    def forward(self, img):\n",
        "        device = img.device\n",
        "\n",
        "        # get patches\n",
        "\n",
        "        patches = self.to_patch(img)\n",
        "        batch, num_patches, *_ = patches.shape\n",
        "\n",
        "        # patch to encoder tokens and add positions\n",
        "\n",
        "        tokens = self.patch_to_emb(patches)\n",
        "        tokens = tokens + self.encoder.pos_embedding[:, 1:(num_patches + 1)]\n",
        "\n",
        "        # calculate of patches needed to be masked, and get random indices, dividing it up for mask vs unmasked\n",
        "\n",
        "        num_masked = num_patches // 2\n",
        "        rand_indices = torch.rand(batch, num_patches, device = device).argsort(dim = -1)\n",
        "        masked_indices_1, masked_indices_2 = rand_indices[:, :num_masked], rand_indices[:, num_masked:]\n",
        "\n",
        "        # get the unmasked tokens to be encoded\n",
        "\n",
        "        batch_range = torch.arange(batch, device = device)[:, None]\n",
        "        tokens_1 = tokens[batch_range, masked_indices_2]\n",
        "        tokens_2 = tokens[batch_range, masked_indices_1]\n",
        "\n",
        "        # get the patches to be masked for the final reconstruction loss\n",
        "\n",
        "        masked_patches_1 = patches[batch_range, masked_indices_1]\n",
        "        masked_patches_2 = patches[batch_range, masked_indices_2]\n",
        "\n",
        "        # attend with vision transformer\n",
        "\n",
        "        encoded_tokens_1 = self.encoder.transformer(tokens_1)\n",
        "        encoded_tokens_2 = self.encoder.transformer(tokens_2)\n",
        "\n",
        "        decoder_tokens_1 = encoded_tokens_1\n",
        "        decoder_tokens_2 = encoded_tokens_2\n",
        "\n",
        "        # reapply decoder position embedding to unmasked tokens\n",
        "\n",
        "        decoder_tokens_1 = decoder_tokens_1 + self.decoder_pos_emb(masked_indices_2)\n",
        "        decoder_tokens_2 = decoder_tokens_2 + self.decoder_pos_emb(masked_indices_1)\n",
        "\n",
        "        # repeat mask tokens for number of masked, and add the positions using the masked indices derived above\n",
        "\n",
        "        mask_tokens = repeat(self.mask_token, 'd -> b n d', b = batch, n = num_masked)\n",
        "        mask_tokens_1 = mask_tokens + self.decoder_pos_emb(masked_indices_1)\n",
        "        mask_tokens_2 = mask_tokens + self.decoder_pos_emb(masked_indices_2)\n",
        "\n",
        "        # concat the masked tokens to the decoder tokens and attend with decoder\n",
        "        positive_key = torch.cat((decoder_tokens_1, decoder_tokens_2), dim=1)\n",
        "\n",
        "        decoder_tokens_1 = torch.cat((mask_tokens_1, decoder_tokens_1), dim = 1)\n",
        "        decoded_tokens_1 = self.decoder(decoder_tokens_1)\n",
        "        decoder_tokens_2 = torch.cat((mask_tokens_2, decoder_tokens_2), dim = 1)\n",
        "        decoded_tokens_2 = self.decoder(decoder_tokens_2)\n",
        "\n",
        "        # splice out the mask tokens and project to pixel values\n",
        "\n",
        "        mask_tokens_1 = decoded_tokens_1[:, :num_masked]\n",
        "        pred_pixel_values_1 = self.to_pixels(mask_tokens_1)\n",
        "        mask_tokens_2 = decoded_tokens_2[:, :num_masked]\n",
        "        pred_pixel_values_2 = self.to_pixels(mask_tokens_2)\n",
        "\n",
        "        query = torch.cat((mask_tokens_1, mask_tokens_2), dim=1)\n",
        "        query = self.pooling(query.permute(0,2,1)).squeeze(2)\n",
        "        positive_key = self.pooling(positive_key.permute(0,2,1)).squeeze(2)\n",
        "        infonce_loss = self.infonceloss(query=query, positive_key=positive_key)\n",
        "\n",
        "        # calculate reconstruction loss\n",
        "\n",
        "        recon_loss = \\\n",
        "            F.mse_loss(pred_pixel_values_1, masked_patches_1) + \\\n",
        "            F.mse_loss(pred_pixel_values_2, masked_patches_2)\n",
        "        return recon_loss + infonce_loss"
      ],
      "metadata": {
        "id": "143ZfIPmN-T1"
      },
      "execution_count": null,
      "outputs": []
    },
    {
      "cell_type": "code",
      "source": [
        "loader_trn = DataLoader(dataset = dataset_trn, batch_size = 32, shuffle=True, num_workers=2)\n",
        "loader_val = DataLoader(dataset = dataset_val, batch_size = 32, shuffle=False, num_workers=2)"
      ],
      "metadata": {
        "id": "lNOVyqjEOKSb"
      },
      "execution_count": null,
      "outputs": []
    },
    {
      "cell_type": "code",
      "source": [
        "device = \"cuda\""
      ],
      "metadata": {
        "id": "iDwSVgcHbnSJ"
      },
      "execution_count": null,
      "outputs": []
    },
    {
      "cell_type": "code",
      "source": [
        "model = ViT(\n",
        "    image_size = 256,\n",
        "    patch_size = 32,\n",
        "    num_classes = 1000,\n",
        "    dim = 1024,\n",
        "    depth = 6,\n",
        "    heads = 8,\n",
        "    mlp_dim = 2048\n",
        ").to(device)\n",
        "\n",
        "split_mask_loss = SplitMaskLoss(\n",
        "    encoder = model,\n",
        "    decoder_depth = 6       # anywhere from 1 to 8\n",
        ").to(device)\n",
        "\n",
        "optimizer = Adam(split_mask_loss.parameters(), lr=5e-5)"
      ],
      "metadata": {
        "id": "qdasw7KJbycS"
      },
      "execution_count": null,
      "outputs": []
    },
    {
      "cell_type": "code",
      "source": [
        "train_losses = []\n",
        "num_epochs = 200\n",
        "best_loss = None\n",
        "best_ep = None\n",
        "\n",
        "\n",
        "for epoch in range(1, num_epochs + 1):\n",
        "    split_mask_loss.train()\n",
        "    train_loss = 0.0\n",
        "    for images in loader_trn:\n",
        "        images = images.to(device)\n",
        "        optimizer.zero_grad()\n",
        "        loss = split_mask_loss(images)\n",
        "        loss.backward()\n",
        "        optimizer.step()\n",
        "        train_loss += loss.item()\n",
        "\n",
        "    train_loss = train_loss/len(loader_trn.sampler)\n",
        "\n",
        "    split_mask_loss.eval()\n",
        "    with torch.no_grad():\n",
        "        valid_loss = 0.0\n",
        "        for images in loader_val:\n",
        "            images = images.to(device)\n",
        "            loss = split_mask_loss(images)\n",
        "            valid_loss += loss.item()\n",
        "        valid_loss = valid_loss/max(len(loader_val.sampler),1)\n",
        "\n",
        "        if best_loss is None or valid_loss < best_loss:\n",
        "            if best_ep is not None:\n",
        "                os.remove(\n",
        "                    '/content/drive/MyDrive/HSE/НИС/SplitMask/pretrained_net_' +\n",
        "                    str(best_ep) + '.pt'\n",
        "                )\n",
        "            best_loss = valid_loss\n",
        "            best_ep = epoch\n",
        "            torch.save(\n",
        "                model.state_dict(),\n",
        "                '/content/drive/MyDrive/HSE/НИС/SplitMask/pretrained_net_' +\n",
        "                str(best_ep) + '.pt'\n",
        "            )\n",
        "        print('ep:', epoch, 'train:', train_loss, 'val:', valid_loss)"
      ],
      "metadata": {
        "colab": {
          "base_uri": "https://localhost:8080/",
          "height": 1000
        },
        "id": "peeg1hP9bZGb",
        "outputId": "1ab548c6-a301-4b1c-88a3-04dd41d55ca1"
      },
      "execution_count": null,
      "outputs": [
        {
          "output_type": "stream",
          "name": "stdout",
          "text": [
            "ep: 1 train: 0.09099033606796433 val: 0.061005992099737665\n",
            "ep: 2 train: 0.0510996405004964 val: 0.047834649085998535\n",
            "ep: 3 train: 0.041158158142874615 val: 0.04107732753085483\n",
            "ep: 4 train: 0.03725250072722979 val: 0.03822795880068639\n",
            "ep: 5 train: 0.03546167026793318 val: 0.03648587680925989\n",
            "ep: 6 train: 0.03413636595788155 val: 0.03524326716259027\n",
            "ep: 7 train: 0.03313623186980221 val: 0.03419857406312493\n",
            "ep: 8 train: 0.032284202810098736 val: 0.03341746225478543\n",
            "ep: 9 train: 0.031745933192196006 val: 0.03290457985203737\n",
            "ep: 10 train: 0.03125794829732073 val: 0.03222395816426368\n",
            "ep: 11 train: 0.03081462229427459 val: 0.03199852042896732\n",
            "ep: 12 train: 0.030577289163027686 val: 0.03176347137256792\n",
            "ep: 13 train: 0.030272034962233425 val: 0.031312271303432004\n",
            "ep: 14 train: 0.029943956771336534 val: 0.031117669913419493\n",
            "ep: 15 train: 0.029707990977816755 val: 0.03082451811261997\n",
            "ep: 16 train: 0.029423786759414296 val: 0.030510369820199956\n",
            "ep: 17 train: 0.029210166526276355 val: 0.030264537030724202\n",
            "ep: 18 train: 0.02903006788493084 val: 0.030066277821352527\n",
            "ep: 19 train: 0.028869461284316774 val: 0.030148870717188355\n",
            "ep: 20 train: 0.02857429503588808 val: 0.030043493881347073\n",
            "ep: 21 train: 0.028458208673442727 val: 0.029503464668419712\n",
            "ep: 22 train: 0.028277845641529062 val: 0.02938734250463498\n",
            "ep: 23 train: 0.028089962680156764 val: 0.029531316438298316\n",
            "ep: 24 train: 0.027939628196349302 val: 0.029050947503679116\n",
            "ep: 25 train: 0.027807904858437597 val: 0.029084846487470492\n",
            "ep: 26 train: 0.02764225266704666 val: 0.02886625797125944\n",
            "ep: 27 train: 0.027533638658613198 val: 0.028826193483012498\n",
            "ep: 28 train: 0.027336481336631295 val: 0.02873659605433227\n",
            "ep: 29 train: 0.027252161115083766 val: 0.028613538377603907\n",
            "ep: 30 train: 0.027116919290252745 val: 0.028666024678831645\n",
            "ep: 31 train: 0.027009536370466648 val: 0.028467658758163452\n",
            "ep: 32 train: 0.026925406671021074 val: 0.028394444429191056\n",
            "ep: 33 train: 0.02679321807822452 val: 0.028366124356628223\n",
            "ep: 34 train: 0.026631279302154504 val: 0.028411466391982547\n",
            "ep: 35 train: 0.026616380457415326 val: 0.02860634418050195\n",
            "ep: 36 train: 0.026504369752184745 val: 0.027982705398729654\n",
            "ep: 37 train: 0.026288017795813325 val: 0.027926084539692874\n",
            "ep: 38 train: 0.026168106167277914 val: 0.027889131854294213\n",
            "ep: 39 train: 0.026169374205895168 val: 0.02796626750830632\n",
            "ep: 40 train: 0.026034119967888573 val: 0.027641267055159163\n",
            "ep: 41 train: 0.025926259883619157 val: 0.027849541621603024\n",
            "ep: 42 train: 0.025799715508879873 val: 0.02763462270141407\n",
            "ep: 43 train: 0.025787994021636177 val: 0.027741678140725298\n",
            "ep: 44 train: 0.025639449338976415 val: 0.02765570118928411\n",
            "ep: 45 train: 0.025547258622770463 val: 0.027734657062846384\n",
            "ep: 46 train: 0.025445317143131956 val: 0.02742528678505284\n",
            "ep: 47 train: 0.0254262441918545 val: 0.02767163793752148\n",
            "ep: 48 train: 0.02524859075725538 val: 0.02746139735173268\n",
            "ep: 49 train: 0.025243241433949237 val: 0.027645863271822595\n",
            "ep: 50 train: 0.02514852036869832 val: 0.027537809724261047\n",
            "ep: 51 train: 0.0250616198117837 val: 0.027621062295452047\n",
            "ep: 52 train: 0.024983407659457117 val: 0.02745744607251161\n",
            "ep: 53 train: 0.024804169341822665 val: 0.02745654193459043\n",
            "ep: 54 train: 0.024814470867532048 val: 0.02731702624612553\n",
            "ep: 55 train: 0.024624890020422653 val: 0.027243677719383484\n",
            "ep: 56 train: 0.024628799245405102 val: 0.02732682701129063\n",
            "ep: 57 train: 0.02443551144135113 val: 0.027190477255803005\n",
            "ep: 58 train: 0.024403853865381856 val: 0.02743903392439435\n",
            "ep: 59 train: 0.024270161622831292 val: 0.027357204909537247\n",
            "ep: 60 train: 0.024280265456759726 val: 0.027128578014434523\n",
            "ep: 61 train: 0.02407059763663547 val: 0.027225022247642467\n",
            "ep: 62 train: 0.02410607543033435 val: 0.02710954968337041\n",
            "ep: 63 train: 0.023934905821600513 val: 0.027396885642580165\n",
            "ep: 64 train: 0.023907961859498107 val: 0.027263905090890873\n",
            "ep: 65 train: 0.02367755368765814 val: 0.0272386817036161\n",
            "ep: 66 train: 0.0236649235081227 val: 0.027128561902198062\n",
            "ep: 67 train: 0.023617239823775955 val: 0.027341339869104374\n",
            "ep: 68 train: 0.023533447583936086 val: 0.027191384453682382\n",
            "ep: 69 train: 0.023386440296990905 val: 0.027426765033393908\n",
            "ep: 70 train: 0.023332338138497333 val: 0.02728026387797799\n",
            "ep: 71 train: 0.023267301860738422 val: 0.027288817296362226\n",
            "ep: 72 train: 0.02313863696058948 val: 0.02741834039141418\n",
            "ep: 73 train: 0.023072399922114187 val: 0.027192038730451257\n",
            "ep: 74 train: 0.022970780794768313 val: 0.02736345314675835\n",
            "ep: 75 train: 0.022901254075924866 val: 0.0272831797523863\n",
            "ep: 76 train: 0.022696245237846586 val: 0.027426505309001654\n",
            "ep: 77 train: 0.02274008587983156 val: 0.027208684925820417\n",
            "ep: 78 train: 0.022700189291480377 val: 0.02732781152816335\n",
            "ep: 79 train: 0.02250099266478071 val: 0.027312344024135807\n",
            "ep: 80 train: 0.022389726731200342 val: 0.027337516789223738\n",
            "ep: 81 train: 0.022344140879820087 val: 0.027475852776484885\n",
            "ep: 82 train: 0.022210283822778638 val: 0.027301831852858234\n",
            "ep: 83 train: 0.02212730507712667 val: 0.027437103273002965\n",
            "ep: 84 train: 0.022109531376804742 val: 0.02752413038994856\n",
            "ep: 85 train: 0.021932622858634253 val: 0.02747983501974944\n",
            "ep: 86 train: 0.021831651658767104 val: 0.027454866459415216\n",
            "ep: 87 train: 0.021777599606195214 val: 0.027298182575565995\n",
            "ep: 88 train: 0.021688196900553354 val: 0.02742381801271135\n",
            "ep: 89 train: 0.021633335555515013 val: 0.02750368413651825\n",
            "ep: 90 train: 0.02162275788700685 val: 0.027429399171452613\n",
            "ep: 91 train: 0.02144347636245702 val: 0.02739686581739195\n",
            "ep: 92 train: 0.021361416503385754 val: 0.027450912553034012\n",
            "ep: 93 train: 0.021255819312067544 val: 0.027577500654633637\n",
            "ep: 94 train: 0.02123002576556071 val: 0.0275045565511011\n",
            "ep: 95 train: 0.021068409933486423 val: 0.027619612520667396\n",
            "ep: 96 train: 0.0210295784170014 val: 0.027539523642533904\n",
            "ep: 97 train: 0.02099719135294697 val: 0.027564647865902847\n",
            "ep: 98 train: 0.020878554369330924 val: 0.027669681044900495\n",
            "ep: 99 train: 0.02077199847107264 val: 0.027496898052798716\n",
            "ep: 100 train: 0.020673396739955687 val: 0.027655735038647985\n",
            "ep: 101 train: 0.02056201039479544 val: 0.027565579178986277\n",
            "ep: 102 train: 0.020506081208216877 val: 0.027630699371835987\n",
            "ep: 103 train: 0.02033934523077572 val: 0.027566472314725258\n",
            "ep: 104 train: 0.02036050773747104 val: 0.027797243678645722\n",
            "ep: 105 train: 0.02026855762410987 val: 0.027608586618095447\n",
            "ep: 106 train: 0.020173610125414885 val: 0.02776138729350582\n",
            "ep: 107 train: 0.02009091617779314 val: 0.027738667475949427\n",
            "ep: 108 train: 0.020019300586508273 val: 0.028098088768637106\n",
            "ep: 109 train: 0.019960900809750007 val: 0.027761782400167672\n",
            "ep: 110 train: 0.019866026587818126 val: 0.027779986714101902\n",
            "ep: 111 train: 0.01976227562346193 val: 0.027776503972946457\n",
            "ep: 112 train: 0.0197674131737124 val: 0.02781484481635367\n",
            "ep: 113 train: 0.019663887544372715 val: 0.02795787029205614\n",
            "ep: 114 train: 0.019599099382199486 val: 0.02780535995580588\n",
            "ep: 115 train: 0.01945686451118994 val: 0.027956324549996928\n",
            "ep: 116 train: 0.01933671072501544 val: 0.02776094923353499\n",
            "ep: 117 train: 0.019282480846779287 val: 0.02810997644047828\n",
            "ep: 118 train: 0.01917154373960468 val: 0.028017172623591817\n",
            "ep: 119 train: 0.019155970671219966 val: 0.028043586714252545\n",
            "ep: 120 train: 0.01906784441393297 val: 0.028244911348743802\n"
          ]
        },
        {
          "output_type": "error",
          "ename": "KeyboardInterrupt",
          "evalue": "ignored",
          "traceback": [
            "\u001b[0;31m---------------------------------------------------------------------------\u001b[0m",
            "\u001b[0;31mKeyboardInterrupt\u001b[0m                         Traceback (most recent call last)",
            "\u001b[0;32m<ipython-input-11-99224b7c437b>\u001b[0m in \u001b[0;36m<module>\u001b[0;34m()\u001b[0m\n\u001b[1;32m     12\u001b[0m         \u001b[0moptimizer\u001b[0m\u001b[0;34m.\u001b[0m\u001b[0mzero_grad\u001b[0m\u001b[0;34m(\u001b[0m\u001b[0;34m)\u001b[0m\u001b[0;34m\u001b[0m\u001b[0;34m\u001b[0m\u001b[0m\n\u001b[1;32m     13\u001b[0m         \u001b[0mloss\u001b[0m \u001b[0;34m=\u001b[0m \u001b[0msplit_mask_loss\u001b[0m\u001b[0;34m(\u001b[0m\u001b[0mimages\u001b[0m\u001b[0;34m)\u001b[0m\u001b[0;34m\u001b[0m\u001b[0;34m\u001b[0m\u001b[0m\n\u001b[0;32m---> 14\u001b[0;31m         \u001b[0mloss\u001b[0m\u001b[0;34m.\u001b[0m\u001b[0mbackward\u001b[0m\u001b[0;34m(\u001b[0m\u001b[0;34m)\u001b[0m\u001b[0;34m\u001b[0m\u001b[0;34m\u001b[0m\u001b[0m\n\u001b[0m\u001b[1;32m     15\u001b[0m         \u001b[0moptimizer\u001b[0m\u001b[0;34m.\u001b[0m\u001b[0mstep\u001b[0m\u001b[0;34m(\u001b[0m\u001b[0;34m)\u001b[0m\u001b[0;34m\u001b[0m\u001b[0;34m\u001b[0m\u001b[0m\n\u001b[1;32m     16\u001b[0m         \u001b[0mtrain_loss\u001b[0m \u001b[0;34m+=\u001b[0m \u001b[0mloss\u001b[0m\u001b[0;34m.\u001b[0m\u001b[0mitem\u001b[0m\u001b[0;34m(\u001b[0m\u001b[0;34m)\u001b[0m\u001b[0;34m\u001b[0m\u001b[0;34m\u001b[0m\u001b[0m\n",
            "\u001b[0;32m/usr/local/lib/python3.7/dist-packages/torch/_tensor.py\u001b[0m in \u001b[0;36mbackward\u001b[0;34m(self, gradient, retain_graph, create_graph, inputs)\u001b[0m\n\u001b[1;32m    305\u001b[0m                 \u001b[0mcreate_graph\u001b[0m\u001b[0;34m=\u001b[0m\u001b[0mcreate_graph\u001b[0m\u001b[0;34m,\u001b[0m\u001b[0;34m\u001b[0m\u001b[0;34m\u001b[0m\u001b[0m\n\u001b[1;32m    306\u001b[0m                 inputs=inputs)\n\u001b[0;32m--> 307\u001b[0;31m         \u001b[0mtorch\u001b[0m\u001b[0;34m.\u001b[0m\u001b[0mautograd\u001b[0m\u001b[0;34m.\u001b[0m\u001b[0mbackward\u001b[0m\u001b[0;34m(\u001b[0m\u001b[0mself\u001b[0m\u001b[0;34m,\u001b[0m \u001b[0mgradient\u001b[0m\u001b[0;34m,\u001b[0m \u001b[0mretain_graph\u001b[0m\u001b[0;34m,\u001b[0m \u001b[0mcreate_graph\u001b[0m\u001b[0;34m,\u001b[0m \u001b[0minputs\u001b[0m\u001b[0;34m=\u001b[0m\u001b[0minputs\u001b[0m\u001b[0;34m)\u001b[0m\u001b[0;34m\u001b[0m\u001b[0;34m\u001b[0m\u001b[0m\n\u001b[0m\u001b[1;32m    308\u001b[0m \u001b[0;34m\u001b[0m\u001b[0m\n\u001b[1;32m    309\u001b[0m     \u001b[0;32mdef\u001b[0m \u001b[0mregister_hook\u001b[0m\u001b[0;34m(\u001b[0m\u001b[0mself\u001b[0m\u001b[0;34m,\u001b[0m \u001b[0mhook\u001b[0m\u001b[0;34m)\u001b[0m\u001b[0;34m:\u001b[0m\u001b[0;34m\u001b[0m\u001b[0;34m\u001b[0m\u001b[0m\n",
            "\u001b[0;32m/usr/local/lib/python3.7/dist-packages/torch/autograd/__init__.py\u001b[0m in \u001b[0;36mbackward\u001b[0;34m(tensors, grad_tensors, retain_graph, create_graph, grad_variables, inputs)\u001b[0m\n\u001b[1;32m    154\u001b[0m     Variable._execution_engine.run_backward(\n\u001b[1;32m    155\u001b[0m         \u001b[0mtensors\u001b[0m\u001b[0;34m,\u001b[0m \u001b[0mgrad_tensors_\u001b[0m\u001b[0;34m,\u001b[0m \u001b[0mretain_graph\u001b[0m\u001b[0;34m,\u001b[0m \u001b[0mcreate_graph\u001b[0m\u001b[0;34m,\u001b[0m \u001b[0minputs\u001b[0m\u001b[0;34m,\u001b[0m\u001b[0;34m\u001b[0m\u001b[0;34m\u001b[0m\u001b[0m\n\u001b[0;32m--> 156\u001b[0;31m         allow_unreachable=True, accumulate_grad=True)  # allow_unreachable flag\n\u001b[0m\u001b[1;32m    157\u001b[0m \u001b[0;34m\u001b[0m\u001b[0m\n\u001b[1;32m    158\u001b[0m \u001b[0;34m\u001b[0m\u001b[0m\n",
            "\u001b[0;31mKeyboardInterrupt\u001b[0m: "
          ]
        }
      ]
    },
    {
      "cell_type": "code",
      "source": [
        "! cp /content/drive/MyDrive/HSE/НИС/SplitMask/tiny-imagenet-200.zip .\n",
        "! rm -r tiny-imagenet-200\n",
        "! unzip -q tiny-imagenet-200.zip"
      ],
      "metadata": {
        "id": "KNBrg9SOHMVC",
        "colab": {
          "base_uri": "https://localhost:8080/"
        },
        "outputId": "398d91c9-5230-422f-ff55-557692550d72"
      },
      "execution_count": null,
      "outputs": [
        {
          "output_type": "stream",
          "name": "stdout",
          "text": [
            "rm: cannot remove 'tiny-imagenet-200': No such file or directory\n"
          ]
        }
      ]
    },
    {
      "cell_type": "code",
      "source": [
        "import random\n",
        "random.seed(42)\n",
        "\n",
        "ids = dict()\n",
        "with open(\"/content/tiny-imagenet-200/wnids.txt\", \"r\") as f:\n",
        "    i = 0\n",
        "    for line in f:\n",
        "        ids[line.strip()] = i\n",
        "        i += 1\n",
        "\n",
        "class TinyImagenetDataset(Dataset):\n",
        "    def __init__(self, transform, train_eval):\n",
        "        super().__init__()\n",
        "        self.transform = transform\n",
        "        self.labels = []\n",
        "        if train_eval == \"train\":\n",
        "            self.files = [y for x in os.walk(\"/content/tiny-imagenet-200/train\") for y in glob.glob(os.path.join(x[0], '*.JPEG'))]\n",
        "            random.shuffle(self.files)\n",
        "            self.files = self.files[:10000]\n",
        "            for filename in self.files:\n",
        "                id = filename.split(\"_\")[0].split(\"/\")[-1]\n",
        "                self.labels.append(ids[id])\n",
        "        else:\n",
        "            self.files = [y for x in os.walk(\"/content/tiny-imagenet-200/val\") for y in glob.glob(os.path.join(x[0], '*.JPEG'))]\n",
        "            d = {}\n",
        "            with open(\"/content/tiny-imagenet-200/val/val_annotations.txt\", \"r\") as f:\n",
        "                for line in f:\n",
        "                    part = line.split(\"\\t\")\n",
        "                    d[part[0]] = ids[part[1]]\n",
        "            for filename in self.files:\n",
        "                self.labels.append(d[filename.split(\"/\")[-1]])\n",
        "        \n",
        "    def __len__(self):\n",
        "        return len(self.files)\n",
        "    \n",
        "    def __getitem__(self, index):\n",
        "        image = np.array(PIL.Image.open(self.files[index]))\n",
        "        if len(image.shape) == 2:\n",
        "            image = np.stack((image, image, image), axis=-1)\n",
        "        image = self.transform(image)\n",
        "        return image, self.labels[index]"
      ],
      "metadata": {
        "id": "DOy-ucBkLF8m"
      },
      "execution_count": null,
      "outputs": []
    },
    {
      "cell_type": "code",
      "source": [
        "transform_train = transforms.Compose(\n",
        "    [\n",
        "        transforms.ToTensor(),\n",
        "        transforms.ColorJitter(brightness=0.2, hue=0.2),\n",
        "        transforms.Resize(IMAGE_SIZE),\n",
        "        transforms.Normalize(\n",
        "            mean=[0.485, 0.456, 0.406],\n",
        "            std=[0.229, 0.224, 0.225],\n",
        "        ),\n",
        "        transforms.RandomHorizontalFlip(p=0.5),\n",
        "        transforms.RandomAffine(15),\n",
        "        transforms.RandomPerspective(),\n",
        "    ]\n",
        ")"
      ],
      "metadata": {
        "id": "t2nMLs1N3noK"
      },
      "execution_count": null,
      "outputs": []
    },
    {
      "cell_type": "code",
      "source": [
        "tiny_image_trn = TinyImagenetDataset(transform_train, \"train\")\n",
        "print(len(tiny_image_trn))\n",
        "print(tiny_image_trn.labels)\n",
        "print(max(tiny_image_trn.labels))\n",
        "tiny_image_val = TinyImagenetDataset(transform, \"valid\")\n",
        "print(len(tiny_image_val))\n",
        "print(max(tiny_image_val.labels))\n",
        "tiny_trn_loader = DataLoader(dataset = tiny_image_trn, batch_size = 32, shuffle=True, num_workers=2)\n",
        "tiny_val_loader = DataLoader(dataset = tiny_image_val, batch_size = 32, shuffle=False, num_workers=2)"
      ],
      "metadata": {
        "id": "adcUzJuKtcJF",
        "colab": {
          "base_uri": "https://localhost:8080/"
        },
        "outputId": "f404d1b6-f654-4c46-cfee-d574def95189"
      },
      "execution_count": null,
      "outputs": [
        {
          "output_type": "stream",
          "name": "stdout",
          "text": [
            "10000\n",
            "[127, 138, 56, 17, 116, 170, 121, 30, 11, 160, 130, 73, 177, 38, 146, 190, 192, 191, 130, 178, 65, 157, 46, 175, 121, 12, 148, 28, 53, 2, 168, 106, 34, 127, 26, 151, 170, 0, 53, 136, 8, 54, 7, 51, 12, 4, 5, 8, 11, 85, 4, 49, 16, 27, 107, 42, 181, 173, 196, 176, 27, 95, 141, 172, 97, 109, 115, 124, 108, 139, 152, 23, 93, 147, 5, 168, 35, 190, 43, 81, 177, 77, 165, 27, 119, 1, 31, 156, 188, 140, 22, 32, 38, 77, 35, 38, 146, 13, 139, 164, 79, 124, 48, 196, 169, 24, 183, 14, 118, 56, 143, 174, 48, 166, 139, 183, 123, 59, 167, 7, 11, 99, 146, 115, 23, 5, 68, 163, 76, 93, 187, 107, 187, 61, 144, 88, 81, 75, 44, 8, 79, 196, 69, 42, 118, 19, 51, 195, 99, 125, 109, 180, 70, 61, 98, 88, 47, 69, 15, 115, 168, 139, 138, 3, 197, 162, 184, 3, 150, 32, 157, 33, 171, 82, 171, 188, 149, 85, 48, 48, 184, 85, 166, 146, 171, 170, 142, 48, 177, 167, 118, 79, 38, 88, 94, 111, 157, 54, 176, 146, 140, 2, 127, 28, 110, 114, 152, 171, 141, 21, 67, 190, 25, 106, 42, 135, 184, 184, 35, 145, 10, 41, 16, 70, 67, 97, 32, 132, 152, 24, 35, 166, 150, 168, 153, 163, 197, 172, 40, 156, 55, 94, 38, 151, 140, 108, 15, 176, 179, 77, 192, 142, 187, 139, 1, 13, 5, 183, 37, 188, 12, 31, 104, 72, 84, 132, 86, 81, 140, 22, 161, 195, 12, 24, 68, 180, 194, 20, 196, 94, 44, 131, 114, 166, 78, 85, 84, 175, 194, 112, 98, 45, 84, 165, 63, 132, 178, 67, 150, 145, 18, 2, 39, 25, 129, 160, 151, 94, 166, 158, 74, 144, 19, 139, 75, 101, 173, 176, 186, 110, 90, 45, 170, 24, 121, 10, 22, 26, 109, 65, 131, 63, 142, 194, 138, 17, 1, 118, 166, 33, 155, 80, 91, 99, 67, 42, 82, 22, 110, 146, 107, 77, 170, 176, 31, 22, 108, 98, 104, 110, 5, 180, 37, 100, 148, 145, 15, 143, 140, 62, 171, 169, 67, 150, 107, 3, 51, 135, 171, 155, 5, 114, 122, 171, 173, 143, 115, 77, 148, 154, 142, 25, 147, 196, 68, 111, 176, 162, 192, 191, 21, 75, 32, 121, 89, 0, 88, 143, 129, 64, 126, 49, 112, 126, 29, 132, 156, 22, 24, 143, 8, 161, 112, 31, 54, 52, 110, 24, 108, 175, 152, 110, 114, 121, 54, 5, 56, 44, 137, 199, 135, 113, 37, 177, 169, 138, 111, 29, 110, 149, 50, 114, 73, 63, 115, 19, 18, 148, 19, 40, 103, 172, 78, 187, 7, 183, 198, 55, 95, 80, 171, 186, 116, 137, 184, 82, 33, 100, 168, 63, 171, 199, 55, 42, 46, 163, 47, 0, 184, 194, 131, 183, 28, 107, 114, 155, 21, 142, 120, 39, 45, 175, 25, 188, 53, 171, 168, 99, 6, 55, 65, 67, 3, 198, 20, 165, 154, 66, 8, 176, 75, 72, 47, 165, 198, 123, 137, 80, 8, 1, 73, 7, 125, 71, 189, 177, 170, 10, 46, 7, 54, 72, 46, 45, 190, 3, 164, 5, 73, 94, 182, 90, 104, 60, 137, 23, 107, 93, 38, 100, 59, 45, 130, 197, 96, 44, 195, 197, 188, 189, 161, 12, 112, 45, 177, 46, 130, 189, 76, 117, 25, 99, 72, 197, 137, 138, 197, 30, 153, 139, 140, 66, 95, 158, 164, 91, 154, 18, 41, 179, 67, 116, 186, 108, 171, 141, 103, 193, 147, 93, 26, 18, 14, 52, 137, 183, 94, 44, 144, 48, 156, 70, 164, 180, 153, 42, 159, 151, 93, 112, 129, 150, 198, 179, 15, 187, 23, 70, 7, 140, 22, 90, 25, 119, 97, 17, 82, 181, 52, 88, 177, 95, 146, 191, 154, 34, 127, 58, 114, 197, 93, 48, 12, 122, 188, 180, 101, 88, 131, 194, 6, 144, 104, 137, 67, 84, 172, 66, 51, 23, 59, 157, 40, 37, 39, 175, 60, 74, 113, 21, 99, 76, 60, 61, 134, 82, 123, 67, 66, 32, 191, 131, 141, 8, 118, 177, 97, 74, 18, 149, 28, 120, 172, 73, 43, 134, 187, 181, 123, 190, 179, 21, 192, 48, 7, 173, 163, 147, 20, 161, 192, 72, 61, 77, 10, 107, 70, 154, 2, 198, 165, 55, 147, 94, 184, 164, 126, 53, 126, 144, 140, 156, 91, 85, 4, 46, 186, 183, 87, 185, 183, 198, 129, 18, 186, 146, 184, 146, 191, 27, 87, 25, 115, 106, 59, 183, 13, 179, 158, 52, 112, 178, 22, 149, 109, 160, 113, 107, 175, 172, 9, 167, 34, 114, 131, 1, 156, 128, 152, 180, 195, 106, 150, 193, 32, 120, 170, 138, 77, 19, 84, 136, 48, 97, 45, 115, 137, 9, 180, 50, 188, 141, 186, 142, 117, 150, 87, 163, 186, 95, 139, 178, 165, 20, 37, 88, 15, 75, 18, 12, 130, 144, 127, 13, 46, 59, 67, 17, 145, 14, 160, 55, 175, 83, 144, 181, 91, 18, 18, 154, 60, 98, 161, 53, 182, 4, 19, 92, 25, 158, 152, 9, 27, 72, 13, 6, 15, 35, 125, 191, 163, 40, 167, 23, 181, 185, 136, 20, 142, 122, 58, 194, 65, 196, 50, 15, 4, 161, 115, 165, 32, 16, 92, 0, 145, 71, 6, 78, 181, 130, 192, 178, 117, 38, 29, 123, 22, 41, 10, 153, 196, 12, 123, 116, 4, 197, 159, 46, 49, 158, 90, 197, 148, 162, 90, 35, 1, 93, 38, 5, 59, 114, 199, 127, 192, 41, 47, 147, 68, 116, 0, 187, 192, 164, 161, 115, 160, 34, 175, 174, 167, 33, 181, 131, 194, 82, 5, 22, 165, 120, 113, 48, 16, 162, 135, 187, 13, 178, 8, 103, 156, 197, 170, 119, 77, 62, 163, 119, 31, 47, 136, 42, 160, 182, 183, 98, 65, 43, 155, 68, 192, 142, 51, 3, 166, 15, 82, 180, 21, 107, 36, 31, 199, 97, 141, 31, 83, 5, 180, 162, 76, 175, 107, 163, 124, 164, 115, 90, 31, 147, 75, 82, 159, 133, 78, 199, 77, 152, 3, 120, 96, 150, 20, 16, 76, 62, 161, 171, 183, 38, 197, 164, 115, 47, 50, 154, 12, 180, 15, 13, 124, 154, 60, 115, 116, 13, 3, 29, 182, 82, 148, 142, 149, 160, 9, 112, 78, 90, 95, 114, 150, 191, 178, 26, 156, 100, 152, 51, 153, 30, 145, 31, 81, 146, 83, 194, 63, 143, 64, 40, 96, 81, 197, 113, 15, 118, 160, 91, 91, 35, 166, 154, 76, 51, 2, 4, 38, 158, 143, 92, 58, 146, 77, 76, 141, 56, 2, 77, 186, 122, 15, 155, 13, 9, 30, 92, 169, 154, 52, 195, 95, 66, 9, 93, 87, 141, 193, 156, 11, 177, 139, 7, 102, 19, 122, 153, 101, 157, 143, 80, 142, 81, 175, 165, 176, 37, 179, 109, 25, 162, 70, 140, 124, 194, 120, 41, 147, 170, 119, 164, 199, 139, 43, 99, 38, 170, 26, 67, 82, 122, 83, 30, 48, 141, 28, 160, 12, 35, 50, 82, 90, 184, 131, 109, 76, 188, 62, 115, 173, 51, 178, 101, 8, 100, 199, 117, 15, 124, 120, 16, 93, 84, 2, 49, 120, 29, 199, 166, 183, 195, 51, 54, 186, 14, 105, 158, 179, 129, 17, 142, 83, 91, 174, 180, 109, 154, 38, 99, 162, 166, 17, 92, 137, 147, 181, 58, 194, 55, 112, 172, 181, 197, 31, 53, 70, 12, 195, 172, 35, 38, 119, 56, 155, 172, 54, 42, 86, 78, 12, 150, 49, 19, 179, 172, 113, 175, 116, 175, 45, 189, 165, 98, 94, 117, 105, 94, 11, 166, 35, 115, 197, 14, 127, 143, 93, 136, 192, 152, 97, 99, 89, 138, 106, 42, 106, 25, 102, 2, 77, 88, 179, 100, 176, 38, 124, 35, 42, 13, 98, 128, 56, 196, 55, 125, 9, 87, 118, 125, 11, 102, 59, 6, 177, 40, 30, 73, 23, 61, 5, 175, 30, 6, 162, 163, 73, 31, 126, 61, 21, 182, 49, 94, 64, 166, 147, 96, 45, 112, 31, 58, 114, 179, 48, 13, 58, 183, 45, 134, 2, 158, 172, 129, 155, 166, 22, 6, 104, 109, 124, 173, 157, 158, 46, 193, 52, 149, 80, 4, 185, 103, 55, 112, 50, 66, 60, 29, 64, 20, 183, 199, 98, 148, 87, 46, 191, 76, 194, 122, 120, 85, 166, 35, 146, 76, 186, 62, 194, 111, 147, 36, 11, 152, 166, 62, 86, 28, 159, 159, 77, 188, 33, 119, 149, 173, 147, 169, 37, 100, 86, 128, 190, 171, 19, 73, 197, 131, 140, 8, 154, 110, 159, 61, 193, 53, 41, 165, 69, 70, 143, 95, 170, 75, 46, 198, 116, 192, 86, 143, 169, 12, 146, 119, 93, 82, 13, 93, 151, 121, 125, 71, 93, 140, 127, 28, 107, 57, 125, 97, 156, 45, 169, 32, 96, 142, 73, 93, 195, 91, 183, 68, 173, 171, 49, 104, 65, 164, 107, 90, 128, 105, 188, 185, 156, 116, 43, 101, 45, 30, 61, 21, 167, 120, 159, 151, 18, 48, 106, 53, 116, 125, 76, 173, 95, 5, 65, 197, 97, 20, 77, 166, 117, 86, 165, 128, 182, 169, 32, 95, 20, 51, 98, 199, 45, 171, 20, 156, 159, 135, 7, 48, 73, 177, 96, 134, 8, 141, 198, 176, 47, 60, 43, 99, 171, 49, 174, 86, 6, 41, 15, 74, 29, 46, 104, 70, 65, 88, 70, 113, 37, 156, 18, 85, 143, 21, 7, 196, 147, 50, 17, 101, 55, 65, 169, 149, 65, 128, 26, 52, 98, 134, 120, 0, 103, 77, 17, 49, 145, 149, 133, 107, 90, 164, 138, 88, 112, 64, 2, 48, 48, 138, 2, 193, 152, 163, 91, 101, 189, 25, 52, 7, 163, 64, 27, 85, 14, 71, 112, 32, 175, 147, 85, 173, 42, 100, 172, 54, 156, 169, 114, 61, 172, 176, 65, 62, 48, 131, 198, 196, 39, 18, 39, 92, 154, 77, 118, 135, 118, 7, 115, 122, 60, 97, 54, 125, 189, 178, 64, 61, 195, 193, 106, 40, 83, 158, 120, 93, 142, 167, 198, 36, 26, 107, 111, 110, 31, 24, 146, 49, 180, 127, 163, 132, 112, 126, 97, 64, 37, 31, 83, 124, 74, 32, 32, 4, 51, 159, 13, 81, 126, 10, 29, 97, 41, 31, 45, 71, 199, 190, 90, 96, 68, 104, 171, 4, 63, 87, 10, 46, 128, 195, 49, 10, 65, 152, 24, 165, 58, 186, 70, 121, 98, 52, 140, 67, 56, 154, 39, 67, 46, 137, 173, 30, 60, 23, 23, 136, 82, 4, 146, 149, 58, 149, 47, 67, 185, 12, 43, 164, 144, 52, 120, 135, 78, 86, 68, 30, 87, 167, 27, 64, 97, 146, 141, 50, 105, 22, 6, 100, 192, 169, 2, 128, 77, 155, 96, 157, 176, 183, 122, 141, 127, 71, 92, 197, 95, 169, 7, 106, 87, 127, 26, 154, 16, 90, 179, 175, 162, 29, 11, 171, 1, 30, 179, 146, 110, 82, 116, 117, 122, 154, 190, 42, 57, 195, 187, 85, 12, 157, 162, 163, 168, 84, 95, 138, 23, 102, 159, 104, 127, 109, 3, 67, 84, 90, 34, 134, 128, 30, 8, 197, 76, 182, 192, 124, 109, 163, 129, 132, 170, 47, 23, 66, 30, 79, 198, 44, 127, 34, 56, 34, 198, 174, 95, 22, 188, 70, 155, 130, 82, 82, 98, 46, 72, 56, 162, 39, 14, 22, 42, 35, 156, 61, 51, 148, 189, 46, 83, 27, 118, 30, 38, 190, 115, 117, 170, 165, 163, 189, 123, 34, 55, 169, 53, 153, 55, 47, 168, 128, 174, 41, 133, 10, 189, 107, 141, 137, 20, 152, 65, 8, 193, 104, 198, 51, 118, 10, 169, 155, 67, 58, 192, 127, 134, 72, 161, 57, 5, 52, 105, 190, 72, 176, 121, 76, 17, 83, 110, 155, 26, 150, 124, 97, 132, 49, 74, 40, 138, 18, 176, 11, 156, 190, 122, 59, 29, 96, 131, 187, 83, 178, 129, 44, 87, 108, 126, 176, 152, 146, 158, 69, 115, 110, 155, 89, 28, 72, 35, 32, 149, 24, 138, 169, 157, 29, 23, 69, 22, 7, 3, 27, 10, 42, 119, 14, 65, 161, 164, 34, 180, 10, 123, 28, 165, 174, 14, 67, 81, 85, 64, 136, 39, 197, 84, 131, 29, 170, 43, 92, 191, 57, 138, 154, 44, 68, 40, 44, 113, 88, 59, 46, 1, 179, 182, 122, 87, 134, 72, 150, 131, 61, 29, 181, 55, 53, 173, 152, 111, 48, 12, 15, 138, 119, 110, 127, 50, 121, 31, 2, 149, 75, 115, 74, 151, 25, 82, 175, 115, 183, 24, 174, 34, 32, 14, 94, 135, 159, 125, 29, 34, 58, 16, 168, 69, 7, 38, 196, 180, 107, 97, 25, 84, 190, 48, 89, 191, 97, 46, 86, 124, 28, 54, 70, 53, 14, 117, 159, 168, 104, 20, 25, 65, 96, 16, 144, 15, 36, 121, 69, 129, 4, 69, 14, 160, 0, 174, 53, 56, 183, 24, 69, 166, 6, 15, 195, 6, 39, 195, 176, 14, 7, 132, 164, 92, 19, 65, 37, 41, 103, 99, 94, 96, 45, 11, 38, 179, 175, 77, 82, 20, 75, 189, 199, 78, 43, 5, 61, 65, 116, 199, 78, 119, 109, 102, 131, 26, 54, 69, 76, 126, 5, 103, 70, 79, 52, 143, 169, 91, 113, 45, 145, 53, 198, 70, 197, 84, 135, 99, 142, 69, 113, 132, 80, 82, 24, 25, 26, 116, 113, 153, 171, 123, 10, 47, 37, 52, 33, 131, 15, 186, 188, 65, 76, 176, 74, 120, 49, 49, 106, 137, 58, 87, 43, 21, 149, 168, 59, 60, 90, 120, 187, 115, 147, 171, 69, 58, 44, 147, 170, 180, 58, 68, 26, 147, 61, 118, 174, 67, 56, 16, 189, 137, 162, 21, 144, 31, 116, 103, 46, 187, 29, 39, 160, 136, 162, 44, 13, 107, 96, 37, 153, 171, 58, 158, 105, 138, 28, 79, 184, 8, 156, 152, 198, 117, 68, 87, 199, 129, 16, 32, 179, 135, 6, 155, 33, 83, 191, 56, 187, 123, 4, 194, 10, 112, 64, 33, 140, 117, 14, 184, 118, 123, 133, 92, 70, 179, 119, 41, 175, 110, 51, 26, 126, 63, 8, 67, 122, 17, 164, 24, 75, 61, 145, 64, 16, 27, 17, 81, 129, 74, 108, 164, 32, 138, 92, 64, 172, 72, 171, 147, 165, 171, 53, 9, 181, 178, 154, 46, 5, 12, 18, 4, 17, 142, 187, 53, 176, 145, 171, 117, 175, 146, 189, 135, 142, 97, 67, 57, 37, 78, 178, 156, 148, 136, 83, 64, 32, 121, 131, 130, 63, 165, 114, 166, 187, 181, 17, 131, 30, 183, 169, 148, 6, 108, 65, 31, 90, 86, 163, 152, 179, 20, 130, 131, 85, 64, 14, 190, 63, 100, 123, 190, 189, 169, 172, 33, 180, 97, 75, 129, 159, 157, 124, 103, 23, 71, 162, 76, 75, 63, 191, 3, 127, 43, 148, 9, 54, 101, 115, 20, 77, 39, 12, 145, 109, 8, 43, 149, 130, 182, 123, 102, 43, 4, 108, 144, 20, 21, 74, 39, 158, 135, 55, 179, 2, 152, 170, 118, 163, 25, 16, 79, 23, 40, 74, 56, 76, 47, 102, 6, 20, 54, 38, 58, 28, 197, 53, 191, 132, 185, 135, 88, 134, 73, 18, 149, 21, 14, 150, 151, 180, 116, 109, 23, 159, 95, 189, 143, 196, 97, 179, 46, 47, 63, 56, 86, 100, 127, 55, 80, 185, 100, 116, 147, 41, 152, 20, 189, 140, 44, 17, 65, 161, 49, 21, 52, 86, 125, 68, 181, 179, 184, 150, 97, 78, 78, 32, 196, 63, 89, 173, 71, 8, 131, 62, 123, 156, 146, 115, 89, 62, 94, 3, 185, 41, 195, 50, 165, 168, 56, 43, 97, 100, 2, 171, 101, 45, 146, 133, 95, 42, 124, 143, 62, 76, 119, 58, 106, 47, 67, 44, 190, 34, 137, 63, 50, 2, 116, 149, 175, 170, 78, 101, 107, 132, 75, 142, 78, 19, 123, 77, 175, 60, 18, 84, 179, 183, 119, 139, 195, 131, 158, 138, 151, 113, 84, 178, 118, 167, 165, 121, 146, 132, 176, 58, 185, 133, 84, 129, 63, 167, 129, 28, 70, 83, 120, 166, 82, 89, 30, 124, 107, 162, 54, 187, 190, 35, 119, 48, 42, 167, 95, 8, 155, 127, 101, 141, 195, 139, 25, 62, 160, 140, 113, 51, 82, 34, 15, 89, 197, 191, 120, 125, 88, 96, 59, 39, 11, 127, 40, 27, 186, 193, 42, 69, 168, 150, 34, 46, 51, 0, 183, 9, 10, 5, 112, 29, 91, 174, 48, 95, 116, 66, 151, 58, 73, 107, 96, 41, 111, 157, 182, 143, 172, 89, 42, 3, 191, 155, 94, 48, 120, 101, 121, 83, 81, 5, 26, 5, 7, 120, 87, 181, 153, 70, 34, 30, 154, 71, 72, 8, 104, 36, 149, 197, 60, 33, 146, 49, 105, 58, 31, 178, 141, 5, 142, 81, 125, 78, 112, 165, 146, 60, 79, 53, 108, 146, 62, 7, 60, 58, 159, 144, 86, 86, 98, 52, 76, 31, 188, 12, 149, 54, 115, 81, 194, 84, 124, 163, 180, 196, 120, 134, 42, 52, 6, 8, 136, 182, 48, 198, 35, 172, 112, 100, 72, 7, 92, 108, 140, 91, 37, 33, 122, 18, 111, 185, 97, 187, 95, 132, 53, 189, 96, 146, 48, 91, 137, 163, 118, 79, 149, 186, 158, 13, 177, 111, 18, 3, 34, 175, 34, 89, 78, 84, 114, 84, 163, 172, 186, 20, 164, 166, 53, 172, 159, 130, 185, 61, 126, 25, 13, 131, 50, 61, 40, 149, 100, 46, 30, 142, 130, 72, 152, 147, 86, 157, 196, 58, 123, 160, 112, 137, 39, 66, 172, 25, 86, 47, 142, 158, 101, 1, 170, 51, 75, 19, 145, 168, 13, 43, 115, 127, 62, 141, 187, 88, 133, 195, 46, 199, 141, 64, 166, 120, 108, 145, 24, 187, 66, 184, 87, 130, 146, 181, 174, 163, 185, 120, 144, 60, 32, 113, 184, 182, 72, 119, 131, 86, 82, 45, 165, 72, 49, 71, 112, 5, 115, 26, 186, 143, 35, 159, 80, 196, 111, 78, 98, 157, 133, 8, 53, 112, 185, 153, 88, 32, 85, 65, 55, 141, 120, 100, 124, 48, 110, 86, 148, 194, 31, 133, 185, 120, 61, 147, 92, 93, 55, 177, 23, 177, 159, 198, 152, 38, 9, 159, 141, 131, 127, 134, 34, 135, 55, 172, 65, 47, 114, 95, 90, 89, 120, 42, 53, 171, 22, 12, 38, 71, 82, 23, 162, 126, 86, 8, 110, 116, 180, 142, 140, 116, 5, 3, 86, 57, 30, 7, 125, 153, 40, 130, 158, 185, 178, 103, 7, 1, 17, 40, 32, 50, 107, 184, 109, 57, 64, 83, 30, 163, 141, 187, 12, 178, 188, 61, 108, 132, 182, 141, 40, 9, 81, 115, 136, 137, 117, 24, 53, 111, 73, 138, 77, 50, 54, 32, 34, 23, 90, 92, 19, 26, 108, 146, 140, 24, 72, 101, 53, 115, 84, 60, 6, 44, 88, 44, 58, 32, 9, 78, 194, 100, 61, 34, 199, 131, 168, 159, 86, 59, 38, 87, 93, 70, 63, 44, 158, 145, 0, 68, 0, 116, 80, 41, 140, 60, 27, 102, 162, 2, 179, 25, 42, 26, 58, 80, 41, 50, 174, 10, 137, 88, 123, 79, 157, 145, 87, 96, 164, 115, 78, 60, 160, 146, 65, 178, 100, 9, 138, 117, 152, 23, 131, 80, 125, 93, 90, 197, 17, 90, 26, 38, 63, 156, 10, 99, 131, 109, 98, 189, 42, 52, 163, 189, 174, 147, 87, 34, 11, 39, 199, 24, 111, 72, 117, 67, 52, 97, 199, 39, 33, 90, 130, 118, 199, 43, 59, 175, 14, 133, 93, 171, 57, 140, 40, 56, 195, 166, 189, 136, 154, 142, 83, 179, 191, 125, 125, 38, 22, 172, 126, 31, 37, 131, 93, 194, 65, 136, 17, 126, 7, 90, 84, 124, 63, 128, 138, 155, 189, 119, 102, 55, 5, 38, 52, 168, 174, 189, 156, 183, 80, 96, 61, 185, 18, 9, 151, 66, 195, 29, 168, 103, 98, 42, 53, 194, 60, 96, 167, 130, 128, 115, 40, 124, 134, 68, 58, 83, 197, 120, 89, 53, 133, 75, 190, 122, 145, 152, 50, 101, 156, 154, 53, 168, 156, 93, 178, 110, 85, 45, 170, 41, 52, 77, 110, 130, 78, 60, 139, 39, 152, 37, 87, 67, 84, 51, 12, 76, 193, 69, 65, 181, 92, 4, 148, 95, 132, 59, 118, 91, 143, 35, 127, 116, 148, 19, 146, 152, 138, 153, 10, 148, 91, 106, 139, 50, 20, 27, 187, 102, 184, 57, 83, 54, 130, 162, 47, 28, 84, 141, 144, 61, 18, 97, 196, 106, 44, 23, 158, 130, 63, 139, 187, 152, 143, 65, 45, 185, 37, 20, 60, 131, 176, 166, 140, 105, 101, 18, 116, 65, 94, 153, 184, 102, 179, 63, 30, 26, 158, 146, 1, 159, 152, 147, 82, 135, 158, 175, 152, 37, 188, 169, 72, 109, 36, 109, 176, 161, 28, 181, 186, 4, 64, 58, 199, 149, 16, 73, 40, 98, 191, 41, 97, 125, 22, 42, 35, 7, 20, 182, 26, 182, 91, 158, 123, 147, 106, 74, 175, 46, 88, 132, 175, 27, 41, 140, 74, 159, 138, 12, 102, 134, 153, 194, 22, 127, 175, 140, 83, 30, 65, 55, 55, 160, 199, 187, 115, 128, 96, 20, 101, 120, 168, 108, 44, 140, 69, 19, 98, 51, 137, 96, 97, 49, 55, 169, 5, 171, 91, 112, 138, 107, 23, 90, 143, 152, 137, 65, 69, 39, 35, 196, 31, 63, 6, 13, 123, 132, 104, 154, 42, 166, 6, 4, 150, 139, 88, 111, 183, 186, 13, 21, 3, 121, 185, 83, 152, 76, 122, 53, 19, 40, 85, 106, 131, 179, 135, 54, 154, 21, 156, 152, 21, 181, 110, 132, 194, 138, 96, 69, 27, 0, 104, 44, 71, 107, 26, 63, 192, 81, 31, 151, 18, 124, 22, 57, 177, 30, 8, 174, 12, 142, 61, 82, 122, 76, 191, 9, 1, 155, 97, 122, 22, 9, 158, 151, 55, 4, 189, 106, 95, 32, 78, 153, 152, 83, 44, 52, 20, 196, 161, 190, 135, 145, 118, 135, 176, 45, 84, 37, 74, 164, 63, 74, 125, 86, 175, 48, 4, 53, 47, 47, 116, 141, 191, 130, 51, 14, 14, 94, 127, 181, 117, 134, 182, 129, 43, 12, 29, 67, 55, 109, 60, 57, 133, 165, 131, 180, 180, 88, 152, 8, 0, 140, 158, 80, 189, 107, 46, 185, 92, 49, 176, 20, 138, 131, 146, 68, 171, 137, 118, 131, 102, 57, 183, 119, 27, 37, 46, 45, 182, 2, 97, 24, 122, 20, 24, 146, 186, 5, 174, 116, 74, 119, 50, 156, 74, 61, 162, 147, 99, 8, 24, 198, 34, 1, 23, 184, 101, 185, 134, 111, 160, 41, 143, 34, 25, 81, 151, 24, 125, 56, 190, 120, 126, 70, 15, 198, 167, 63, 145, 136, 143, 138, 128, 176, 81, 154, 109, 164, 21, 8, 119, 150, 60, 50, 34, 107, 120, 154, 98, 138, 150, 194, 190, 49, 75, 173, 176, 34, 26, 157, 178, 86, 178, 129, 146, 64, 5, 84, 30, 194, 109, 155, 129, 181, 87, 87, 53, 147, 102, 64, 189, 139, 155, 50, 168, 70, 98, 131, 110, 130, 145, 110, 184, 114, 67, 125, 102, 135, 67, 120, 196, 175, 136, 165, 104, 175, 194, 63, 149, 14, 3, 130, 180, 97, 49, 88, 129, 48, 62, 41, 142, 60, 69, 115, 133, 105, 133, 1, 138, 152, 61, 183, 106, 111, 176, 66, 33, 32, 161, 168, 88, 24, 132, 123, 12, 14, 190, 138, 126, 76, 98, 20, 98, 98, 135, 111, 28, 79, 140, 75, 24, 117, 172, 182, 132, 72, 122, 10, 97, 183, 150, 176, 48, 158, 125, 13, 174, 108, 114, 18, 103, 160, 100, 180, 14, 72, 25, 101, 89, 10, 185, 107, 83, 18, 175, 65, 71, 140, 196, 20, 83, 40, 61, 182, 67, 153, 50, 195, 127, 55, 163, 197, 77, 68, 140, 28, 199, 60, 181, 67, 113, 27, 41, 129, 69, 7, 4, 151, 52, 86, 191, 60, 84, 175, 33, 38, 165, 65, 125, 13, 192, 61, 151, 16, 97, 56, 87, 32, 97, 13, 185, 144, 153, 47, 182, 58, 146, 183, 9, 66, 44, 143, 28, 60, 153, 192, 160, 158, 174, 175, 154, 138, 59, 101, 106, 22, 71, 173, 49, 87, 33, 88, 138, 60, 186, 127, 161, 141, 25, 183, 69, 176, 74, 183, 79, 87, 156, 60, 19, 72, 104, 28, 12, 88, 188, 143, 10, 160, 27, 46, 22, 76, 71, 9, 160, 154, 82, 46, 105, 33, 178, 129, 115, 92, 80, 111, 163, 166, 179, 132, 29, 43, 91, 31, 169, 17, 187, 174, 150, 78, 108, 122, 149, 60, 77, 171, 65, 40, 197, 1, 84, 177, 114, 98, 66, 54, 159, 148, 40, 89, 147, 24, 20, 77, 14, 37, 76, 12, 135, 188, 120, 135, 77, 111, 156, 91, 21, 51, 30, 91, 103, 76, 72, 40, 76, 164, 86, 19, 58, 165, 180, 146, 195, 170, 61, 86, 45, 197, 19, 12, 23, 52, 166, 111, 139, 14, 131, 139, 110, 134, 170, 52, 59, 42, 172, 80, 196, 160, 192, 156, 152, 138, 110, 48, 46, 150, 171, 64, 67, 170, 163, 13, 71, 167, 35, 42, 43, 186, 117, 178, 180, 127, 99, 159, 10, 187, 145, 64, 164, 174, 181, 186, 91, 131, 12, 33, 174, 186, 139, 77, 25, 156, 191, 30, 139, 46, 190, 52, 100, 167, 34, 176, 157, 177, 178, 160, 173, 52, 148, 110, 116, 79, 82, 4, 178, 147, 149, 98, 191, 166, 189, 34, 148, 42, 118, 69, 4, 59, 94, 50, 135, 108, 44, 1, 30, 44, 172, 10, 71, 88, 178, 1, 35, 76, 109, 58, 108, 31, 198, 12, 17, 161, 163, 0, 197, 64, 175, 45, 163, 191, 179, 121, 164, 23, 150, 176, 131, 166, 22, 44, 78, 131, 126, 162, 48, 47, 144, 172, 84, 17, 107, 166, 3, 163, 145, 184, 71, 173, 92, 109, 83, 112, 70, 57, 130, 2, 111, 36, 66, 79, 122, 156, 120, 168, 162, 44, 81, 53, 75, 21, 152, 189, 43, 20, 27, 85, 58, 195, 36, 44, 48, 168, 72, 30, 101, 96, 68, 67, 22, 99, 134, 122, 57, 0, 31, 34, 173, 21, 111, 190, 84, 93, 100, 98, 187, 5, 80, 11, 82, 190, 19, 99, 2, 55, 101, 104, 65, 180, 80, 19, 173, 112, 3, 111, 104, 195, 149, 181, 0, 128, 42, 22, 69, 82, 140, 169, 13, 197, 35, 199, 127, 163, 173, 124, 128, 61, 44, 60, 65, 185, 33, 140, 118, 101, 52, 4, 23, 102, 183, 71, 188, 26, 116, 163, 199, 136, 13, 194, 57, 180, 164, 1, 4, 111, 144, 49, 84, 140, 166, 148, 137, 73, 55, 193, 98, 195, 70, 109, 112, 186, 101, 59, 147, 2, 22, 155, 5, 137, 186, 199, 74, 60, 107, 165, 13, 173, 150, 114, 31, 51, 149, 155, 82, 199, 109, 116, 35, 171, 59, 80, 39, 23, 176, 43, 55, 32, 128, 148, 121, 187, 86, 164, 57, 136, 152, 112, 77, 135, 55, 144, 21, 1, 63, 169, 156, 49, 138, 166, 22, 142, 107, 182, 76, 158, 42, 102, 199, 36, 159, 40, 130, 86, 164, 125, 74, 47, 33, 170, 103, 143, 178, 103, 89, 91, 61, 145, 147, 84, 181, 61, 133, 10, 183, 139, 1, 82, 34, 65, 141, 52, 40, 149, 108, 82, 31, 199, 170, 139, 146, 160, 142, 129, 183, 171, 8, 152, 135, 170, 57, 70, 198, 7, 73, 121, 71, 68, 88, 165, 150, 42, 36, 117, 144, 105, 109, 17, 111, 171, 124, 35, 150, 45, 119, 55, 141, 17, 156, 36, 96, 0, 128, 133, 190, 57, 87, 88, 109, 23, 190, 102, 153, 93, 85, 55, 106, 189, 115, 81, 131, 92, 44, 45, 71, 110, 0, 188, 195, 102, 145, 181, 43, 105, 197, 11, 84, 71, 160, 196, 77, 70, 57, 27, 72, 98, 126, 91, 180, 125, 181, 45, 131, 39, 110, 82, 65, 133, 164, 132, 151, 106, 32, 63, 52, 73, 193, 188, 58, 135, 116, 166, 176, 28, 71, 184, 20, 149, 90, 179, 29, 192, 156, 180, 85, 168, 132, 147, 140, 67, 161, 37, 151, 118, 194, 55, 51, 126, 17, 156, 38, 11, 73, 48, 69, 142, 157, 47, 7, 76, 132, 38, 14, 66, 195, 173, 2, 74, 156, 184, 157, 158, 158, 72, 124, 189, 132, 32, 136, 131, 64, 157, 119, 137, 88, 142, 170, 143, 193, 180, 53, 11, 98, 123, 115, 129, 138, 64, 58, 53, 84, 20, 165, 151, 25, 91, 56, 189, 145, 55, 110, 142, 107, 0, 93, 68, 92, 50, 188, 74, 91, 33, 131, 184, 161, 160, 161, 151, 124, 46, 69, 50, 60, 151, 115, 100, 154, 24, 179, 101, 102, 140, 131, 162, 183, 184, 145, 25, 122, 56, 9, 25, 155, 86, 64, 162, 63, 42, 16, 79, 119, 8, 154, 161, 115, 98, 40, 57, 73, 130, 119, 130, 141, 25, 53, 93, 89, 126, 50, 189, 78, 135, 179, 49, 98, 153, 116, 42, 22, 96, 187, 153, 143, 36, 45, 83, 89, 144, 198, 35, 67, 149, 97, 166, 153, 95, 71, 165, 58, 85, 72, 52, 191, 116, 40, 106, 133, 131, 136, 191, 96, 98, 130, 166, 66, 121, 119, 173, 131, 118, 120, 95, 181, 175, 118, 124, 112, 150, 143, 159, 147, 76, 132, 11, 71, 179, 107, 23, 197, 155, 126, 2, 83, 196, 79, 28, 4, 16, 162, 187, 10, 90, 196, 129, 41, 88, 164, 3, 106, 93, 26, 37, 121, 189, 170, 58, 192, 41, 158, 179, 92, 143, 144, 109, 23, 84, 170, 100, 127, 7, 136, 62, 109, 179, 141, 130, 11, 52, 90, 189, 161, 8, 183, 128, 160, 152, 183, 153, 21, 72, 192, 146, 196, 70, 125, 30, 48, 168, 116, 176, 99, 87, 166, 60, 125, 103, 17, 45, 0, 39, 46, 74, 116, 83, 186, 132, 134, 172, 90, 188, 79, 79, 51, 108, 139, 65, 29, 198, 96, 177, 151, 88, 154, 135, 96, 33, 128, 123, 15, 123, 89, 12, 39, 23, 52, 90, 69, 87, 46, 184, 36, 80, 57, 58, 32, 189, 155, 171, 95, 99, 52, 2, 167, 75, 180, 40, 179, 63, 126, 137, 117, 128, 106, 139, 143, 61, 171, 34, 95, 118, 157, 122, 17, 102, 183, 176, 45, 160, 75, 84, 85, 198, 64, 26, 141, 126, 105, 45, 193, 42, 8, 172, 44, 172, 129, 38, 104, 171, 143, 24, 37, 129, 179, 186, 43, 193, 160, 150, 76, 181, 112, 4, 151, 84, 182, 112, 142, 86, 73, 105, 181, 189, 20, 168, 122, 114, 40, 123, 123, 162, 36, 11, 160, 113, 35, 154, 59, 186, 66, 142, 159, 76, 180, 39, 90, 34, 88, 18, 138, 50, 164, 161, 196, 76, 7, 61, 190, 56, 166, 57, 36, 39, 192, 97, 23, 85, 101, 148, 153, 130, 63, 104, 44, 20, 32, 115, 181, 27, 38, 58, 7, 158, 106, 65, 166, 19, 115, 151, 61, 161, 11, 53, 163, 157, 159, 42, 171, 95, 137, 130, 53, 32, 26, 106, 47, 182, 166, 53, 166, 197, 145, 27, 168, 67, 22, 151, 98, 17, 19, 48, 145, 156, 69, 186, 123, 137, 119, 99, 73, 13, 187, 30, 177, 143, 166, 138, 141, 28, 188, 29, 183, 20, 91, 24, 105, 182, 165, 22, 57, 57, 17, 98, 101, 16, 1, 113, 181, 100, 84, 166, 85, 17, 2, 67, 183, 120, 163, 105, 160, 157, 120, 20, 114, 76, 185, 170, 144, 147, 50, 82, 67, 87, 90, 101, 2, 130, 116, 13, 72, 60, 125, 40, 14, 85, 150, 199, 178, 49, 22, 78, 113, 110, 130, 126, 151, 45, 32, 43, 33, 8, 56, 98, 33, 179, 93, 3, 113, 22, 83, 63, 73, 88, 0, 25, 63, 101, 122, 90, 136, 159, 89, 33, 42, 101, 135, 181, 167, 62, 83, 35, 23, 186, 92, 0, 137, 107, 50, 108, 145, 186, 39, 96, 85, 9, 117, 69, 129, 72, 49, 132, 7, 170, 193, 122, 165, 32, 113, 50, 56, 134, 68, 118, 196, 173, 7, 188, 86, 78, 44, 40, 23, 111, 109, 92, 15, 105, 23, 110, 25, 161, 143, 165, 190, 184, 187, 55, 95, 81, 169, 98, 124, 111, 171, 62, 5, 69, 15, 144, 160, 112, 169, 158, 180, 56, 2, 191, 161, 53, 44, 110, 177, 95, 102, 36, 176, 102, 55, 161, 77, 146, 143, 75, 173, 104, 128, 35, 119, 138, 118, 147, 145, 196, 13, 78, 83, 31, 43, 140, 120, 93, 100, 171, 171, 120, 195, 161, 92, 43, 41, 189, 197, 143, 74, 83, 181, 86, 4, 140, 180, 164, 44, 50, 126, 190, 113, 94, 43, 21, 9, 66, 111, 66, 184, 107, 63, 191, 120, 184, 49, 160, 167, 135, 197, 117, 107, 90, 74, 29, 95, 134, 133, 188, 171, 133, 11, 20, 111, 81, 157, 43, 144, 130, 150, 76, 196, 167, 7, 25, 0, 63, 136, 144, 72, 163, 99, 76, 180, 48, 152, 164, 71, 159, 67, 173, 76, 1, 113, 12, 129, 106, 32, 153, 40, 39, 78, 176, 4, 36, 146, 64, 98, 179, 116, 54, 198, 142, 37, 47, 141, 51, 62, 191, 54, 94, 29, 197, 14, 82, 182, 142, 30, 119, 94, 123, 28, 183, 181, 14, 35, 94, 154, 152, 32, 10, 24, 175, 42, 141, 66, 193, 92, 25, 51, 14, 104, 97, 26, 58, 162, 145, 6, 75, 199, 15, 72, 42, 115, 145, 33, 138, 99, 52, 141, 56, 160, 56, 98, 4, 112, 17, 161, 134, 39, 181, 162, 57, 45, 60, 43, 123, 111, 128, 2, 20, 106, 73, 171, 71, 48, 10, 70, 129, 60, 152, 80, 139, 109, 6, 49, 95, 123, 13, 188, 67, 164, 189, 73, 160, 107, 117, 26, 196, 59, 83, 108, 145, 158, 107, 27, 88, 178, 60, 24, 153, 81, 169, 166, 180, 189, 78, 91, 173, 57, 35, 130, 177, 12, 46, 141, 164, 48, 184, 26, 51, 165, 21, 23, 106, 106, 31, 187, 55, 106, 134, 119, 198, 14, 157, 1, 82, 3, 12, 62, 60, 127, 36, 145, 149, 97, 192, 71, 180, 157, 55, 15, 40, 115, 64, 141, 194, 83, 71, 154, 93, 172, 190, 80, 17, 130, 33, 26, 82, 42, 15, 90, 88, 114, 196, 115, 119, 136, 47, 181, 15, 80, 83, 126, 159, 129, 51, 192, 86, 41, 8, 36, 140, 143, 158, 76, 110, 156, 36, 96, 65, 163, 47, 172, 47, 155, 199, 95, 59, 158, 2, 88, 115, 150, 19, 32, 43, 7, 50, 76, 55, 135, 167, 113, 185, 184, 149, 26, 106, 91, 194, 14, 193, 158, 126, 82, 127, 191, 188, 169, 178, 43, 90, 31, 179, 0, 66, 156, 102, 51, 83, 109, 168, 193, 124, 92, 4, 108, 147, 15, 139, 172, 12, 20, 45, 72, 19, 172, 104, 144, 31, 96, 33, 147, 70, 103, 170, 197, 129, 162, 82, 99, 11, 181, 141, 66, 199, 16, 72, 10, 86, 0, 59, 156, 121, 184, 11, 83, 135, 90, 65, 26, 5, 98, 173, 71, 193, 111, 72, 98, 21, 10, 39, 147, 102, 199, 40, 152, 69, 96, 199, 151, 189, 163, 140, 93, 197, 45, 75, 35, 46, 86, 53, 92, 120, 126, 47, 191, 63, 142, 102, 191, 41, 161, 32, 142, 146, 85, 40, 72, 113, 147, 120, 111, 187, 191, 52, 114, 70, 104, 69, 192, 130, 171, 162, 115, 6, 52, 124, 94, 19, 33, 195, 135, 181, 95, 64, 55, 30, 70, 162, 90, 140, 4, 0, 28, 75, 130, 62, 140, 29, 93, 45, 45, 25, 184, 66, 139, 140, 75, 5, 74, 91, 67, 186, 80, 167, 60, 119, 82, 163, 186, 156, 96, 92, 21, 164, 154, 139, 67, 136, 136, 135, 21, 176, 155, 65, 49, 163, 153, 5, 193, 28, 112, 33, 86, 190, 101, 57, 6, 77, 176, 76, 161, 18, 16, 103, 77, 169, 31, 184, 61, 22, 4, 44, 105, 79, 113, 125, 30, 4, 157, 157, 145, 73, 76, 160, 72, 189, 155, 113, 86, 184, 7, 109, 92, 107, 11, 8, 26, 61, 34, 184, 140, 117, 17, 55, 108, 110, 155, 199, 45, 187, 176, 5, 174, 107, 50, 146, 141, 46, 20, 53, 11, 72, 155, 26, 148, 107, 29, 181, 65, 78, 67, 155, 96, 40, 107, 139, 128, 12, 65, 161, 95, 169, 65, 95, 155, 17, 42, 73, 166, 117, 171, 109, 20, 93, 155, 26, 106, 17, 185, 33, 87, 0, 119, 76, 27, 138, 130, 134, 75, 106, 102, 80, 156, 130, 168, 36, 123, 121, 110, 25, 116, 178, 160, 179, 194, 23, 22, 61, 143, 105, 96, 136, 86, 78, 109, 24, 176, 83, 92, 162, 35, 57, 29, 83, 89, 142, 127, 72, 192, 196, 8, 110, 178, 153, 31, 62, 32, 157, 178, 4, 98, 186, 187, 6, 101, 181, 136, 130, 45, 113, 9, 44, 187, 134, 60, 107, 151, 170, 124, 172, 40, 122, 187, 77, 98, 52, 35, 98, 117, 103, 131, 112, 135, 173, 118, 181, 151, 151, 95, 81, 144, 69, 183, 17, 12, 39, 30, 175, 14, 160, 70, 6, 139, 159, 74, 125, 95, 73, 8, 23, 193, 126, 146, 47, 19, 15, 181, 86, 127, 147, 17, 169, 89, 177, 24, 82, 137, 175, 1, 27, 0, 105, 62, 78, 166, 116, 158, 150, 79, 5, 151, 121, 31, 38, 29, 138, 73, 191, 128, 44, 195, 49, 56, 85, 68, 195, 103, 13, 114, 39, 82, 116, 142, 32, 128, 147, 94, 123, 100, 11, 194, 174, 77, 105, 5, 124, 190, 39, 53, 112, 147, 186, 183, 166, 198, 88, 5, 33, 49, 95, 46, 177, 64, 97, 135, 193, 59, 56, 142, 33, 141, 91, 70, 20, 63, 42, 131, 87, 193, 107, 24, 139, 110, 104, 46, 101, 73, 53, 158, 171, 169, 146, 37, 158, 150, 143, 50, 27, 141, 150, 98, 128, 119, 3, 3, 5, 49, 28, 121, 131, 193, 178, 140, 19, 20, 175, 3, 127, 143, 72, 109, 65, 106, 7, 188, 185, 177, 37, 18, 82, 45, 185, 123, 184, 161, 54, 102, 76, 84, 1, 10, 91, 191, 54, 59, 165, 145, 95, 46, 197, 34, 13, 159, 169, 18, 53, 3, 106, 185, 14, 16, 67, 65, 168, 191, 133, 94, 109, 152, 153, 192, 60, 182, 180, 67, 52, 117, 150, 17, 21, 14, 59, 24, 167, 122, 84, 66, 198, 25, 190, 41, 166, 6, 6, 110, 8, 189, 128, 62, 134, 112, 9, 18, 72, 69, 34, 53, 33, 31, 14, 102, 32, 18, 16, 135, 109, 85, 33, 38, 60, 144, 77, 11, 99, 152, 74, 82, 132, 199, 35, 113, 4, 63, 35, 81, 145, 134, 154, 68, 178, 123, 78, 191, 95, 155, 102, 34, 73, 198, 170, 134, 23, 177, 45, 14, 152, 147, 61, 172, 145, 198, 77, 143, 92, 5, 164, 92, 0, 196, 7, 26, 78, 66, 130, 84, 13, 171, 98, 90, 46, 82, 104, 150, 82, 40, 28, 30, 143, 9, 9, 83, 154, 175, 69, 87, 63, 160, 140, 163, 128, 101, 156, 148, 36, 19, 15, 15, 5, 64, 22, 184, 57, 63, 150, 154, 136, 128, 194, 9, 85, 78, 159, 188, 1, 197, 53, 185, 141, 117, 30, 10, 195, 185, 161, 104, 143, 102, 45, 31, 191, 77, 177, 30, 6, 41, 191, 125, 136, 164, 61, 69, 170, 3, 163, 141, 92, 76, 133, 102, 10, 60, 170, 130, 193, 179, 133, 168, 1, 138, 163, 29, 66, 134, 58, 31, 183, 27, 177, 108, 167, 131, 73, 135, 68, 39, 76, 78, 90, 24, 159, 193, 39, 55, 71, 120, 41, 91, 151, 45, 70, 31, 35, 27, 64, 80, 117, 35, 68, 94, 171, 120, 43, 66, 81, 3, 182, 136, 156, 69, 79, 63, 45, 179, 33, 48, 180, 176, 68, 100, 112, 131, 146, 131, 144, 161, 186, 67, 106, 52, 62, 150, 123, 103, 118, 178, 132, 83, 194, 52, 50, 5, 6, 189, 108, 101, 107, 28, 87, 146, 120, 189, 78, 5, 154, 198, 104, 127, 163, 32, 81, 134, 179, 194, 65, 131, 174, 51, 128, 44, 190, 105, 152, 62, 147, 49, 42, 63, 172, 109, 147, 0, 149, 137, 79, 158, 168, 184, 30, 80, 195, 193, 139, 109, 169, 119, 159, 24, 143, 108, 95, 146, 142, 90, 183, 101, 18, 85, 177, 193, 163, 188, 126, 58, 195, 143, 168, 149, 6, 153, 40, 189, 58, 124, 31, 179, 11, 33, 166, 169, 86, 18, 145, 144, 20, 79, 153, 55, 46, 130, 1, 80, 147, 110, 14, 121, 137, 188, 23, 137, 167, 112, 8, 92, 184, 17, 86, 108, 86, 22, 199, 21, 31, 85, 191, 18, 157, 180, 36, 159, 94, 178, 43, 132, 156, 104, 148, 80, 21, 9, 70, 64, 94, 51, 157, 156, 103, 143, 37, 163, 59, 56, 160, 137, 99, 173, 25, 82, 49, 12, 99, 52, 8, 171, 77, 121, 193, 160, 118, 168, 61, 37, 127, 142, 149, 146, 112, 13, 22, 20, 55, 128, 73, 197, 160, 26, 9, 68, 117, 100, 126, 21, 2, 14, 135, 103, 56, 111, 97, 17, 173, 131, 45, 92, 69, 109, 160, 61, 143, 98, 61, 160, 37, 195, 101, 195, 74, 113, 147, 83, 173, 79, 96, 51, 65, 70, 64, 31, 6, 106, 130, 20, 108, 58, 116, 60, 107, 11, 166, 71, 99, 34, 29, 19, 47, 14, 166, 168, 88, 147, 1, 24, 7, 150, 185, 66, 81, 15, 86, 195, 160, 88, 66, 82, 55, 91, 70, 75, 197, 71, 78, 74, 154, 167, 17, 181, 118, 158, 137, 190, 5, 115, 196, 119, 181, 152, 72, 95, 105, 5, 100, 68, 151, 168, 179, 61, 34, 62, 119, 30, 18, 38, 11, 188, 43, 85, 163, 127, 55, 38, 16, 52, 68, 77, 94, 25, 140, 4, 55, 116, 94, 61, 163, 177, 150, 135, 144, 43, 174, 41, 52, 57, 148, 67, 88, 54, 169, 41, 99, 81, 142, 45, 106, 42, 173, 199, 124, 137, 165, 185, 166, 88, 53, 138, 192, 161, 190, 171, 47, 87, 95, 161, 101, 159, 170, 189, 149, 5, 129, 149, 67, 53, 18, 168, 149, 161, 4, 79, 78, 169, 7, 11, 175, 175, 189, 173, 36, 85, 49, 124, 60, 197, 69, 95, 189, 156, 42, 126, 131, 17, 137, 183, 15, 54, 6, 122, 16, 145, 19, 110, 141, 128, 166, 81, 121, 146, 78, 86, 186, 73, 17, 95, 93, 180, 175, 1, 140, 1, 19, 198, 5, 158, 198, 1, 47, 46, 182, 99, 47, 147, 197, 84, 83, 49, 98, 7, 70, 7, 71, 167, 79, 7, 189, 176, 139, 27, 164, 51, 183, 68, 91, 65, 30, 96, 113, 9, 70, 168, 143, 22, 15, 72, 181, 105, 62, 85, 158, 45, 155, 116, 169, 102, 36, 36, 108, 23, 139, 162, 88, 170, 104, 20, 49, 185, 156, 99, 35, 68, 173, 3, 44, 72, 182, 44, 155, 39, 145, 199, 68, 145, 197, 106, 86, 137, 18, 66, 154, 122, 5, 169, 22, 13, 78, 6, 57, 135, 117, 39, 7, 10, 113, 32, 59, 195, 44, 192, 24, 58, 146, 132, 127, 97, 45, 146, 121, 32, 104, 155, 77, 77, 12, 102, 185, 4, 1, 134, 83, 129, 158, 192, 180, 87, 126, 167, 34, 102, 106, 21, 27, 61, 144, 78, 29, 60, 188, 139, 131, 127, 6, 105, 171, 181, 26, 23, 52, 76, 176, 95, 162, 169, 152, 28, 94, 134, 103, 39, 12, 15, 169, 16, 132, 183, 12, 156, 132, 145, 7, 181, 31, 55, 16, 126, 24, 9, 98, 97, 3, 43, 77, 108, 92, 179, 102, 111, 175, 193, 187, 189, 123, 189, 147, 149, 199, 76, 59, 94, 87, 194, 140, 116, 67, 67, 47, 161, 140, 106, 74, 157, 31, 118, 52, 197, 162, 149, 195, 81, 183, 118, 3, 38, 169, 110, 197, 123, 106, 74, 124, 129, 34, 69, 62, 14, 78, 136, 38, 97, 16, 48, 104, 62, 138, 18, 88, 15, 25, 20, 59, 19, 15, 188, 2, 181, 7, 101, 114, 46, 59, 102, 123, 37, 62, 114, 191, 173, 177, 20, 23, 156, 48, 175, 63, 15, 158, 87, 79, 97, 124, 32, 108, 21, 179, 115, 82, 190, 11, 38, 13, 103, 95, 77, 41, 113, 113, 40, 171, 193, 105, 187, 108, 111, 155, 30, 129, 137, 117, 8, 39, 165, 113, 6, 132, 122, 5, 70, 71, 92, 143, 177, 68, 75, 152, 128, 196, 144, 47, 146, 40, 51, 48, 104, 196, 152, 17, 30, 60, 103, 10, 79, 188, 54, 10, 141, 28, 149, 28, 189, 42, 183, 117, 7, 111, 34, 54, 107, 115, 58, 190, 75, 8, 143, 40, 115, 85, 88, 197, 123, 90, 146, 4, 53, 188, 53, 49, 94, 140, 94, 147, 18, 195, 136, 107, 191, 127, 130, 103, 86, 104, 10, 104, 103, 18, 135, 29, 192, 57, 46, 169, 152, 180, 170, 59, 198, 11, 43, 69, 167, 59, 62, 149, 106, 41, 125, 51, 136, 59, 135, 113, 152, 105, 148, 58, 23, 95, 73, 28, 89, 98, 6, 11, 37, 177, 85, 22, 42, 162, 125, 35, 17, 32, 189, 101, 102, 105, 184, 177, 89, 1, 91, 127, 66, 154, 13, 70, 73, 2, 150, 129, 47, 62, 141, 144, 190, 168, 60, 82, 18, 89, 184, 102, 56, 70, 143, 185, 93, 91, 60, 178, 67, 140, 22, 152, 129, 36, 3, 163, 25, 28, 112, 113, 61, 55, 81, 26, 172, 193, 99, 83, 127, 165, 152, 97, 52, 31, 127, 29, 81, 9, 41, 95, 117, 184, 183, 15, 47, 24, 161, 62, 13, 146, 7, 28, 169, 42, 123, 62, 6, 107, 59, 112, 108, 11, 1, 110, 137, 21, 126, 20, 121, 169, 85, 125, 101, 144, 96, 5, 145, 47, 166, 25, 106, 181, 164, 21, 96, 81, 173, 147, 43, 60, 22, 23, 61, 162, 199, 66, 2, 108, 23, 106, 18, 106, 31, 40, 140, 167, 39, 155, 16, 38, 0, 57, 71, 83, 135, 48, 136, 16, 56, 177, 182, 29, 124, 193, 32, 37, 106, 30, 57, 47, 7, 193, 19, 50, 178, 171, 74, 135, 152, 34, 134, 51, 69, 107, 124, 184, 120, 71, 159, 93, 16, 83, 105, 142, 39, 41, 3, 86, 65, 137, 147, 161, 67, 160, 147, 21, 76, 193, 165, 37, 142, 194, 32, 51, 56, 32, 90, 191, 89, 134, 130, 93, 87, 66, 191, 196, 194, 52, 24, 145, 30, 108, 25, 139, 125, 133, 10, 2, 136, 139, 168, 6, 161, 37, 108, 162, 177, 75, 112, 103, 10, 168, 166, 92, 14, 34, 81, 159, 103, 114, 74, 29, 187, 162, 108, 51, 193, 9, 173, 174, 81, 34, 13, 74, 43, 7, 199, 151, 147, 160, 19, 117, 146, 99, 54, 113, 7, 106, 129, 162, 3, 22, 30, 16, 61, 61, 97, 60, 167, 115, 19, 117, 164, 9, 37, 106, 147, 43, 179, 132, 138, 81, 50, 46, 185, 155, 157, 3, 173, 172, 35, 191, 131, 5, 188, 122, 144, 7, 174, 109, 158, 168, 173, 63, 56, 187, 140, 164, 192, 76, 106, 79, 33, 174, 21, 129, 166, 72, 114, 106, 54, 142, 122, 29, 20, 68, 17, 172, 140, 8, 155, 68, 49, 48, 174, 98, 199, 163, 193, 55, 102, 136, 22, 168, 88, 70, 66, 109, 45, 1, 92, 81, 86, 181, 36, 128, 42, 198, 56, 16, 90, 70, 189, 167, 59, 32, 184, 20, 92, 12, 96, 32, 123, 94, 196, 132, 180, 193, 109, 78, 91, 165, 114, 94, 129, 158, 147, 167, 4, 92, 167, 41, 128, 175, 182, 43, 77, 55, 146, 52, 96, 91, 72, 174, 28, 56, 97, 185, 110, 190, 133, 101, 142, 40, 131, 122, 159, 195, 145, 160, 118, 50, 121, 87, 120, 183, 61, 109, 5, 34, 52, 108, 109, 190, 48, 45, 20, 94, 185, 22, 183, 188, 100, 112, 88, 179, 47, 13, 139, 77, 153, 101, 40, 96, 80, 191, 41, 22, 90, 2, 42, 56, 35, 97, 22, 31, 192, 97, 104, 142, 196, 117, 152, 28, 178, 60, 135, 154, 171, 115, 91, 190, 127, 199, 76, 18, 152, 196, 38, 87, 6, 94, 79, 164, 128, 140, 169, 4, 150, 115, 86, 151, 32, 77, 121, 149, 115, 142, 94, 30, 142, 144, 144, 83, 23, 15, 146, 149, 169, 157, 172, 62, 114, 13, 171, 117, 46, 29, 136, 132, 195, 151, 81, 79, 154, 82, 26, 133, 55, 122, 25, 134, 55, 160, 67, 26, 135, 199, 35, 83, 173, 47, 60, 124, 123, 96, 2, 134, 153, 52, 63, 34, 197, 90, 123, 2, 36, 148, 23, 149, 19, 194, 194, 166, 140, 43, 96, 179, 52, 80, 120, 178, 138, 83, 173, 100, 155, 18, 61, 122, 158, 67, 113, 31, 134, 65, 192, 45, 66, 141, 126, 140, 69, 182, 21, 130, 36, 135, 23, 170, 155, 113, 80, 123, 48, 112, 165, 175, 171, 95, 183, 31, 109, 120, 102, 69, 113, 199, 31, 115, 112, 74, 66, 91, 141, 104, 65, 114, 163, 63, 8, 69, 111, 37, 94, 84, 169, 150, 82, 186, 17, 62, 180, 62, 187, 34, 106, 129, 147, 3, 9, 197, 161, 45, 48, 133, 60, 110, 171, 114, 125, 153, 102, 131, 54, 80, 127, 88, 172, 108, 116, 53, 36, 58, 99, 92, 9, 24, 148, 67, 47, 70, 133, 62, 17, 79, 100, 0, 192, 157, 153, 167, 12, 198, 170, 32, 107, 41, 5, 120, 94, 166, 38, 125, 104, 43, 169, 188, 158, 4, 153, 46, 54, 37, 91, 139, 191, 0, 95, 21, 198, 24, 157, 155, 42, 80, 164, 181, 8, 159, 110, 82, 93, 4, 53, 54, 186, 88, 98, 74, 163, 127, 172, 113, 101, 16, 158, 159, 173, 107, 66, 79, 112, 47, 113, 170, 29, 187, 106, 160, 99, 25, 191, 132, 143, 8, 100, 170, 47, 124, 91, 124, 83, 195, 14, 20, 139, 180, 179, 179, 106, 46, 79, 68, 177, 68, 181, 138, 55, 86, 181, 2, 22, 171, 76, 113, 27, 6, 150, 195, 162, 122, 34, 66, 62, 109, 75, 88, 128, 19, 88, 3, 112, 173, 37, 110, 70, 43, 155, 142, 45, 118, 74, 162, 138, 28, 22, 33, 115, 180, 89, 91, 171, 139, 14, 185, 135, 50, 79, 193, 51, 124, 158, 31, 138, 150, 71, 133, 180, 186, 132, 4, 57, 45, 191, 80, 136, 122, 132, 5, 158, 55, 134, 124, 66, 173, 88, 164, 184, 136, 25, 197, 8, 125, 56, 57, 36, 42, 54, 146, 17, 72, 65, 187, 134, 185, 115, 127, 86, 23, 183, 150, 82, 125, 81, 142, 54, 83, 68, 146, 120, 177, 175, 130, 96, 74, 169, 73, 189, 16, 165, 136, 94, 195, 85, 184, 129, 42, 100, 129, 84, 94, 122, 44, 0, 126, 182, 109, 129, 83, 84, 186, 41, 91, 29, 149, 50, 53, 91, 111, 54, 59, 192, 108, 138, 142, 149, 154, 152, 93, 110, 55, 139, 68, 63, 151, 41, 55, 83, 139, 138, 184, 166, 89, 33, 197, 155, 115, 129, 183, 49, 0, 44, 22, 90, 38, 116, 13, 137, 177, 145, 77, 28, 191, 137, 5, 140, 84, 126, 48, 87, 2, 50, 53, 3, 68, 68, 176, 128, 70, 115, 2, 125, 3, 121, 136, 41, 36, 34, 144, 63, 47, 13, 14, 35, 59, 36, 116, 119, 37, 129, 116, 50, 87, 132, 13, 93, 135, 91, 88, 99, 107, 97, 12, 190, 149, 186, 196, 129, 176, 132, 173, 108, 54, 98, 171, 100, 178, 169, 5, 52, 170, 34, 184, 95, 104, 143, 74, 6, 123, 149, 95, 176, 147, 25, 144, 179, 112, 127, 158, 20, 61, 38, 58, 0, 129, 141, 141, 13, 67, 3, 19, 155, 81, 132, 25, 32, 66, 147, 19, 31, 56, 172, 119, 27, 127, 139, 103, 47, 121, 144, 68, 16, 169, 49, 136, 56, 52, 147, 23, 75, 34, 118, 130, 160, 15, 20, 55, 163, 42, 119, 28, 150, 146, 198, 149, 150, 141, 52, 108, 126, 85, 149, 146, 144, 30, 16, 74, 57, 108, 54, 62, 64, 181, 125, 78, 84, 3, 69, 13, 81, 105, 109, 44, 90, 120, 108, 157, 155, 166, 47, 147, 158, 134, 156, 160, 14, 150, 52, 114, 186, 105, 162, 97, 179, 188, 84, 122, 57, 74, 178, 53, 188, 41, 46, 146, 189, 5, 198, 175, 109, 140, 58, 24, 197, 101, 140, 61, 199, 199, 126, 98, 33, 152, 190, 124, 59, 78, 81, 184, 81, 110, 56, 158, 82, 19, 43, 3, 123, 27, 2, 92, 146, 40, 64, 149, 155, 47, 129, 100, 94, 57, 159, 62, 130, 97, 159, 179, 40, 141, 60, 104, 112, 16, 186, 102, 90, 199, 93, 116, 85, 116, 115, 74, 174, 158, 120, 53, 137, 135, 80, 160, 37, 6, 127, 70, 50, 185, 117, 174, 18, 97, 107, 186, 159, 60, 83, 2, 57, 89, 43, 60, 130, 177, 184, 146, 195, 128, 113, 142, 10, 185, 25, 161, 118, 5, 192, 15, 192, 147, 137, 85, 47, 88, 3, 137, 72, 179, 2, 95, 66, 114, 98, 177, 169, 66, 167, 191, 80, 64, 128, 191, 37, 170, 85, 22, 163, 185, 86, 83, 77, 39, 134, 177, 84, 178, 34, 173, 184, 129, 42, 174, 13, 179, 115, 84, 23, 44, 197, 131, 19, 45, 194, 54, 74, 48, 42, 14, 8, 5, 105, 121, 140, 8, 148, 149, 87, 66, 93, 170, 56, 148, 10, 133, 177, 46, 74, 177, 193, 163, 131, 9, 152, 99, 193, 190, 164, 142, 105, 164, 180, 15, 165, 155, 162, 91, 2, 30, 133, 110, 65, 162, 161, 108, 92, 2, 5, 90, 148, 44, 44, 147, 157, 15, 3, 53, 22, 73, 78, 28, 190, 15, 128, 125, 139, 156, 115, 30, 192, 97, 30, 141, 196, 9, 160, 86, 104, 166, 171, 144, 5, 193, 37, 182, 121, 58, 189, 4, 169, 66, 42, 198, 128, 9, 16, 132, 176, 92, 137, 168, 1, 192, 27, 57, 122, 163, 86, 37, 46, 7, 15, 168, 141, 129, 128, 14, 194, 187, 53, 31, 101, 105, 32, 143, 194, 120, 157, 21, 195, 34, 63, 196, 116, 83, 21, 45, 30, 118, 137, 119, 172, 57, 119, 188, 134, 65, 115, 17, 119, 108, 77, 30, 173, 104, 35, 168, 76, 146, 190, 153, 117, 96, 138, 14, 145, 91, 91, 33, 81, 65, 0, 81, 39, 119, 187, 13, 96, 8, 164, 131, 31, 112, 28, 70, 78, 93, 148, 158, 166, 24, 114, 58, 127, 35, 25, 171, 82, 29, 71, 183, 73, 164, 41, 185, 71, 135, 57, 101, 49, 49, 164, 45, 66, 96, 63, 181, 184, 170, 124, 98, 185, 100, 43, 105, 93, 97, 142, 94, 87, 175, 178, 10, 152, 76, 18, 47, 74, 24, 120, 148, 97, 51, 10, 14, 72, 3, 163, 101, 79, 7, 3, 35, 45, 41, 182, 165, 51, 102, 163, 57, 10, 101, 148, 82, 147, 134, 21, 55, 191, 137, 181, 170, 169, 4, 108, 122, 19, 135, 129, 52, 63, 66, 84, 8, 46, 98, 165, 175, 123, 108, 24, 94, 76, 44, 165, 29, 72, 155, 124, 109, 43, 54, 55, 160, 184, 89, 0, 165, 81, 184, 9, 40, 165, 106, 132, 159, 146, 71, 13, 159, 86, 29, 50, 144, 183, 187, 192, 137, 132, 184, 110, 157, 87, 160, 19, 99, 22, 78, 71, 76, 89, 157, 109, 26, 112, 43, 124, 14, 135, 167, 110, 120, 86, 151, 34, 27, 109, 79, 106, 11, 76, 38, 106, 175, 170, 104, 78, 125, 176, 66, 108, 198, 130, 188, 43, 136, 5, 30, 87, 3, 132, 159, 159, 23, 70, 14, 38, 110, 84, 198, 148, 188, 80, 14, 96, 100, 131, 155, 85, 139, 142, 90, 169, 144, 145, 97, 13, 129, 18, 106, 121, 143, 73, 145, 62, 85, 4, 88, 192, 34, 180, 164, 163, 119, 40, 99, 103, 86, 87, 176, 160, 191, 30, 9, 13, 124, 123, 139, 138, 82, 171, 35, 21, 5, 40, 126, 128, 79, 60, 129, 43, 64, 52, 191, 163, 127, 93, 32, 13, 161, 81, 116, 128, 59, 159, 148, 21, 140, 140, 84, 188, 15, 40, 114, 32, 133, 89, 143, 123, 68, 8, 81, 111, 184, 137, 118, 91, 86, 180, 161, 165, 36, 124, 133, 189, 100, 191, 78, 117, 130, 119, 90, 24, 175, 138, 150, 26, 57, 99, 156, 93, 192, 5, 154, 40, 178, 83, 164, 87, 103, 187, 115, 59, 85, 173, 97, 108, 103, 15, 124, 132, 149, 161, 187, 49, 174, 42, 98, 198, 180, 100, 185, 30, 13, 153, 21, 133, 54, 88, 197, 172, 33, 156, 197, 142, 182, 121, 4, 30, 25, 16, 195, 114, 70, 149, 190, 148, 84, 64, 131, 155, 159, 168, 115, 147, 148, 78, 177, 28, 157, 170, 181, 30, 159, 155, 98, 25, 159, 80, 157, 110, 75, 32, 115, 115, 189, 199, 164, 87, 40, 37, 45, 91, 185, 11, 141, 48, 115, 71, 31, 163, 73, 90, 95, 26, 104, 198, 47, 92, 1, 125, 96, 128, 130, 152, 84, 104, 6, 85, 123, 43, 17, 49, 111, 96, 104, 189, 128, 28, 35, 100, 146, 106, 123, 35, 120, 181, 18, 58, 88, 14, 73, 5, 133, 57, 46, 148, 88, 168, 103, 180, 131, 55, 98, 45, 85, 176, 64, 51, 164, 151, 164, 36, 172, 64, 135, 181, 61, 45, 87, 186, 86, 140, 83, 158, 149, 144, 101, 115, 98, 73, 12, 135, 15, 121, 56, 18, 47, 99, 20, 99, 83, 9, 101, 55, 142, 104, 92, 162, 0, 141, 78, 6, 155, 23, 120, 21, 37, 168, 176, 45, 10, 37, 198, 3, 42, 19, 121, 71, 43, 12, 142, 9, 14, 171, 43, 81, 24, 50, 188, 13, 194, 84, 64, 45, 20, 52, 64, 67, 197, 44, 157, 27, 47, 126, 98, 122, 190, 76, 120, 119, 28, 64, 131, 85, 102, 53, 174, 194, 124, 48, 134, 111, 182, 20, 63, 168, 41, 26, 146, 30, 64, 89, 140, 7, 142, 136, 164, 163, 91, 37, 74, 165, 38, 113, 29, 53, 57, 45, 139, 50, 15, 128, 129, 174, 184, 168, 2, 177, 141, 144, 30, 122, 134, 51, 66, 173, 73, 9, 121, 69, 84, 156, 52, 114, 94, 17, 1, 120, 64, 30, 87, 38, 115, 128, 47, 81, 161, 45, 170, 176, 13, 104, 171, 169, 6, 70, 26, 138, 21, 118, 65, 22, 156, 9, 63, 45, 95, 196, 181, 31, 62, 188, 99, 35, 56, 188, 57, 63, 172, 88, 70, 77, 194, 45, 39, 0, 142, 139, 56, 68, 190, 190, 191, 198, 148, 8, 190, 80, 39, 57, 180, 37, 112, 185, 171, 156, 159, 173, 136, 14, 87, 166, 94, 84, 121, 176, 4, 152, 30, 85, 140, 155, 52, 68, 36, 90, 118, 8, 52, 31, 121, 9, 87, 96, 134, 92, 23, 196, 99, 27, 79, 175, 154, 148, 129, 68, 160, 179, 52, 143, 151, 56, 195, 129, 176, 38, 135, 173, 113, 195, 57, 146, 40, 197, 21, 74, 159, 40, 179, 91, 39, 44, 37, 120, 25, 157, 150, 81, 103, 153, 185, 62, 42, 72, 17, 108, 119]\n",
            "199\n",
            "10000\n",
            "199\n"
          ]
        }
      ]
    },
    {
      "cell_type": "code",
      "source": [
        "#model = ViT(\n",
        "#    image_size = 256,\n",
        "#    patch_size = 32,\n",
        "#    num_classes = 1000,\n",
        "#    dim = 1024,\n",
        "#    depth = 6,\n",
        "#    heads = 8,\n",
        "#    mlp_dim = 2048\n",
        "#).to(device)\n",
        "\n",
        "! pip install timm\n",
        "import timm\n",
        "IMAGE_SIZE = 224\n",
        "model = timm.create_model('vit_base_patch16_224', pretrained=True).to(device)\n",
        "\n",
        "criterion = nn.CrossEntropyLoss()\n",
        "optimizer = torch.optim.Adam(model.parameters(), lr=5e-5)"
      ],
      "metadata": {
        "id": "vBEkjvBXtVMH",
        "colab": {
          "base_uri": "https://localhost:8080/"
        },
        "outputId": "10477fc2-6f42-4fdb-e0d1-2a2d160ac685"
      },
      "execution_count": null,
      "outputs": [
        {
          "output_type": "stream",
          "name": "stdout",
          "text": [
            "Requirement already satisfied: timm in /usr/local/lib/python3.7/dist-packages (0.5.4)\n",
            "Requirement already satisfied: torch>=1.4 in /usr/local/lib/python3.7/dist-packages (from timm) (1.10.0+cu111)\n",
            "Requirement already satisfied: torchvision in /usr/local/lib/python3.7/dist-packages (from timm) (0.11.1+cu111)\n",
            "Requirement already satisfied: typing-extensions in /usr/local/lib/python3.7/dist-packages (from torch>=1.4->timm) (3.10.0.2)\n",
            "Requirement already satisfied: numpy in /usr/local/lib/python3.7/dist-packages (from torchvision->timm) (1.19.5)\n",
            "Requirement already satisfied: pillow!=8.3.0,>=5.3.0 in /usr/local/lib/python3.7/dist-packages (from torchvision->timm) (7.1.2)\n"
          ]
        }
      ]
    },
    {
      "cell_type": "code",
      "source": [
        "num_epochs = 50\n",
        "\n",
        "train_losses = []\n",
        "valid_losses = []\n",
        "\n",
        "for epoch in range(1, num_epochs + 1):\n",
        "    model.train()\n",
        "    train_loss = 0.0\n",
        "    for data, target in tiny_trn_loader:\n",
        "        data = data.to(device)\n",
        "        target = target.to(device, dtype=torch.long)\n",
        "        optimizer.zero_grad()\n",
        "        output = model(data)[:200]\n",
        "        loss = criterion(output, target)\n",
        "        loss.backward()\n",
        "        optimizer.step()\n",
        "        train_loss += loss.item()\n",
        "    train_loss = train_loss/len(tiny_trn_loader.sampler)\n",
        "    print('ep:', epoch, 'train:', train_loss, end=' ')\n",
        "\n",
        "    model.eval()\n",
        "    with torch.no_grad():\n",
        "        valid_loss = 0.0\n",
        "        accuracy = 0\n",
        "        for data, target in tiny_val_loader:\n",
        "            data = data.to(device)\n",
        "            target = target.to(device, dtype=torch.long)\n",
        "            output = model(data)[:200]\n",
        "            accuracy += (output.cpu().detach().numpy().argmax(axis=1) == target.cpu().numpy()).sum()\n",
        "            loss = criterion(output, target)\n",
        "            valid_loss += loss.item()\n",
        "        valid_loss = valid_loss/max(len(tiny_val_loader.sampler),1)\n",
        "        accuracy /= max(1, len(tiny_val_loader.sampler))\n",
        "        print('val:', valid_loss, 'acc:', accuracy)"
      ],
      "metadata": {
        "id": "Cj_4SHGjvX6C",
        "colab": {
          "base_uri": "https://localhost:8080/"
        },
        "outputId": "cda0b71b-953f-4abb-ab27-c3c7062aae67"
      },
      "execution_count": null,
      "outputs": [
        {
          "output_type": "stream",
          "name": "stdout",
          "text": [
            "ep: 1 train: 0.1675598418712616 val: 0.1502747341632843 acc: 0.0571\n",
            "ep: 2 train: 0.10455411123037338 val: 0.05833435016274452 acc: 0.5646\n",
            "ep: 3 train: 0.03940072529911995 val: 0.0412668873667717 acc: 0.6821\n",
            "ep: 4 train: 0.018402844884991647 val: 0.03882719139754772 acc: 0.6996\n",
            "ep: 5 train: 0.009382755890488625 val: 0.039702597412467004 acc: 0.7112\n",
            "ep: 6 train: 0.0060621940225362774 val: 0.04191860699057579 acc: 0.6998\n",
            "ep: 7 train: 0.004891978501155973 val: 0.04614770849943161 acc: 0.6834\n",
            "ep: 8 train: 0.004334783929865808 val: 0.04477366220057011 acc: 0.6903\n",
            "ep: 9 train: 0.003772400244604796 val: 0.04679219331741333 acc: 0.6808\n",
            "ep: 10 train: 0.004077007805788889 val: 0.04833102448582649 acc: 0.6791\n",
            "ep: 11 train: 0.00354065324193798 val: 0.054306419932842256 acc: 0.6434\n",
            "ep: 12 train: 0.0034238398947753013 val: 0.05011654067337513 acc: 0.6674\n",
            "ep: 13 train: 0.003088908569747582 val: 0.05051116898953915 acc: 0.6756\n",
            "ep: 14 train: 0.002668877504952252 val: 0.05551051068305969 acc: 0.6481\n",
            "ep: 15 train: 0.0033425124681554733 val: 0.0544085721373558 acc: 0.655\n",
            "ep: 16 train: 0.002194926467165351 val: 0.055651128977537156 acc: 0.6508\n",
            "ep: 17 train: 0.002662409890734125 val: 0.0582646183013916 acc: 0.6341\n",
            "ep: 18 train: 0.0030358292844379323 val: 0.058449150797724725 acc: 0.6322\n",
            "ep: 19 train: 0.0028203006960917263 val: 0.056041992726922035 acc: 0.6418\n",
            "ep: 20 train: 0.0023950131802179383 val: 0.057868870377540585 acc: 0.6434\n",
            "ep: 21 train: 0.002400786734581925 val: 0.05884617978334427 acc: 0.6456\n",
            "ep: 22 train: 0.0025988154821563513 val: 0.06065866788625717 acc: 0.6396\n",
            "ep: 23 train: 0.001834743231756147 val: 0.058255928713083265 acc: 0.6404\n",
            "ep: 24 train: 0.0025646280737244525 val: 0.05909580950140953 acc: 0.6429\n",
            "ep: 25 train: 0.0024512812352040785 val: 0.06466371945738793 acc: 0.6143\n",
            "ep: 26 train: 0.0033111178007675336 val: 0.0661530513226986 acc: 0.6038\n",
            "ep: 27 train: 0.001823139670828823 val: 0.06261342250704766 acc: 0.6266\n",
            "ep: 28 train: 0.0019067714479984715 val: 0.06405945526361466 acc: 0.6247\n",
            "ep: 29 train: 0.001761625607870519 val: 0.06377517681121826 acc: 0.6254\n",
            "ep: 30 train: 0.0014939846034860238 val: 0.06639348544478417 acc: 0.6043\n",
            "ep: 31 train: 0.00157517426009872 val: 0.06641151725649834 acc: 0.6178\n",
            "ep: 32 train: 0.0023867564306361603 val: 0.06752720800042153 acc: 0.595\n",
            "ep: 33 train: 0.0021182161239092236 val: 0.06640811164379119 acc: 0.6155\n",
            "ep: 34 train: 0.0017815058708685683 val: 0.06642450877428055 acc: 0.6219\n",
            "ep: 35 train: 0.0015060585812898353 val: 0.06932985295057296 acc: 0.6031\n",
            "ep: 36 train: 0.0024241343499394135 val: 0.07159531922340392 acc: 0.5943\n",
            "ep: 37 train: 0.0023266877120826394 val: 0.07153530811667443 acc: 0.5847\n",
            "ep: 38 train: 0.0021215622654883193 val: 0.07284346057772637 acc: 0.5934\n",
            "ep: 39 train: 0.0015452337711962174 val: 0.0715072696506977 acc: 0.5982\n",
            "ep: 40 train: 0.001624591265944764 val: 0.07033514810800552 acc: 0.5972\n"
          ]
        }
      ]
    },
    {
      "cell_type": "markdown",
      "source": [
        "## Результат эксперимента\n",
        "| Откуда веса | Случайная инициализация | SplitMask (9,469) | Supervised (1,281,167) |\n",
        "| --- | --- | --- | --- |\n",
        "| Accuracy | 0.12 | 0.18 | 0.71 |"
      ],
      "metadata": {
        "id": "mck78721Ucde"
      }
    },
    {
      "cell_type": "markdown",
      "source": [
        "## Чуть более подробно"
      ],
      "metadata": {
        "id": "eMLVScWdXiaV"
      }
    },
    {
      "cell_type": "code",
      "source": [
        "random_init_acc = []\n",
        "supervised_acc = []\n",
        "unsupervised_acc = []\n",
        "\n",
        "random_init_trn = []\n",
        "supervised_trn = []\n",
        "unsupervised_trn = []\n",
        "\n",
        "random_init_val = []\n",
        "supervised_val = []\n",
        "unsupervised_val = []\n",
        "\n",
        "with open(\"Random.txt\", 'r') as f:\n",
        "    for line in f:\n",
        "        random_init_acc.append(float(line.split(' ')[7]))\n",
        "        random_init_trn.append(float(line.split(' ')[3]))\n",
        "        random_init_val.append(float(line.split(' ')[5]))\n",
        "\n",
        "with open(\"50.txt\", 'r') as f:\n",
        "    for line in f:\n",
        "        unsupervised_acc.append(float(line.split(' ')[7]))\n",
        "        unsupervised_trn.append(float(line.split(' ')[3]))\n",
        "        unsupervised_val.append(float(line.split(' ')[5]))\n",
        "\n",
        "with open(\"Supervised.txt\", 'r') as f:\n",
        "    for line in f:\n",
        "        supervised_acc.append(float(line.split(' ')[7]))\n",
        "        supervised_trn.append(float(line.split(' ')[3]))\n",
        "        supervised_val.append(float(line.split(' ')[5]))\n",
        "\n",
        "\n",
        "import matplotlib.pyplot as plt\n",
        "fig, (ax1, ax2, ax3) = plt.subplots(1,3)\n",
        "fig.set_size_inches(20, 5)\n",
        "\n",
        "ax1.plot(random_init_acc, label='Random Init')\n",
        "ax1.plot(unsupervised_acc, label='SplitMask')\n",
        "ax1.plot(supervised_acc, label='Supervised')\n",
        "ax1.set(xlabel=\"Epochs\", ylabel=\"Accuracy\")\n",
        "ax1.legend()\n",
        "\n",
        "ax2.plot(random_init_trn, label='Random Init')\n",
        "ax2.plot(unsupervised_trn, label='SplitMask')\n",
        "ax2.plot(supervised_trn, label='Supervised')\n",
        "ax2.set(xlabel=\"Epochs\", ylabel=\"Train loss\")\n",
        "ax2.legend()\n",
        "\n",
        "ax3.plot(random_init_val, label='Random Init')\n",
        "ax3.plot(unsupervised_val, label='SplitMask')\n",
        "ax3.plot(supervised_val, label='Supervised')\n",
        "ax3.set(xlabel=\"Epochs\", ylabel=\"Valid loss\")\n",
        "ax3.legend()"
      ],
      "metadata": {
        "colab": {
          "base_uri": "https://localhost:8080/",
          "height": 351
        },
        "id": "XDgqg7SNZj_r",
        "outputId": "821e4dc5-28a9-4891-c859-2f7a9da13a60"
      },
      "execution_count": null,
      "outputs": [
        {
          "output_type": "execute_result",
          "data": {
            "text/plain": [
              "<matplotlib.legend.Legend at 0x7f61994b5c90>"
            ]
          },
          "metadata": {},
          "execution_count": 30
        },
        {
          "output_type": "display_data",
          "data": {
            "image/png": "[encoded data removed]",
            "text/plain": [
              "<Figure size 1440x360 with 3 Axes>"
            ]
          },
          "metadata": {
            "needs_background": "light"
          }
        }
      ]
    }
  ]
}