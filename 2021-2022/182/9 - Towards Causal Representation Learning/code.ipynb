{
  "nbformat": 4,
  "nbformat_minor": 0,
  "metadata": {
    "colab": {
      "name": "nis_causal.ipynb",
      "provenance": [],
      "collapsed_sections": []
    },
    "kernelspec": {
      "name": "python3",
      "display_name": "Python 3"
    },
    "language_info": {
      "name": "python"
    },
    "accelerator": "GPU"
  },
  "cells": [
    {
      "cell_type": "code",
      "metadata": {
        "id": "dEfU3GqkY0MD",
        "colab": {
          "base_uri": "https://localhost:8080/"
        },
        "outputId": "7a25a170-1037-4844-a17b-f7ceb85784f2"
      },
      "source": [
        "!pip install catboost\n",
        "!pip install causalgraphicalmodels"
      ],
      "execution_count": 2,
      "outputs": [
        {
          "output_type": "stream",
          "name": "stdout",
          "text": [
            "Collecting catboost\n",
            "  Downloading catboost-1.0.3-cp37-none-manylinux1_x86_64.whl (76.3 MB)\n",
            "\u001b[K     |████████████████████████████████| 76.3 MB 22 kB/s \n",
            "\u001b[?25hRequirement already satisfied: scipy in /usr/local/lib/python3.7/dist-packages (from catboost) (1.4.1)\n",
            "Requirement already satisfied: plotly in /usr/local/lib/python3.7/dist-packages (from catboost) (4.4.1)\n",
            "Requirement already satisfied: numpy>=1.16.0 in /usr/local/lib/python3.7/dist-packages (from catboost) (1.19.5)\n",
            "Requirement already satisfied: graphviz in /usr/local/lib/python3.7/dist-packages (from catboost) (0.10.1)\n",
            "Requirement already satisfied: pandas>=0.24.0 in /usr/local/lib/python3.7/dist-packages (from catboost) (1.1.5)\n",
            "Requirement already satisfied: six in /usr/local/lib/python3.7/dist-packages (from catboost) (1.15.0)\n",
            "Requirement already satisfied: matplotlib in /usr/local/lib/python3.7/dist-packages (from catboost) (3.2.2)\n",
            "Requirement already satisfied: python-dateutil>=2.7.3 in /usr/local/lib/python3.7/dist-packages (from pandas>=0.24.0->catboost) (2.8.2)\n",
            "Requirement already satisfied: pytz>=2017.2 in /usr/local/lib/python3.7/dist-packages (from pandas>=0.24.0->catboost) (2018.9)\n",
            "Requirement already satisfied: kiwisolver>=1.0.1 in /usr/local/lib/python3.7/dist-packages (from matplotlib->catboost) (1.3.2)\n",
            "Requirement already satisfied: cycler>=0.10 in /usr/local/lib/python3.7/dist-packages (from matplotlib->catboost) (0.11.0)\n",
            "Requirement already satisfied: pyparsing!=2.0.4,!=2.1.2,!=2.1.6,>=2.0.1 in /usr/local/lib/python3.7/dist-packages (from matplotlib->catboost) (2.4.7)\n",
            "Requirement already satisfied: retrying>=1.3.3 in /usr/local/lib/python3.7/dist-packages (from plotly->catboost) (1.3.3)\n",
            "Installing collected packages: catboost\n",
            "Successfully installed catboost-1.0.3\n",
            "Collecting causalgraphicalmodels\n",
            "  Downloading causalgraphicalmodels-0.0.4-py3-none-any.whl (11 kB)\n",
            "Requirement already satisfied: pandas in /usr/local/lib/python3.7/dist-packages (from causalgraphicalmodels) (1.1.5)\n",
            "Requirement already satisfied: graphviz in /usr/local/lib/python3.7/dist-packages (from causalgraphicalmodels) (0.10.1)\n",
            "Requirement already satisfied: numpy in /usr/local/lib/python3.7/dist-packages (from causalgraphicalmodels) (1.19.5)\n",
            "Requirement already satisfied: networkx in /usr/local/lib/python3.7/dist-packages (from causalgraphicalmodels) (2.6.3)\n",
            "Requirement already satisfied: pytz>=2017.2 in /usr/local/lib/python3.7/dist-packages (from pandas->causalgraphicalmodels) (2018.9)\n",
            "Requirement already satisfied: python-dateutil>=2.7.3 in /usr/local/lib/python3.7/dist-packages (from pandas->causalgraphicalmodels) (2.8.2)\n",
            "Requirement already satisfied: six>=1.5 in /usr/local/lib/python3.7/dist-packages (from python-dateutil>=2.7.3->pandas->causalgraphicalmodels) (1.15.0)\n",
            "Installing collected packages: causalgraphicalmodels\n",
            "Successfully installed causalgraphicalmodels-0.0.4\n"
          ]
        }
      ]
    },
    {
      "cell_type": "code",
      "metadata": {
        "id": "y8lUHjvm9C7J"
      },
      "source": [
        "def generate(size, env=1):\n",
        "    data = pd.DataFrame()\n",
        "    x1 = np.random.normal(loc=0.0, scale=1.0, size=size) * env\n",
        "    data['x1'] = x1\n",
        "    data['y'] = 2 * data['x1'] + np.random.normal(0, 0.5, size=size)\n",
        "    data['x2'] = 1.5 * data['y'] * env * env + np.random.normal(0, 0.5, size=size)\n",
        "\n",
        "    return data[['x1', 'x2', 'y']]"
      ],
      "execution_count": 70,
      "outputs": []
    },
    {
      "cell_type": "code",
      "metadata": {
        "id": "93lv0UpF1OXQ"
      },
      "source": [
        "def generate_do(size, x1=None, x2=None, x3=None):\n",
        "    data = pd.DataFrame()\n",
        "\n",
        "    data['x2'] = np.random.normal(0, 0.4, size=size)\n",
        "    if x2 is not None:\n",
        "        data['x2'] = x2\n",
        "\n",
        "    data['x1'] = 1.5 * data['x2'] + np.random.normal(0, 0.5, size=size)\n",
        "    if x1 is not None:\n",
        "        data['x1'] = x1\n",
        "\n",
        "    data['x3'] = -2 * data['x2'] + + np.random.normal(0, 0.5, size=size)\n",
        "    if x3 is not None:\n",
        "        data['3'] = x3\n",
        "\n",
        "    return data[['x1', 'x2', 'x3']]"
      ],
      "execution_count": 71,
      "outputs": []
    },
    {
      "cell_type": "code",
      "metadata": {
        "id": "SXIJ8Ol3dxQb"
      },
      "source": [
        "import pandas as pd\n",
        "import numpy as np\n",
        "import matplotlib.pyplot as plt\n",
        "\n",
        "from catboost import CatBoostRegressor\n",
        "from lightgbm import LGBMRegressor\n",
        "from sklearn.linear_model import LinearRegression\n",
        "from sklearn.metrics import mean_squared_error\n",
        "from sklearn.svm import SVR\n",
        "\n",
        "import warnings\n",
        "\n",
        "warnings.filterwarnings('ignore')"
      ],
      "execution_count": 5,
      "outputs": []
    },
    {
      "cell_type": "markdown",
      "metadata": {
        "id": "L0eqk-Kh9c7Y"
      },
      "source": [
        "Пусть имеется структурная каузальная модель из двух переменных $X \\rightarrow Y$:\n",
        "\n",
        "$$\n",
        "X = U_0\n",
        "$$\n",
        "$$\n",
        "Y = f(X) + U_1\n",
        "$$\n",
        "\n",
        "Знаем, что $U_0$ и $U_1$ независимы, что аналогично независимости $X$ и $Y - f(X)$. \n",
        "\n",
        "Также в таком случае верно, что $Y - \\mathbb{E}[Y|X]$ и $X$ независимы, но обратное неверно: $X - \\mathbb{E}[X|Y]$ и $Y$ будут зависимы."
      ]
    },
    {
      "cell_type": "markdown",
      "metadata": {
        "id": "ZwHOW_5vBiNb"
      },
      "source": [
        "В таком случае, имея сырые данные $X$ и $Y$ мы можем обучить две модели $Y = g(X)$ и $X = h(Y)$ и проверить, что более вероятно: независимость $X$ и $Y - g(X)$ или независимость $Y$ и $X - h(Y)$."
      ]
    },
    {
      "cell_type": "code",
      "metadata": {
        "colab": {
          "base_uri": "https://localhost:8080/",
          "height": 279
        },
        "id": "je-QQK__7c6k",
        "outputId": "5eef590e-8665-4ed5-abab-8896022416c2"
      },
      "source": [
        "np.random.seed(0)\n",
        "\n",
        "x = np.random.uniform(size=500)\n",
        "y = 30 * x ** 2  + 3 * x  + 2 * np.random.normal(size=x.shape)\n",
        "\n",
        "plt.scatter(x, y)\n",
        "plt.xlabel(\"x\")\n",
        "plt.ylabel(\"y\")\n",
        "plt.show()"
      ],
      "execution_count": 6,
      "outputs": [
        {
          "output_type": "display_data",
          "data": {
            "image/png": "[encoded data removed]",
            "text/plain": [
              "<Figure size 432x288 with 1 Axes>"
            ]
          },
          "metadata": {
            "needs_background": "light"
          }
        }
      ]
    },
    {
      "cell_type": "code",
      "metadata": {
        "colab": {
          "base_uri": "https://localhost:8080/",
          "height": 295
        },
        "id": "3XBVWfpC7dFv",
        "outputId": "3ece3179-0d4b-4853-f1a7-ae062c97cc13"
      },
      "source": [
        "model = CatBoostRegressor(silent=True, iterations=500)\n",
        "model.fit(x[:,None], y)\n",
        "pred = model.predict(x[:,None])\n",
        "\n",
        "plt.scatter(x, y, label=\"true\")\n",
        "plt.scatter(x, pred, label=\"predicted\")\n",
        "plt.xlabel(\"x\")\n",
        "plt.ylabel(\"y\")\n",
        "plt.legend()\n",
        "plt.title(\"causal direction\")\n",
        "plt.show()"
      ],
      "execution_count": 7,
      "outputs": [
        {
          "output_type": "display_data",
          "data": {
            "image/png": "[encoded data removed]",
            "text/plain": [
              "<Figure size 432x288 with 1 Axes>"
            ]
          },
          "metadata": {
            "needs_background": "light"
          }
        }
      ]
    },
    {
      "cell_type": "code",
      "metadata": {
        "colab": {
          "base_uri": "https://localhost:8080/",
          "height": 295
        },
        "id": "wdvTVLA37tTI",
        "outputId": "51c3b3e7-52ca-412f-ec7e-e12c15818f10"
      },
      "source": [
        "plt.scatter(x, y - pred)\n",
        "plt.xlabel(\"x\")\n",
        "plt.ylabel(\"y - f(x)\")\n",
        "plt.title(\"causal direction\")\n",
        "plt.show()"
      ],
      "execution_count": 9,
      "outputs": [
        {
          "output_type": "display_data",
          "data": {
            "image/png": "[encoded data removed]",
            "text/plain": [
              "<Figure size 432x288 with 1 Axes>"
            ]
          },
          "metadata": {
            "needs_background": "light"
          }
        }
      ]
    },
    {
      "cell_type": "code",
      "metadata": {
        "colab": {
          "base_uri": "https://localhost:8080/",
          "height": 295
        },
        "id": "A_pwKugx7tXu",
        "outputId": "8da8a07a-48c4-458e-8486-4338cec8c549"
      },
      "source": [
        "model = CatBoostRegressor(silent=True, iterations=500)\n",
        "model.fit(y[:,None], x)\n",
        "pred = model.predict(y[:,None])\n",
        "\n",
        "plt.scatter(y, x, label=\"true\")\n",
        "plt.scatter(y, pred, label=\"predicted\")\n",
        "plt.xlabel(\"y\")\n",
        "plt.ylabel(\"x\")\n",
        "plt.legend()\n",
        "plt.title(\"anticausal direction\")\n",
        "plt.show()"
      ],
      "execution_count": 10,
      "outputs": [
        {
          "output_type": "display_data",
          "data": {
            "image/png": "[encoded data removed]",
            "text/plain": [
              "<Figure size 432x288 with 1 Axes>"
            ]
          },
          "metadata": {
            "needs_background": "light"
          }
        }
      ]
    },
    {
      "cell_type": "code",
      "metadata": {
        "colab": {
          "base_uri": "https://localhost:8080/",
          "height": 295
        },
        "id": "KLGLPjc48HGB",
        "outputId": "8814adeb-79a8-4944-9086-94c01fc1d649"
      },
      "source": [
        "plt.scatter(y, x - pred)\n",
        "plt.xlabel(\"y\")\n",
        "plt.ylabel(\"x - f(y)\")\n",
        "plt.title(\"anticausal direction\")\n",
        "plt.show()"
      ],
      "execution_count": 11,
      "outputs": [
        {
          "output_type": "display_data",
          "data": {
            "image/png": "[encoded data removed]",
            "text/plain": [
              "<Figure size 432x288 with 1 Axes>"
            ]
          },
          "metadata": {
            "needs_background": "light"
          }
        }
      ]
    },
    {
      "cell_type": "code",
      "metadata": {
        "id": "dtbvQFWK8HId"
      },
      "source": [
        ""
      ],
      "execution_count": null,
      "outputs": []
    },
    {
      "cell_type": "code",
      "metadata": {
        "id": "vgTusMHJ8HLh"
      },
      "source": [
        ""
      ],
      "execution_count": null,
      "outputs": []
    },
    {
      "cell_type": "code",
      "metadata": {
        "id": "T86eb1a_7tiq"
      },
      "source": [
        ""
      ],
      "execution_count": null,
      "outputs": []
    },
    {
      "cell_type": "code",
      "metadata": {
        "id": "n-vVPgim7dKJ"
      },
      "source": [
        ""
      ],
      "execution_count": null,
      "outputs": []
    },
    {
      "cell_type": "code",
      "metadata": {
        "colab": {
          "base_uri": "https://localhost:8080/",
          "height": 419
        },
        "id": "hYJ-ftOJ2sr7",
        "outputId": "13d112da-957b-4852-a563-d37c5bad648f"
      },
      "source": [
        "df = pd.read_csv('temp-alt-2020.csv')\n",
        "df"
      ],
      "execution_count": 13,
      "outputs": [
        {
          "output_type": "execute_result",
          "data": {
            "text/html": [
              "<div>\n",
              "<style scoped>\n",
              "    .dataframe tbody tr th:only-of-type {\n",
              "        vertical-align: middle;\n",
              "    }\n",
              "\n",
              "    .dataframe tbody tr th {\n",
              "        vertical-align: top;\n",
              "    }\n",
              "\n",
              "    .dataframe thead th {\n",
              "        text-align: right;\n",
              "    }\n",
              "</style>\n",
              "<table border=\"1\" class=\"dataframe\">\n",
              "  <thead>\n",
              "    <tr style=\"text-align: right;\">\n",
              "      <th></th>\n",
              "      <th>Unnamed: 0</th>\n",
              "      <th>region</th>\n",
              "      <th>UF</th>\n",
              "      <th>city</th>\n",
              "      <th>lat</th>\n",
              "      <th>lon</th>\n",
              "      <th>temperature</th>\n",
              "      <th>altitude</th>\n",
              "    </tr>\n",
              "  </thead>\n",
              "  <tbody>\n",
              "    <tr>\n",
              "      <th>0</th>\n",
              "      <td>0</td>\n",
              "      <td>SE</td>\n",
              "      <td>RJ</td>\n",
              "      <td>CAMPOS DOS GOYTACAZES - SAO TOME</td>\n",
              "      <td>-22,04166666</td>\n",
              "      <td>-41,05166666</td>\n",
              "      <td>24.002001</td>\n",
              "      <td>-41.051667</td>\n",
              "    </tr>\n",
              "    <tr>\n",
              "      <th>1</th>\n",
              "      <td>0</td>\n",
              "      <td>CO</td>\n",
              "      <td>MT</td>\n",
              "      <td>SAO FELIX  DO ARAGUAIA</td>\n",
              "      <td>-11,61888888</td>\n",
              "      <td>-50,72777777</td>\n",
              "      <td>26.947313</td>\n",
              "      <td>-50.727778</td>\n",
              "    </tr>\n",
              "    <tr>\n",
              "      <th>2</th>\n",
              "      <td>0</td>\n",
              "      <td>N</td>\n",
              "      <td>PA</td>\n",
              "      <td>MARABA</td>\n",
              "      <td>-5,366447</td>\n",
              "      <td>-49,051166</td>\n",
              "      <td>26.410281</td>\n",
              "      <td>-49.051166</td>\n",
              "    </tr>\n",
              "    <tr>\n",
              "      <th>3</th>\n",
              "      <td>0</td>\n",
              "      <td>CO</td>\n",
              "      <td>GO</td>\n",
              "      <td>RIO VERDE</td>\n",
              "      <td>-17,785303</td>\n",
              "      <td>-50,964869</td>\n",
              "      <td>27.305761</td>\n",
              "      <td>-50.964869</td>\n",
              "    </tr>\n",
              "    <tr>\n",
              "      <th>4</th>\n",
              "      <td>0</td>\n",
              "      <td>S</td>\n",
              "      <td>RS</td>\n",
              "      <td>PORTO ALEGRE</td>\n",
              "      <td>-30,05361111</td>\n",
              "      <td>-51,17472221</td>\n",
              "      <td>19.983030</td>\n",
              "      <td>-51.174722</td>\n",
              "    </tr>\n",
              "    <tr>\n",
              "      <th>...</th>\n",
              "      <td>...</td>\n",
              "      <td>...</td>\n",
              "      <td>...</td>\n",
              "      <td>...</td>\n",
              "      <td>...</td>\n",
              "      <td>...</td>\n",
              "      <td>...</td>\n",
              "      <td>...</td>\n",
              "    </tr>\n",
              "    <tr>\n",
              "      <th>563</th>\n",
              "      <td>0</td>\n",
              "      <td>CO</td>\n",
              "      <td>MT</td>\n",
              "      <td>SALTO DO CEU</td>\n",
              "      <td>-15,12472221</td>\n",
              "      <td>-58,12722221</td>\n",
              "      <td>24.474166</td>\n",
              "      <td>-58.127222</td>\n",
              "    </tr>\n",
              "    <tr>\n",
              "      <th>564</th>\n",
              "      <td>0</td>\n",
              "      <td>SE</td>\n",
              "      <td>SP</td>\n",
              "      <td>VALPARAISO</td>\n",
              "      <td>-21,31916666</td>\n",
              "      <td>-50,93027777</td>\n",
              "      <td>23.658756</td>\n",
              "      <td>-50.930278</td>\n",
              "    </tr>\n",
              "    <tr>\n",
              "      <th>565</th>\n",
              "      <td>0</td>\n",
              "      <td>S</td>\n",
              "      <td>RS</td>\n",
              "      <td>ALEGRETE</td>\n",
              "      <td>-29,709083</td>\n",
              "      <td>-55,525486</td>\n",
              "      <td>19.718981</td>\n",
              "      <td>-55.525486</td>\n",
              "    </tr>\n",
              "    <tr>\n",
              "      <th>566</th>\n",
              "      <td>0</td>\n",
              "      <td>S</td>\n",
              "      <td>PR</td>\n",
              "      <td>CASTRO</td>\n",
              "      <td>-24,786954</td>\n",
              "      <td>-49,999266</td>\n",
              "      <td>17.650484</td>\n",
              "      <td>-49.999266</td>\n",
              "    </tr>\n",
              "    <tr>\n",
              "      <th>567</th>\n",
              "      <td>0</td>\n",
              "      <td>S</td>\n",
              "      <td>RS</td>\n",
              "      <td>SANTA ROSA</td>\n",
              "      <td>-27,890463</td>\n",
              "      <td>-54,480014</td>\n",
              "      <td>20.657056</td>\n",
              "      <td>-54.480014</td>\n",
              "    </tr>\n",
              "  </tbody>\n",
              "</table>\n",
              "<p>568 rows × 8 columns</p>\n",
              "</div>"
            ],
            "text/plain": [
              "     Unnamed: 0 region  UF  ...           lon temperature   altitude\n",
              "0             0     SE  RJ  ...  -41,05166666   24.002001 -41.051667\n",
              "1             0     CO  MT  ...  -50,72777777   26.947313 -50.727778\n",
              "2             0      N  PA  ...    -49,051166   26.410281 -49.051166\n",
              "3             0     CO  GO  ...    -50,964869   27.305761 -50.964869\n",
              "4             0      S  RS  ...  -51,17472221   19.983030 -51.174722\n",
              "..          ...    ...  ..  ...           ...         ...        ...\n",
              "563           0     CO  MT  ...  -58,12722221   24.474166 -58.127222\n",
              "564           0     SE  SP  ...  -50,93027777   23.658756 -50.930278\n",
              "565           0      S  RS  ...    -55,525486   19.718981 -55.525486\n",
              "566           0      S  PR  ...    -49,999266   17.650484 -49.999266\n",
              "567           0      S  RS  ...    -54,480014   20.657056 -54.480014\n",
              "\n",
              "[568 rows x 8 columns]"
            ]
          },
          "metadata": {},
          "execution_count": 13
        }
      ]
    },
    {
      "cell_type": "code",
      "metadata": {
        "colab": {
          "base_uri": "https://localhost:8080/"
        },
        "id": "lvZpAKDa2suX",
        "outputId": "01e093d8-7fbd-4ffb-d46e-27da0363d9be"
      },
      "source": [
        "x = df['altitude']\n",
        "y = df['temperature']\n",
        "\n",
        "model = CatBoostRegressor(silent=True, iterations=500)\n",
        "model.fit(x[:, None], y)\n",
        "pred = model.predict(x[:, None])\n",
        "\n",
        "print(\"rmse:\", np.sqrt(mean_squared_error(y, pred)))"
      ],
      "execution_count": 14,
      "outputs": [
        {
          "output_type": "stream",
          "name": "stdout",
          "text": [
            "rmse: 2.492526767477597\n"
          ]
        }
      ]
    },
    {
      "cell_type": "code",
      "metadata": {
        "colab": {
          "base_uri": "https://localhost:8080/",
          "height": 296
        },
        "id": "F_MC65lh5KYe",
        "outputId": "a6039da3-c1b7-4bdc-9d15-3a2cabca236e"
      },
      "source": [
        "plt.scatter(x, y - pred)\n",
        "plt.xlabel(\"altitude\")\n",
        "plt.ylabel(\"temperature - f(altitude)\")\n",
        "plt.show()\n",
        "\n",
        "print(\"Correlation coefficient:\", np.corrcoef(x, y - pred)[0][1])"
      ],
      "execution_count": 15,
      "outputs": [
        {
          "output_type": "display_data",
          "data": {
            "image/png": "[encoded data removed]",
            "text/plain": [
              "<Figure size 432x288 with 1 Axes>"
            ]
          },
          "metadata": {
            "needs_background": "light"
          }
        },
        {
          "output_type": "stream",
          "name": "stdout",
          "text": [
            "Correlation coefficient: 0.00012867904084942633\n"
          ]
        }
      ]
    },
    {
      "cell_type": "code",
      "metadata": {
        "colab": {
          "base_uri": "https://localhost:8080/"
        },
        "id": "K6JOmNRV2szw",
        "outputId": "abeb22ee-718c-4020-d591-a2d62b286d6f"
      },
      "source": [
        "y = df['altitude']\n",
        "x = df['temperature']\n",
        "\n",
        "model = CatBoostRegressor(silent=True, iterations=500)\n",
        "model.fit(x[:, None], y)\n",
        "pred = model.predict(x[:, None])\n",
        "\n",
        "print(\"rmse:\", np.sqrt(mean_squared_error(y, pred)))"
      ],
      "execution_count": 16,
      "outputs": [
        {
          "output_type": "stream",
          "name": "stdout",
          "text": [
            "rmse: 5.566182759163655\n"
          ]
        }
      ]
    },
    {
      "cell_type": "code",
      "metadata": {
        "colab": {
          "base_uri": "https://localhost:8080/",
          "height": 299
        },
        "id": "cTuIKlFu2s2I",
        "outputId": "78dbe052-a4c3-44b9-fd98-96abf89069e7"
      },
      "source": [
        "plt.scatter(x, y - pred)\n",
        "plt.xlabel(\"temperature\")\n",
        "plt.ylabel(\"altitude - f(temperature)\")\n",
        "plt.show()\n",
        "\n",
        "print(\"Correlation coefficient:\", np.corrcoef(x, y - pred)[0][1])"
      ],
      "execution_count": 17,
      "outputs": [
        {
          "output_type": "display_data",
          "data": {
            "image/png": "[encoded data removed]",
            "text/plain": [
              "<Figure size 432x288 with 1 Axes>"
            ]
          },
          "metadata": {
            "needs_background": "light"
          }
        },
        {
          "output_type": "stream",
          "name": "stdout",
          "text": [
            "Correlation coefficient: 0.0018685877935827016\n"
          ]
        }
      ]
    },
    {
      "cell_type": "code",
      "metadata": {
        "id": "PgL-_DyY2s4n"
      },
      "source": [
        ""
      ],
      "execution_count": null,
      "outputs": []
    },
    {
      "cell_type": "code",
      "metadata": {
        "id": "W0XQQ22N2s7O"
      },
      "source": [
        ""
      ],
      "execution_count": null,
      "outputs": []
    },
    {
      "cell_type": "code",
      "metadata": {
        "id": "vOnR-LFH2tIY"
      },
      "source": [
        ""
      ],
      "execution_count": null,
      "outputs": []
    },
    {
      "cell_type": "code",
      "metadata": {
        "id": "OE-dQWPa2tNF"
      },
      "source": [
        ""
      ],
      "execution_count": null,
      "outputs": []
    },
    {
      "cell_type": "code",
      "metadata": {
        "id": "oJDRb1Akw93k"
      },
      "source": [
        ""
      ],
      "execution_count": null,
      "outputs": []
    },
    {
      "cell_type": "code",
      "metadata": {
        "id": "YKvppVj0w96q"
      },
      "source": [
        ""
      ],
      "execution_count": null,
      "outputs": []
    },
    {
      "cell_type": "code",
      "metadata": {
        "id": "6c907aKdtgY9"
      },
      "source": [
        ""
      ],
      "execution_count": null,
      "outputs": []
    },
    {
      "cell_type": "code",
      "metadata": {
        "colab": {
          "base_uri": "https://localhost:8080/",
          "height": 80
        },
        "id": "oi6YL6gcvg7D",
        "outputId": "babcd815-425b-4e0a-9f9b-3384cd827ac3"
      },
      "source": [
        "from causalgraphicalmodels import CausalGraphicalModel\n",
        "\n",
        "path = CausalGraphicalModel(\n",
        "    nodes = [\"x1\", \"x2\", \"x3\"],\n",
        "    edges = []\n",
        ")\n",
        "\n",
        "path.draw()"
      ],
      "execution_count": 72,
      "outputs": [
        {
          "output_type": "execute_result",
          "data": {
            "text/plain": [
              "<graphviz.dot.Digraph at 0x7fd59e608410>"
            ],
            "image/svg+xml": "<?xml version=\"1.0\" encoding=\"UTF-8\" standalone=\"no\"?>\n<!DOCTYPE svg PUBLIC \"-//W3C//DTD SVG 1.1//EN\"\n \"http://www.w3.org/Graphics/SVG/1.1/DTD/svg11.dtd\">\n<!-- Generated by graphviz version 2.40.1 (20161225.0304)\n -->\n<!-- Title: %3 Pages: 1 -->\n<svg width=\"206pt\" height=\"44pt\"\n viewBox=\"0.00 0.00 206.00 44.00\" xmlns=\"http://www.w3.org/2000/svg\" xmlns:xlink=\"http://www.w3.org/1999/xlink\">\n<g id=\"graph0\" class=\"graph\" transform=\"scale(1 1) rotate(0) translate(4 40)\">\n<title>%3</title>\n<polygon fill=\"#ffffff\" stroke=\"transparent\" points=\"-4,4 -4,-40 202,-40 202,4 -4,4\"/>\n<!-- x3 -->\n<g id=\"node1\" class=\"node\">\n<title>x3</title>\n<ellipse fill=\"none\" stroke=\"#000000\" cx=\"27\" cy=\"-18\" rx=\"27\" ry=\"18\"/>\n<text text-anchor=\"middle\" x=\"27\" y=\"-14.3\" font-family=\"Times,serif\" font-size=\"14.00\" fill=\"#000000\">x3</text>\n</g>\n<!-- x1 -->\n<g id=\"node2\" class=\"node\">\n<title>x1</title>\n<ellipse fill=\"none\" stroke=\"#000000\" cx=\"99\" cy=\"-18\" rx=\"27\" ry=\"18\"/>\n<text text-anchor=\"middle\" x=\"99\" y=\"-14.3\" font-family=\"Times,serif\" font-size=\"14.00\" fill=\"#000000\">x1</text>\n</g>\n<!-- x2 -->\n<g id=\"node3\" class=\"node\">\n<title>x2</title>\n<ellipse fill=\"none\" stroke=\"#000000\" cx=\"171\" cy=\"-18\" rx=\"27\" ry=\"18\"/>\n<text text-anchor=\"middle\" x=\"171\" y=\"-14.3\" font-family=\"Times,serif\" font-size=\"14.00\" fill=\"#000000\">x2</text>\n</g>\n</g>\n</svg>\n"
          },
          "metadata": {},
          "execution_count": 72
        }
      ]
    },
    {
      "cell_type": "code",
      "metadata": {
        "colab": {
          "base_uri": "https://localhost:8080/",
          "height": 204
        },
        "id": "q34tqBFd92Mj",
        "outputId": "3debbc5c-1266-49d0-912a-7b558522269a"
      },
      "source": [
        "generate_do(5, x2=2)"
      ],
      "execution_count": 94,
      "outputs": [
        {
          "output_type": "execute_result",
          "data": {
            "text/html": [
              "<div>\n",
              "<style scoped>\n",
              "    .dataframe tbody tr th:only-of-type {\n",
              "        vertical-align: middle;\n",
              "    }\n",
              "\n",
              "    .dataframe tbody tr th {\n",
              "        vertical-align: top;\n",
              "    }\n",
              "\n",
              "    .dataframe thead th {\n",
              "        text-align: right;\n",
              "    }\n",
              "</style>\n",
              "<table border=\"1\" class=\"dataframe\">\n",
              "  <thead>\n",
              "    <tr style=\"text-align: right;\">\n",
              "      <th></th>\n",
              "      <th>x1</th>\n",
              "      <th>x2</th>\n",
              "      <th>x3</th>\n",
              "    </tr>\n",
              "  </thead>\n",
              "  <tbody>\n",
              "    <tr>\n",
              "      <th>0</th>\n",
              "      <td>3.404614</td>\n",
              "      <td>2</td>\n",
              "      <td>-4.390021</td>\n",
              "    </tr>\n",
              "    <tr>\n",
              "      <th>1</th>\n",
              "      <td>2.465044</td>\n",
              "      <td>2</td>\n",
              "      <td>-4.384966</td>\n",
              "    </tr>\n",
              "    <tr>\n",
              "      <th>2</th>\n",
              "      <td>2.384362</td>\n",
              "      <td>2</td>\n",
              "      <td>-3.990816</td>\n",
              "    </tr>\n",
              "    <tr>\n",
              "      <th>3</th>\n",
              "      <td>2.918634</td>\n",
              "      <td>2</td>\n",
              "      <td>-3.773429</td>\n",
              "    </tr>\n",
              "    <tr>\n",
              "      <th>4</th>\n",
              "      <td>3.731850</td>\n",
              "      <td>2</td>\n",
              "      <td>-3.844505</td>\n",
              "    </tr>\n",
              "  </tbody>\n",
              "</table>\n",
              "</div>"
            ],
            "text/plain": [
              "         x1  x2        x3\n",
              "0  3.404614   2 -4.390021\n",
              "1  2.465044   2 -4.384966\n",
              "2  2.384362   2 -3.990816\n",
              "3  2.918634   2 -3.773429\n",
              "4  3.731850   2 -3.844505"
            ]
          },
          "metadata": {},
          "execution_count": 94
        }
      ]
    },
    {
      "cell_type": "code",
      "metadata": {
        "colab": {
          "base_uri": "https://localhost:8080/",
          "height": 811
        },
        "id": "4PCOsN_8HW3a",
        "outputId": "e0790979-9982-478e-d85b-7a7fedfef32d"
      },
      "source": [
        "df = generate_do(400)\n",
        "\n",
        "\n",
        "plt.scatter(df['x1'], df['x2'])\n",
        "plt.xlabel('x1')\n",
        "plt.ylabel('x2')\n",
        "plt.show()\n",
        "\n",
        "plt.scatter(df['x1'], df['x3'])\n",
        "plt.xlabel('x1')\n",
        "plt.ylabel('x3')\n",
        "plt.show()\n",
        "\n",
        "plt.scatter(df['x2'], df['x3'])\n",
        "plt.xlabel('x2')\n",
        "plt.ylabel('x3')\n",
        "plt.show()"
      ],
      "execution_count": 73,
      "outputs": [
        {
          "output_type": "display_data",
          "data": {
            "image/png": "[encoded data removed]",
            "text/plain": [
              "<Figure size 432x288 with 1 Axes>"
            ]
          },
          "metadata": {
            "needs_background": "light"
          }
        },
        {
          "output_type": "display_data",
          "data": {
            "image/png": "[encoded data removed]",
            "text/plain": [
              "<Figure size 432x288 with 1 Axes>"
            ]
          },
          "metadata": {
            "needs_background": "light"
          }
        },
        {
          "output_type": "display_data",
          "data": {
            "image/png": "[encoded data removed]",
            "text/plain": [
              "<Figure size 432x288 with 1 Axes>"
            ]
          },
          "metadata": {
            "needs_background": "light"
          }
        }
      ]
    },
    {
      "cell_type": "code",
      "metadata": {
        "colab": {
          "base_uri": "https://localhost:8080/",
          "height": 272
        },
        "id": "Kg_-UaXDG6Ko",
        "outputId": "88a174ef-a73c-468a-b77a-714932e91623"
      },
      "source": [
        "path = CausalGraphicalModel(\n",
        "    nodes = [\"x1\", \"x2\", \"x3\"],\n",
        "    edges = [(\"x1\", \"x2\"), (\"x2\", \"x3\")]\n",
        ")\n",
        "\n",
        "path.draw()"
      ],
      "execution_count": 74,
      "outputs": [
        {
          "output_type": "execute_result",
          "data": {
            "text/plain": [
              "<graphviz.dot.Digraph at 0x7fd59dc7c0d0>"
            ],
            "image/svg+xml": "<?xml version=\"1.0\" encoding=\"UTF-8\" standalone=\"no\"?>\n<!DOCTYPE svg PUBLIC \"-//W3C//DTD SVG 1.1//EN\"\n \"http://www.w3.org/Graphics/SVG/1.1/DTD/svg11.dtd\">\n<!-- Generated by graphviz version 2.40.1 (20161225.0304)\n -->\n<!-- Title: %3 Pages: 1 -->\n<svg width=\"62pt\" height=\"188pt\"\n viewBox=\"0.00 0.00 62.00 188.00\" xmlns=\"http://www.w3.org/2000/svg\" xmlns:xlink=\"http://www.w3.org/1999/xlink\">\n<g id=\"graph0\" class=\"graph\" transform=\"scale(1 1) rotate(0) translate(4 184)\">\n<title>%3</title>\n<polygon fill=\"#ffffff\" stroke=\"transparent\" points=\"-4,4 -4,-184 58,-184 58,4 -4,4\"/>\n<!-- x3 -->\n<g id=\"node1\" class=\"node\">\n<title>x3</title>\n<ellipse fill=\"none\" stroke=\"#000000\" cx=\"27\" cy=\"-18\" rx=\"27\" ry=\"18\"/>\n<text text-anchor=\"middle\" x=\"27\" y=\"-14.3\" font-family=\"Times,serif\" font-size=\"14.00\" fill=\"#000000\">x3</text>\n</g>\n<!-- x1 -->\n<g id=\"node2\" class=\"node\">\n<title>x1</title>\n<ellipse fill=\"none\" stroke=\"#000000\" cx=\"27\" cy=\"-162\" rx=\"27\" ry=\"18\"/>\n<text text-anchor=\"middle\" x=\"27\" y=\"-158.3\" font-family=\"Times,serif\" font-size=\"14.00\" fill=\"#000000\">x1</text>\n</g>\n<!-- x2 -->\n<g id=\"node3\" class=\"node\">\n<title>x2</title>\n<ellipse fill=\"none\" stroke=\"#000000\" cx=\"27\" cy=\"-90\" rx=\"27\" ry=\"18\"/>\n<text text-anchor=\"middle\" x=\"27\" y=\"-86.3\" font-family=\"Times,serif\" font-size=\"14.00\" fill=\"#000000\">x2</text>\n</g>\n<!-- x1&#45;&gt;x2 -->\n<g id=\"edge1\" class=\"edge\">\n<title>x1&#45;&gt;x2</title>\n<path fill=\"none\" stroke=\"#000000\" d=\"M27,-143.8314C27,-136.131 27,-126.9743 27,-118.4166\"/>\n<polygon fill=\"#000000\" stroke=\"#000000\" points=\"30.5001,-118.4132 27,-108.4133 23.5001,-118.4133 30.5001,-118.4132\"/>\n</g>\n<!-- x2&#45;&gt;x3 -->\n<g id=\"edge2\" class=\"edge\">\n<title>x2&#45;&gt;x3</title>\n<path fill=\"none\" stroke=\"#000000\" d=\"M27,-71.8314C27,-64.131 27,-54.9743 27,-46.4166\"/>\n<polygon fill=\"#000000\" stroke=\"#000000\" points=\"30.5001,-46.4132 27,-36.4133 23.5001,-46.4133 30.5001,-46.4132\"/>\n</g>\n</g>\n</svg>\n"
          },
          "metadata": {},
          "execution_count": 74
        }
      ]
    },
    {
      "cell_type": "code",
      "metadata": {
        "colab": {
          "base_uri": "https://localhost:8080/",
          "height": 176
        },
        "id": "dZaM8buMHLvN",
        "outputId": "16451de3-18c5-4bb9-af8b-b9b562f8f963"
      },
      "source": [
        "path = CausalGraphicalModel(\n",
        "    nodes = [\"x1\", \"x2\", \"x3\"],\n",
        "    edges = [(\"x1\", \"x2\"), (\"x3\", \"x2\")]\n",
        ")\n",
        "\n",
        "path.draw()"
      ],
      "execution_count": 75,
      "outputs": [
        {
          "output_type": "execute_result",
          "data": {
            "text/plain": [
              "<graphviz.dot.Digraph at 0x7fd59dc749d0>"
            ],
            "image/svg+xml": "<?xml version=\"1.0\" encoding=\"UTF-8\" standalone=\"no\"?>\n<!DOCTYPE svg PUBLIC \"-//W3C//DTD SVG 1.1//EN\"\n \"http://www.w3.org/Graphics/SVG/1.1/DTD/svg11.dtd\">\n<!-- Generated by graphviz version 2.40.1 (20161225.0304)\n -->\n<!-- Title: %3 Pages: 1 -->\n<svg width=\"134pt\" height=\"116pt\"\n viewBox=\"0.00 0.00 134.00 116.00\" xmlns=\"http://www.w3.org/2000/svg\" xmlns:xlink=\"http://www.w3.org/1999/xlink\">\n<g id=\"graph0\" class=\"graph\" transform=\"scale(1 1) rotate(0) translate(4 112)\">\n<title>%3</title>\n<polygon fill=\"#ffffff\" stroke=\"transparent\" points=\"-4,4 -4,-112 130,-112 130,4 -4,4\"/>\n<!-- x3 -->\n<g id=\"node1\" class=\"node\">\n<title>x3</title>\n<ellipse fill=\"none\" stroke=\"#000000\" cx=\"27\" cy=\"-90\" rx=\"27\" ry=\"18\"/>\n<text text-anchor=\"middle\" x=\"27\" y=\"-86.3\" font-family=\"Times,serif\" font-size=\"14.00\" fill=\"#000000\">x3</text>\n</g>\n<!-- x2 -->\n<g id=\"node3\" class=\"node\">\n<title>x2</title>\n<ellipse fill=\"none\" stroke=\"#000000\" cx=\"63\" cy=\"-18\" rx=\"27\" ry=\"18\"/>\n<text text-anchor=\"middle\" x=\"63\" y=\"-14.3\" font-family=\"Times,serif\" font-size=\"14.00\" fill=\"#000000\">x2</text>\n</g>\n<!-- x3&#45;&gt;x2 -->\n<g id=\"edge2\" class=\"edge\">\n<title>x3&#45;&gt;x2</title>\n<path fill=\"none\" stroke=\"#000000\" d=\"M35.7146,-72.5708C39.9597,-64.0807 45.1536,-53.6929 49.8663,-44.2674\"/>\n<polygon fill=\"#000000\" stroke=\"#000000\" points=\"53.024,-45.7782 54.3657,-35.2687 46.763,-42.6477 53.024,-45.7782\"/>\n</g>\n<!-- x1 -->\n<g id=\"node2\" class=\"node\">\n<title>x1</title>\n<ellipse fill=\"none\" stroke=\"#000000\" cx=\"99\" cy=\"-90\" rx=\"27\" ry=\"18\"/>\n<text text-anchor=\"middle\" x=\"99\" y=\"-86.3\" font-family=\"Times,serif\" font-size=\"14.00\" fill=\"#000000\">x1</text>\n</g>\n<!-- x1&#45;&gt;x2 -->\n<g id=\"edge1\" class=\"edge\">\n<title>x1&#45;&gt;x2</title>\n<path fill=\"none\" stroke=\"#000000\" d=\"M90.2854,-72.5708C86.0403,-64.0807 80.8464,-53.6929 76.1337,-44.2674\"/>\n<polygon fill=\"#000000\" stroke=\"#000000\" points=\"79.237,-42.6477 71.6343,-35.2687 72.976,-45.7782 79.237,-42.6477\"/>\n</g>\n</g>\n</svg>\n"
          },
          "metadata": {},
          "execution_count": 75
        }
      ]
    },
    {
      "cell_type": "code",
      "metadata": {
        "colab": {
          "base_uri": "https://localhost:8080/",
          "height": 176
        },
        "id": "88JybhZJHMuV",
        "outputId": "0323164f-420c-40b5-a806-abf0ec519a5e"
      },
      "source": [
        "\n",
        "path = CausalGraphicalModel(\n",
        "    nodes = [\"x1\", \"x2\", \"x3\"],\n",
        "    edges = [(\"x1\", \"x2\"), (\"x1\", \"x3\")]\n",
        ")\n",
        "\n",
        "path.draw()"
      ],
      "execution_count": 76,
      "outputs": [
        {
          "output_type": "execute_result",
          "data": {
            "text/plain": [
              "<graphviz.dot.Digraph at 0x7fd59dc7c150>"
            ],
            "image/svg+xml": "<?xml version=\"1.0\" encoding=\"UTF-8\" standalone=\"no\"?>\n<!DOCTYPE svg PUBLIC \"-//W3C//DTD SVG 1.1//EN\"\n \"http://www.w3.org/Graphics/SVG/1.1/DTD/svg11.dtd\">\n<!-- Generated by graphviz version 2.40.1 (20161225.0304)\n -->\n<!-- Title: %3 Pages: 1 -->\n<svg width=\"134pt\" height=\"116pt\"\n viewBox=\"0.00 0.00 134.00 116.00\" xmlns=\"http://www.w3.org/2000/svg\" xmlns:xlink=\"http://www.w3.org/1999/xlink\">\n<g id=\"graph0\" class=\"graph\" transform=\"scale(1 1) rotate(0) translate(4 112)\">\n<title>%3</title>\n<polygon fill=\"#ffffff\" stroke=\"transparent\" points=\"-4,4 -4,-112 130,-112 130,4 -4,4\"/>\n<!-- x3 -->\n<g id=\"node1\" class=\"node\">\n<title>x3</title>\n<ellipse fill=\"none\" stroke=\"#000000\" cx=\"27\" cy=\"-18\" rx=\"27\" ry=\"18\"/>\n<text text-anchor=\"middle\" x=\"27\" y=\"-14.3\" font-family=\"Times,serif\" font-size=\"14.00\" fill=\"#000000\">x3</text>\n</g>\n<!-- x1 -->\n<g id=\"node2\" class=\"node\">\n<title>x1</title>\n<ellipse fill=\"none\" stroke=\"#000000\" cx=\"63\" cy=\"-90\" rx=\"27\" ry=\"18\"/>\n<text text-anchor=\"middle\" x=\"63\" y=\"-86.3\" font-family=\"Times,serif\" font-size=\"14.00\" fill=\"#000000\">x1</text>\n</g>\n<!-- x1&#45;&gt;x3 -->\n<g id=\"edge2\" class=\"edge\">\n<title>x1&#45;&gt;x3</title>\n<path fill=\"none\" stroke=\"#000000\" d=\"M54.2854,-72.5708C50.0403,-64.0807 44.8464,-53.6929 40.1337,-44.2674\"/>\n<polygon fill=\"#000000\" stroke=\"#000000\" points=\"43.237,-42.6477 35.6343,-35.2687 36.976,-45.7782 43.237,-42.6477\"/>\n</g>\n<!-- x2 -->\n<g id=\"node3\" class=\"node\">\n<title>x2</title>\n<ellipse fill=\"none\" stroke=\"#000000\" cx=\"99\" cy=\"-18\" rx=\"27\" ry=\"18\"/>\n<text text-anchor=\"middle\" x=\"99\" y=\"-14.3\" font-family=\"Times,serif\" font-size=\"14.00\" fill=\"#000000\">x2</text>\n</g>\n<!-- x1&#45;&gt;x2 -->\n<g id=\"edge1\" class=\"edge\">\n<title>x1&#45;&gt;x2</title>\n<path fill=\"none\" stroke=\"#000000\" d=\"M71.7146,-72.5708C75.9597,-64.0807 81.1536,-53.6929 85.8663,-44.2674\"/>\n<polygon fill=\"#000000\" stroke=\"#000000\" points=\"89.024,-45.7782 90.3657,-35.2687 82.763,-42.6477 89.024,-45.7782\"/>\n</g>\n</g>\n</svg>\n"
          },
          "metadata": {},
          "execution_count": 76
        }
      ]
    },
    {
      "cell_type": "code",
      "metadata": {
        "colab": {
          "base_uri": "https://localhost:8080/",
          "height": 851
        },
        "id": "Rt03YWDvwYIA",
        "outputId": "0b38f6f6-a047-447b-d3ec-7997484c2d0e"
      },
      "source": [
        "df = generate_do(400)\n",
        "\n",
        "plt.scatter(df['x1'], df['x2'])\n",
        "plt.xlabel('x1')\n",
        "plt.ylabel('x2')\n",
        "plt.title(\"no interventions\")\n",
        "plt.show()\n",
        "\n",
        "\n",
        "df = generate_do(400, x3=2)\n",
        "\n",
        "plt.scatter(df['x1'], df['x2'])\n",
        "plt.xlabel('x1')\n",
        "plt.ylabel('x2')\n",
        "plt.title(\"do(x3=2)\")\n",
        "plt.show()\n",
        "\n",
        "df = generate_do(400, x3=-2)\n",
        "\n",
        "plt.scatter(df['x1'], df['x2'])\n",
        "plt.xlabel('x1')\n",
        "plt.ylabel('x2')\n",
        "plt.title(\"do(x3=-2)\")\n",
        "plt.show()"
      ],
      "execution_count": 77,
      "outputs": [
        {
          "output_type": "display_data",
          "data": {
            "image/png": "[encoded data removed]",
            "text/plain": [
              "<Figure size 432x288 with 1 Axes>"
            ]
          },
          "metadata": {
            "needs_background": "light"
          }
        },
        {
          "output_type": "display_data",
          "data": {
            "image/png": "[encoded data removed]",
            "text/plain": [
              "<Figure size 432x288 with 1 Axes>"
            ]
          },
          "metadata": {
            "needs_background": "light"
          }
        },
        {
          "output_type": "display_data",
          "data": {
            "image/png": "[encoded data removed]",
            "text/plain": [
              "<Figure size 432x288 with 1 Axes>"
            ]
          },
          "metadata": {
            "needs_background": "light"
          }
        }
      ]
    },
    {
      "cell_type": "code",
      "metadata": {
        "id": "mwwGXJBdtgd9",
        "colab": {
          "base_uri": "https://localhost:8080/",
          "height": 279
        },
        "outputId": "b2dabe35-fdb4-4c63-9e0b-4166dd168ee3"
      },
      "source": [
        "df = generate_do(400)\n",
        "\n",
        "plt.hist(df['x1'], bins=15, label='no interventions')\n",
        "plt.xlabel('x1')\n",
        "\n",
        "df = generate_do(400, x2=1)\n",
        "\n",
        "plt.hist(df['x1'], bins=15, label='do(x2=1)')\n",
        "plt.xlabel('x1')\n",
        "\n",
        "plt.legend()\n",
        "plt.show()"
      ],
      "execution_count": 86,
      "outputs": [
        {
          "output_type": "display_data",
          "data": {
            "image/png": "[encoded data removed]",
            "text/plain": [
              "<Figure size 432x288 with 1 Axes>"
            ]
          },
          "metadata": {
            "needs_background": "light"
          }
        }
      ]
    },
    {
      "cell_type": "code",
      "metadata": {
        "colab": {
          "base_uri": "https://localhost:8080/",
          "height": 279
        },
        "id": "x0J_2immIj5-",
        "outputId": "4bb370c5-155c-41a6-fdc6-062ae4d7cc26"
      },
      "source": [
        "df = generate_do(400)\n",
        "\n",
        "plt.hist(df['x2'], bins=20, label='no interventions')\n",
        "plt.xlabel('x2')\n",
        "\n",
        "df = generate_do(400, x1=1)\n",
        "\n",
        "plt.hist(df['x2'], bins=20, label='do(x1=1)')\n",
        "plt.xlabel('x2')\n",
        "\n",
        "plt.legend()\n",
        "plt.show()"
      ],
      "execution_count": 88,
      "outputs": [
        {
          "output_type": "display_data",
          "data": {
            "image/png": "[encoded data removed]",
            "text/plain": [
              "<Figure size 432x288 with 1 Axes>"
            ]
          },
          "metadata": {
            "needs_background": "light"
          }
        }
      ]
    },
    {
      "cell_type": "code",
      "metadata": {
        "colab": {
          "base_uri": "https://localhost:8080/",
          "height": 176
        },
        "id": "8u-fODPFJFLU",
        "outputId": "d73fd9f5-8223-4ac0-fcce-972c08384636"
      },
      "source": [
        "path = CausalGraphicalModel(\n",
        "    nodes = [\"x1\", \"x2\", \"x3\"],\n",
        "    edges = [(\"x2\", \"x1\")]\n",
        ")\n",
        "\n",
        "path.draw()"
      ],
      "execution_count": 89,
      "outputs": [
        {
          "output_type": "execute_result",
          "data": {
            "text/plain": [
              "<graphviz.dot.Digraph at 0x7fd59da93090>"
            ],
            "image/svg+xml": "<?xml version=\"1.0\" encoding=\"UTF-8\" standalone=\"no\"?>\n<!DOCTYPE svg PUBLIC \"-//W3C//DTD SVG 1.1//EN\"\n \"http://www.w3.org/Graphics/SVG/1.1/DTD/svg11.dtd\">\n<!-- Generated by graphviz version 2.40.1 (20161225.0304)\n -->\n<!-- Title: %3 Pages: 1 -->\n<svg width=\"134pt\" height=\"116pt\"\n viewBox=\"0.00 0.00 134.00 116.00\" xmlns=\"http://www.w3.org/2000/svg\" xmlns:xlink=\"http://www.w3.org/1999/xlink\">\n<g id=\"graph0\" class=\"graph\" transform=\"scale(1 1) rotate(0) translate(4 112)\">\n<title>%3</title>\n<polygon fill=\"#ffffff\" stroke=\"transparent\" points=\"-4,4 -4,-112 130,-112 130,4 -4,4\"/>\n<!-- x3 -->\n<g id=\"node1\" class=\"node\">\n<title>x3</title>\n<ellipse fill=\"none\" stroke=\"#000000\" cx=\"27\" cy=\"-90\" rx=\"27\" ry=\"18\"/>\n<text text-anchor=\"middle\" x=\"27\" y=\"-86.3\" font-family=\"Times,serif\" font-size=\"14.00\" fill=\"#000000\">x3</text>\n</g>\n<!-- x1 -->\n<g id=\"node2\" class=\"node\">\n<title>x1</title>\n<ellipse fill=\"none\" stroke=\"#000000\" cx=\"99\" cy=\"-18\" rx=\"27\" ry=\"18\"/>\n<text text-anchor=\"middle\" x=\"99\" y=\"-14.3\" font-family=\"Times,serif\" font-size=\"14.00\" fill=\"#000000\">x1</text>\n</g>\n<!-- x2 -->\n<g id=\"node3\" class=\"node\">\n<title>x2</title>\n<ellipse fill=\"none\" stroke=\"#000000\" cx=\"99\" cy=\"-90\" rx=\"27\" ry=\"18\"/>\n<text text-anchor=\"middle\" x=\"99\" y=\"-86.3\" font-family=\"Times,serif\" font-size=\"14.00\" fill=\"#000000\">x2</text>\n</g>\n<!-- x2&#45;&gt;x1 -->\n<g id=\"edge1\" class=\"edge\">\n<title>x2&#45;&gt;x1</title>\n<path fill=\"none\" stroke=\"#000000\" d=\"M99,-71.8314C99,-64.131 99,-54.9743 99,-46.4166\"/>\n<polygon fill=\"#000000\" stroke=\"#000000\" points=\"102.5001,-46.4132 99,-36.4133 95.5001,-46.4133 102.5001,-46.4132\"/>\n</g>\n</g>\n</svg>\n"
          },
          "metadata": {},
          "execution_count": 89
        }
      ]
    },
    {
      "cell_type": "code",
      "metadata": {
        "id": "N8Ki9Z3sVOIe",
        "colab": {
          "base_uri": "https://localhost:8080/",
          "height": 279
        },
        "outputId": "649b156b-1dba-445c-dd7f-3a85c7f4ab3e"
      },
      "source": [
        "df = generate_do(400)\n",
        "\n",
        "plt.hist(df['x3'], bins=15, label='no interventions')\n",
        "plt.xlabel('x3')\n",
        "\n",
        "df = generate_do(400, x1=1)\n",
        "\n",
        "plt.hist(df['x3'], bins=15, label='do(x1=1)')\n",
        "plt.xlabel('x3')\n",
        "\n",
        "plt.legend()\n",
        "plt.show()"
      ],
      "execution_count": 90,
      "outputs": [
        {
          "output_type": "display_data",
          "data": {
            "image/png": "[encoded data removed]",
            "text/plain": [
              "<Figure size 432x288 with 1 Axes>"
            ]
          },
          "metadata": {
            "needs_background": "light"
          }
        }
      ]
    },
    {
      "cell_type": "code",
      "metadata": {
        "id": "3h5CZGvHVOLN",
        "colab": {
          "base_uri": "https://localhost:8080/",
          "height": 282
        },
        "outputId": "1fdc52cb-4a02-468e-b23a-e2a44a8e17f3"
      },
      "source": [
        "df = generate_do(400)\n",
        "\n",
        "plt.hist(df['x3'], bins=15, label='no interventions')\n",
        "plt.xlabel('x3')\n",
        "\n",
        "df = generate_do(400, x2=1)\n",
        "\n",
        "plt.hist(df['x3'], bins=15, label='do(x2=1)')\n",
        "plt.xlabel('x3')\n",
        "\n",
        "plt.legend()\n",
        "plt.show()"
      ],
      "execution_count": 91,
      "outputs": [
        {
          "output_type": "display_data",
          "data": {
            "image/png": "[encoded data removed]",
            "text/plain": [
              "<Figure size 432x288 with 1 Axes>"
            ]
          },
          "metadata": {
            "needs_background": "light"
          }
        }
      ]
    },
    {
      "cell_type": "code",
      "metadata": {
        "colab": {
          "base_uri": "https://localhost:8080/",
          "height": 176
        },
        "id": "uZAQPjW7J3ei",
        "outputId": "8afa9b8e-cec2-4c92-a21b-8f21fdd3969a"
      },
      "source": [
        "path = CausalGraphicalModel(\n",
        "    nodes = [\"x1\", \"x2\", \"x3\"],\n",
        "    edges = [(\"x2\", \"x1\"), (\"x2\", \"x3\")]\n",
        ")\n",
        "\n",
        "path.draw()"
      ],
      "execution_count": 92,
      "outputs": [
        {
          "output_type": "execute_result",
          "data": {
            "text/plain": [
              "<graphviz.dot.Digraph at 0x7fd59d832fd0>"
            ],
            "image/svg+xml": "<?xml version=\"1.0\" encoding=\"UTF-8\" standalone=\"no\"?>\n<!DOCTYPE svg PUBLIC \"-//W3C//DTD SVG 1.1//EN\"\n \"http://www.w3.org/Graphics/SVG/1.1/DTD/svg11.dtd\">\n<!-- Generated by graphviz version 2.40.1 (20161225.0304)\n -->\n<!-- Title: %3 Pages: 1 -->\n<svg width=\"134pt\" height=\"116pt\"\n viewBox=\"0.00 0.00 134.00 116.00\" xmlns=\"http://www.w3.org/2000/svg\" xmlns:xlink=\"http://www.w3.org/1999/xlink\">\n<g id=\"graph0\" class=\"graph\" transform=\"scale(1 1) rotate(0) translate(4 112)\">\n<title>%3</title>\n<polygon fill=\"#ffffff\" stroke=\"transparent\" points=\"-4,4 -4,-112 130,-112 130,4 -4,4\"/>\n<!-- x3 -->\n<g id=\"node1\" class=\"node\">\n<title>x3</title>\n<ellipse fill=\"none\" stroke=\"#000000\" cx=\"27\" cy=\"-18\" rx=\"27\" ry=\"18\"/>\n<text text-anchor=\"middle\" x=\"27\" y=\"-14.3\" font-family=\"Times,serif\" font-size=\"14.00\" fill=\"#000000\">x3</text>\n</g>\n<!-- x1 -->\n<g id=\"node2\" class=\"node\">\n<title>x1</title>\n<ellipse fill=\"none\" stroke=\"#000000\" cx=\"99\" cy=\"-18\" rx=\"27\" ry=\"18\"/>\n<text text-anchor=\"middle\" x=\"99\" y=\"-14.3\" font-family=\"Times,serif\" font-size=\"14.00\" fill=\"#000000\">x1</text>\n</g>\n<!-- x2 -->\n<g id=\"node3\" class=\"node\">\n<title>x2</title>\n<ellipse fill=\"none\" stroke=\"#000000\" cx=\"63\" cy=\"-90\" rx=\"27\" ry=\"18\"/>\n<text text-anchor=\"middle\" x=\"63\" y=\"-86.3\" font-family=\"Times,serif\" font-size=\"14.00\" fill=\"#000000\">x2</text>\n</g>\n<!-- x2&#45;&gt;x3 -->\n<g id=\"edge2\" class=\"edge\">\n<title>x2&#45;&gt;x3</title>\n<path fill=\"none\" stroke=\"#000000\" d=\"M54.2854,-72.5708C50.0403,-64.0807 44.8464,-53.6929 40.1337,-44.2674\"/>\n<polygon fill=\"#000000\" stroke=\"#000000\" points=\"43.237,-42.6477 35.6343,-35.2687 36.976,-45.7782 43.237,-42.6477\"/>\n</g>\n<!-- x2&#45;&gt;x1 -->\n<g id=\"edge1\" class=\"edge\">\n<title>x2&#45;&gt;x1</title>\n<path fill=\"none\" stroke=\"#000000\" d=\"M71.7146,-72.5708C75.9597,-64.0807 81.1536,-53.6929 85.8663,-44.2674\"/>\n<polygon fill=\"#000000\" stroke=\"#000000\" points=\"89.024,-45.7782 90.3657,-35.2687 82.763,-42.6477 89.024,-45.7782\"/>\n</g>\n</g>\n</svg>\n"
          },
          "metadata": {},
          "execution_count": 92
        }
      ]
    },
    {
      "cell_type": "code",
      "metadata": {
        "id": "9HrQZ3Fm8G5f"
      },
      "source": [
        ""
      ],
      "execution_count": null,
      "outputs": []
    },
    {
      "cell_type": "code",
      "metadata": {
        "id": "p-IBrqYl8HAj"
      },
      "source": [
        ""
      ],
      "execution_count": null,
      "outputs": []
    },
    {
      "cell_type": "code",
      "metadata": {
        "colab": {
          "base_uri": "https://localhost:8080/",
          "height": 419
        },
        "id": "byz6I9oi8HEF",
        "outputId": "3d0cbc00-9790-4909-d540-3b466abbdd91"
      },
      "source": [
        "df = generate(size=5000, env=1)\n",
        "\n",
        "df"
      ],
      "execution_count": 63,
      "outputs": [
        {
          "output_type": "execute_result",
          "data": {
            "text/html": [
              "<div>\n",
              "<style scoped>\n",
              "    .dataframe tbody tr th:only-of-type {\n",
              "        vertical-align: middle;\n",
              "    }\n",
              "\n",
              "    .dataframe tbody tr th {\n",
              "        vertical-align: top;\n",
              "    }\n",
              "\n",
              "    .dataframe thead th {\n",
              "        text-align: right;\n",
              "    }\n",
              "</style>\n",
              "<table border=\"1\" class=\"dataframe\">\n",
              "  <thead>\n",
              "    <tr style=\"text-align: right;\">\n",
              "      <th></th>\n",
              "      <th>x1</th>\n",
              "      <th>x2</th>\n",
              "      <th>y</th>\n",
              "    </tr>\n",
              "  </thead>\n",
              "  <tbody>\n",
              "    <tr>\n",
              "      <th>0</th>\n",
              "      <td>0.052280</td>\n",
              "      <td>1.336258</td>\n",
              "      <td>0.880286</td>\n",
              "    </tr>\n",
              "    <tr>\n",
              "      <th>1</th>\n",
              "      <td>1.997987</td>\n",
              "      <td>5.652169</td>\n",
              "      <td>4.002280</td>\n",
              "    </tr>\n",
              "    <tr>\n",
              "      <th>2</th>\n",
              "      <td>0.986004</td>\n",
              "      <td>3.239293</td>\n",
              "      <td>1.625481</td>\n",
              "    </tr>\n",
              "    <tr>\n",
              "      <th>3</th>\n",
              "      <td>1.642314</td>\n",
              "      <td>3.929784</td>\n",
              "      <td>3.361534</td>\n",
              "    </tr>\n",
              "    <tr>\n",
              "      <th>4</th>\n",
              "      <td>0.341953</td>\n",
              "      <td>3.386048</td>\n",
              "      <td>1.364928</td>\n",
              "    </tr>\n",
              "    <tr>\n",
              "      <th>...</th>\n",
              "      <td>...</td>\n",
              "      <td>...</td>\n",
              "      <td>...</td>\n",
              "    </tr>\n",
              "    <tr>\n",
              "      <th>4995</th>\n",
              "      <td>1.049001</td>\n",
              "      <td>2.536351</td>\n",
              "      <td>2.174480</td>\n",
              "    </tr>\n",
              "    <tr>\n",
              "      <th>4996</th>\n",
              "      <td>-2.621531</td>\n",
              "      <td>-7.588075</td>\n",
              "      <td>-5.367224</td>\n",
              "    </tr>\n",
              "    <tr>\n",
              "      <th>4997</th>\n",
              "      <td>-0.444805</td>\n",
              "      <td>-1.388692</td>\n",
              "      <td>-1.042045</td>\n",
              "    </tr>\n",
              "    <tr>\n",
              "      <th>4998</th>\n",
              "      <td>-0.165220</td>\n",
              "      <td>0.226733</td>\n",
              "      <td>0.343659</td>\n",
              "    </tr>\n",
              "    <tr>\n",
              "      <th>4999</th>\n",
              "      <td>-1.574333</td>\n",
              "      <td>-5.221920</td>\n",
              "      <td>-2.907996</td>\n",
              "    </tr>\n",
              "  </tbody>\n",
              "</table>\n",
              "<p>5000 rows × 3 columns</p>\n",
              "</div>"
            ],
            "text/plain": [
              "            x1        x2         y\n",
              "0     0.052280  1.336258  0.880286\n",
              "1     1.997987  5.652169  4.002280\n",
              "2     0.986004  3.239293  1.625481\n",
              "3     1.642314  3.929784  3.361534\n",
              "4     0.341953  3.386048  1.364928\n",
              "...        ...       ...       ...\n",
              "4995  1.049001  2.536351  2.174480\n",
              "4996 -2.621531 -7.588075 -5.367224\n",
              "4997 -0.444805 -1.388692 -1.042045\n",
              "4998 -0.165220  0.226733  0.343659\n",
              "4999 -1.574333 -5.221920 -2.907996\n",
              "\n",
              "[5000 rows x 3 columns]"
            ]
          },
          "metadata": {},
          "execution_count": 63
        }
      ]
    },
    {
      "cell_type": "code",
      "metadata": {
        "id": "HZlsAe2vVONU",
        "colab": {
          "base_uri": "https://localhost:8080/",
          "height": 541
        },
        "outputId": "8fcc4d43-8457-4b56-be12-e85af6e7235e"
      },
      "source": [
        "plt.scatter(df['x1'], df['y'])\n",
        "plt.xlabel('x1')\n",
        "plt.ylabel('y')\n",
        "plt.show()\n",
        "\n",
        "plt.scatter(df['x2'], df['y'])\n",
        "plt.xlabel('x2')\n",
        "plt.ylabel('y')\n",
        "plt.show()"
      ],
      "execution_count": 64,
      "outputs": [
        {
          "output_type": "display_data",
          "data": {
            "image/png": "[encoded data removed]",
            "text/plain": [
              "<Figure size 432x288 with 1 Axes>"
            ]
          },
          "metadata": {
            "needs_background": "light"
          }
        },
        {
          "output_type": "display_data",
          "data": {
            "image/png": "[encoded data removed]",
            "text/plain": [
              "<Figure size 432x288 with 1 Axes>"
            ]
          },
          "metadata": {
            "needs_background": "light"
          }
        }
      ]
    },
    {
      "cell_type": "code",
      "metadata": {
        "id": "Z1BG9vTwVOPb"
      },
      "source": [
        "df_train = df[:4000]\n",
        "df_val = df[4000:]\n",
        "\n",
        "sub1 = ['x1']\n",
        "sub2 = ['x2']\n",
        "sub12 = ['x1', 'x2']\n",
        "\n",
        "subs = [sub1, sub2, sub12]"
      ],
      "execution_count": 65,
      "outputs": []
    },
    {
      "cell_type": "code",
      "metadata": {
        "colab": {
          "base_uri": "https://localhost:8080/"
        },
        "id": "evI8zep58TH7",
        "outputId": "ae687cfb-367d-489c-b994-fc8b4bccb6fa"
      },
      "source": [
        "models = []\n",
        "\n",
        "for sub in subs:\n",
        "    model = LinearRegression()\n",
        "    model.fit(df_train[sub], df_train['y'])\n",
        "    \n",
        "    pred_train = model.predict(df_train[sub])\n",
        "    pred_val = model.predict(df_val[sub])\n",
        "    print(*sub)\n",
        "    print(\"MSE train:\",  mean_squared_error(pred_train, df_train['y']),\n",
        "          \"val:\", mean_squared_error(pred_val, df_val['y']),)\n",
        "    models.append(model)"
      ],
      "execution_count": 66,
      "outputs": [
        {
          "output_type": "stream",
          "name": "stdout",
          "text": [
            "x1\n",
            "MSE train: 0.24673831174487265 val: 0.24819364295730822\n",
            "x2\n",
            "MSE train: 0.10854494905725551 val: 0.1115884795463119\n",
            "x1 x2\n",
            "MSE train: 0.078649057683806 val: 0.07811645967958782\n"
          ]
        }
      ]
    },
    {
      "cell_type": "code",
      "metadata": {
        "colab": {
          "base_uri": "https://localhost:8080/"
        },
        "id": "k1iAFaD98TLL",
        "outputId": "4be5f79d-8aa3-4810-925f-bd48e3c5c557"
      },
      "source": [
        "env = 1\n",
        "df_test = generate(2000, env)\n",
        "print(\"env =\", env)\n",
        "for i in range(len(subs)):\n",
        "    model = models[i]\n",
        "\n",
        "    pred_test = model.predict(df_test[subs[i]])\n",
        "    print(*subs[i])\n",
        "    print(\"MSE test:\",  mean_squared_error(pred_test, df_test['y']))"
      ],
      "execution_count": 67,
      "outputs": [
        {
          "output_type": "stream",
          "name": "stdout",
          "text": [
            "env = 1\n",
            "x1\n",
            "MSE test: 0.2529503253509635\n",
            "x2\n",
            "MSE test: 0.10578588395631341\n",
            "x1 x2\n",
            "MSE test: 0.07499051260479558\n"
          ]
        }
      ]
    },
    {
      "cell_type": "code",
      "metadata": {
        "colab": {
          "base_uri": "https://localhost:8080/"
        },
        "id": "TRdjVrlA8TOA",
        "outputId": "2239fee7-e7db-4900-d3ed-a74ca7dadd20"
      },
      "source": [
        "env = 0.7\n",
        "df_test = generate(2000, env)\n",
        "print(\"env =\", env)\n",
        "for i in range(len(subs)):\n",
        "    model = models[i]\n",
        "\n",
        "    pred_test = model.predict(df_test[subs[i]])\n",
        "    print(*subs[i])\n",
        "    print(\"MSE test:\",  mean_squared_error(pred_test, df_test['y']))"
      ],
      "execution_count": 68,
      "outputs": [
        {
          "output_type": "stream",
          "name": "stdout",
          "text": [
            "env = 0.7\n",
            "x1\n",
            "MSE test: 0.25706554748606447\n",
            "x2\n",
            "MSE test: 0.699667472887704\n",
            "x1 x2\n",
            "MSE test: 0.40804029906882366\n"
          ]
        }
      ]
    },
    {
      "cell_type": "code",
      "metadata": {
        "colab": {
          "base_uri": "https://localhost:8080/",
          "height": 368
        },
        "id": "QrbCTjDR8TQi",
        "outputId": "20f167e8-93b5-4aeb-8471-dff47a4a0e9e"
      },
      "source": [
        "from causalgraphicalmodels import CausalGraphicalModel\n",
        "\n",
        "path = CausalGraphicalModel(\n",
        "    nodes = [\"env\", \"x1\", \"y\", \"x2\"],\n",
        "    edges = [(\"env\", \"x1\"), (\"env\", \"x2\"), (\"x1\", \"y\"), (\"y\", \"x2\")]\n",
        ")\n",
        "\n",
        "path.draw()"
      ],
      "execution_count": 69,
      "outputs": [
        {
          "output_type": "execute_result",
          "data": {
            "text/plain": [
              "<graphviz.dot.Digraph at 0x7fd59dfca950>"
            ],
            "image/svg+xml": "<?xml version=\"1.0\" encoding=\"UTF-8\" standalone=\"no\"?>\n<!DOCTYPE svg PUBLIC \"-//W3C//DTD SVG 1.1//EN\"\n \"http://www.w3.org/Graphics/SVG/1.1/DTD/svg11.dtd\">\n<!-- Generated by graphviz version 2.40.1 (20161225.0304)\n -->\n<!-- Title: %3 Pages: 1 -->\n<svg width=\"89pt\" height=\"260pt\"\n viewBox=\"0.00 0.00 89.00 260.00\" xmlns=\"http://www.w3.org/2000/svg\" xmlns:xlink=\"http://www.w3.org/1999/xlink\">\n<g id=\"graph0\" class=\"graph\" transform=\"scale(1 1) rotate(0) translate(4 256)\">\n<title>%3</title>\n<polygon fill=\"#ffffff\" stroke=\"transparent\" points=\"-4,4 -4,-256 85,-256 85,4 -4,4\"/>\n<!-- y -->\n<g id=\"node1\" class=\"node\">\n<title>y</title>\n<ellipse fill=\"none\" stroke=\"#000000\" cx=\"27\" cy=\"-90\" rx=\"27\" ry=\"18\"/>\n<text text-anchor=\"middle\" x=\"27\" y=\"-86.3\" font-family=\"Times,serif\" font-size=\"14.00\" fill=\"#000000\">y</text>\n</g>\n<!-- x2 -->\n<g id=\"node3\" class=\"node\">\n<title>x2</title>\n<ellipse fill=\"none\" stroke=\"#000000\" cx=\"54\" cy=\"-18\" rx=\"27\" ry=\"18\"/>\n<text text-anchor=\"middle\" x=\"54\" y=\"-14.3\" font-family=\"Times,serif\" font-size=\"14.00\" fill=\"#000000\">x2</text>\n</g>\n<!-- y&#45;&gt;x2 -->\n<g id=\"edge4\" class=\"edge\">\n<title>y&#45;&gt;x2</title>\n<path fill=\"none\" stroke=\"#000000\" d=\"M33.6742,-72.2022C36.7476,-64.0064 40.4616,-54.1024 43.8695,-45.0145\"/>\n<polygon fill=\"#000000\" stroke=\"#000000\" points=\"47.1685,-46.1853 47.4026,-35.593 40.6142,-43.7274 47.1685,-46.1853\"/>\n</g>\n<!-- x1 -->\n<g id=\"node2\" class=\"node\">\n<title>x1</title>\n<ellipse fill=\"none\" stroke=\"#000000\" cx=\"27\" cy=\"-162\" rx=\"27\" ry=\"18\"/>\n<text text-anchor=\"middle\" x=\"27\" y=\"-158.3\" font-family=\"Times,serif\" font-size=\"14.00\" fill=\"#000000\">x1</text>\n</g>\n<!-- x1&#45;&gt;y -->\n<g id=\"edge3\" class=\"edge\">\n<title>x1&#45;&gt;y</title>\n<path fill=\"none\" stroke=\"#000000\" d=\"M27,-143.8314C27,-136.131 27,-126.9743 27,-118.4166\"/>\n<polygon fill=\"#000000\" stroke=\"#000000\" points=\"30.5001,-118.4132 27,-108.4133 23.5001,-118.4133 30.5001,-118.4132\"/>\n</g>\n<!-- env -->\n<g id=\"node4\" class=\"node\">\n<title>env</title>\n<ellipse fill=\"none\" stroke=\"#000000\" cx=\"54\" cy=\"-234\" rx=\"27\" ry=\"18\"/>\n<text text-anchor=\"middle\" x=\"54\" y=\"-230.3\" font-family=\"Times,serif\" font-size=\"14.00\" fill=\"#000000\">env</text>\n</g>\n<!-- env&#45;&gt;x1 -->\n<g id=\"edge1\" class=\"edge\">\n<title>env&#45;&gt;x1</title>\n<path fill=\"none\" stroke=\"#000000\" d=\"M47.3258,-216.2022C44.2524,-208.0064 40.5384,-198.1024 37.1305,-189.0145\"/>\n<polygon fill=\"#000000\" stroke=\"#000000\" points=\"40.3858,-187.7274 33.5974,-179.593 33.8315,-190.1853 40.3858,-187.7274\"/>\n</g>\n<!-- env&#45;&gt;x2 -->\n<g id=\"edge2\" class=\"edge\">\n<title>env&#45;&gt;x2</title>\n<path fill=\"none\" stroke=\"#000000\" d=\"M57.7474,-216.0931C59.7466,-205.6241 61.9966,-192.1241 63,-180 66.9591,-132.1636 66.9591,-119.8364 63,-72 62.2945,-63.4753 60.9727,-54.2703 59.5551,-45.917\"/>\n<polygon fill=\"#000000\" stroke=\"#000000\" points=\"62.9689,-45.1258 57.7474,-35.9069 56.0803,-46.3698 62.9689,-45.1258\"/>\n</g>\n</g>\n</svg>\n"
          },
          "metadata": {},
          "execution_count": 69
        }
      ]
    },
    {
      "cell_type": "code",
      "metadata": {
        "id": "vpNKPdLo8TSz"
      },
      "source": [
        ""
      ],
      "execution_count": null,
      "outputs": []
    },
    {
      "cell_type": "code",
      "metadata": {
        "id": "F1Hqb3rO8TfM"
      },
      "source": [
        ""
      ],
      "execution_count": null,
      "outputs": []
    },
    {
      "cell_type": "code",
      "metadata": {
        "id": "CBeB-cofyQ4P"
      },
      "source": [
        ""
      ],
      "execution_count": null,
      "outputs": []
    },
    {
      "cell_type": "code",
      "metadata": {
        "id": "z-XR6g7SyO3q"
      },
      "source": [
        "import torch\n",
        "import torch.nn as nn\n",
        "import torch.nn.functional as F\n",
        "\n",
        "w, h = 10, 10\n",
        "\n",
        "class AE(nn.Module):\n",
        "    def __init__(self, hidden1=100, hidden2=100, code=6):\n",
        "        super().__init__()\n",
        "\n",
        "        self.enc1 = nn.Linear(h * w, hidden1)\n",
        "        self.enc2 = nn.Linear(hidden1, hidden2)\n",
        "        self.enc_code = nn.Linear(hidden2, code, bias=False)\n",
        "\n",
        "        self.dec1 = nn.Linear(code, hidden2, bias=False)\n",
        "        self.dec2 = nn.Linear(hidden2, hidden1)\n",
        "        self.dec3 = nn.Linear(hidden1, h * w)\n",
        "\n",
        "        self.act = torch.relu\n",
        "\n",
        "    def forward(self, x):\n",
        "        x = x.view(x.size(0), -1)\n",
        "        act = self.act(self.enc1(x))\n",
        "        act = self.act(self.enc2(act))\n",
        "\n",
        "        code = self.act(self.enc_code(act))\n",
        "\n",
        "        act = self.act(self.dec1(code))\n",
        "        act = self.act(self.dec2(act))\n",
        "        out = self.act(self.dec3(act))\n",
        "\n",
        "        return out.view(x.size(0), h, w)\n"
      ],
      "execution_count": 26,
      "outputs": []
    },
    {
      "cell_type": "code",
      "metadata": {
        "id": "tsveBP7HY2bX"
      },
      "source": [
        "from torch.utils.data import TensorDataset, DataLoader\n",
        "\n",
        "np.random.seed(0)\n",
        "\n",
        "cnt = 100\n",
        "\n",
        "data = np.zeros((cnt, w, h))\n",
        "\n",
        "for im in range(cnt):\n",
        "    fh, fw = 5, 5\n",
        "\n",
        "    posi = np.random.randint(0, h - fh + 1)\n",
        "    posj = np.random.randint(0, w - fw + 1)\n",
        "\n",
        "    data[im][posi:posi + fh, posj:posj + fw] = 1\n",
        "\n",
        "data += 0.03 * np.random.normal(size=data.shape)\n",
        "\n",
        "\n",
        "train_data = data[:cnt//9*10]\n",
        "test_data = data[cnt//9*10:]\n",
        "\n",
        "train_dataset = TensorDataset(torch.tensor(train_data).float()) \n",
        "train_loader = DataLoader(train_dataset, batch_size=32) \n",
        "\n",
        "test_dataset = TensorDataset(torch.tensor(test_data).float()) \n",
        "test_loader = DataLoader(test_dataset, batch_size=32) "
      ],
      "execution_count": 27,
      "outputs": []
    },
    {
      "cell_type": "code",
      "metadata": {
        "colab": {
          "base_uri": "https://localhost:8080/",
          "height": 265
        },
        "id": "S-DefIbFcWA2",
        "outputId": "1f18f3fb-5940-45ac-e2a7-a7c604c65681"
      },
      "source": [
        "import matplotlib.pyplot as plt\n",
        "\n",
        "plt.imshow(data[0], cmap='gray')\n",
        "plt.show()"
      ],
      "execution_count": 28,
      "outputs": [
        {
          "output_type": "display_data",
          "data": {
            "image/png": "[encoded data removed]",
            "text/plain": [
              "<Figure size 432x288 with 1 Axes>"
            ]
          },
          "metadata": {
            "needs_background": "light"
          }
        }
      ]
    },
    {
      "cell_type": "code",
      "metadata": {
        "id": "plWLQdvTY2rb"
      },
      "source": [
        "import torch.optim as optim\n",
        "import random\n",
        "\n",
        "seed = 3\n",
        "random.seed(seed)\n",
        "torch.manual_seed(seed)\n",
        "np.random.seed(seed)\n",
        "torch.cuda.manual_seed(seed)\n",
        "\n",
        "device = torch.device(\"cuda\" if torch.cuda.is_available() else \"cpu\")\n",
        "\n",
        "model = AE(code=2, hidden1=100, hidden2=100).to(device)\n",
        "\n",
        "optimizer = optim.Adam(model.parameters(), lr=1e-3)\n",
        "\n",
        "criterion = nn.MSELoss()\n",
        "\n",
        "epochs = 100"
      ],
      "execution_count": 29,
      "outputs": []
    },
    {
      "cell_type": "code",
      "metadata": {
        "colab": {
          "base_uri": "https://localhost:8080/"
        },
        "id": "SU1mrcmfY2vD",
        "outputId": "736feeea-9f6c-41fb-ca30-f01612a71a25"
      },
      "source": [
        "for epoch in range(epochs):\n",
        "    loss = 0\n",
        "    for batch in train_loader:\n",
        "        batch = batch[0].to(device)\n",
        "\n",
        "        optimizer.zero_grad()\n",
        "        \n",
        "        outputs = model(batch)\n",
        "        train_loss = criterion(outputs, batch)\n",
        "        train_loss.backward()\n",
        "\n",
        "        optimizer.step()\n",
        "        \n",
        "        loss += train_loss.item()\n",
        "    \n",
        "    loss = loss / len(train_loader)\n",
        "    if (epoch + 1) % 10 == 0:\n",
        "        print(\"epoch : {}/{}, loss = {:.6f}\".format(epoch + 1, epochs, loss))"
      ],
      "execution_count": 30,
      "outputs": [
        {
          "output_type": "stream",
          "name": "stdout",
          "text": [
            "epoch : 10/100, loss = 0.176844\n",
            "epoch : 20/100, loss = 0.134254\n",
            "epoch : 30/100, loss = 0.104045\n",
            "epoch : 40/100, loss = 0.092457\n",
            "epoch : 50/100, loss = 0.083364\n",
            "epoch : 60/100, loss = 0.075915\n",
            "epoch : 70/100, loss = 0.071274\n",
            "epoch : 80/100, loss = 0.070133\n",
            "epoch : 90/100, loss = 0.068383\n",
            "epoch : 100/100, loss = 0.065504\n"
          ]
        }
      ]
    },
    {
      "cell_type": "code",
      "metadata": {
        "id": "UteFMR0Dm-bk"
      },
      "source": [
        "def get_code(self, input, output):\n",
        "    print(output)\n",
        "\n",
        "model.enc_code.register_forward_hook(get_code)\n",
        "\n",
        "model = model.to('cpu')"
      ],
      "execution_count": 31,
      "outputs": []
    },
    {
      "cell_type": "code",
      "metadata": {
        "colab": {
          "base_uri": "https://localhost:8080/",
          "height": 530
        },
        "id": "U33cpwPLY2y_",
        "outputId": "5661d422-00c4-48b8-c29a-5fab955e195c"
      },
      "source": [
        "i = 2\n",
        "\n",
        "plt.imshow(train_data[i], cmap='gray')\n",
        "plt.show()\n",
        "\n",
        "x = torch.tensor(train_data[i:i+1]).float()\n",
        "plt.imshow(model(x)[0].detach().numpy(), cmap='gray')\n",
        "plt.show()"
      ],
      "execution_count": 32,
      "outputs": [
        {
          "output_type": "display_data",
          "data": {
            "image/png": "[encoded data removed]",
            "text/plain": [
              "<Figure size 432x288 with 1 Axes>"
            ]
          },
          "metadata": {
            "needs_background": "light"
          }
        },
        {
          "output_type": "stream",
          "name": "stdout",
          "text": [
            "tensor([[5.4866, 4.9387]], grad_fn=<MmBackward>)\n"
          ]
        },
        {
          "output_type": "display_data",
          "data": {
            "image/png": "[encoded data removed]",
            "text/plain": [
              "<Figure size 432x288 with 1 Axes>"
            ]
          },
          "metadata": {
            "needs_background": "light"
          }
        }
      ]
    },
    {
      "cell_type": "code",
      "metadata": {
        "colab": {
          "base_uri": "https://localhost:8080/",
          "height": 265
        },
        "id": "S949RGBxyHfZ",
        "outputId": "830ab232-4378-4f6f-bdf4-8973669b08ae"
      },
      "source": [
        "def decode(code, model):\n",
        "    act = model.act(model.dec1(code))\n",
        "    act = model.act(model.dec2(act))\n",
        "    out = model.act(model.dec3(act))\n",
        "\n",
        "    return out.view(x.size(0), h, w)\n",
        "\n",
        "code = torch.tensor([7, 2]).float()\n",
        "plt.imshow(decode(code, model)[0].detach().numpy(), cmap='gray')\n",
        "plt.show()"
      ],
      "execution_count": 50,
      "outputs": [
        {
          "output_type": "display_data",
          "data": {
            "image/png": "[encoded data removed]",
            "text/plain": [
              "<Figure size 432x288 with 1 Axes>"
            ]
          },
          "metadata": {
            "needs_background": "light"
          }
        }
      ]
    }
  ]
}