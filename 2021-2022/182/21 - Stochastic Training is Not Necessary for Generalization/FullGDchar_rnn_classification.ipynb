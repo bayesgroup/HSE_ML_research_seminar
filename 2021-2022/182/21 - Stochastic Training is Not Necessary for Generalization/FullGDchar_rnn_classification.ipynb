{
  "cells": [
    {
      "cell_type": "code",
      "execution_count": null,
      "metadata": {
        "colab": {
          "base_uri": "https://localhost:8080/"
        },
        "id": "tVui2h7gwxJK",
        "outputId": "d25fd186-0440-4eeb-f114-fcf1af1d273f"
      },
      "outputs": [
        {
          "name": "stdout",
          "output_type": "stream",
          "text": [
            "Requirement already satisfied: wandb in /home/hdilab01/anaconda3/lib/python3.8/site-packages (0.12.9)\n",
            "Requirement already satisfied: GitPython>=1.0.0 in /home/hdilab01/anaconda3/lib/python3.8/site-packages (from wandb) (3.1.26)\n",
            "Requirement already satisfied: docker-pycreds>=0.4.0 in /home/hdilab01/anaconda3/lib/python3.8/site-packages (from wandb) (0.4.0)\n",
            "Requirement already satisfied: python-dateutil>=2.6.1 in /home/hdilab01/anaconda3/lib/python3.8/site-packages (from wandb) (2.8.1)\n",
            "Requirement already satisfied: sentry-sdk>=1.0.0 in /home/hdilab01/anaconda3/lib/python3.8/site-packages (from wandb) (1.5.2)\n",
            "Requirement already satisfied: subprocess32>=3.5.3 in /home/hdilab01/anaconda3/lib/python3.8/site-packages (from wandb) (3.5.4)\n",
            "Requirement already satisfied: yaspin>=1.0.0 in /home/hdilab01/anaconda3/lib/python3.8/site-packages (from wandb) (2.1.0)\n",
            "Requirement already satisfied: promise<3,>=2.0 in /home/hdilab01/anaconda3/lib/python3.8/site-packages (from wandb) (2.3)\n",
            "Requirement already satisfied: configparser>=3.8.1 in /home/hdilab01/anaconda3/lib/python3.8/site-packages (from wandb) (5.2.0)\n",
            "Requirement already satisfied: shortuuid>=0.5.0 in /home/hdilab01/anaconda3/lib/python3.8/site-packages (from wandb) (1.0.8)\n",
            "Requirement already satisfied: psutil>=5.0.0 in /home/hdilab01/anaconda3/lib/python3.8/site-packages (from wandb) (5.7.2)\n",
            "Requirement already satisfied: requests<3,>=2.0.0 in /home/hdilab01/anaconda3/lib/python3.8/site-packages (from wandb) (2.24.0)\n",
            "Requirement already satisfied: pathtools in /home/hdilab01/anaconda3/lib/python3.8/site-packages (from wandb) (0.1.2)\n",
            "Requirement already satisfied: PyYAML in /home/hdilab01/anaconda3/lib/python3.8/site-packages (from wandb) (5.3.1)\n",
            "Requirement already satisfied: protobuf>=3.12.0 in /home/hdilab01/anaconda3/lib/python3.8/site-packages (from wandb) (3.19.3)\n",
            "Requirement already satisfied: six>=1.13.0 in /home/hdilab01/anaconda3/lib/python3.8/site-packages (from wandb) (1.15.0)\n",
            "Requirement already satisfied: Click!=8.0.0,>=7.0 in /home/hdilab01/anaconda3/lib/python3.8/site-packages (from wandb) (7.1.2)\n",
            "Requirement already satisfied: gitdb<5,>=4.0.1 in /home/hdilab01/anaconda3/lib/python3.8/site-packages (from GitPython>=1.0.0->wandb) (4.0.9)\n",
            "Requirement already satisfied: urllib3>=1.10.0 in /home/hdilab01/anaconda3/lib/python3.8/site-packages (from sentry-sdk>=1.0.0->wandb) (1.25.11)\n",
            "Requirement already satisfied: certifi in /home/hdilab01/anaconda3/lib/python3.8/site-packages (from sentry-sdk>=1.0.0->wandb) (2020.6.20)\n",
            "Requirement already satisfied: termcolor<2.0.0,>=1.1.0 in /home/hdilab01/anaconda3/lib/python3.8/site-packages (from yaspin>=1.0.0->wandb) (1.1.0)\n",
            "Requirement already satisfied: chardet<4,>=3.0.2 in /home/hdilab01/anaconda3/lib/python3.8/site-packages (from requests<3,>=2.0.0->wandb) (3.0.4)\n",
            "Requirement already satisfied: idna<3,>=2.5 in /home/hdilab01/anaconda3/lib/python3.8/site-packages (from requests<3,>=2.0.0->wandb) (2.10)\n",
            "Requirement already satisfied: smmap<6,>=3.0.1 in /home/hdilab01/anaconda3/lib/python3.8/site-packages (from gitdb<5,>=4.0.1->GitPython>=1.0.0->wandb) (5.0.0)\n",
            "Note: you may need to restart the kernel to use updated packages.\n"
          ]
        }
      ],
      "source": [
        "%pip install wandb"
      ]
    },
    {
      "cell_type": "code",
      "execution_count": null,
      "metadata": {
        "colab": {
          "base_uri": "https://localhost:8080/",
          "height": 69
        },
        "id": "1EUWbH0RwyBs",
        "outputId": "605a6b6b-009f-497c-8901-cfcc426b9cdd"
      },
      "outputs": [
        {
          "name": "stderr",
          "output_type": "stream",
          "text": [
            "Failed to detect the name of this notebook, you can set it manually with the WANDB_NOTEBOOK_NAME environment variable to enable code saving.\n",
            "\u001b[34m\u001b[1mwandb\u001b[0m: Currently logged in as: \u001b[33martgoldman\u001b[0m (use `wandb login --relogin` to force relogin)\n"
          ]
        },
        {
          "data": {
            "text/plain": [
              "True"
            ]
          },
          "execution_count": 2,
          "metadata": {},
          "output_type": "execute_result"
        }
      ],
      "source": [
        "import wandb\n",
        "\n",
        "wandb.login()"
      ]
    },
    {
      "cell_type": "markdown",
      "metadata": {
        "id": "WANAaDlPeZRM"
      },
      "source": [
        "![](https://i.imgur.com/eBRPvWB.png)\n",
        "\n",
        "# Practical PyTorch: Classifying Names with a Character-Level RNN\n",
        "\n",
        "We will be building and training a basic character-level RNN to classify words. A character-level RNN reads words as a series of characters - outputting a prediction and \"hidden state\" at each step, feeding its previous hidden state into each next step. We take the final prediction to be the output, i.e. which class the word belongs to.\n",
        "\n",
        "Specifically, we'll train on a few thousand surnames from 18 languages of origin, and predict which language a name is from based on the spelling:\n",
        "\n",
        "```\n",
        "$ python predict.py Hinton\n",
        "(-0.47) Scottish\n",
        "(-1.52) English\n",
        "(-3.57) Irish\n",
        "\n",
        "$ python predict.py Schmidhuber\n",
        "(-0.19) German\n",
        "(-2.48) Czech\n",
        "(-2.68) Dutch\n",
        "```"
      ]
    },
    {
      "cell_type": "markdown",
      "metadata": {
        "id": "KkC6346ZeZRT"
      },
      "source": [
        "# Preparing the Data\n",
        "\n",
        "Included in the `data/names` directory are 18 text files named as \"[Language].txt\". Each file contains a bunch of names, one name per line, mostly romanized (but we still need to convert from Unicode to ASCII).\n",
        "\n",
        "We'll end up with a dictionary of lists of names per language, `{language: [names ...]}`. The generic variables \"category\" and \"line\" (for language and name in our case) are used for later extensibility."
      ]
    },
    {
      "cell_type": "code",
      "execution_count": null,
      "metadata": {
        "colab": {
          "base_uri": "https://localhost:8080/"
        },
        "id": "g0nJilewewkj",
        "outputId": "40a2c901-0c2c-4ff3-b1cc-b14a71acd6f4"
      },
      "outputs": [
        {
          "name": "stdout",
          "output_type": "stream",
          "text": [
            "fatal: destination path 'practical-pytorch' already exists and is not an empty directory.\r\n"
          ]
        }
      ],
      "source": [
        "!git clone https://github.com/spro/practical-pytorch"
      ]
    },
    {
      "cell_type": "code",
      "execution_count": null,
      "metadata": {
        "colab": {
          "base_uri": "https://localhost:8080/"
        },
        "id": "KgDSoeEZeZRT",
        "outputId": "f62fedf8-5223-43e2-8b4a-ace48180d03f",
        "scrolled": true
      },
      "outputs": [
        {
          "name": "stdout",
          "output_type": "stream",
          "text": [
            "['./practical-pytorch/data/names/Scottish.txt', './practical-pytorch/data/names/Dutch.txt', './practical-pytorch/data/names/Czech.txt', './practical-pytorch/data/names/Vietnamese.txt', './practical-pytorch/data/names/Polish.txt', './practical-pytorch/data/names/Spanish.txt', './practical-pytorch/data/names/English.txt', './practical-pytorch/data/names/Arabic.txt', './practical-pytorch/data/names/Korean.txt', './practical-pytorch/data/names/Japanese.txt', './practical-pytorch/data/names/Irish.txt', './practical-pytorch/data/names/Greek.txt', './practical-pytorch/data/names/Italian.txt', './practical-pytorch/data/names/Portuguese.txt', './practical-pytorch/data/names/Chinese.txt', './practical-pytorch/data/names/French.txt', './practical-pytorch/data/names/Russian.txt', './practical-pytorch/data/names/German.txt']\n"
          ]
        }
      ],
      "source": [
        "import glob\n",
        "\n",
        "all_filenames = glob.glob('./practical-pytorch/data/names/*.txt')\n",
        "print(all_filenames)"
      ]
    },
    {
      "cell_type": "code",
      "execution_count": null,
      "metadata": {
        "colab": {
          "base_uri": "https://localhost:8080/"
        },
        "id": "cHDFaENeeZRW",
        "outputId": "be341e90-78c5-474a-f6df-7745c147bddf"
      },
      "outputs": [
        {
          "name": "stdout",
          "output_type": "stream",
          "text": [
            "Slusarski\n"
          ]
        }
      ],
      "source": [
        "import unicodedata\n",
        "import string\n",
        "\n",
        "all_letters = string.ascii_letters + \" .,;'\"\n",
        "n_letters = len(all_letters)\n",
        "\n",
        "# Turn a Unicode string to plain ASCII, thanks to http://stackoverflow.com/a/518232/2809427\n",
        "def unicode_to_ascii(s):\n",
        "    return ''.join(\n",
        "        c for c in unicodedata.normalize('NFD', s)\n",
        "        if unicodedata.category(c) != 'Mn'\n",
        "        and c in all_letters\n",
        "    )\n",
        "\n",
        "print(unicode_to_ascii('Ślusàrski'))"
      ]
    },
    {
      "cell_type": "code",
      "execution_count": null,
      "metadata": {
        "colab": {
          "base_uri": "https://localhost:8080/"
        },
        "id": "TeH784R3eZRX",
        "outputId": "3197f5d9-1525-4d0e-be9a-02949fede150"
      },
      "outputs": [
        {
          "name": "stdout",
          "output_type": "stream",
          "text": [
            "n_categories = 18\n"
          ]
        }
      ],
      "source": [
        "# Build the category_lines dictionary, a list of names per language\n",
        "category_lines = {}\n",
        "all_categories = []\n",
        "\n",
        "# Read a file and split into lines\n",
        "def readLines(filename):\n",
        "    lines = open(filename).read().strip().split('\\n')\n",
        "    return [unicode_to_ascii(line) for line in lines]\n",
        "\n",
        "for filename in all_filenames:\n",
        "    category = filename.split('/')[-1].split('.')[0]\n",
        "    all_categories.append(category)\n",
        "    lines = readLines(filename)\n",
        "    category_lines[category] = lines\n",
        "\n",
        "n_categories = len(all_categories)\n",
        "print('n_categories =', n_categories)"
      ]
    },
    {
      "cell_type": "markdown",
      "metadata": {
        "id": "HFS-Hi4aeZRY"
      },
      "source": [
        "Now we have `category_lines`, a dictionary mapping each category (language) to a list of lines (names). We also kept track of `all_categories` (just a list of languages) and `n_categories` for later reference."
      ]
    },
    {
      "cell_type": "code",
      "execution_count": null,
      "metadata": {
        "colab": {
          "base_uri": "https://localhost:8080/"
        },
        "id": "i5PWuRRKeZRZ",
        "outputId": "11465e2c-2ef3-4b7e-85e9-9a1716f858db"
      },
      "outputs": [
        {
          "name": "stdout",
          "output_type": "stream",
          "text": [
            "['Abandonato', 'Abatangelo', 'Abatantuono', 'Abate', 'Abategiovanni']\n"
          ]
        }
      ],
      "source": [
        "print(category_lines['Italian'][:5])"
      ]
    },
    {
      "cell_type": "markdown",
      "metadata": {
        "id": "OnU2eRwXeZRZ"
      },
      "source": [
        "# Turning Names into Tensors\n",
        "\n",
        "Now that we have all the names organized, we need to turn them into Tensors to make any use of them.\n",
        "\n",
        "To represent a single letter, we use a \"one-hot vector\" of size `<1 x n_letters>`. A one-hot vector is filled with 0s except for a 1 at index of the current letter, e.g. `\"b\" = <0 1 0 0 0 ...>`.\n",
        "\n",
        "To make a word we join a bunch of those into a 2D matrix `<line_length x 1 x n_letters>`.\n",
        "\n",
        "That extra 1 dimension is because PyTorch assumes everything is in batches - we're just using a batch size of 1 here."
      ]
    },
    {
      "cell_type": "code",
      "execution_count": null,
      "metadata": {
        "id": "k0OFkkiqeZRa"
      },
      "outputs": [],
      "source": [
        "import torch\n",
        "\n",
        "# Just for demonstration, turn a letter into a <1 x n_letters> Tensor\n",
        "def letter_to_tensor(letter):\n",
        "    tensor = torch.zeros(1, n_letters)\n",
        "    letter_index = all_letters.find(letter)\n",
        "    tensor[0][letter_index] = 1\n",
        "    return tensor\n",
        "\n",
        "# Turn a line into a <line_length x 1 x n_letters>,\n",
        "# or an array of one-hot letter vectors\n",
        "def line_to_tensor(line):\n",
        "    tensor = torch.zeros(len(line), 1, n_letters)\n",
        "    for li, letter in enumerate(line):\n",
        "        letter_index = all_letters.find(letter)\n",
        "        tensor[li][0][letter_index] = 1\n",
        "    return tensor"
      ]
    },
    {
      "cell_type": "code",
      "execution_count": null,
      "metadata": {
        "colab": {
          "base_uri": "https://localhost:8080/"
        },
        "id": "2Ukhi3STeZRb",
        "outputId": "0e18f747-37ce-4fb3-8681-e6dadf24825d"
      },
      "outputs": [
        {
          "name": "stdout",
          "output_type": "stream",
          "text": [
            "tensor([[0., 0., 0., 0., 0., 0., 0., 0., 0., 0., 0., 0., 0., 0., 0., 0., 0., 0.,\n",
            "         0., 0., 0., 0., 0., 0., 0., 0., 0., 0., 0., 0., 0., 0., 0., 0., 0., 1.,\n",
            "         0., 0., 0., 0., 0., 0., 0., 0., 0., 0., 0., 0., 0., 0., 0., 0., 0., 0.,\n",
            "         0., 0., 0.]])\n"
          ]
        }
      ],
      "source": [
        "print(letter_to_tensor('J'))"
      ]
    },
    {
      "cell_type": "code",
      "execution_count": null,
      "metadata": {
        "colab": {
          "base_uri": "https://localhost:8080/"
        },
        "id": "BAtGWBh5eZRb",
        "outputId": "6e0c3a13-ca3a-451a-b861-fc3c915be3fa"
      },
      "outputs": [
        {
          "name": "stdout",
          "output_type": "stream",
          "text": [
            "torch.Size([5, 1, 57])\n"
          ]
        }
      ],
      "source": [
        "print(line_to_tensor('Jones').size())"
      ]
    },
    {
      "cell_type": "markdown",
      "metadata": {
        "id": "nWSYrZfTeZRb"
      },
      "source": [
        "# Creating the Network\n",
        "\n",
        "Before autograd, creating a recurrent neural network in Torch involved cloning the parameters of a layer over several timesteps. The layers held hidden state and gradients which are now entirely handled by the graph itself. This means you can implement a RNN in a very \"pure\" way, as regular feed-forward layers.\n",
        "\n",
        "This RNN module (mostly copied from [the PyTorch for Torch users tutorial](https://github.com/pytorch/tutorials/blob/master/Introduction%20to%20PyTorch%20for%20former%20Torchies.ipynb)) is just 2 linear layers which operate on an input and hidden state, with a LogSoftmax layer after the output.\n",
        "\n",
        "![](https://i.imgur.com/Z2xbySO.png)"
      ]
    },
    {
      "cell_type": "code",
      "execution_count": null,
      "metadata": {
        "id": "fhwtzelMeZRc"
      },
      "outputs": [],
      "source": [
        "import torch.nn as nn\n",
        "from torch.autograd import Variable\n",
        "\n",
        "class RNN(nn.Module):\n",
        "    def __init__(self, input_size, hidden_size, output_size):\n",
        "        super(RNN, self).__init__()\n",
        "        \n",
        "        self.input_size = input_size\n",
        "        self.hidden_size = hidden_size\n",
        "        self.output_size = output_size\n",
        "        \n",
        "        self.i2h = nn.Linear(input_size + hidden_size, hidden_size)\n",
        "        self.i2o = nn.Linear(input_size + hidden_size, output_size)\n",
        "        self.softmax = nn.LogSoftmax(dim=-1)\n",
        "    \n",
        "    def forward(self, input, hidden):\n",
        "        combined = torch.cat((input, hidden), 1)\n",
        "        hidden = self.i2h(combined)\n",
        "        output = self.i2o(combined)\n",
        "        output = self.softmax(output)\n",
        "        return output, hidden\n",
        "\n",
        "    def init_hidden(self):\n",
        "        return Variable(torch.zeros(1, self.hidden_size))"
      ]
    },
    {
      "cell_type": "markdown",
      "metadata": {
        "id": "r1l_mIdbeZRc"
      },
      "source": [
        "## Manually testing the network\n",
        "\n",
        "With our custom `RNN` class defined, we can create a new instance:"
      ]
    },
    {
      "cell_type": "code",
      "execution_count": null,
      "metadata": {
        "id": "5ku53mnheZRc",
        "scrolled": true
      },
      "outputs": [],
      "source": [
        "n_hidden = 128\n",
        "rnn = RNN(n_letters, n_hidden, n_categories)"
      ]
    },
    {
      "cell_type": "code",
      "execution_count": null,
      "metadata": {
        "id": "BroV6gw8QWBk",
        "outputId": "37e74ccd-3549-4240-c66f-ace6ebd0032b"
      },
      "outputs": [
        {
          "data": {
            "text/plain": [
              "27156"
            ]
          },
          "execution_count": 13,
          "metadata": {},
          "output_type": "execute_result"
        }
      ],
      "source": [
        "sum([p.numel() for p in rnn.parameters()])"
      ]
    },
    {
      "cell_type": "markdown",
      "metadata": {
        "id": "5E0iTraWeZRd"
      },
      "source": [
        "To run a step of this network we need to pass an input (in our case, the Tensor for the current letter) and a previous hidden state (which we initialize as zeros at first). We'll get back the output (probability of each language) and a next hidden state (which we keep for the next step).\n",
        "\n",
        "Remember that PyTorch modules operate on Variables rather than straight up Tensors."
      ]
    },
    {
      "cell_type": "code",
      "execution_count": null,
      "metadata": {
        "colab": {
          "base_uri": "https://localhost:8080/"
        },
        "id": "QatfR0YBeZRd",
        "outputId": "bcac160b-a48c-42bc-b1e3-d0d6349bb879"
      },
      "outputs": [
        {
          "name": "stdout",
          "output_type": "stream",
          "text": [
            "output.size = torch.Size([1, 18])\n"
          ]
        }
      ],
      "source": [
        "input = Variable(letter_to_tensor('A'))\n",
        "hidden = rnn.init_hidden()\n",
        "\n",
        "output, next_hidden = rnn(input, hidden)\n",
        "print('output.size =', output.size())"
      ]
    },
    {
      "cell_type": "markdown",
      "metadata": {
        "id": "8yWHbg1veZRd"
      },
      "source": [
        "For the sake of efficiency we don't want to be creating a new Tensor for every step, so we will use `line_to_tensor` instead of `letter_to_tensor` and use slices. This could be further optimized by pre-computing batches of Tensors."
      ]
    },
    {
      "cell_type": "code",
      "execution_count": null,
      "metadata": {
        "colab": {
          "base_uri": "https://localhost:8080/"
        },
        "id": "nHIdRbQieZRe",
        "outputId": "7e8cf798-26b1-4ab5-8510-8ddd1c147217"
      },
      "outputs": [
        {
          "name": "stdout",
          "output_type": "stream",
          "text": [
            "tensor([[-2.8821, -2.8770, -2.8620, -2.8234, -3.0120, -2.8455, -2.8265, -3.0059,\n",
            "         -2.8283, -2.9411, -2.9649, -2.9221, -2.7667, -2.8600, -2.8700, -2.9021,\n",
            "         -2.9036, -2.9715]], grad_fn=<LogSoftmaxBackward0>)\n"
          ]
        }
      ],
      "source": [
        "input = Variable(line_to_tensor('Albert'))\n",
        "hidden = Variable(torch.zeros(1, n_hidden))\n",
        "\n",
        "output, next_hidden = rnn(input[0], hidden)\n",
        "print(output)"
      ]
    },
    {
      "cell_type": "markdown",
      "metadata": {
        "id": "-EHC5I6_eZRe"
      },
      "source": [
        "As you can see the output is a `<1 x n_categories>` Tensor, where every item is the likelihood of that category (higher is more likely)."
      ]
    },
    {
      "cell_type": "markdown",
      "metadata": {
        "id": "b_PsuKU6eZRe"
      },
      "source": [
        "# Preparing for Training\n",
        "\n",
        "Before going into training we should make a few helper functions. The first is to interpret the output of the network, which we know to be a likelihood of each category. We can use `Tensor.topk` to get the index of the greatest value:"
      ]
    },
    {
      "cell_type": "code",
      "execution_count": null,
      "metadata": {
        "colab": {
          "base_uri": "https://localhost:8080/"
        },
        "id": "HLM5hvK8eZRe",
        "outputId": "6d524baf-3cff-4286-c0a5-5291addf71e5",
        "scrolled": false
      },
      "outputs": [
        {
          "name": "stdout",
          "output_type": "stream",
          "text": [
            "('Italian', tensor(12))\n"
          ]
        }
      ],
      "source": [
        "def category_from_output(output):\n",
        "    top_n, top_i = output.data.topk(1) # Tensor out of Variable with .data\n",
        "    category_i = top_i[0][0]\n",
        "    return all_categories[category_i], category_i\n",
        "\n",
        "print(category_from_output(output))"
      ]
    },
    {
      "cell_type": "markdown",
      "metadata": {
        "id": "xVD1w9AIeZRf"
      },
      "source": [
        "We will also want a quick way to get a training example (a name and its language):"
      ]
    },
    {
      "cell_type": "code",
      "execution_count": null,
      "metadata": {
        "colab": {
          "base_uri": "https://localhost:8080/"
        },
        "id": "2etH6rF8eZRf",
        "outputId": "bad74ef2-6f26-4c14-e6e8-aff7bb544a1d"
      },
      "outputs": [
        {
          "name": "stdout",
          "output_type": "stream",
          "text": [
            "~~~\n",
            "category = Italian / line = Taverna\n",
            "category tensor = tensor([12]) / line tensor = torch.Size([7, 1, 57])\n",
            "~~~\n",
            "category = Russian / line = Gribkov\n",
            "category tensor = tensor([16]) / line tensor = torch.Size([7, 1, 57])\n",
            "~~~\n",
            "category = Irish / line = Cathasach\n",
            "category tensor = tensor([10]) / line tensor = torch.Size([9, 1, 57])\n",
            "~~~\n",
            "category = Japanese / line = Takagaki\n",
            "category tensor = tensor([9]) / line tensor = torch.Size([8, 1, 57])\n",
            "~~~\n",
            "category = Spanish / line = Rojas\n",
            "category tensor = tensor([5]) / line tensor = torch.Size([5, 1, 57])\n",
            "~~~\n",
            "category = Russian / line = Evdokimov\n",
            "category tensor = tensor([16]) / line tensor = torch.Size([9, 1, 57])\n",
            "~~~\n",
            "category = Japanese / line = Godo\n",
            "category tensor = tensor([9]) / line tensor = torch.Size([4, 1, 57])\n",
            "~~~\n",
            "category = Russian / line = Verstakov\n",
            "category tensor = tensor([16]) / line tensor = torch.Size([9, 1, 57])\n",
            "~~~\n",
            "category = Korean / line = Ryom\n",
            "category tensor = tensor([8]) / line tensor = torch.Size([4, 1, 57])\n",
            "~~~\n",
            "category = Vietnamese / line = Tieu\n",
            "category tensor = tensor([3]) / line tensor = torch.Size([4, 1, 57])\n"
          ]
        }
      ],
      "source": [
        "import random\n",
        "\n",
        "def random_training_pair():                                                                                                               \n",
        "    category = random.choice(all_categories)\n",
        "    line = random.choice(category_lines[category])\n",
        "    category_tensor = Variable(torch.LongTensor([all_categories.index(category)]))\n",
        "    line_tensor = Variable(line_to_tensor(line))\n",
        "    return category, line, category_tensor, line_tensor\n",
        "\n",
        "for i in range(10):\n",
        "    category, line, category_tensor, line_tensor = random_training_pair()\n",
        "    print(\"~~~\")\n",
        "    print('category =', category, '/ line =', line)\n",
        "    print('category tensor =', category_tensor, '/ line tensor =', line_tensor.size())"
      ]
    },
    {
      "cell_type": "code",
      "execution_count": null,
      "metadata": {
        "id": "Y-nyUB5lpYDL"
      },
      "outputs": [],
      "source": [
        "import random\n",
        "\n",
        "class NamesDataset(torch.utils.data.Dataset):\n",
        "    def __init__(self, split, percent=0.8, shuffle=False):\n",
        "        self.all_items = []\n",
        "        if split == \"train\":\n",
        "            for cat in all_categories:\n",
        "                cat_len = len(category_lines[cat])\n",
        "                for names in category_lines[cat][:int(cat_len*percent)]:\n",
        "                    self.all_items.append([names, cat])\n",
        "        else:\n",
        "            for cat in all_categories:\n",
        "                cat_len = len(category_lines[cat])\n",
        "                for names in category_lines[cat][int(cat_len*percent):]:\n",
        "                    self.all_items.append([names, cat])\n",
        "        self.idxs = list(range(0, len(self.all_items)))\n",
        "        if shuffle:\n",
        "            random.seed(42)\n",
        "            random.shuffle(self.idxs)\n",
        "    \n",
        "    def __len__(self):\n",
        "        return len(self.all_items)\n",
        "\n",
        "    def __getitem__(self, idx):\n",
        "        cidx = self.idxs[idx]\n",
        "        return self.all_items[cidx][0], self.all_items[cidx][1], line_to_tensor(self.all_items[cidx][0]), torch.LongTensor([all_categories.index(self.all_items[cidx][1])])\n"
      ]
    },
    {
      "cell_type": "code",
      "execution_count": null,
      "metadata": {
        "colab": {
          "base_uri": "https://localhost:8080/"
        },
        "id": "QnR5weDAl2ng",
        "outputId": "5007b632-432b-4d35-d797-3e5a0dbdb167"
      },
      "outputs": [
        {
          "name": "stdout",
          "output_type": "stream",
          "text": [
            "16034 4016\n"
          ]
        }
      ],
      "source": [
        "train_dset = NamesDataset(\"train\", 0.8, True)\n",
        "val_dset = NamesDataset(\"val\", 0.8, True)\n",
        "print(len(train_dset), len(val_dset))"
      ]
    },
    {
      "cell_type": "code",
      "execution_count": null,
      "metadata": {
        "id": "8yNiszkqm9QJ"
      },
      "outputs": [],
      "source": [
        "\"\"\"\n",
        "from torch.utils.data import DataLoader\n",
        "\n",
        "def collate_batch(batch):\n",
        "    label_list, text_list = [], []\n",
        "    for (_text, category) in batch:\n",
        "         label_list.append(all_categories.index(category))\n",
        "         text_list.append(line_to_tensor(_text))\n",
        "    label_list = torch.LongTensor(label_list)\n",
        "    return label_list, text_list\n",
        "\n",
        "train_loader = DataLoader(train_dset, batch_size=8, shuffle=True, collate_fn=collate_batch)\n",
        "\n",
        "lab, txt = next(iter(train_loader))\n",
        "print(lab)\n",
        "print(lab.size())\n",
        "print(txt.size())\n",
        "\"\"\";"
      ]
    },
    {
      "cell_type": "markdown",
      "metadata": {
        "id": "U4z7HS1TeZRg"
      },
      "source": [
        "# Training the Network\n",
        "\n",
        "Now all it takes to train this network is show it a bunch of examples, have it make guesses, and tell it if it's wrong.\n",
        "\n",
        "For the [loss function `nn.NLLLoss`](http://pytorch.org/docs/nn.html#nllloss) is appropriate, since the last layer of the RNN is `nn.LogSoftmax`."
      ]
    },
    {
      "cell_type": "markdown",
      "metadata": {
        "id": "PuJXWqgteZRg"
      },
      "source": [
        "We will also create an \"optimizer\" which updates the parameters of our model according to its gradients. We will use the vanilla SGD algorithm with a low learning rate."
      ]
    },
    {
      "cell_type": "markdown",
      "metadata": {
        "id": "riNWqmbAeZRh"
      },
      "source": [
        "Each loop of training will:\n",
        "\n",
        "* Create input and target tensors\n",
        "* Create a zeroed initial hidden state\n",
        "* Read each letter in and\n",
        "    * Keep hidden state for next letter\n",
        "* Compare final output to target\n",
        "* Back-propagate\n",
        "* Return the output and loss"
      ]
    },
    {
      "cell_type": "code",
      "execution_count": null,
      "metadata": {
        "id": "ZhLfFB4beZRh"
      },
      "outputs": [],
      "source": [
        "def train(rnn, dset, opt, to_shuffle=False):\n",
        "    rnn.train()\n",
        "    tot_loss, tot_acc = [], []\n",
        "    idx_map = list(range(0, len(dset)))\n",
        "    if to_shuffle:\n",
        "        random.shuffle(idx_map)\n",
        "    for i in range(len(dset)):\n",
        "        _, true_label, line_tensor, category_tensor = dset[idx_map[i]]\n",
        "        rnn.zero_grad()\n",
        "        hidden = rnn.init_hidden()\n",
        "        \n",
        "        for i in range(line_tensor.size()[0]):\n",
        "            output, hidden = rnn(line_tensor[i], hidden)\n",
        "\n",
        "        loss = criterion(output, category_tensor)\n",
        "        loss.backward()\n",
        "        tot_loss.append(loss.item())\n",
        "\n",
        "        opt.step()\n",
        "\n",
        "        guess, guess_i = category_from_output(output)\n",
        "        tot_acc.append(guess == true_label)\n",
        "\n",
        "    return sum(tot_acc)/len(tot_acc), sum(tot_loss)/len(tot_loss)\n",
        "\n",
        "def validate(rnn, dset):\n",
        "    rnn.eval()\n",
        "    tot_loss, tot_acc = [], []\n",
        "    with torch.no_grad():\n",
        "        for i in range(len(dset)):\n",
        "            _, true_label, line_tensor, category_tensor = dset[i]\n",
        "            hidden = rnn.init_hidden()\n",
        "            \n",
        "            for i in range(line_tensor.size()[0]):\n",
        "                output, hidden = rnn(line_tensor[i], hidden)\n",
        "\n",
        "            loss = criterion(output, category_tensor)\n",
        "            tot_loss.append(loss.item())\n",
        "\n",
        "            guess, guess_i = category_from_output(output)\n",
        "            tot_acc.append(guess == true_label)\n",
        "\n",
        "    return sum(tot_acc)/len(tot_acc), sum(tot_loss)/len(tot_loss)\n",
        "\n",
        "@torch.no_grad()\n",
        "def get_grad_norm(model, norm_type=2):\n",
        "    parameters = model.parameters()\n",
        "    if isinstance(parameters, torch.Tensor):\n",
        "        parameters = [parameters]\n",
        "    parameters = [p for p in parameters if p.grad is not None]\n",
        "    total_norm = torch.norm(\n",
        "        torch.stack(\n",
        "            [torch.norm(p.grad.detach(), norm_type).cpu() for p in parameters]\n",
        "        ),\n",
        "        norm_type,\n",
        "    )\n",
        "    return total_norm.item()"
      ]
    },
    {
      "cell_type": "markdown",
      "metadata": {
        "id": "xJWxGXNoeZRh"
      },
      "source": [
        "Now we just have to run that with a bunch of examples. Since the `train` function returns both the output and loss we can print its guesses and also keep track of loss for plotting. Since there are 1000s of examples we print only every `print_every` time steps, and take an average of the loss."
      ]
    },
    {
      "cell_type": "code",
      "execution_count": null,
      "metadata": {
        "id": "wS_6bfyyQWBq"
      },
      "outputs": [],
      "source": [
        "import time\n",
        "import math\n",
        "from tqdm import tqdm\n",
        "\n",
        "\n",
        "\n",
        "def time_since(since):\n",
        "    now = time.time()\n",
        "    s = now - since\n",
        "    m = math.floor(s / 60)\n",
        "    s -= m * 60\n",
        "    return '%dm %ds' % (m, s)\n"
      ]
    },
    {
      "cell_type": "code",
      "execution_count": null,
      "metadata": {
        "colab": {
          "base_uri": "https://localhost:8080/",
          "height": 863,
          "referenced_widgets": [
            "165170d85aeb4207acb3820c10845099",
            "6073ba4f363448f8b28f6d5c1abde3a9",
            "ef220389e4e441eda1ff1f302ab6c627",
            "5c59dc6bb0e44a87b14f0bc69ecdcea2",
            "0b1a7ec792f84691854db20af60f96ba",
            "c90ab5275d094b9db046d0288c0851c1",
            "d29094b9dd3e4d969c305b3f837dd7da",
            "6d1dfd051fe3435c87fec5c76a7cac5d"
          ]
        },
        "id": "qLhF9C-YeZRh",
        "outputId": "0f9f3435-2350-4855-f15c-a8f922b196a0",
        "scrolled": false
      },
      "outputs": [
        {
          "name": "stderr",
          "output_type": "stream",
          "text": [
            "\u001b[34m\u001b[1mwandb\u001b[0m: Currently logged in as: \u001b[33martgoldman\u001b[0m (use `wandb login --relogin` to force relogin)\n"
          ]
        },
        {
          "data": {
            "text/html": [
              "\n",
              "                    Syncing run <strong><a href=\"https://wandb.ai/artgoldman/FullGD-HSE-RS/runs/2px6rgvn\" target=\"_blank\">SGD_name_clf</a></strong> to <a href=\"https://wandb.ai/artgoldman/FullGD-HSE-RS\" target=\"_blank\">Weights & Biases</a> (<a href=\"https://docs.wandb.com/integrations/jupyter.html\" target=\"_blank\">docs</a>).<br/>\n",
              "\n",
              "                "
            ],
            "text/plain": [
              "<IPython.core.display.HTML object>"
            ]
          },
          "metadata": {},
          "output_type": "display_data"
        },
        {
          "name": "stdout",
          "output_type": "stream",
          "text": [
            "Train. Epoch:1 0.5817637520269427 1.4325029731270245\n",
            "Val. Epoch:1 0.6446713147410359 1.2376231070510733\n",
            "Train. Epoch:2 0.67718597979294 1.1163320765908649\n",
            "Val. Epoch:2 0.6469123505976095 1.172873374953726\n",
            "Train. Epoch:3 0.7059997505301235 1.0077862262412798\n",
            "Val. Epoch:3 0.6568725099601593 1.108074760873084\n",
            "Train. Epoch:4 0.7215292503430211 0.945529555651628\n",
            "Val. Epoch:4 0.6536354581673307 1.1424193425953715\n",
            "Train. Epoch:5 0.7333790694773606 0.9069633339827332\n",
            "Val. Epoch:5 0.6685756972111554 1.1032542189299768\n",
            "Train. Epoch:6 0.7356866658351005 0.8796857736479473\n",
            "Val. Epoch:6 0.6700697211155379 1.0913668926372324\n",
            "Train. Epoch:7 0.7394287139827865 0.8589963031818836\n",
            "Val. Epoch:7 0.6750498007968128 1.0379622985193777\n",
            "Train. Epoch:8 0.7462267681177498 0.844160728951868\n",
            "Val. Epoch:8 0.6807768924302788 1.06311922014982\n",
            "Train. Epoch:9 0.7482848945989772 0.8314768199335949\n",
            "Val. Epoch:9 0.6835159362549801 1.075138739001542\n",
            "Train. Epoch:10 0.751216165647998 0.8150038480760797\n",
            "Val. Epoch:10 0.6862549800796812 1.0259150211295545\n",
            "Train. Epoch:11 0.7516527379318947 0.8069401664881076\n",
            "Val. Epoch:11 0.6561254980079682 1.1909956309183176\n",
            "Train. Epoch:12 0.7562055631782463 0.7987906280677394\n",
            "Val. Epoch:12 0.6710657370517928 1.1393199827452474\n",
            "Train. Epoch:13 0.7546463764500436 0.7913137018008417\n",
            "Val. Epoch:13 0.6852589641434262 1.012865495023074\n",
            "Train. Epoch:14 0.7557689908943495 0.7849797857830662\n",
            "Val. Epoch:14 0.6977091633466136 0.9930016319014605\n",
            "Train. Epoch:15 0.7577647499064488 0.7793232474052416\n",
            "Val. Epoch:15 0.6939741035856574 1.0428660671680725\n"
          ]
        },
        {
          "data": {
            "text/html": [
              "<br/>Waiting for W&B process to finish, PID 146... <strong style=\"color:green\">(success).</strong>"
            ],
            "text/plain": [
              "<IPython.core.display.HTML object>"
            ]
          },
          "metadata": {},
          "output_type": "display_data"
        },
        {
          "data": {
            "application/vnd.jupyter.widget-view+json": {
              "model_id": "165170d85aeb4207acb3820c10845099",
              "version_major": 2,
              "version_minor": 0
            },
            "text/plain": [
              "VBox(children=(Label(value=' 0.00MB of 0.00MB uploaded (0.00MB deduped)\\r'), FloatProgress(value=1.0, max=1.0)…"
            ]
          },
          "metadata": {},
          "output_type": "display_data"
        },
        {
          "data": {
            "text/html": [
              "<style>\n",
              "    table.wandb td:nth-child(1) { padding: 0 10px; text-align: right }\n",
              "    .wandb-row { display: flex; flex-direction: row; flex-wrap: wrap; width: 100% }\n",
              "    .wandb-col { display: flex; flex-direction: column; flex-basis: 100%; flex: 1; padding: 10px; }\n",
              "    </style>\n",
              "<div class=\"wandb-row\"><div class=\"wandb-col\">\n",
              "<h3>Run history:</h3><br/><table class=\"wandb\"><tr><td>grad_norm</td><td>▃▁█▇▄▄▂▃▁▅▅█▁▃█</td></tr><tr><td>train_acc</td><td>▁▅▆▇▇▇▇████████</td></tr><tr><td>train_loss</td><td>█▅▃▃▂▂▂▂▂▁▁▁▁▁▁</td></tr><tr><td>val_acc</td><td>▁▁▃▂▄▄▅▆▆▆▃▄▆██</td></tr><tr><td>val_loss</td><td>█▆▄▅▄▄▂▃▃▂▇▅▂▁▂</td></tr></table><br/></div><div class=\"wandb-col\">\n",
              "<h3>Run summary:</h3><br/><table class=\"wandb\"><tr><td>grad_norm</td><td>13.85876</td></tr><tr><td>train_acc</td><td>0.75776</td></tr><tr><td>train_loss</td><td>0.77932</td></tr><tr><td>val_acc</td><td>0.69397</td></tr><tr><td>val_loss</td><td>1.04287</td></tr></table>\n",
              "</div></div>\n",
              "Synced 5 W&B file(s), 0 media file(s), 0 artifact file(s) and 0 other file(s)\n",
              "<br/>Synced <strong style=\"color:#cdcd00\">SGD_name_clf</strong>: <a href=\"https://wandb.ai/artgoldman/FullGD-HSE-RS/runs/2px6rgvn\" target=\"_blank\">https://wandb.ai/artgoldman/FullGD-HSE-RS/runs/2px6rgvn</a><br/>\n",
              "Find logs at: <code>./wandb/run-20220124_120729-2px6rgvn/logs</code><br/>\n"
            ],
            "text/plain": [
              "<IPython.core.display.HTML object>"
            ]
          },
          "metadata": {},
          "output_type": "display_data"
        }
      ],
      "source": [
        "\n",
        "n_epochs = 15\n",
        "# Keep track of losses for plotting\n",
        "current_loss = 0\n",
        "all_losses = []\n",
        "\n",
        "n_hidden = 128\n",
        "rnn = RNN(n_letters, n_hidden, n_categories)\n",
        "\n",
        "criterion = nn.NLLLoss()\n",
        "learning_rate = 0.005 # If you set this too high, it might explode. If too low, it might not learn\n",
        "optimizer = torch.optim.SGD(rnn.parameters(), lr=learning_rate)\n",
        "\n",
        "\n",
        "start = time.time()\n",
        "random.seed(74)\n",
        "wandb.init(project=\"FullGD-HSE-RS\", name = 'SGD_name_clf')\n",
        "for epoch in tqdm(range(1, n_epochs + 1)):\n",
        "    # Get a random training input and target\n",
        "    train_acc, train_loss = train(rnn, train_dset, optimizer, to_shuffle=True)\n",
        "    #print(\"Train. Epoch:{}\".format(epoch), train_acc, train_loss)\n",
        "    gr_norm = get_grad_norm(rnn)\n",
        "    val_acc, val_loss = validate(rnn, val_dset)\n",
        "    #print(\"Val. Epoch:{}\".format(epoch), val_acc, val_loss)\n",
        "    wandb.log({\"grad_norm\": gr_norm, \"train_loss\": train_loss, \"train_acc\": train_acc,\n",
        "               \"val_loss\": val_loss, \"val_acc\": val_acc})\n",
        "wandb.finish()"
      ]
    },
    {
      "cell_type": "markdown",
      "metadata": {
        "id": "dYuzOQPp-Umx"
      },
      "source": [
        "# Full GD"
      ]
    },
    {
      "cell_type": "code",
      "execution_count": null,
      "metadata": {
        "id": "N86b6ta8-Z-W"
      },
      "outputs": [],
      "source": [
        "def train_full(rnn, dset, opt, to_shuffle=False, grad_clip=None):\n",
        "    rnn.train()\n",
        "    tot_loss, tot_acc = [], []\n",
        "    idx_map = list(range(0, len(dset)))\n",
        "    if to_shuffle:\n",
        "        random.shuffle(idx_map)\n",
        "    rnn.zero_grad()\n",
        "    for i in range(len(dset)):\n",
        "        _, true_label, line_tensor, category_tensor = dset[idx_map[i]]\n",
        "        \n",
        "        hidden = rnn.init_hidden()\n",
        "        \n",
        "        for i in range(line_tensor.size()[0]):\n",
        "            output, hidden = rnn(line_tensor[i], hidden)\n",
        "\n",
        "        loss = criterion(output, category_tensor)\n",
        "        loss.backward()\n",
        "        tot_loss.append(loss.item())\n",
        "\n",
        "        \n",
        "\n",
        "        guess, guess_i = category_from_output(output)\n",
        "        tot_acc.append(guess == true_label)\n",
        "    if grad_clip is not None:\n",
        "        torch.nn.utils.clip_grad_norm_(rnn.parameters(), grad_clip)\n",
        "    opt.step()\n",
        "    return sum(tot_acc)/len(tot_acc), sum(tot_loss)/len(tot_loss)"
      ]
    },
    {
      "cell_type": "code",
      "execution_count": null,
      "metadata": {
        "colab": {
          "base_uri": "https://localhost:8080/",
          "height": 343,
          "referenced_widgets": [
            "720a0773ef63459c96ae49129fd62d6f",
            "cc481924887d4c26a90e5d8509ef0b1b",
            "5c3eef99eb2a42aba20557bb040472dd",
            "b0661e0f629d47b9978d431270771073",
            "180c9a577cc9458aa892815dcf22fc5d",
            "e7dc9cdd386749f58d3946cdb917d7c7",
            "eb9a5ebaa14e4823b5a10fecde2586be",
            "1bc3bd82c46f476787bed5164ab1fc16",
            ""
          ]
        },
        "id": "argcKup9-pxP",
        "outputId": "1b2dc4e6-297b-4545-d0aa-300f1c91985f"
      },
      "outputs": [
        {
          "data": {
            "text/html": [
              "\n",
              "                    Syncing run <strong><a href=\"https://wandb.ai/artgoldman/FullGD-HSE-RS/runs/32vpuruq\" target=\"_blank\">FullGD_name_clf</a></strong> to <a href=\"https://wandb.ai/artgoldman/FullGD-HSE-RS\" target=\"_blank\">Weights & Biases</a> (<a href=\"https://docs.wandb.com/integrations/jupyter.html\" target=\"_blank\">docs</a>).<br/>\n",
              "\n",
              "                "
            ],
            "text/plain": [
              "<IPython.core.display.HTML object>"
            ]
          },
          "metadata": {},
          "output_type": "display_data"
        },
        {
          "name": "stderr",
          "output_type": "stream",
          "text": [
            "100%|██████████| 100/100 [20:32<00:00, 12.32s/it]\n"
          ]
        },
        {
          "data": {
            "text/html": [
              "<br/>Waiting for W&B process to finish, PID 25567... <strong style=\"color:green\">(success).</strong>"
            ],
            "text/plain": [
              "<IPython.core.display.HTML object>"
            ]
          },
          "metadata": {},
          "output_type": "display_data"
        },
        {
          "data": {
            "application/vnd.jupyter.widget-view+json": {
              "model_id": "",
              "version_major": 2,
              "version_minor": 0
            },
            "text/plain": [
              "VBox(children=(Label(value=' 0.00MB of 0.00MB uploaded (0.00MB deduped)\\r'), FloatProgress(value=1.0, max=1.0)…"
            ]
          },
          "metadata": {},
          "output_type": "display_data"
        },
        {
          "data": {
            "text/html": [
              "<style>\n",
              "    table.wandb td:nth-child(1) { padding: 0 10px; text-align: right }\n",
              "    .wandb-row { display: flex; flex-direction: row; flex-wrap: wrap; width: 100% }\n",
              "    .wandb-col { display: flex; flex-direction: column; flex-basis: 100%; flex: 1; padding: 10px; }\n",
              "    </style>\n",
              "<div class=\"wandb-row\"><div class=\"wandb-col\">\n",
              "<h3>Run history:</h3><br/><table class=\"wandb\"><tr><td>grad_norm</td><td>▄▆▂▆▃▂▃▄▅▅▄▄▅▅▄▂▂▅▆▃▄▁▃▅▅▂▃▅▄▃▄▃▅▄▆▁▇▅▂█</td></tr><tr><td>train_acc</td><td>▁▆▆▅▆▆▇▇▇▇▇▇▇▇▇▇███▇███▇████████▇███████</td></tr><tr><td>train_loss</td><td>▅█▃▃▂▂▂▂▂▂▂▂▁▂▁▁▁▁▁▁▁▁▁▂▁▁▁▁▁▁▁▁▁▁▁▁▁▁▁▁</td></tr><tr><td>val_acc</td><td>▃▃▃▃▅▆▄▄▅▄▇▆▁█▆▆▇▃█▇▇▇▇▇▇▇█▇▇▇█▆█▇█▇▇█▇█</td></tr><tr><td>val_loss</td><td>█▇▅▅▄▄▄▃▄▃▂▂▇▂▃▂▂▆▂▃▂▂▂▁▁▁▁▂▁▁▁▃▁▁▁▂▁▁▂▁</td></tr></table><br/></div><div class=\"wandb-col\">\n",
              "<h3>Run summary:</h3><br/><table class=\"wandb\"><tr><td>grad_norm</td><td>200.00041</td></tr><tr><td>train_acc</td><td>0.65779</td></tr><tr><td>train_loss</td><td>1.10358</td></tr><tr><td>val_acc</td><td>0.65588</td></tr><tr><td>val_loss</td><td>1.15978</td></tr></table>\n",
              "</div></div>\n",
              "Synced 6 W&B file(s), 0 media file(s), 0 artifact file(s) and 0 other file(s)\n",
              "<br/>Synced <strong style=\"color:#cdcd00\">FullGD_name_clf</strong>: <a href=\"https://wandb.ai/artgoldman/FullGD-HSE-RS/runs/32vpuruq\" target=\"_blank\">https://wandb.ai/artgoldman/FullGD-HSE-RS/runs/32vpuruq</a><br/>\n",
              "Find logs at: <code>./wandb/run-20220124_191123-32vpuruq/logs</code><br/>\n"
            ],
            "text/plain": [
              "<IPython.core.display.HTML object>"
            ]
          },
          "metadata": {},
          "output_type": "display_data"
        }
      ],
      "source": [
        "n_epochs = 100\n",
        "# Keep track of losses for plotting\n",
        "current_loss = 0\n",
        "all_losses = []\n",
        "\n",
        "n_hidden = 128\n",
        "rnn = RNN(n_letters, n_hidden, n_categories)\n",
        "\n",
        "criterion = nn.NLLLoss()\n",
        "learning_rate = 0.005 # If you set this too high, it might explode. If too low, it might not learn\n",
        "optimizer = torch.optim.SGD(rnn.parameters(), lr=learning_rate)\n",
        "\n",
        "\n",
        "start = time.time()\n",
        "random.seed(74)\n",
        "wandb.init(project=\"FullGD-HSE-RS\", name = 'FullGD_name_clf')\n",
        "for epoch in tqdm(range(1, n_epochs + 1)):\n",
        "    # Get a random training input and target\n",
        "    train_acc, train_loss = train_full(rnn, train_dset, optimizer, to_shuffle=True, grad_clip=200)\n",
        "    #print(\"Train. Epoch:{}\".format(epoch), train_acc, train_loss)\n",
        "    gr_norm = get_grad_norm(rnn)\n",
        "    val_acc, val_loss = validate(rnn, val_dset)\n",
        "    #print(\"Val. Epoch:{}\".format(epoch), val_acc, val_loss)\n",
        "    wandb.log({\"grad_norm\": gr_norm, \"train_loss\": train_loss, \"train_acc\": train_acc,\n",
        "               \"val_loss\": val_loss, \"val_acc\": val_acc})\n",
        "wandb.finish()"
      ]
    }
  ],
  "metadata": {
    "anaconda-cloud": {},
    "celltoolbar": "Raw Cell Format",
    "colab": {
      "collapsed_sections": [],
      "name": "FullGDchar_rnn_classification.ipynb",
      "provenance": []
    },
    "kernelspec": {
      "display_name": "Python 3",
      "language": "python",
      "name": "python3"
    },
    "language_info": {
      "codemirror_mode": {
        "name": "ipython",
        "version": 3
      },
      "file_extension": ".py",
      "mimetype": "text/x-python",
      "name": "python",
      "nbconvert_exporter": "python",
      "pygments_lexer": "ipython3",
      "version": "3.8.5"
    },
    "widgets": {
      "application/vnd.jupyter.widget-state+json": {
        "0b1a7ec792f84691854db20af60f96ba": {
          "model_module": "@jupyter-widgets/controls",
          "model_module_version": "1.5.0",
          "model_name": "DescriptionStyleModel",
          "state": {
            "_model_module": "@jupyter-widgets/controls",
            "_model_module_version": "1.5.0",
            "_model_name": "DescriptionStyleModel",
            "_view_count": null,
            "_view_module": "@jupyter-widgets/base",
            "_view_module_version": "1.2.0",
            "_view_name": "StyleView",
            "description_width": ""
          }
        },
        "165170d85aeb4207acb3820c10845099": {
          "model_module": "@jupyter-widgets/controls",
          "model_module_version": "1.5.0",
          "model_name": "VBoxModel",
          "state": {
            "_dom_classes": [],
            "_model_module": "@jupyter-widgets/controls",
            "_model_module_version": "1.5.0",
            "_model_name": "VBoxModel",
            "_view_count": null,
            "_view_module": "@jupyter-widgets/controls",
            "_view_module_version": "1.5.0",
            "_view_name": "VBoxView",
            "box_style": "",
            "children": [
              "IPY_MODEL_ef220389e4e441eda1ff1f302ab6c627",
              "IPY_MODEL_5c59dc6bb0e44a87b14f0bc69ecdcea2"
            ],
            "layout": "IPY_MODEL_6073ba4f363448f8b28f6d5c1abde3a9"
          }
        },
        "180c9a577cc9458aa892815dcf22fc5d": {
          "model_module": "@jupyter-widgets/controls",
          "model_module_version": "1.5.0",
          "model_name": "DescriptionStyleModel",
          "state": {
            "_model_module": "@jupyter-widgets/controls",
            "_model_module_version": "1.5.0",
            "_model_name": "DescriptionStyleModel",
            "_view_count": null,
            "_view_module": "@jupyter-widgets/base",
            "_view_module_version": "1.2.0",
            "_view_name": "StyleView",
            "description_width": ""
          }
        },
        "1bc3bd82c46f476787bed5164ab1fc16": {
          "model_module": "@jupyter-widgets/base",
          "model_module_version": "1.2.0",
          "model_name": "LayoutModel",
          "state": {
            "_model_module": "@jupyter-widgets/base",
            "_model_module_version": "1.2.0",
            "_model_name": "LayoutModel",
            "_view_count": null,
            "_view_module": "@jupyter-widgets/base",
            "_view_module_version": "1.2.0",
            "_view_name": "LayoutView",
            "align_content": null,
            "align_items": null,
            "align_self": null,
            "border": null,
            "bottom": null,
            "display": null,
            "flex": null,
            "flex_flow": null,
            "grid_area": null,
            "grid_auto_columns": null,
            "grid_auto_flow": null,
            "grid_auto_rows": null,
            "grid_column": null,
            "grid_gap": null,
            "grid_row": null,
            "grid_template_areas": null,
            "grid_template_columns": null,
            "grid_template_rows": null,
            "height": null,
            "justify_content": null,
            "justify_items": null,
            "left": null,
            "margin": null,
            "max_height": null,
            "max_width": null,
            "min_height": null,
            "min_width": null,
            "object_fit": null,
            "object_position": null,
            "order": null,
            "overflow": null,
            "overflow_x": null,
            "overflow_y": null,
            "padding": null,
            "right": null,
            "top": null,
            "visibility": null,
            "width": null
          }
        },
        "5c3eef99eb2a42aba20557bb040472dd": {
          "model_module": "@jupyter-widgets/controls",
          "model_module_version": "1.5.0",
          "model_name": "LabelModel",
          "state": {
            "_dom_classes": [],
            "_model_module": "@jupyter-widgets/controls",
            "_model_module_version": "1.5.0",
            "_model_name": "LabelModel",
            "_view_count": null,
            "_view_module": "@jupyter-widgets/controls",
            "_view_module_version": "1.5.0",
            "_view_name": "LabelView",
            "description": "",
            "description_tooltip": null,
            "layout": "IPY_MODEL_e7dc9cdd386749f58d3946cdb917d7c7",
            "placeholder": "​",
            "style": "IPY_MODEL_180c9a577cc9458aa892815dcf22fc5d",
            "value": " 0.01MB of 0.01MB uploaded (0.00MB deduped)\r"
          }
        },
        "5c59dc6bb0e44a87b14f0bc69ecdcea2": {
          "model_module": "@jupyter-widgets/controls",
          "model_module_version": "1.5.0",
          "model_name": "FloatProgressModel",
          "state": {
            "_dom_classes": [],
            "_model_module": "@jupyter-widgets/controls",
            "_model_module_version": "1.5.0",
            "_model_name": "FloatProgressModel",
            "_view_count": null,
            "_view_module": "@jupyter-widgets/controls",
            "_view_module_version": "1.5.0",
            "_view_name": "ProgressView",
            "bar_style": "",
            "description": "",
            "description_tooltip": null,
            "layout": "IPY_MODEL_6d1dfd051fe3435c87fec5c76a7cac5d",
            "max": 1,
            "min": 0,
            "orientation": "horizontal",
            "style": "IPY_MODEL_d29094b9dd3e4d969c305b3f837dd7da",
            "value": 1
          }
        },
        "6073ba4f363448f8b28f6d5c1abde3a9": {
          "model_module": "@jupyter-widgets/base",
          "model_module_version": "1.2.0",
          "model_name": "LayoutModel",
          "state": {
            "_model_module": "@jupyter-widgets/base",
            "_model_module_version": "1.2.0",
            "_model_name": "LayoutModel",
            "_view_count": null,
            "_view_module": "@jupyter-widgets/base",
            "_view_module_version": "1.2.0",
            "_view_name": "LayoutView",
            "align_content": null,
            "align_items": null,
            "align_self": null,
            "border": null,
            "bottom": null,
            "display": null,
            "flex": null,
            "flex_flow": null,
            "grid_area": null,
            "grid_auto_columns": null,
            "grid_auto_flow": null,
            "grid_auto_rows": null,
            "grid_column": null,
            "grid_gap": null,
            "grid_row": null,
            "grid_template_areas": null,
            "grid_template_columns": null,
            "grid_template_rows": null,
            "height": null,
            "justify_content": null,
            "justify_items": null,
            "left": null,
            "margin": null,
            "max_height": null,
            "max_width": null,
            "min_height": null,
            "min_width": null,
            "object_fit": null,
            "object_position": null,
            "order": null,
            "overflow": null,
            "overflow_x": null,
            "overflow_y": null,
            "padding": null,
            "right": null,
            "top": null,
            "visibility": null,
            "width": null
          }
        },
        "6d1dfd051fe3435c87fec5c76a7cac5d": {
          "model_module": "@jupyter-widgets/base",
          "model_module_version": "1.2.0",
          "model_name": "LayoutModel",
          "state": {
            "_model_module": "@jupyter-widgets/base",
            "_model_module_version": "1.2.0",
            "_model_name": "LayoutModel",
            "_view_count": null,
            "_view_module": "@jupyter-widgets/base",
            "_view_module_version": "1.2.0",
            "_view_name": "LayoutView",
            "align_content": null,
            "align_items": null,
            "align_self": null,
            "border": null,
            "bottom": null,
            "display": null,
            "flex": null,
            "flex_flow": null,
            "grid_area": null,
            "grid_auto_columns": null,
            "grid_auto_flow": null,
            "grid_auto_rows": null,
            "grid_column": null,
            "grid_gap": null,
            "grid_row": null,
            "grid_template_areas": null,
            "grid_template_columns": null,
            "grid_template_rows": null,
            "height": null,
            "justify_content": null,
            "justify_items": null,
            "left": null,
            "margin": null,
            "max_height": null,
            "max_width": null,
            "min_height": null,
            "min_width": null,
            "object_fit": null,
            "object_position": null,
            "order": null,
            "overflow": null,
            "overflow_x": null,
            "overflow_y": null,
            "padding": null,
            "right": null,
            "top": null,
            "visibility": null,
            "width": null
          }
        },
        "720a0773ef63459c96ae49129fd62d6f": {
          "model_module": "@jupyter-widgets/controls",
          "model_module_version": "1.5.0",
          "model_name": "VBoxModel",
          "state": {
            "_dom_classes": [],
            "_model_module": "@jupyter-widgets/controls",
            "_model_module_version": "1.5.0",
            "_model_name": "VBoxModel",
            "_view_count": null,
            "_view_module": "@jupyter-widgets/controls",
            "_view_module_version": "1.5.0",
            "_view_name": "VBoxView",
            "box_style": "",
            "children": [
              "IPY_MODEL_5c3eef99eb2a42aba20557bb040472dd",
              "IPY_MODEL_b0661e0f629d47b9978d431270771073"
            ],
            "layout": "IPY_MODEL_cc481924887d4c26a90e5d8509ef0b1b"
          }
        },
        "b0661e0f629d47b9978d431270771073": {
          "model_module": "@jupyter-widgets/controls",
          "model_module_version": "1.5.0",
          "model_name": "FloatProgressModel",
          "state": {
            "_dom_classes": [],
            "_model_module": "@jupyter-widgets/controls",
            "_model_module_version": "1.5.0",
            "_model_name": "FloatProgressModel",
            "_view_count": null,
            "_view_module": "@jupyter-widgets/controls",
            "_view_module_version": "1.5.0",
            "_view_name": "ProgressView",
            "bar_style": "",
            "description": "",
            "description_tooltip": null,
            "layout": "IPY_MODEL_1bc3bd82c46f476787bed5164ab1fc16",
            "max": 1,
            "min": 0,
            "orientation": "horizontal",
            "style": "IPY_MODEL_eb9a5ebaa14e4823b5a10fecde2586be",
            "value": 1
          }
        },
        "c90ab5275d094b9db046d0288c0851c1": {
          "model_module": "@jupyter-widgets/base",
          "model_module_version": "1.2.0",
          "model_name": "LayoutModel",
          "state": {
            "_model_module": "@jupyter-widgets/base",
            "_model_module_version": "1.2.0",
            "_model_name": "LayoutModel",
            "_view_count": null,
            "_view_module": "@jupyter-widgets/base",
            "_view_module_version": "1.2.0",
            "_view_name": "LayoutView",
            "align_content": null,
            "align_items": null,
            "align_self": null,
            "border": null,
            "bottom": null,
            "display": null,
            "flex": null,
            "flex_flow": null,
            "grid_area": null,
            "grid_auto_columns": null,
            "grid_auto_flow": null,
            "grid_auto_rows": null,
            "grid_column": null,
            "grid_gap": null,
            "grid_row": null,
            "grid_template_areas": null,
            "grid_template_columns": null,
            "grid_template_rows": null,
            "height": null,
            "justify_content": null,
            "justify_items": null,
            "left": null,
            "margin": null,
            "max_height": null,
            "max_width": null,
            "min_height": null,
            "min_width": null,
            "object_fit": null,
            "object_position": null,
            "order": null,
            "overflow": null,
            "overflow_x": null,
            "overflow_y": null,
            "padding": null,
            "right": null,
            "top": null,
            "visibility": null,
            "width": null
          }
        },
        "cc481924887d4c26a90e5d8509ef0b1b": {
          "model_module": "@jupyter-widgets/base",
          "model_module_version": "1.2.0",
          "model_name": "LayoutModel",
          "state": {
            "_model_module": "@jupyter-widgets/base",
            "_model_module_version": "1.2.0",
            "_model_name": "LayoutModel",
            "_view_count": null,
            "_view_module": "@jupyter-widgets/base",
            "_view_module_version": "1.2.0",
            "_view_name": "LayoutView",
            "align_content": null,
            "align_items": null,
            "align_self": null,
            "border": null,
            "bottom": null,
            "display": null,
            "flex": null,
            "flex_flow": null,
            "grid_area": null,
            "grid_auto_columns": null,
            "grid_auto_flow": null,
            "grid_auto_rows": null,
            "grid_column": null,
            "grid_gap": null,
            "grid_row": null,
            "grid_template_areas": null,
            "grid_template_columns": null,
            "grid_template_rows": null,
            "height": null,
            "justify_content": null,
            "justify_items": null,
            "left": null,
            "margin": null,
            "max_height": null,
            "max_width": null,
            "min_height": null,
            "min_width": null,
            "object_fit": null,
            "object_position": null,
            "order": null,
            "overflow": null,
            "overflow_x": null,
            "overflow_y": null,
            "padding": null,
            "right": null,
            "top": null,
            "visibility": null,
            "width": null
          }
        },
        "d29094b9dd3e4d969c305b3f837dd7da": {
          "model_module": "@jupyter-widgets/controls",
          "model_module_version": "1.5.0",
          "model_name": "ProgressStyleModel",
          "state": {
            "_model_module": "@jupyter-widgets/controls",
            "_model_module_version": "1.5.0",
            "_model_name": "ProgressStyleModel",
            "_view_count": null,
            "_view_module": "@jupyter-widgets/base",
            "_view_module_version": "1.2.0",
            "_view_name": "StyleView",
            "bar_color": null,
            "description_width": ""
          }
        },
        "e7dc9cdd386749f58d3946cdb917d7c7": {
          "model_module": "@jupyter-widgets/base",
          "model_module_version": "1.2.0",
          "model_name": "LayoutModel",
          "state": {
            "_model_module": "@jupyter-widgets/base",
            "_model_module_version": "1.2.0",
            "_model_name": "LayoutModel",
            "_view_count": null,
            "_view_module": "@jupyter-widgets/base",
            "_view_module_version": "1.2.0",
            "_view_name": "LayoutView",
            "align_content": null,
            "align_items": null,
            "align_self": null,
            "border": null,
            "bottom": null,
            "display": null,
            "flex": null,
            "flex_flow": null,
            "grid_area": null,
            "grid_auto_columns": null,
            "grid_auto_flow": null,
            "grid_auto_rows": null,
            "grid_column": null,
            "grid_gap": null,
            "grid_row": null,
            "grid_template_areas": null,
            "grid_template_columns": null,
            "grid_template_rows": null,
            "height": null,
            "justify_content": null,
            "justify_items": null,
            "left": null,
            "margin": null,
            "max_height": null,
            "max_width": null,
            "min_height": null,
            "min_width": null,
            "object_fit": null,
            "object_position": null,
            "order": null,
            "overflow": null,
            "overflow_x": null,
            "overflow_y": null,
            "padding": null,
            "right": null,
            "top": null,
            "visibility": null,
            "width": null
          }
        },
        "eb9a5ebaa14e4823b5a10fecde2586be": {
          "model_module": "@jupyter-widgets/controls",
          "model_module_version": "1.5.0",
          "model_name": "ProgressStyleModel",
          "state": {
            "_model_module": "@jupyter-widgets/controls",
            "_model_module_version": "1.5.0",
            "_model_name": "ProgressStyleModel",
            "_view_count": null,
            "_view_module": "@jupyter-widgets/base",
            "_view_module_version": "1.2.0",
            "_view_name": "StyleView",
            "bar_color": null,
            "description_width": ""
          }
        },
        "ef220389e4e441eda1ff1f302ab6c627": {
          "model_module": "@jupyter-widgets/controls",
          "model_module_version": "1.5.0",
          "model_name": "LabelModel",
          "state": {
            "_dom_classes": [],
            "_model_module": "@jupyter-widgets/controls",
            "_model_module_version": "1.5.0",
            "_model_name": "LabelModel",
            "_view_count": null,
            "_view_module": "@jupyter-widgets/controls",
            "_view_module_version": "1.5.0",
            "_view_name": "LabelView",
            "description": "",
            "description_tooltip": null,
            "layout": "IPY_MODEL_c90ab5275d094b9db046d0288c0851c1",
            "placeholder": "​",
            "style": "IPY_MODEL_0b1a7ec792f84691854db20af60f96ba",
            "value": " 0.01MB of 0.01MB uploaded (0.00MB deduped)\r"
          }
        }
      }
    }
  },
  "nbformat": 4,
  "nbformat_minor": 0
}