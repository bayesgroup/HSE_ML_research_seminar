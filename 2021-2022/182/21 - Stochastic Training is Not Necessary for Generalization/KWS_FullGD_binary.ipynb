{
 "cells": [
  {
   "cell_type": "markdown",
   "metadata": {
    "id": "evr1Ma5iwsou"
   },
   "source": [
    "# Imports"
   ]
  },
  {
   "cell_type": "code",
   "execution_count": 1,
   "metadata": {
    "colab": {
     "base_uri": "https://localhost:8080/"
    },
    "id": "4wbsmxUNvtbi",
    "outputId": "5fbf9954-d85a-46f7-c8a7-729ac1cc86ed"
   },
   "outputs": [
    {
     "name": "stdout",
     "output_type": "stream",
     "text": [
      "Requirement already satisfied: wandb in /home/hdilab01/anaconda3/lib/python3.8/site-packages (0.12.9)\n",
      "Requirement already satisfied: requests<3,>=2.0.0 in /home/hdilab01/anaconda3/lib/python3.8/site-packages (from wandb) (2.24.0)\n",
      "Requirement already satisfied: protobuf>=3.12.0 in /home/hdilab01/anaconda3/lib/python3.8/site-packages (from wandb) (3.19.3)\n",
      "Requirement already satisfied: sentry-sdk>=1.0.0 in /home/hdilab01/anaconda3/lib/python3.8/site-packages (from wandb) (1.5.2)\n",
      "Requirement already satisfied: promise<3,>=2.0 in /home/hdilab01/anaconda3/lib/python3.8/site-packages (from wandb) (2.3)\n",
      "Requirement already satisfied: psutil>=5.0.0 in /home/hdilab01/anaconda3/lib/python3.8/site-packages (from wandb) (5.7.2)\n",
      "Requirement already satisfied: configparser>=3.8.1 in /home/hdilab01/anaconda3/lib/python3.8/site-packages (from wandb) (5.2.0)\n",
      "Requirement already satisfied: yaspin>=1.0.0 in /home/hdilab01/anaconda3/lib/python3.8/site-packages (from wandb) (2.1.0)\n",
      "Requirement already satisfied: pathtools in /home/hdilab01/anaconda3/lib/python3.8/site-packages (from wandb) (0.1.2)\n",
      "Requirement already satisfied: six>=1.13.0 in /home/hdilab01/anaconda3/lib/python3.8/site-packages (from wandb) (1.15.0)\n",
      "Requirement already satisfied: Click!=8.0.0,>=7.0 in /home/hdilab01/anaconda3/lib/python3.8/site-packages (from wandb) (7.1.2)\n",
      "Requirement already satisfied: shortuuid>=0.5.0 in /home/hdilab01/anaconda3/lib/python3.8/site-packages (from wandb) (1.0.8)\n",
      "Requirement already satisfied: subprocess32>=3.5.3 in /home/hdilab01/anaconda3/lib/python3.8/site-packages (from wandb) (3.5.4)\n",
      "Requirement already satisfied: GitPython>=1.0.0 in /home/hdilab01/anaconda3/lib/python3.8/site-packages (from wandb) (3.1.26)\n",
      "Requirement already satisfied: docker-pycreds>=0.4.0 in /home/hdilab01/anaconda3/lib/python3.8/site-packages (from wandb) (0.4.0)\n",
      "Requirement already satisfied: PyYAML in /home/hdilab01/anaconda3/lib/python3.8/site-packages (from wandb) (5.3.1)\n",
      "Requirement already satisfied: python-dateutil>=2.6.1 in /home/hdilab01/anaconda3/lib/python3.8/site-packages (from wandb) (2.8.1)\n",
      "Requirement already satisfied: urllib3!=1.25.0,!=1.25.1,<1.26,>=1.21.1 in /home/hdilab01/anaconda3/lib/python3.8/site-packages (from requests<3,>=2.0.0->wandb) (1.25.11)\n",
      "Requirement already satisfied: certifi>=2017.4.17 in /home/hdilab01/anaconda3/lib/python3.8/site-packages (from requests<3,>=2.0.0->wandb) (2020.6.20)\n",
      "Requirement already satisfied: chardet<4,>=3.0.2 in /home/hdilab01/anaconda3/lib/python3.8/site-packages (from requests<3,>=2.0.0->wandb) (3.0.4)\n",
      "Requirement already satisfied: idna<3,>=2.5 in /home/hdilab01/anaconda3/lib/python3.8/site-packages (from requests<3,>=2.0.0->wandb) (2.10)\n",
      "Requirement already satisfied: termcolor<2.0.0,>=1.1.0 in /home/hdilab01/anaconda3/lib/python3.8/site-packages (from yaspin>=1.0.0->wandb) (1.1.0)\n",
      "Requirement already satisfied: gitdb<5,>=4.0.1 in /home/hdilab01/anaconda3/lib/python3.8/site-packages (from GitPython>=1.0.0->wandb) (4.0.9)\n",
      "Requirement already satisfied: smmap<6,>=3.0.1 in /home/hdilab01/anaconda3/lib/python3.8/site-packages (from gitdb<5,>=4.0.1->GitPython>=1.0.0->wandb) (5.0.0)\n",
      "Note: you may need to restart the kernel to use updated packages.\n"
     ]
    }
   ],
   "source": [
    "%pip install wandb"
   ]
  },
  {
   "cell_type": "code",
   "execution_count": 2,
   "metadata": {
    "colab": {
     "base_uri": "https://localhost:8080/",
     "height": 68
    },
    "id": "Vpv8b0OlwHAa",
    "outputId": "5b032238-fe60-4c75-db9c-85b257162319"
   },
   "outputs": [
    {
     "name": "stderr",
     "output_type": "stream",
     "text": [
      "\u001b[34m\u001b[1mwandb\u001b[0m: Currently logged in as: \u001b[33martgoldman\u001b[0m (use `wandb login --relogin` to force relogin)\n"
     ]
    },
    {
     "data": {
      "text/plain": [
       "True"
      ]
     },
     "execution_count": 2,
     "metadata": {},
     "output_type": "execute_result"
    }
   ],
   "source": [
    "import wandb\n",
    "\n",
    "wandb.login()"
   ]
  },
  {
   "cell_type": "code",
   "execution_count": 3,
   "metadata": {
    "colab": {
     "base_uri": "https://localhost:8080/"
    },
    "id": "ViHQQ4eTwKH5",
    "outputId": "bb5348b8-27b8-4794-a6cb-0cb4ec851df3"
   },
   "outputs": [
    {
     "name": "stdout",
     "output_type": "stream",
     "text": [
      "Requirement already satisfied: torchaudio==0.9.1 in /home/hdilab01/anaconda3/lib/python3.8/site-packages (0.9.1)\n",
      "Requirement already satisfied: torch==1.9.1 in /home/hdilab01/anaconda3/lib/python3.8/site-packages (from torchaudio==0.9.1) (1.9.1)\n",
      "Requirement already satisfied: typing-extensions in /home/hdilab01/anaconda3/lib/python3.8/site-packages (from torch==1.9.1->torchaudio==0.9.1) (3.7.4.3)\n",
      "Note: you may need to restart the kernel to use updated packages.\n"
     ]
    }
   ],
   "source": [
    "%pip install torchaudio==0.9.1"
   ]
  },
  {
   "cell_type": "code",
   "execution_count": 4,
   "metadata": {
    "id": "G7StEUGYwNHn"
   },
   "outputs": [],
   "source": [
    "from typing import Tuple, Union, List, Callable, Optional\n",
    "from tqdm import tqdm\n",
    "from itertools import islice\n",
    "import pathlib\n",
    "import dataclasses\n",
    "\n",
    "import numpy as np\n",
    "import pandas as pd\n",
    "\n",
    "import torch\n",
    "import torch.nn.functional as F\n",
    "from torch import nn\n",
    "from torch import distributions\n",
    "from torch.utils.data import DataLoader, Dataset, WeightedRandomSampler\n",
    "from torch.nn.utils.rnn import pad_sequence\n",
    "\n",
    "import torchaudio\n",
    "from IPython import display as display_"
   ]
  },
  {
   "cell_type": "markdown",
   "metadata": {
    "id": "S-lnfjo6w0nS"
   },
   "source": [
    "# Task\n",
    "In this notebook we will implement a model for finding a keyword in a stream.\n",
    "\n",
    "We will implement the version with CRNN because it is easy and improves the model. (from https://www.dropbox.com/s/22ah2ba7dug6pzw/KWS_Attention.pdf)"
   ]
  },
  {
   "cell_type": "code",
   "execution_count": 5,
   "metadata": {
    "id": "DMrC2kevwVKY"
   },
   "outputs": [],
   "source": [
    "@dataclasses.dataclass\n",
    "class TaskConfig:\n",
    "    keyword: str = 'sheila'  # We will use 1 key word -- 'sheila'\n",
    "    batch_size: int = 128\n",
    "    learning_rate: float = 3e-4\n",
    "    momentum: float = 0.9\n",
    "    weight_decay: float = 1e-5\n",
    "    num_epochs: int = 20\n",
    "    n_mels: int = 40\n",
    "    cnn_out_channels: int = 8\n",
    "    kernel_size: Tuple[int, int] = (5, 20)\n",
    "    stride: Tuple[int, int] = (2, 8)\n",
    "    hidden_size: int = 64\n",
    "    gru_num_layers: int = 2\n",
    "    bidirectional: bool = False\n",
    "    num_classes: int = 2\n",
    "    sample_rate: int = 16000\n",
    "    device: torch.device = torch.device(\n",
    "        'cuda:0' if torch.cuda.is_available() else 'cpu')"
   ]
  },
  {
   "cell_type": "markdown",
   "metadata": {
    "id": "V_tI9mALw6mm"
   },
   "source": [
    "# Data"
   ]
  },
  {
   "cell_type": "code",
   "execution_count": 6,
   "metadata": {
    "colab": {
     "base_uri": "https://localhost:8080/"
    },
    "id": "k9-32mcUwXrX",
    "outputId": "5506b346-de40-4854-a42b-b388a0fb6792"
   },
   "outputs": [
    {
     "name": "stdout",
     "output_type": "stream",
     "text": [
      "--2022-01-26 12:02:31--  http://download.tensorflow.org/data/speech_commands_v0.01.tar.gz\n",
      "Resolving download.tensorflow.org (download.tensorflow.org)... 64.233.162.128, 2a00:1450:4010:c05::80\n",
      "Connecting to download.tensorflow.org (download.tensorflow.org)|64.233.162.128|:80... connected.\n",
      "HTTP request sent, awaiting response... 200 OK\n",
      "Length: 1489096277 (1,4G) [application/gzip]\n",
      "Saving to: ‘speech_commands_v0.01.tar.gz’\n",
      "\n",
      "speech_commands_v0. 100%[===================>]   1,39G  39,4MB/s    in 37s     \n",
      "\n",
      "2022-01-26 12:03:09 (38,4 MB/s) - ‘speech_commands_v0.01.tar.gz’ saved [1489096277/1489096277]\n",
      "\n",
      "mkdir: cannot create directory ‘speech_commands’: File exists\n"
     ]
    }
   ],
   "source": [
    "!wget http://download.tensorflow.org/data/speech_commands_v0.01.tar.gz -O speech_commands_v0.01.tar.gz\n",
    "!mkdir speech_commands && tar -C speech_commands -xvzf speech_commands_v0.01.tar.gz 1> log"
   ]
  },
  {
   "cell_type": "code",
   "execution_count": 7,
   "metadata": {
    "id": "vG18itsIwkCP"
   },
   "outputs": [],
   "source": [
    "class SpeechCommandDataset(Dataset):\n",
    "\n",
    "    def __init__(\n",
    "        self,\n",
    "        transform: Optional[Callable] = None,\n",
    "        path2dir: str = None,\n",
    "        keywords: Union[str, List[str]] = None,\n",
    "        csv: Optional[pd.DataFrame] = None\n",
    "    ):        \n",
    "        self.transform = transform\n",
    "\n",
    "        if csv is None:\n",
    "            path2dir = pathlib.Path(path2dir)\n",
    "            keywords = keywords if isinstance(keywords, list) else [keywords]\n",
    "            \n",
    "            all_keywords = [\n",
    "                p.stem for p in path2dir.glob('*')\n",
    "                if p.is_dir() and not p.stem.startswith('_')\n",
    "            ]\n",
    "\n",
    "            triplets = []\n",
    "            for keyword in all_keywords:\n",
    "                paths = (path2dir / keyword).rglob('*.wav')\n",
    "                if keyword in keywords:\n",
    "                    for path2wav in paths:\n",
    "                        triplets.append((path2wav.as_posix(), keyword, 1))\n",
    "                else:\n",
    "                    for path2wav in paths:\n",
    "                        triplets.append((path2wav.as_posix(), keyword, 0))\n",
    "            \n",
    "            self.csv = pd.DataFrame(\n",
    "                triplets,\n",
    "                columns=['path', 'keyword', 'label']\n",
    "            )\n",
    "\n",
    "        else:\n",
    "            self.csv = csv\n",
    "    \n",
    "    def __getitem__(self, index: int):\n",
    "        instance = self.csv.iloc[index]\n",
    "\n",
    "        path2wav = instance['path']\n",
    "        wav, sr = torchaudio.load(path2wav)\n",
    "        wav = wav.sum(dim=0)\n",
    "        \n",
    "        if self.transform:\n",
    "            wav = self.transform(wav)\n",
    "\n",
    "        return {\n",
    "            'wav': wav,\n",
    "            'keywors': instance['keyword'],\n",
    "            'label': instance['label']\n",
    "        }\n",
    "\n",
    "    def __len__(self):\n",
    "        return len(self.csv)"
   ]
  },
  {
   "cell_type": "code",
   "execution_count": 8,
   "metadata": {
    "id": "Hk_A12d3wn47"
   },
   "outputs": [],
   "source": [
    "dataset = SpeechCommandDataset(\n",
    "    path2dir='speech_commands', keywords=TaskConfig.keyword\n",
    ")"
   ]
  },
  {
   "cell_type": "markdown",
   "metadata": {
    "id": "JXDAq0W5w_k8"
   },
   "source": [
    "## Augmentations"
   ]
  },
  {
   "cell_type": "code",
   "execution_count": 9,
   "metadata": {
    "id": "4dwTOahcwpw2"
   },
   "outputs": [],
   "source": [
    "class AugsCreation:\n",
    "\n",
    "    def __init__(self):\n",
    "        self.background_noises = [\n",
    "            'speech_commands/_background_noise_/white_noise.wav',\n",
    "            'speech_commands/_background_noise_/dude_miaowing.wav',\n",
    "            'speech_commands/_background_noise_/doing_the_dishes.wav',\n",
    "            'speech_commands/_background_noise_/exercise_bike.wav',\n",
    "            'speech_commands/_background_noise_/pink_noise.wav',\n",
    "            'speech_commands/_background_noise_/running_tap.wav'\n",
    "        ]\n",
    "\n",
    "        self.noises = [\n",
    "            torchaudio.load(p)[0].squeeze()\n",
    "            for p in self.background_noises\n",
    "        ]\n",
    "\n",
    "    def add_rand_noise(self, audio):\n",
    "\n",
    "        # randomly choose noise\n",
    "        noise_num = torch.randint(low=0, high=len(\n",
    "            self.background_noises), size=(1,)).item()\n",
    "        noise = self.noises[noise_num]\n",
    "\n",
    "        noise_level = torch.Tensor([1])  # [0, 40]\n",
    "\n",
    "        noise_energy = torch.norm(noise)\n",
    "        audio_energy = torch.norm(audio)\n",
    "        alpha = (audio_energy / noise_energy) * \\\n",
    "            torch.pow(10, -noise_level / 20)\n",
    "\n",
    "        start = torch.randint(\n",
    "            low=0,\n",
    "            high=max(int(noise.size(0) - audio.size(0) - 1), 1),\n",
    "            size=(1,)\n",
    "        ).item()\n",
    "        noise_sample = noise[start: start + audio.size(0)]\n",
    "\n",
    "        audio_new = audio + alpha * noise_sample\n",
    "        audio_new.clamp_(-1, 1)\n",
    "        return audio_new\n",
    "\n",
    "    def __call__(self, wav):\n",
    "        aug_num = torch.randint(low=0, high=4, size=(1,)).item()   # choose 1 random aug from augs\n",
    "        augs = [\n",
    "            lambda x: x,\n",
    "            lambda x: (x + distributions.Normal(0, 0.01).sample(x.size())).clamp_(-1, 1),\n",
    "            lambda x: torchaudio.transforms.Vol(.25)(x),\n",
    "            lambda x: self.add_rand_noise(x)\n",
    "        ]\n",
    "\n",
    "        return augs[aug_num](wav)"
   ]
  },
  {
   "cell_type": "code",
   "execution_count": 10,
   "metadata": {
    "id": "1ZJOebF8xDJ7"
   },
   "outputs": [],
   "source": [
    "torch.manual_seed(68)\n",
    "indexes = torch.randperm(len(dataset))\n",
    "train_indexes = indexes[:int(len(dataset) * 0.8)]\n",
    "val_indexes = indexes[int(len(dataset) * 0.8):]\n",
    "\n",
    "train_df = dataset.csv.iloc[train_indexes].reset_index(drop=True)\n",
    "val_df = dataset.csv.iloc[val_indexes].reset_index(drop=True)"
   ]
  },
  {
   "cell_type": "code",
   "execution_count": 11,
   "metadata": {
    "id": "dLQhdTITxFte"
   },
   "outputs": [],
   "source": [
    "# Sample is a dict of utt, word and label\n",
    "train_set = SpeechCommandDataset(csv=train_df, transform=AugsCreation())\n",
    "val_set = SpeechCommandDataset(csv=val_df)"
   ]
  },
  {
   "cell_type": "markdown",
   "metadata": {
    "id": "XLaFUR_jxLVs"
   },
   "source": [
    "## Sampler for oversampling:"
   ]
  },
  {
   "cell_type": "code",
   "execution_count": 12,
   "metadata": {
    "id": "5mWKPrSrxIvG"
   },
   "outputs": [],
   "source": [
    "# We should provide to WeightedRandomSampler _weight for every sample_; by default it is 1/len(target)\n",
    "\n",
    "def get_sampler(target):\n",
    "    class_sample_count = np.array(\n",
    "        [len(np.where(target == t)[0]) for t in np.unique(target)])   # for every class count it's number of occ.\n",
    "    weight = 1. / class_sample_count\n",
    "    samples_weight = np.array([weight[t] for t in target])\n",
    "    samples_weight = torch.from_numpy(samples_weight)\n",
    "    samples_weigth = samples_weight.float()\n",
    "    sampler = WeightedRandomSampler(samples_weight, len(samples_weight))\n",
    "    return sampler"
   ]
  },
  {
   "cell_type": "code",
   "execution_count": 13,
   "metadata": {
    "id": "gXrVHhm-xOXo"
   },
   "outputs": [],
   "source": [
    "train_sampler = get_sampler(train_set.csv['label'].values)\n"
   ]
  },
  {
   "cell_type": "code",
   "execution_count": 14,
   "metadata": {
    "id": "14vMR7blxP5-"
   },
   "outputs": [],
   "source": [
    "class Collator:\n",
    "    \n",
    "    def __call__(self, data):\n",
    "        wavs = []\n",
    "        labels = []    \n",
    "\n",
    "        for el in data:\n",
    "            wavs.append(el['wav'])\n",
    "            labels.append(el['label'])\n",
    "\n",
    "        # torch.nn.utils.rnn.pad_sequence takes list(Tensors) and returns padded (with 0.0) Tensor\n",
    "        wavs = pad_sequence(wavs, batch_first=True)    \n",
    "        labels = torch.Tensor(labels).long()\n",
    "        return wavs, labels"
   ]
  },
  {
   "cell_type": "markdown",
   "metadata": {
    "id": "bwU5BkGcxUT7"
   },
   "source": [
    "## Dataloaders"
   ]
  },
  {
   "cell_type": "code",
   "execution_count": 15,
   "metadata": {
    "id": "BASlaKdJxR1_"
   },
   "outputs": [],
   "source": [
    "# Here we are obliged to use shuffle=False because of our sampler with randomness inside.\n",
    "\n",
    "train_loader = DataLoader(train_set, batch_size=TaskConfig.batch_size,\n",
    "                          shuffle=False, collate_fn=Collator(),\n",
    "                          sampler=train_sampler,\n",
    "                          num_workers=2)\n",
    "\n",
    "val_loader = DataLoader(val_set, batch_size=TaskConfig.batch_size,\n",
    "                        shuffle=False, collate_fn=Collator(),\n",
    "                        num_workers=2)"
   ]
  },
  {
   "cell_type": "code",
   "execution_count": 16,
   "metadata": {
    "id": "kFMuMzXEEAWk"
   },
   "outputs": [],
   "source": [
    "batch, labels = next(iter(train_loader))"
   ]
  },
  {
   "cell_type": "code",
   "execution_count": 17,
   "metadata": {
    "colab": {
     "base_uri": "https://localhost:8080/",
     "height": 293
    },
    "id": "dJzvTprVEEga",
    "outputId": "8c6e50f7-d71a-437c-fcb6-b4ccf79fd2b5"
   },
   "outputs": [
    {
     "name": "stdout",
     "output_type": "stream",
     "text": [
      "~~~~\n"
     ]
    },
    {
     "data": {
      "text/html": [
       "\n",
       "                <audio  controls=\"controls\" >\n",
       "                    <source src=\"data:audio/wav;base64,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\" type=\"audio/wav\" />\n",
       "                    Your browser does not support the audio element.\n",
       "                </audio>\n",
       "              "
      ],
      "text/plain": [
       "<IPython.lib.display.Audio object>"
      ]
     },
     "metadata": {},
     "output_type": "display_data"
    },
    {
     "name": "stdout",
     "output_type": "stream",
     "text": [
      "Not sheila\n",
      "~~~~\n"
     ]
    },
    {
     "data": {
      "text/html": [
       "\n",
       "                <audio  controls=\"controls\" >\n",
       "                    <source src=\"data:audio/wav;base64,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\" type=\"audio/wav\" />\n",
       "                    Your browser does not support the audio element.\n",
       "                </audio>\n",
       "              "
      ],
      "text/plain": [
       "<IPython.lib.display.Audio object>"
      ]
     },
     "metadata": {},
     "output_type": "display_data"
    },
    {
     "name": "stdout",
     "output_type": "stream",
     "text": [
      "sheila\n",
      "~~~~\n"
     ]
    },
    {
     "data": {
      "text/html": [
       "\n",
       "                <audio  controls=\"controls\" >\n",
       "                    <source src=\"data:audio/wav;base64,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\" type=\"audio/wav\" />\n",
       "                    Your browser does not support the audio element.\n",
       "                </audio>\n",
       "              "
      ],
      "text/plain": [
       "<IPython.lib.display.Audio object>"
      ]
     },
     "metadata": {},
     "output_type": "display_data"
    },
    {
     "name": "stdout",
     "output_type": "stream",
     "text": [
      "sheila\n"
     ]
    }
   ],
   "source": [
    "from IPython import display\n",
    "\n",
    "for i in range(3):\n",
    "    print(\"~~~~\")\n",
    "    display.display(display.Audio(batch[i], rate=16_000))\n",
    "    if labels[i].item() == 0:\n",
    "        print(\"Not\", TaskConfig.keyword)\n",
    "    else:\n",
    "        print(TaskConfig.keyword)"
   ]
  },
  {
   "cell_type": "markdown",
   "metadata": {
    "id": "ei_5-duLxZLr"
   },
   "source": [
    "## Creating MelSpecs on GPU for speeeed:"
   ]
  },
  {
   "cell_type": "code",
   "execution_count": 18,
   "metadata": {
    "id": "5O8fgSRsxWwP"
   },
   "outputs": [],
   "source": [
    "class LogMelspec:\n",
    "\n",
    "    def __init__(self, is_train, config):\n",
    "        # with augmentations\n",
    "        if is_train:\n",
    "            self.melspec = nn.Sequential(\n",
    "                torchaudio.transforms.MelSpectrogram(\n",
    "                    sample_rate=config.sample_rate,\n",
    "                    n_fft=400,\n",
    "                    win_length=400,\n",
    "                    hop_length=160,\n",
    "                    n_mels=config.n_mels\n",
    "                ),\n",
    "                torchaudio.transforms.FrequencyMasking(freq_mask_param=15),\n",
    "                torchaudio.transforms.TimeMasking(time_mask_param=35),\n",
    "            ).to(config.device)\n",
    "\n",
    "        # no augmentations\n",
    "        else:\n",
    "            self.melspec = torchaudio.transforms.MelSpectrogram(\n",
    "                sample_rate=config.sample_rate,\n",
    "                n_fft=400,\n",
    "                win_length=400,\n",
    "                hop_length=160,\n",
    "                n_mels=config.n_mels\n",
    "            ).to(config.device)\n",
    "\n",
    "    def __call__(self, batch):\n",
    "        # already on device\n",
    "        return torch.log(self.melspec(batch).clamp_(min=1e-9, max=1e9))"
   ]
  },
  {
   "cell_type": "code",
   "execution_count": 19,
   "metadata": {
    "id": "qwNnG9gVxcMT"
   },
   "outputs": [],
   "source": [
    "melspec_train = LogMelspec(is_train=True, config=TaskConfig)\n",
    "melspec_val = LogMelspec(is_train=False, config=TaskConfig)"
   ]
  },
  {
   "cell_type": "markdown",
   "metadata": {
    "id": "RPpHDhdoxgc3"
   },
   "source": [
    "## Quality measurment functions:"
   ]
  },
  {
   "cell_type": "code",
   "execution_count": 20,
   "metadata": {
    "id": "Nr5SbGr8xeDf"
   },
   "outputs": [],
   "source": [
    "# FA - true: 0, model: 1\n",
    "# FR - true: 1, model: 0\n",
    "\n",
    "def count_FA_FR(preds, labels):\n",
    "    FA = torch.sum(preds[labels == 0])\n",
    "    FR = torch.sum(labels[preds == 0])\n",
    "    \n",
    "    # torch.numel - returns total number of elements in tensor\n",
    "    return FA.item() / torch.numel(preds), FR.item() / torch.numel(preds)"
   ]
  },
  {
   "cell_type": "code",
   "execution_count": 21,
   "metadata": {
    "id": "Sd5-444RxjUC"
   },
   "outputs": [],
   "source": [
    "def get_au_fa_fr(probs, labels):\n",
    "    sorted_probs, _ = torch.sort(probs)\n",
    "    sorted_probs = torch.cat((torch.Tensor([0]), sorted_probs, torch.Tensor([1])))\n",
    "    labels = torch.cat(labels, dim=0)\n",
    "        \n",
    "    FAs, FRs = [], []\n",
    "    for prob in sorted_probs:\n",
    "        preds = (probs >= prob) * 1\n",
    "        FA, FR = count_FA_FR(preds, labels)        \n",
    "        FAs.append(FA)\n",
    "        FRs.append(FR)\n",
    "    # plt.plot(FAs, FRs)\n",
    "    # plt.show()\n",
    "\n",
    "    # ~ area under curve using trapezoidal rule\n",
    "    return -np.trapz(FRs, x=FAs)\n"
   ]
  },
  {
   "cell_type": "markdown",
   "metadata": {
    "id": "DtIb4iUJxuQa"
   },
   "source": [
    "# Model"
   ]
  },
  {
   "cell_type": "code",
   "execution_count": 22,
   "metadata": {
    "colab": {
     "base_uri": "https://localhost:8080/"
    },
    "id": "A16PaeMixnI_",
    "outputId": "8a4cb5a2-e29e-4d3c-e598-b006135304fa"
   },
   "outputs": [
    {
     "data": {
      "text/plain": [
       "CRNN(\n",
       "  (conv): Sequential(\n",
       "    (0): Conv2d(1, 8, kernel_size=(5, 20), stride=(2, 8))\n",
       "    (1): Flatten(start_dim=1, end_dim=2)\n",
       "  )\n",
       "  (gru): GRU(144, 64, num_layers=2, batch_first=True, dropout=0.1)\n",
       "  (attention): Attention(\n",
       "    (energy): Sequential(\n",
       "      (0): Linear(in_features=64, out_features=64, bias=True)\n",
       "      (1): Tanh()\n",
       "      (2): Linear(in_features=64, out_features=1, bias=True)\n",
       "    )\n",
       "  )\n",
       "  (classifier): Linear(in_features=64, out_features=2, bias=True)\n",
       ")"
      ]
     },
     "execution_count": 22,
     "metadata": {},
     "output_type": "execute_result"
    }
   ],
   "source": [
    "class Attention(nn.Module):\n",
    "\n",
    "    def __init__(self, hidden_size: int):\n",
    "        super().__init__()\n",
    "\n",
    "        self.energy = nn.Sequential(\n",
    "            nn.Linear(hidden_size, hidden_size),\n",
    "            nn.Tanh(),\n",
    "            nn.Linear(hidden_size, 1)\n",
    "        )\n",
    "    \n",
    "    def forward(self, input):\n",
    "        energy = self.energy(input)\n",
    "        alpha = torch.softmax(energy, dim=-2)\n",
    "        return (input * alpha).sum(dim=-2)\n",
    "\n",
    "class CRNN(nn.Module):\n",
    "\n",
    "    def __init__(self, config: TaskConfig):\n",
    "        super().__init__()\n",
    "        self.config = config\n",
    "\n",
    "        self.conv = nn.Sequential(\n",
    "            nn.Conv2d(\n",
    "                in_channels=1, out_channels=config.cnn_out_channels,\n",
    "                kernel_size=config.kernel_size, stride=config.stride\n",
    "            ),\n",
    "            nn.Flatten(start_dim=1, end_dim=2),\n",
    "        )\n",
    "\n",
    "        self.conv_out_frequency = (config.n_mels - config.kernel_size[0]) // \\\n",
    "            config.stride[0] + 1\n",
    "        \n",
    "        self.gru = nn.GRU(\n",
    "            input_size=self.conv_out_frequency * config.cnn_out_channels,\n",
    "            hidden_size=config.hidden_size,\n",
    "            num_layers=config.gru_num_layers,\n",
    "            dropout=0.1,\n",
    "            bidirectional=config.bidirectional,\n",
    "            batch_first=True\n",
    "        )\n",
    "\n",
    "        self.attention = Attention(config.hidden_size)\n",
    "        self.classifier = nn.Linear(config.hidden_size, config.num_classes)\n",
    "    \n",
    "    def forward(self, input):\n",
    "        input = input.unsqueeze(dim=1)\n",
    "        conv_output = self.conv(input).transpose(-1, -2)\n",
    "        gru_output, _ = self.gru(conv_output)\n",
    "        contex_vector = self.attention(gru_output)\n",
    "        output = self.classifier(contex_vector)\n",
    "        return output\n",
    "\n",
    "config = TaskConfig()\n",
    "model = CRNN(config)\n",
    "model"
   ]
  },
  {
   "cell_type": "code",
   "execution_count": 23,
   "metadata": {
    "id": "IhY2hXnix3ze"
   },
   "outputs": [],
   "source": [
    "def train_epoch(model, opt, loader, log_melspec, device, clip_grad=None):\n",
    "    model.train()\n",
    "    for i, (batch, labels) in tqdm(enumerate(loader), total=len(loader)):\n",
    "        batch, labels = batch.to(device), labels.to(device)\n",
    "        batch = log_melspec(batch)\n",
    "\n",
    "        opt.zero_grad()\n",
    "\n",
    "        # run model # with autocast():\n",
    "        logits = model(batch)\n",
    "        # we need probabilities so we use softmax & CE separately\n",
    "        probs = F.softmax(logits, dim=-1)\n",
    "        loss = F.cross_entropy(logits, labels)\n",
    "\n",
    "        loss.backward()\n",
    "        if clip_grad is not None:\n",
    "            torch.nn.utils.clip_grad_norm_(model.parameters(), clip_grad)\n",
    "\n",
    "        opt.step()\n",
    "\n",
    "        # logging\n",
    "        argmax_probs = torch.argmax(probs, dim=-1)\n",
    "        FA, FR = count_FA_FR(argmax_probs, labels)\n",
    "        acc = torch.sum(argmax_probs == labels) / torch.numel(argmax_probs)\n",
    "\n",
    "    return acc"
   ]
  },
  {
   "cell_type": "code",
   "execution_count": 24,
   "metadata": {
    "id": "I4nH4UC1x4p5"
   },
   "outputs": [],
   "source": [
    "@torch.no_grad()\n",
    "def validation(model, loader, log_melspec, device):\n",
    "    model.eval()\n",
    "\n",
    "    val_losses, accs, FAs, FRs = [], [], [], []\n",
    "    all_probs, all_labels = [], []\n",
    "    for i, (batch, labels) in tqdm(enumerate(loader)):\n",
    "        batch, labels = batch.to(device), labels.to(device)\n",
    "        batch = log_melspec(batch)\n",
    "\n",
    "        output = model(batch)\n",
    "        # we need probabilities so we use softmax & CE separately\n",
    "        probs = F.softmax(output, dim=-1)\n",
    "        loss = F.cross_entropy(output, labels)\n",
    "\n",
    "        # logging\n",
    "        argmax_probs = torch.argmax(probs, dim=-1)\n",
    "        all_probs.append(probs[:, 1].cpu())\n",
    "        all_labels.append(labels.cpu())\n",
    "        val_losses.append(loss.item())\n",
    "        \"\"\"\n",
    "        accs.append(\n",
    "            torch.sum(argmax_probs == labels).item()\n",
    "        )\n",
    "        \"\"\"\n",
    "        accs += (argmax_probs == labels).tolist()\n",
    "        FA, FR = count_FA_FR(argmax_probs, labels)\n",
    "        FAs.append(FA)\n",
    "        FRs.append(FR)\n",
    "\n",
    "    # area under FA/FR curve for whole loader\n",
    "    au_fa_fr = get_au_fa_fr(torch.cat(all_probs, dim=0).cpu(), all_labels)\n",
    "    mean_val_loss = sum(val_losses)/len(val_losses)\n",
    "    mean_acc = sum(accs)/len(accs)\n",
    "    return au_fa_fr, mean_val_loss, mean_acc"
   ]
  },
  {
   "cell_type": "code",
   "execution_count": 25,
   "metadata": {
    "id": "44hq7LKeDe7m"
   },
   "outputs": [],
   "source": [
    "@torch.no_grad()\n",
    "def get_grad_norm(model, norm_type=2):\n",
    "    parameters = model.parameters()\n",
    "    if isinstance(parameters, torch.Tensor):\n",
    "        parameters = [parameters]\n",
    "    parameters = [p for p in parameters if p.grad is not None]\n",
    "    total_norm = torch.norm(\n",
    "        torch.stack(\n",
    "            [torch.norm(p.grad.detach(), norm_type).cpu() for p in parameters]\n",
    "        ),\n",
    "        norm_type,\n",
    "    )\n",
    "    return total_norm.item()"
   ]
  },
  {
   "cell_type": "code",
   "execution_count": 26,
   "metadata": {
    "id": "zZZpqsAqx7T0"
   },
   "outputs": [],
   "source": [
    "from collections import defaultdict\n",
    "from IPython.display import clear_output\n",
    "from matplotlib import pyplot as plt\n",
    "\n",
    "history = defaultdict(list)"
   ]
  },
  {
   "cell_type": "markdown",
   "metadata": {
    "id": "RcHH6wHuyAES"
   },
   "source": [
    "# Training SGD"
   ]
  },
  {
   "cell_type": "code",
   "execution_count": null,
   "metadata": {
    "colab": {
     "base_uri": "https://localhost:8080/"
    },
    "id": "QbUEThmGx9oM",
    "outputId": "ff6b11a2-3f23-4c79-99ef-ca2cf24c5aa9"
   },
   "outputs": [],
   "source": [
    "config = TaskConfig()\n",
    "model = CRNN(config).to(config.device)\n",
    "\n",
    "print(model)\n",
    "\n",
    "opt = torch.optim.SGD(\n",
    "    model.parameters(),\n",
    "    lr=config.learning_rate,\n",
    "    momentum=config.momentum,\n",
    "    nesterov=True,\n",
    "    weight_decay=config.weight_decay\n",
    ")"
   ]
  },
  {
   "cell_type": "code",
   "execution_count": null,
   "metadata": {
    "colab": {
     "base_uri": "https://localhost:8080/"
    },
    "id": "QauC5t99x9q8",
    "outputId": "5db8848c-262e-44a4-b746-02ec6eb6175b"
   },
   "outputs": [],
   "source": [
    "sum([p.numel() for p in model.parameters()])"
   ]
  },
  {
   "cell_type": "code",
   "execution_count": null,
   "metadata": {
    "colab": {
     "base_uri": "https://localhost:8080/",
     "height": 299,
     "referenced_widgets": [
      "ffae1dc56fd6450887ac4078dec68cce",
      "14a52a20528d4ba68207b03b361a18b8",
      "fc0efd33d3324c058e563a35642ca69a",
      "dd018deb19564f768785c56d1c3772e9",
      "6587685fab5f41e5b108dee8bf041403",
      "d431a1190eb54359a237612044d0efb4",
      "80f44c8531a741ddaace21a87a72aab7",
      "66c3e6f9019b45f08a8fbb554a614ee7"
     ]
    },
    "id": "lc7ozG71x9tN",
    "outputId": "d92345d5-9056-4cfc-95ff-d3791367e1ab"
   },
   "outputs": [],
   "source": [
    "# TRAIN\n",
    "wandb.init(project=\"FullGD-HSE-RS\", name = 'SGD_audio')\n",
    "for n in range(TaskConfig.num_epochs):\n",
    "\n",
    "    train_epoch(model, opt, train_loader,\n",
    "                melspec_train, config.device, 5)\n",
    "    \n",
    "    gr_norm = get_grad_norm(model)\n",
    "\n",
    "    au_fa_fr, loss, acc = validation(model, val_loader,\n",
    "                        melspec_val, config.device)\n",
    "    history['val_metric'].append(au_fa_fr)\n",
    "    wandb.log({\"grad_norm\": gr_norm,\"val_metric\": au_fa_fr,\n",
    "               \"val_loss\": loss, \"val_acc\": acc})\n",
    "    clear_output()\n",
    "\n",
    "\n",
    "    print('END OF EPOCH', n)\n",
    "wandb.finish()\n",
    "torch.save(model, 'base_model.pth')"
   ]
  },
  {
   "cell_type": "code",
   "execution_count": null,
   "metadata": {},
   "outputs": [],
   "source": [
    "import wandb\n",
    "\n",
    "wandb.login()\n",
    "wandb.finish()"
   ]
  },
  {
   "cell_type": "markdown",
   "metadata": {
    "id": "e1ULIK6Ddiug"
   },
   "source": [
    "# Training Full GD"
   ]
  },
  {
   "cell_type": "code",
   "execution_count": 42,
   "metadata": {
    "id": "erjuI8JFx9xd"
   },
   "outputs": [],
   "source": [
    "@dataclasses.dataclass\n",
    "class FullGDConfig(TaskConfig):\n",
    "    batch_size: int = 128\n",
    "    learning_rate: float = 3e-4\n",
    "    momentum: float = 0.9\n",
    "    weight_decay: float = 1e-5\n",
    "    num_epochs: int = 100\n",
    "    nesterov: bool = True\n",
    "    grad_clip: int = 100"
   ]
  },
  {
   "cell_type": "code",
   "execution_count": 43,
   "metadata": {
    "id": "jYUr38Cnibpd"
   },
   "outputs": [],
   "source": [
    "def train_epoch_full(model, opt, loader, log_melspec, device, clip_grad=None):\n",
    "    model.train()\n",
    "    opt.zero_grad()\n",
    "    for i, (batch, labels) in tqdm(enumerate(loader), total=len(loader)):\n",
    "        batch, labels = batch.to(device), labels.to(device)\n",
    "        batch = log_melspec(batch)\n",
    "\n",
    "        \n",
    "\n",
    "        # run model # with autocast():\n",
    "        logits = model(batch)\n",
    "        # we need probabilities so we use softmax & CE separately\n",
    "        probs = F.softmax(logits, dim=-1)\n",
    "        loss = F.cross_entropy(logits, labels)\n",
    "\n",
    "        loss.backward()\n",
    "        if clip_grad is not None:\n",
    "            torch.nn.utils.clip_grad_norm_(model.parameters(), clip_grad)\n",
    "\n",
    "        \n",
    "\n",
    "        # logging\n",
    "        argmax_probs = torch.argmax(probs, dim=-1)\n",
    "        FA, FR = count_FA_FR(argmax_probs, labels)\n",
    "        acc = torch.sum(argmax_probs == labels) / torch.numel(argmax_probs)\n",
    "    opt.step()\n",
    "\n",
    "    return acc"
   ]
  },
  {
   "cell_type": "code",
   "execution_count": 44,
   "metadata": {
    "colab": {
     "base_uri": "https://localhost:8080/"
    },
    "id": "WRMPCL6zd4I-",
    "outputId": "c050a3e4-526f-43ad-b8d9-5f6b70428481"
   },
   "outputs": [
    {
     "name": "stdout",
     "output_type": "stream",
     "text": [
      "CRNN(\n",
      "  (conv): Sequential(\n",
      "    (0): Conv2d(1, 8, kernel_size=(5, 20), stride=(2, 8))\n",
      "    (1): Flatten(start_dim=1, end_dim=2)\n",
      "  )\n",
      "  (gru): GRU(144, 64, num_layers=2, batch_first=True, dropout=0.1)\n",
      "  (attention): Attention(\n",
      "    (energy): Sequential(\n",
      "      (0): Linear(in_features=64, out_features=64, bias=True)\n",
      "      (1): Tanh()\n",
      "      (2): Linear(in_features=64, out_features=1, bias=True)\n",
      "    )\n",
      "  )\n",
      "  (classifier): Linear(in_features=64, out_features=2, bias=True)\n",
      ")\n"
     ]
    }
   ],
   "source": [
    "config = FullGDConfig()\n",
    "model = CRNN(config).to(config.device)\n",
    "\n",
    "print(model)\n",
    "\n",
    "opt = torch.optim.SGD(\n",
    "    model.parameters(),\n",
    "    lr=config.learning_rate,\n",
    "    momentum=config.momentum,\n",
    "    nesterov=config.nesterov,\n",
    "    weight_decay=config.weight_decay\n",
    ")"
   ]
  },
  {
   "cell_type": "code",
   "execution_count": 45,
   "metadata": {
    "colab": {
     "base_uri": "https://localhost:8080/"
    },
    "id": "ILVEmO5Qd1ri",
    "outputId": "f9160ab4-fbbd-4267-cacc-5434d15a8c5b"
   },
   "outputs": [
    {
     "data": {
      "text/plain": [
       "70443"
      ]
     },
     "execution_count": 45,
     "metadata": {},
     "output_type": "execute_result"
    }
   ],
   "source": [
    "sum([p.numel() for p in model.parameters()])"
   ]
  },
  {
   "cell_type": "code",
   "execution_count": 46,
   "metadata": {},
   "outputs": [
    {
     "name": "stdout",
     "output_type": "stream",
     "text": [
      "END OF EPOCH 99\n"
     ]
    },
    {
     "data": {
      "text/html": [
       "<br/>Waiting for W&B process to finish, PID 4718... <strong style=\"color:green\">(success).</strong>"
      ],
      "text/plain": [
       "<IPython.core.display.HTML object>"
      ]
     },
     "metadata": {},
     "output_type": "display_data"
    },
    {
     "data": {
      "application/vnd.jupyter.widget-view+json": {
       "model_id": "",
       "version_major": 2,
       "version_minor": 0
      },
      "text/plain": [
       "VBox(children=(Label(value=' 0.00MB of 0.00MB uploaded (0.00MB deduped)\\r'), FloatProgress(value=1.0, max=1.0)…"
      ]
     },
     "metadata": {},
     "output_type": "display_data"
    },
    {
     "data": {
      "text/html": [
       "<style>\n",
       "    table.wandb td:nth-child(1) { padding: 0 10px; text-align: right }\n",
       "    .wandb-row { display: flex; flex-direction: row; flex-wrap: wrap; width: 100% }\n",
       "    .wandb-col { display: flex; flex-direction: column; flex-basis: 100%; flex: 1; padding: 10px; }\n",
       "    </style>\n",
       "<div class=\"wandb-row\"><div class=\"wandb-col\">\n",
       "<h3>Run history:</h3><br/><table class=\"wandb\"><tr><td>grad_norm</td><td>█▂▁▂▂▂▄▄▆███████████████████████████████</td></tr><tr><td>val_acc</td><td>▁▇▇▇███▇▇▇▅▆▄▆▅▄▅▆▆▅▅▆▅▆▆▇▆▆▇▇▇▇▆▇▇▇▇▇▆▇</td></tr><tr><td>val_loss</td><td>█▇▇▇▇▆▅▆▅▄▅▄▆▄▅▆▅▃▃▅▅▃▅▄▄▂▃▃▂▂▂▁▃▂▂▂▂▁▃▁</td></tr><tr><td>val_metric</td><td>█▆▄▃▃▂▂▂▁▂▂▂▂▂▂▂▂▂▂▁▁▁▁▁▁▁▁▁▁▁▁▁▁▁▁▁▁▁▁▁</td></tr></table><br/></div><div class=\"wandb-col\">\n",
       "<h3>Run summary:</h3><br/><table class=\"wandb\"><tr><td>grad_norm</td><td>100.00001</td></tr><tr><td>val_acc</td><td>0.90166</td></tr><tr><td>val_loss</td><td>0.26708</td></tr><tr><td>val_metric</td><td>0.00021</td></tr></table>\n",
       "</div></div>\n",
       "Synced 6 W&B file(s), 0 media file(s), 0 artifact file(s) and 0 other file(s)\n",
       "<br/>Synced <strong style=\"color:#cdcd00\">FullGD_audio</strong>: <a href=\"https://wandb.ai/artgoldman/FullGD-HSE-RS/runs/1wf8936f\" target=\"_blank\">https://wandb.ai/artgoldman/FullGD-HSE-RS/runs/1wf8936f</a><br/>\n",
       "Find logs at: <code>./wandb/run-20220126_134023-1wf8936f/logs</code><br/>\n"
      ],
      "text/plain": [
       "<IPython.core.display.HTML object>"
      ]
     },
     "metadata": {},
     "output_type": "display_data"
    }
   ],
   "source": [
    "# TRAIN\n",
    "wandb.init(project=\"FullGD-HSE-RS\", name = 'FullGD_audio')\n",
    "for n in range(config.num_epochs):\n",
    "\n",
    "    train_epoch_full(model, opt, train_loader,\n",
    "                melspec_train, config.device, clip_grad=config.grad_clip)\n",
    "    \n",
    "    gr_norm = get_grad_norm(model)\n",
    "\n",
    "    au_fa_fr, loss, acc = validation(model, val_loader,\n",
    "                        melspec_val, config.device)\n",
    "    history['val_metric'].append(au_fa_fr)\n",
    "    wandb.log({\"grad_norm\": gr_norm,\"val_metric\": au_fa_fr,\n",
    "               \"val_loss\": loss, \"val_acc\": acc})\n",
    "    clear_output()\n",
    "\n",
    "\n",
    "    print('END OF EPOCH', n)\n",
    "wandb.finish()\n",
    "torch.save(model, 'fullgd_model.pth')"
   ]
  },
  {
   "cell_type": "code",
   "execution_count": null,
   "metadata": {
    "id": "i09DWzakx90g"
   },
   "outputs": [],
   "source": []
  },
  {
   "cell_type": "code",
   "execution_count": null,
   "metadata": {
    "id": "ttJzoPIix93_"
   },
   "outputs": [],
   "source": []
  }
 ],
 "metadata": {
  "accelerator": "GPU",
  "colab": {
   "collapsed_sections": [],
   "name": "RS_FullGD_binary.ipynb",
   "provenance": []
  },
  "kernelspec": {
   "display_name": "Python 3",
   "language": "python",
   "name": "python3"
  },
  "language_info": {
   "codemirror_mode": {
    "name": "ipython",
    "version": 3
   },
   "file_extension": ".py",
   "mimetype": "text/x-python",
   "name": "python",
   "nbconvert_exporter": "python",
   "pygments_lexer": "ipython3",
   "version": "3.8.5"
  },
  "widgets": {
   "application/vnd.jupyter.widget-state+json": {
    "066acf306d3f4b6b97ecd51a2765880e": {
     "model_module": "@jupyter-widgets/controls",
     "model_module_version": "1.5.0",
     "model_name": "FloatProgressModel",
     "state": {
      "_dom_classes": [],
      "_model_module": "@jupyter-widgets/controls",
      "_model_module_version": "1.5.0",
      "_model_name": "FloatProgressModel",
      "_view_count": null,
      "_view_module": "@jupyter-widgets/controls",
      "_view_module_version": "1.5.0",
      "_view_name": "ProgressView",
      "bar_style": "",
      "description": "",
      "description_tooltip": null,
      "layout": "IPY_MODEL_d1a53690c00f442892e41dd3836f21f4",
      "max": 1,
      "min": 0,
      "orientation": "horizontal",
      "style": "IPY_MODEL_16397d58153b4792a3a8954e71c2db8f",
      "value": 1
     }
    },
    "14a52a20528d4ba68207b03b361a18b8": {
     "model_module": "@jupyter-widgets/base",
     "model_module_version": "1.2.0",
     "model_name": "LayoutModel",
     "state": {
      "_model_module": "@jupyter-widgets/base",
      "_model_module_version": "1.2.0",
      "_model_name": "LayoutModel",
      "_view_count": null,
      "_view_module": "@jupyter-widgets/base",
      "_view_module_version": "1.2.0",
      "_view_name": "LayoutView",
      "align_content": null,
      "align_items": null,
      "align_self": null,
      "border": null,
      "bottom": null,
      "display": null,
      "flex": null,
      "flex_flow": null,
      "grid_area": null,
      "grid_auto_columns": null,
      "grid_auto_flow": null,
      "grid_auto_rows": null,
      "grid_column": null,
      "grid_gap": null,
      "grid_row": null,
      "grid_template_areas": null,
      "grid_template_columns": null,
      "grid_template_rows": null,
      "height": null,
      "justify_content": null,
      "justify_items": null,
      "left": null,
      "margin": null,
      "max_height": null,
      "max_width": null,
      "min_height": null,
      "min_width": null,
      "object_fit": null,
      "object_position": null,
      "order": null,
      "overflow": null,
      "overflow_x": null,
      "overflow_y": null,
      "padding": null,
      "right": null,
      "top": null,
      "visibility": null,
      "width": null
     }
    },
    "16397d58153b4792a3a8954e71c2db8f": {
     "model_module": "@jupyter-widgets/controls",
     "model_module_version": "1.5.0",
     "model_name": "ProgressStyleModel",
     "state": {
      "_model_module": "@jupyter-widgets/controls",
      "_model_module_version": "1.5.0",
      "_model_name": "ProgressStyleModel",
      "_view_count": null,
      "_view_module": "@jupyter-widgets/base",
      "_view_module_version": "1.2.0",
      "_view_name": "StyleView",
      "bar_color": null,
      "description_width": ""
     }
    },
    "217a4f20fb624df1b9667ce89e5ebafb": {
     "model_module": "@jupyter-widgets/base",
     "model_module_version": "1.2.0",
     "model_name": "LayoutModel",
     "state": {
      "_model_module": "@jupyter-widgets/base",
      "_model_module_version": "1.2.0",
      "_model_name": "LayoutModel",
      "_view_count": null,
      "_view_module": "@jupyter-widgets/base",
      "_view_module_version": "1.2.0",
      "_view_name": "LayoutView",
      "align_content": null,
      "align_items": null,
      "align_self": null,
      "border": null,
      "bottom": null,
      "display": null,
      "flex": null,
      "flex_flow": null,
      "grid_area": null,
      "grid_auto_columns": null,
      "grid_auto_flow": null,
      "grid_auto_rows": null,
      "grid_column": null,
      "grid_gap": null,
      "grid_row": null,
      "grid_template_areas": null,
      "grid_template_columns": null,
      "grid_template_rows": null,
      "height": null,
      "justify_content": null,
      "justify_items": null,
      "left": null,
      "margin": null,
      "max_height": null,
      "max_width": null,
      "min_height": null,
      "min_width": null,
      "object_fit": null,
      "object_position": null,
      "order": null,
      "overflow": null,
      "overflow_x": null,
      "overflow_y": null,
      "padding": null,
      "right": null,
      "top": null,
      "visibility": null,
      "width": null
     }
    },
    "3983a8a620a84e7bb870522408a6833b": {
     "model_module": "@jupyter-widgets/controls",
     "model_module_version": "1.5.0",
     "model_name": "VBoxModel",
     "state": {
      "_dom_classes": [],
      "_model_module": "@jupyter-widgets/controls",
      "_model_module_version": "1.5.0",
      "_model_name": "VBoxModel",
      "_view_count": null,
      "_view_module": "@jupyter-widgets/controls",
      "_view_module_version": "1.5.0",
      "_view_name": "VBoxView",
      "box_style": "",
      "children": [
       "IPY_MODEL_82b4fed36be84cd685ed3c4dc87c6dee",
       "IPY_MODEL_066acf306d3f4b6b97ecd51a2765880e"
      ],
      "layout": "IPY_MODEL_217a4f20fb624df1b9667ce89e5ebafb"
     }
    },
    "6587685fab5f41e5b108dee8bf041403": {
     "model_module": "@jupyter-widgets/controls",
     "model_module_version": "1.5.0",
     "model_name": "DescriptionStyleModel",
     "state": {
      "_model_module": "@jupyter-widgets/controls",
      "_model_module_version": "1.5.0",
      "_model_name": "DescriptionStyleModel",
      "_view_count": null,
      "_view_module": "@jupyter-widgets/base",
      "_view_module_version": "1.2.0",
      "_view_name": "StyleView",
      "description_width": ""
     }
    },
    "66c3e6f9019b45f08a8fbb554a614ee7": {
     "model_module": "@jupyter-widgets/base",
     "model_module_version": "1.2.0",
     "model_name": "LayoutModel",
     "state": {
      "_model_module": "@jupyter-widgets/base",
      "_model_module_version": "1.2.0",
      "_model_name": "LayoutModel",
      "_view_count": null,
      "_view_module": "@jupyter-widgets/base",
      "_view_module_version": "1.2.0",
      "_view_name": "LayoutView",
      "align_content": null,
      "align_items": null,
      "align_self": null,
      "border": null,
      "bottom": null,
      "display": null,
      "flex": null,
      "flex_flow": null,
      "grid_area": null,
      "grid_auto_columns": null,
      "grid_auto_flow": null,
      "grid_auto_rows": null,
      "grid_column": null,
      "grid_gap": null,
      "grid_row": null,
      "grid_template_areas": null,
      "grid_template_columns": null,
      "grid_template_rows": null,
      "height": null,
      "justify_content": null,
      "justify_items": null,
      "left": null,
      "margin": null,
      "max_height": null,
      "max_width": null,
      "min_height": null,
      "min_width": null,
      "object_fit": null,
      "object_position": null,
      "order": null,
      "overflow": null,
      "overflow_x": null,
      "overflow_y": null,
      "padding": null,
      "right": null,
      "top": null,
      "visibility": null,
      "width": null
     }
    },
    "80f44c8531a741ddaace21a87a72aab7": {
     "model_module": "@jupyter-widgets/controls",
     "model_module_version": "1.5.0",
     "model_name": "ProgressStyleModel",
     "state": {
      "_model_module": "@jupyter-widgets/controls",
      "_model_module_version": "1.5.0",
      "_model_name": "ProgressStyleModel",
      "_view_count": null,
      "_view_module": "@jupyter-widgets/base",
      "_view_module_version": "1.2.0",
      "_view_name": "StyleView",
      "bar_color": null,
      "description_width": ""
     }
    },
    "82b4fed36be84cd685ed3c4dc87c6dee": {
     "model_module": "@jupyter-widgets/controls",
     "model_module_version": "1.5.0",
     "model_name": "LabelModel",
     "state": {
      "_dom_classes": [],
      "_model_module": "@jupyter-widgets/controls",
      "_model_module_version": "1.5.0",
      "_model_name": "LabelModel",
      "_view_count": null,
      "_view_module": "@jupyter-widgets/controls",
      "_view_module_version": "1.5.0",
      "_view_name": "LabelView",
      "description": "",
      "description_tooltip": null,
      "layout": "IPY_MODEL_d00afd2b2b2240b186bc250ac8d81ef0",
      "placeholder": "​",
      "style": "IPY_MODEL_d917baff30504bb681233b89948bda8b",
      "value": " 0.01MB of 0.01MB uploaded (0.00MB deduped)\r"
     }
    },
    "d00afd2b2b2240b186bc250ac8d81ef0": {
     "model_module": "@jupyter-widgets/base",
     "model_module_version": "1.2.0",
     "model_name": "LayoutModel",
     "state": {
      "_model_module": "@jupyter-widgets/base",
      "_model_module_version": "1.2.0",
      "_model_name": "LayoutModel",
      "_view_count": null,
      "_view_module": "@jupyter-widgets/base",
      "_view_module_version": "1.2.0",
      "_view_name": "LayoutView",
      "align_content": null,
      "align_items": null,
      "align_self": null,
      "border": null,
      "bottom": null,
      "display": null,
      "flex": null,
      "flex_flow": null,
      "grid_area": null,
      "grid_auto_columns": null,
      "grid_auto_flow": null,
      "grid_auto_rows": null,
      "grid_column": null,
      "grid_gap": null,
      "grid_row": null,
      "grid_template_areas": null,
      "grid_template_columns": null,
      "grid_template_rows": null,
      "height": null,
      "justify_content": null,
      "justify_items": null,
      "left": null,
      "margin": null,
      "max_height": null,
      "max_width": null,
      "min_height": null,
      "min_width": null,
      "object_fit": null,
      "object_position": null,
      "order": null,
      "overflow": null,
      "overflow_x": null,
      "overflow_y": null,
      "padding": null,
      "right": null,
      "top": null,
      "visibility": null,
      "width": null
     }
    },
    "d1a53690c00f442892e41dd3836f21f4": {
     "model_module": "@jupyter-widgets/base",
     "model_module_version": "1.2.0",
     "model_name": "LayoutModel",
     "state": {
      "_model_module": "@jupyter-widgets/base",
      "_model_module_version": "1.2.0",
      "_model_name": "LayoutModel",
      "_view_count": null,
      "_view_module": "@jupyter-widgets/base",
      "_view_module_version": "1.2.0",
      "_view_name": "LayoutView",
      "align_content": null,
      "align_items": null,
      "align_self": null,
      "border": null,
      "bottom": null,
      "display": null,
      "flex": null,
      "flex_flow": null,
      "grid_area": null,
      "grid_auto_columns": null,
      "grid_auto_flow": null,
      "grid_auto_rows": null,
      "grid_column": null,
      "grid_gap": null,
      "grid_row": null,
      "grid_template_areas": null,
      "grid_template_columns": null,
      "grid_template_rows": null,
      "height": null,
      "justify_content": null,
      "justify_items": null,
      "left": null,
      "margin": null,
      "max_height": null,
      "max_width": null,
      "min_height": null,
      "min_width": null,
      "object_fit": null,
      "object_position": null,
      "order": null,
      "overflow": null,
      "overflow_x": null,
      "overflow_y": null,
      "padding": null,
      "right": null,
      "top": null,
      "visibility": null,
      "width": null
     }
    },
    "d431a1190eb54359a237612044d0efb4": {
     "model_module": "@jupyter-widgets/base",
     "model_module_version": "1.2.0",
     "model_name": "LayoutModel",
     "state": {
      "_model_module": "@jupyter-widgets/base",
      "_model_module_version": "1.2.0",
      "_model_name": "LayoutModel",
      "_view_count": null,
      "_view_module": "@jupyter-widgets/base",
      "_view_module_version": "1.2.0",
      "_view_name": "LayoutView",
      "align_content": null,
      "align_items": null,
      "align_self": null,
      "border": null,
      "bottom": null,
      "display": null,
      "flex": null,
      "flex_flow": null,
      "grid_area": null,
      "grid_auto_columns": null,
      "grid_auto_flow": null,
      "grid_auto_rows": null,
      "grid_column": null,
      "grid_gap": null,
      "grid_row": null,
      "grid_template_areas": null,
      "grid_template_columns": null,
      "grid_template_rows": null,
      "height": null,
      "justify_content": null,
      "justify_items": null,
      "left": null,
      "margin": null,
      "max_height": null,
      "max_width": null,
      "min_height": null,
      "min_width": null,
      "object_fit": null,
      "object_position": null,
      "order": null,
      "overflow": null,
      "overflow_x": null,
      "overflow_y": null,
      "padding": null,
      "right": null,
      "top": null,
      "visibility": null,
      "width": null
     }
    },
    "d917baff30504bb681233b89948bda8b": {
     "model_module": "@jupyter-widgets/controls",
     "model_module_version": "1.5.0",
     "model_name": "DescriptionStyleModel",
     "state": {
      "_model_module": "@jupyter-widgets/controls",
      "_model_module_version": "1.5.0",
      "_model_name": "DescriptionStyleModel",
      "_view_count": null,
      "_view_module": "@jupyter-widgets/base",
      "_view_module_version": "1.2.0",
      "_view_name": "StyleView",
      "description_width": ""
     }
    },
    "dd018deb19564f768785c56d1c3772e9": {
     "model_module": "@jupyter-widgets/controls",
     "model_module_version": "1.5.0",
     "model_name": "FloatProgressModel",
     "state": {
      "_dom_classes": [],
      "_model_module": "@jupyter-widgets/controls",
      "_model_module_version": "1.5.0",
      "_model_name": "FloatProgressModel",
      "_view_count": null,
      "_view_module": "@jupyter-widgets/controls",
      "_view_module_version": "1.5.0",
      "_view_name": "ProgressView",
      "bar_style": "",
      "description": "",
      "description_tooltip": null,
      "layout": "IPY_MODEL_66c3e6f9019b45f08a8fbb554a614ee7",
      "max": 1,
      "min": 0,
      "orientation": "horizontal",
      "style": "IPY_MODEL_80f44c8531a741ddaace21a87a72aab7",
      "value": 1
     }
    },
    "fc0efd33d3324c058e563a35642ca69a": {
     "model_module": "@jupyter-widgets/controls",
     "model_module_version": "1.5.0",
     "model_name": "LabelModel",
     "state": {
      "_dom_classes": [],
      "_model_module": "@jupyter-widgets/controls",
      "_model_module_version": "1.5.0",
      "_model_name": "LabelModel",
      "_view_count": null,
      "_view_module": "@jupyter-widgets/controls",
      "_view_module_version": "1.5.0",
      "_view_name": "LabelView",
      "description": "",
      "description_tooltip": null,
      "layout": "IPY_MODEL_d431a1190eb54359a237612044d0efb4",
      "placeholder": "​",
      "style": "IPY_MODEL_6587685fab5f41e5b108dee8bf041403",
      "value": " 0.01MB of 0.01MB uploaded (0.00MB deduped)\r"
     }
    },
    "ffae1dc56fd6450887ac4078dec68cce": {
     "model_module": "@jupyter-widgets/controls",
     "model_module_version": "1.5.0",
     "model_name": "VBoxModel",
     "state": {
      "_dom_classes": [],
      "_model_module": "@jupyter-widgets/controls",
      "_model_module_version": "1.5.0",
      "_model_name": "VBoxModel",
      "_view_count": null,
      "_view_module": "@jupyter-widgets/controls",
      "_view_module_version": "1.5.0",
      "_view_name": "VBoxView",
      "box_style": "",
      "children": [
       "IPY_MODEL_fc0efd33d3324c058e563a35642ca69a",
       "IPY_MODEL_dd018deb19564f768785c56d1c3772e9"
      ],
      "layout": "IPY_MODEL_14a52a20528d4ba68207b03b361a18b8"
     }
    }
   }
  }
 },
 "nbformat": 4,
 "nbformat_minor": 1
}
