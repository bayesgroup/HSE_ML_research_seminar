{
  "nbformat": 4,
  "nbformat_minor": 0,
  "metadata": {
    "accelerator": "GPU",
    "colab": {
      "name": "SinCUT.ipynb",
      "provenance": [],
      "collapsed_sections": []
    },
    "kernelspec": {
      "display_name": "Python 3",
      "name": "python3"
    }
  },
  "cells": [
    {
      "cell_type": "code",
      "metadata": {
        "colab": {
          "base_uri": "https://localhost:8080/"
        },
        "id": "ycUqBQhQ4N8r",
        "outputId": "7a11cb1b-7e92-40ed-b42e-7061a631f4ac"
      },
      "source": [
        "!wget https://github.com/taesungp/contrastive-unpaired-translation/archive/87ab89cdca651f87742844016b0cfa49fa7bd3ee.zip"
      ],
      "execution_count": 1,
      "outputs": [
        {
          "output_type": "stream",
          "name": "stdout",
          "text": [
            "--2021-11-12 16:24:43--  https://github.com/taesungp/contrastive-unpaired-translation/archive/87ab89cdca651f87742844016b0cfa49fa7bd3ee.zip\n",
            "Resolving github.com (github.com)... 140.82.121.3\n",
            "Connecting to github.com (github.com)|140.82.121.3|:443... connected.\n",
            "HTTP request sent, awaiting response... 302 Found\n",
            "Location: https://codeload.github.com/taesungp/contrastive-unpaired-translation/zip/87ab89cdca651f87742844016b0cfa49fa7bd3ee [following]\n",
            "--2021-11-12 16:24:43--  https://codeload.github.com/taesungp/contrastive-unpaired-translation/zip/87ab89cdca651f87742844016b0cfa49fa7bd3ee\n",
            "Resolving codeload.github.com (codeload.github.com)... 140.82.121.10\n",
            "Connecting to codeload.github.com (codeload.github.com)|140.82.121.10|:443... connected.\n",
            "HTTP request sent, awaiting response... 200 OK\n",
            "Length: unspecified [application/zip]\n",
            "Saving to: ‘87ab89cdca651f87742844016b0cfa49fa7bd3ee.zip’\n",
            "\n",
            "87ab89cdca651f87742     [    <=>             ]  16.14M  19.6MB/s    in 0.8s    \n",
            "\n",
            "2021-11-12 16:24:44 (19.6 MB/s) - ‘87ab89cdca651f87742844016b0cfa49fa7bd3ee.zip’ saved [16925336]\n",
            "\n"
          ]
        }
      ]
    },
    {
      "cell_type": "code",
      "metadata": {
        "id": "CPLWDYit4UVt"
      },
      "source": [
        "!unzip -qq 87ab89cdca651f87742844016b0cfa49fa7bd3ee.zip"
      ],
      "execution_count": 2,
      "outputs": []
    },
    {
      "cell_type": "code",
      "metadata": {
        "colab": {
          "base_uri": "https://localhost:8080/"
        },
        "id": "qKZgH1kMwcrj",
        "outputId": "60589caf-51bf-4fe0-d51d-4b81fbc5fdad"
      },
      "source": [
        "cd contrastive-unpaired-translation-87ab89cdca651f87742844016b0cfa49fa7bd3ee"
      ],
      "execution_count": 3,
      "outputs": [
        {
          "output_type": "stream",
          "name": "stdout",
          "text": [
            "/content/contrastive-unpaired-translation-87ab89cdca651f87742844016b0cfa49fa7bd3ee\n"
          ]
        }
      ]
    },
    {
      "cell_type": "code",
      "metadata": {
        "colab": {
          "base_uri": "https://localhost:8080/"
        },
        "id": "CjGOjZjdwcto",
        "outputId": "5731b581-fd6a-4529-bd6f-1bf79d34879c"
      },
      "source": [
        "pip install -r requirements.txt"
      ],
      "execution_count": 4,
      "outputs": [
        {
          "output_type": "stream",
          "name": "stdout",
          "text": [
            "Requirement already satisfied: torch>=1.4.0 in /usr/local/lib/python3.7/dist-packages (from -r requirements.txt (line 1)) (1.10.0+cu111)\n",
            "Requirement already satisfied: torchvision>=0.5.0 in /usr/local/lib/python3.7/dist-packages (from -r requirements.txt (line 2)) (0.11.1+cu111)\n",
            "Collecting dominate>=2.4.0\n",
            "  Downloading dominate-2.6.0-py2.py3-none-any.whl (29 kB)\n",
            "Collecting visdom>=0.1.8.8\n",
            "  Downloading visdom-0.1.8.9.tar.gz (676 kB)\n",
            "\u001b[K     |████████████████████████████████| 676 kB 18.2 MB/s \n",
            "\u001b[?25hRequirement already satisfied: packaging in /usr/local/lib/python3.7/dist-packages (from -r requirements.txt (line 5)) (21.2)\n",
            "Collecting GPUtil>=1.4.0\n",
            "  Downloading GPUtil-1.4.0.tar.gz (5.5 kB)\n",
            "Requirement already satisfied: typing-extensions in /usr/local/lib/python3.7/dist-packages (from torch>=1.4.0->-r requirements.txt (line 1)) (3.10.0.2)\n",
            "Requirement already satisfied: numpy in /usr/local/lib/python3.7/dist-packages (from torchvision>=0.5.0->-r requirements.txt (line 2)) (1.19.5)\n",
            "Requirement already satisfied: pillow!=8.3.0,>=5.3.0 in /usr/local/lib/python3.7/dist-packages (from torchvision>=0.5.0->-r requirements.txt (line 2)) (7.1.2)\n",
            "Requirement already satisfied: scipy in /usr/local/lib/python3.7/dist-packages (from visdom>=0.1.8.8->-r requirements.txt (line 4)) (1.4.1)\n",
            "Requirement already satisfied: requests in /usr/local/lib/python3.7/dist-packages (from visdom>=0.1.8.8->-r requirements.txt (line 4)) (2.23.0)\n",
            "Requirement already satisfied: tornado in /usr/local/lib/python3.7/dist-packages (from visdom>=0.1.8.8->-r requirements.txt (line 4)) (5.1.1)\n",
            "Requirement already satisfied: pyzmq in /usr/local/lib/python3.7/dist-packages (from visdom>=0.1.8.8->-r requirements.txt (line 4)) (22.3.0)\n",
            "Requirement already satisfied: six in /usr/local/lib/python3.7/dist-packages (from visdom>=0.1.8.8->-r requirements.txt (line 4)) (1.15.0)\n",
            "Collecting jsonpatch\n",
            "  Downloading jsonpatch-1.32-py2.py3-none-any.whl (12 kB)\n",
            "Collecting torchfile\n",
            "  Downloading torchfile-0.1.0.tar.gz (5.2 kB)\n",
            "Collecting websocket-client\n",
            "  Downloading websocket_client-1.2.1-py2.py3-none-any.whl (52 kB)\n",
            "\u001b[K     |████████████████████████████████| 52 kB 1.4 MB/s \n",
            "\u001b[?25hRequirement already satisfied: pyparsing<3,>=2.0.2 in /usr/local/lib/python3.7/dist-packages (from packaging->-r requirements.txt (line 5)) (2.4.7)\n",
            "Collecting jsonpointer>=1.9\n",
            "  Downloading jsonpointer-2.2-py2.py3-none-any.whl (7.5 kB)\n",
            "Requirement already satisfied: urllib3!=1.25.0,!=1.25.1,<1.26,>=1.21.1 in /usr/local/lib/python3.7/dist-packages (from requests->visdom>=0.1.8.8->-r requirements.txt (line 4)) (1.24.3)\n",
            "Requirement already satisfied: idna<3,>=2.5 in /usr/local/lib/python3.7/dist-packages (from requests->visdom>=0.1.8.8->-r requirements.txt (line 4)) (2.10)\n",
            "Requirement already satisfied: chardet<4,>=3.0.2 in /usr/local/lib/python3.7/dist-packages (from requests->visdom>=0.1.8.8->-r requirements.txt (line 4)) (3.0.4)\n",
            "Requirement already satisfied: certifi>=2017.4.17 in /usr/local/lib/python3.7/dist-packages (from requests->visdom>=0.1.8.8->-r requirements.txt (line 4)) (2021.10.8)\n",
            "Building wheels for collected packages: visdom, GPUtil, torchfile\n",
            "  Building wheel for visdom (setup.py) ... \u001b[?25l\u001b[?25hdone\n",
            "  Created wheel for visdom: filename=visdom-0.1.8.9-py3-none-any.whl size=655250 sha256=bc9d8a766e40db11a1859f2f5b73a9b199dded0bfdac3a90d9dd6c35c5440f0b\n",
            "  Stored in directory: /root/.cache/pip/wheels/2d/d1/9b/cde923274eac9cbb6ff0d8c7c72fe30a3da9095a38fd50bbf1\n",
            "  Building wheel for GPUtil (setup.py) ... \u001b[?25l\u001b[?25hdone\n",
            "  Created wheel for GPUtil: filename=GPUtil-1.4.0-py3-none-any.whl size=7411 sha256=2bd03680b17cbba6419702d75c7196479845c5a2cf8c1611cba57ad4b40960a7\n",
            "  Stored in directory: /root/.cache/pip/wheels/6e/f8/83/534c52482d6da64622ddbf72cd93c35d2ef2881b78fd08ff0c\n",
            "  Building wheel for torchfile (setup.py) ... \u001b[?25l\u001b[?25hdone\n",
            "  Created wheel for torchfile: filename=torchfile-0.1.0-py3-none-any.whl size=5710 sha256=1af8e231cd260ba3490965ec94e61cb042c3bc6d73977d86e56e7766a96005da\n",
            "  Stored in directory: /root/.cache/pip/wheels/ac/5c/3a/a80e1c65880945c71fd833408cd1e9a8cb7e2f8f37620bb75b\n",
            "Successfully built visdom GPUtil torchfile\n",
            "Installing collected packages: jsonpointer, websocket-client, torchfile, jsonpatch, visdom, GPUtil, dominate\n",
            "Successfully installed GPUtil-1.4.0 dominate-2.6.0 jsonpatch-1.32 jsonpointer-2.2 torchfile-0.1.0 visdom-0.1.8.9 websocket-client-1.2.1\n"
          ]
        }
      ]
    },
    {
      "cell_type": "code",
      "metadata": {
        "colab": {
          "base_uri": "https://localhost:8080/"
        },
        "id": "9YWa--Pdwcv0",
        "outputId": "7c09298e-9b3d-4597-c0b8-0e8238e4bfdc"
      },
      "source": [
        "!python train.py --model sincut  --n_epochs 1 --n_epochs_decay 1\\\n",
        " --nce_layers=\"0, 2, 4\"\\\n",
        " --name singleimage_monet_etretat\\\n",
        " --dataroot ./datasets/single_image_monet_etretat\n",
        "\n",
        "# --n_epochs: #epochs с const lr=0.002, --n_epochs_decay: #epochs, where the rate linearly decay\n",
        "# --nce_layers: номера слоев, патчи которых контрастируют, всего слоев 0-5  \n",
        "# --name: название эксперимента\n",
        "# если вы хотите свои картинки подставить,\n",
        "# то создайте в datasets папку на подобие single_image_monet_etretat"
      ],
      "execution_count": 5,
      "outputs": [
        {
          "output_type": "stream",
          "name": "stdout",
          "text": [
            "----------------- Options ---------------\n",
            "                 CUT_mode: CUT                           \n",
            "               batch_size: 16                            \n",
            "                    beta1: 0.0                           \n",
            "                    beta2: 0.99                          \n",
            "          checkpoints_dir: ./checkpoints                 \n",
            "           continue_train: False                         \n",
            "                crop_size: 64                            \n",
            "                 dataroot: ./datasets/single_image_monet_etretat\t[default: placeholder]\n",
            "             dataset_mode: singleimage                   \n",
            "                direction: AtoB                          \n",
            "              display_env: main                          \n",
            "             display_freq: 400                           \n",
            "               display_id: None                          \n",
            "            display_ncols: 4                             \n",
            "             display_port: 8097                          \n",
            "           display_server: http://localhost              \n",
            "          display_winsize: 256                           \n",
            "               easy_label: experiment_name               \n",
            "                    epoch: latest                        \n",
            "              epoch_count: 1                             \n",
            "          evaluation_freq: 5000                          \n",
            "        flip_equivariance: False                         \n",
            "                 gan_mode: nonsaturating                 \n",
            "                  gpu_ids: 0                             \n",
            "                init_gain: 0.02                          \n",
            "                init_type: xavier                        \n",
            "                 input_nc: 3                             \n",
            "                  isTrain: True                          \t[default: None]\n",
            "               lambda_GAN: 1.0                           \n",
            "               lambda_NCE: 4.0                           \n",
            "                lambda_R1: 1.0                           \n",
            "          lambda_identity: 1.0                           \n",
            "                load_size: 1024                          \n",
            "                       lr: 0.002                         \n",
            "           lr_decay_iters: 50                            \n",
            "                lr_policy: linear                        \n",
            "         max_dataset_size: inf                           \n",
            "                    model: sincut                        \t[default: cut]\n",
            "                 n_epochs: 1                             \t[default: 8]\n",
            "           n_epochs_decay: 1                             \t[default: 8]\n",
            "               n_layers_D: 3                             \n",
            "                     name: singleimage_monet_etretat     \t[default: experiment_name]\n",
            "                    nce_T: 0.07                          \n",
            "                  nce_idt: True                          \n",
            "nce_includes_all_negatives_from_minibatch: True                          \n",
            "               nce_layers: 0, 2, 4                       \t[default: 0,2,4]\n",
            "                      ndf: 8                             \n",
            "                     netD: stylegan2                     \n",
            "                     netF: mlp_sample                    \n",
            "                  netF_nc: 256                           \n",
            "                     netG: stylegan2                     \n",
            "                      ngf: 10                            \n",
            "             no_antialias: False                         \n",
            "          no_antialias_up: False                         \n",
            "               no_dropout: True                          \n",
            "                  no_flip: False                         \n",
            "                  no_html: False                         \n",
            "                    normD: instance                      \n",
            "                    normG: instance                      \n",
            "              num_patches: 1                             \n",
            "              num_threads: 4                             \n",
            "                output_nc: 3                             \n",
            "                    phase: train                         \n",
            "                pool_size: 0                             \n",
            "               preprocess: zoom_and_patch                \n",
            "          pretrained_name: None                          \n",
            "               print_freq: 100                           \n",
            "         random_scale_max: 3.0                           \n",
            "             save_by_iter: False                         \n",
            "          save_epoch_freq: 1                             \n",
            "         save_latest_freq: 20000                         \n",
            "           serial_batches: False                         \n",
            "stylegan2_G_num_downsampling: 1                             \n",
            "                   suffix:                               \n",
            "         update_html_freq: 1000                          \n",
            "                  verbose: False                         \n",
            "----------------- End -------------------\n",
            "Image sizes (1200, 966) and (1024, 768)\n",
            "dataset [SingleImageDataset] was created\n",
            "/usr/local/lib/python3.7/dist-packages/torch/utils/data/dataloader.py:481: UserWarning: This DataLoader will create 4 worker processes in total. Our suggested max number of worker in current system is 2, which is smaller than what this DataLoader is going to create. Please be aware that excessive worker creation might get DataLoader running slow or even freeze, lower the worker number to avoid potential slowness/freeze if necessary.\n",
            "  cpuset_checked))\n",
            "model [SinCUTModel] was created\n",
            "The number of training images = 100000\n",
            "Setting up a new session...\n",
            "Exception in user code:\n",
            "------------------------------------------------------------\n",
            "Traceback (most recent call last):\n",
            "  File \"/usr/local/lib/python3.7/dist-packages/urllib3/connection.py\", line 159, in _new_conn\n",
            "    (self._dns_host, self.port), self.timeout, **extra_kw)\n",
            "  File \"/usr/local/lib/python3.7/dist-packages/urllib3/util/connection.py\", line 80, in create_connection\n",
            "    raise err\n",
            "  File \"/usr/local/lib/python3.7/dist-packages/urllib3/util/connection.py\", line 70, in create_connection\n",
            "    sock.connect(sa)\n",
            "ConnectionRefusedError: [Errno 111] Connection refused\n",
            "\n",
            "During handling of the above exception, another exception occurred:\n",
            "\n",
            "Traceback (most recent call last):\n",
            "  File \"/usr/local/lib/python3.7/dist-packages/urllib3/connectionpool.py\", line 600, in urlopen\n",
            "    chunked=chunked)\n",
            "  File \"/usr/local/lib/python3.7/dist-packages/urllib3/connectionpool.py\", line 354, in _make_request\n",
            "    conn.request(method, url, **httplib_request_kw)\n",
            "  File \"/usr/lib/python3.7/http/client.py\", line 1281, in request\n",
            "    self._send_request(method, url, body, headers, encode_chunked)\n",
            "  File \"/usr/lib/python3.7/http/client.py\", line 1327, in _send_request\n",
            "    self.endheaders(body, encode_chunked=encode_chunked)\n",
            "  File \"/usr/lib/python3.7/http/client.py\", line 1276, in endheaders\n",
            "    self._send_output(message_body, encode_chunked=encode_chunked)\n",
            "  File \"/usr/lib/python3.7/http/client.py\", line 1036, in _send_output\n",
            "    self.send(msg)\n",
            "  File \"/usr/lib/python3.7/http/client.py\", line 976, in send\n",
            "    self.connect()\n",
            "  File \"/usr/local/lib/python3.7/dist-packages/urllib3/connection.py\", line 181, in connect\n",
            "    conn = self._new_conn()\n",
            "  File \"/usr/local/lib/python3.7/dist-packages/urllib3/connection.py\", line 168, in _new_conn\n",
            "    self, \"Failed to establish a new connection: %s\" % e)\n",
            "urllib3.exceptions.NewConnectionError: <urllib3.connection.HTTPConnection object at 0x7f5db90f7e90>: Failed to establish a new connection: [Errno 111] Connection refused\n",
            "\n",
            "During handling of the above exception, another exception occurred:\n",
            "\n",
            "Traceback (most recent call last):\n",
            "  File \"/usr/local/lib/python3.7/dist-packages/requests/adapters.py\", line 449, in send\n",
            "    timeout=timeout\n",
            "  File \"/usr/local/lib/python3.7/dist-packages/urllib3/connectionpool.py\", line 638, in urlopen\n",
            "    _stacktrace=sys.exc_info()[2])\n",
            "  File \"/usr/local/lib/python3.7/dist-packages/urllib3/util/retry.py\", line 399, in increment\n",
            "    raise MaxRetryError(_pool, url, error or ResponseError(cause))\n",
            "urllib3.exceptions.MaxRetryError: HTTPConnectionPool(host='localhost', port=8097): Max retries exceeded with url: /env/main (Caused by NewConnectionError('<urllib3.connection.HTTPConnection object at 0x7f5db90f7e90>: Failed to establish a new connection: [Errno 111] Connection refused'))\n",
            "\n",
            "During handling of the above exception, another exception occurred:\n",
            "\n",
            "Traceback (most recent call last):\n",
            "  File \"/usr/local/lib/python3.7/dist-packages/visdom/__init__.py\", line 711, in _send\n",
            "    data=json.dumps(msg),\n",
            "  File \"/usr/local/lib/python3.7/dist-packages/visdom/__init__.py\", line 677, in _handle_post\n",
            "    r = self.session.post(url, data=data)\n",
            "  File \"/usr/local/lib/python3.7/dist-packages/requests/sessions.py\", line 578, in post\n",
            "    return self.request('POST', url, data=data, json=json, **kwargs)\n",
            "  File \"/usr/local/lib/python3.7/dist-packages/requests/sessions.py\", line 530, in request\n",
            "    resp = self.send(prep, **send_kwargs)\n",
            "  File \"/usr/local/lib/python3.7/dist-packages/requests/sessions.py\", line 643, in send\n",
            "    r = adapter.send(request, **kwargs)\n",
            "  File \"/usr/local/lib/python3.7/dist-packages/requests/adapters.py\", line 516, in send\n",
            "    raise ConnectionError(e, request=request)\n",
            "requests.exceptions.ConnectionError: HTTPConnectionPool(host='localhost', port=8097): Max retries exceeded with url: /env/main (Caused by NewConnectionError('<urllib3.connection.HTTPConnection object at 0x7f5db90f7e90>: Failed to establish a new connection: [Errno 111] Connection refused'))\n",
            "[Errno 99] Cannot assign requested address\n",
            "on_close() takes 1 positional argument but 3 were given\n",
            "[Errno 99] Cannot assign requested address\n",
            "on_close() takes 1 positional argument but 3 were given\n",
            "[Errno 99] Cannot assign requested address\n",
            "on_close() takes 1 positional argument but 3 were given\n",
            "Visdom python client failed to establish socket to get messages from the server. This feature is optional and can be disabled by initializing Visdom with `use_incoming_socket=False`, which will prevent waiting for this request to timeout.\n",
            "\n",
            "\n",
            "Could not connect to Visdom server. \n",
            " Trying to start a server....\n",
            "Command: /usr/bin/python3 -m visdom.server -p 8097 &>/dev/null &\n",
            "create web directory ./checkpoints/singleimage_monet_etretat/web...\n",
            "/usr/local/lib/python3.7/dist-packages/torch/utils/data/dataloader.py:481: UserWarning: This DataLoader will create 4 worker processes in total. Our suggested max number of worker in current system is 2, which is smaller than what this DataLoader is going to create. Please be aware that excessive worker creation might get DataLoader running slow or even freeze, lower the worker number to avoid potential slowness/freeze if necessary.\n",
            "  cpuset_checked))\n",
            "[Errno 99] Cannot assign requested address\n",
            "on_close() takes 1 positional argument but 3 were given\n",
            "---------- Networks initialized -------------\n",
            "[Network G] Total number of parameters : 3.068 M\n",
            "[Network F] Total number of parameters : 0.281 M\n",
            "[Network D] Total number of parameters : 5.885 M\n",
            "-----------------------------------------------\n",
            "(epoch: 1, iters: 400, time: 0.093, data: 1.883) G_GAN: 2.403 D_real: 0.321 D_fake: 0.626 G: 14.054 NCE: 11.199 NCE_Y: 11.453 D_R1: 0.009 idt: 0.325 \n",
            "(epoch: 1, iters: 800, time: 0.085, data: 0.004) G_GAN: 3.533 D_real: 0.160 D_fake: 0.375 G: 12.194 NCE: 8.163 NCE_Y: 8.692 D_R1: 0.017 idt: 0.233 \n",
            "(epoch: 1, iters: 1200, time: 0.078, data: 0.008) G_GAN: 2.113 D_real: 0.503 D_fake: 0.188 G: 9.908 NCE: 8.540 NCE_Y: 6.669 D_R1: 0.006 idt: 0.191 \n",
            "(epoch: 1, iters: 1600, time: 0.072, data: 0.002) G_GAN: 3.686 D_real: 0.167 D_fake: 0.251 G: 12.196 NCE: 9.836 NCE_Y: 6.782 D_R1: 0.013 idt: 0.200 \n",
            "(epoch: 1, iters: 2000, time: 0.066, data: 0.002) G_GAN: 1.300 D_real: 0.567 D_fake: 0.420 G: 8.175 NCE: 7.060 NCE_Y: 6.306 D_R1: 0.013 idt: 0.192 \n",
            "(epoch: 1, iters: 2400, time: 0.062, data: 0.003) G_GAN: 2.262 D_real: 0.309 D_fake: 0.481 G: 9.321 NCE: 8.134 NCE_Y: 5.701 D_R1: 0.012 idt: 0.142 \n",
            "Traceback (most recent call last):\n",
            "  File \"train.py\", line 47, in <module>\n",
            "    model.optimize_parameters()   # calculate loss functions, get gradients, update network weights\n",
            "  File \"/content/contrastive-unpaired-translation-87ab89cdca651f87742844016b0cfa49fa7bd3ee/models/cut_model.py\", line 115, in optimize_parameters\n",
            "    self.forward()\n",
            "  File \"/content/contrastive-unpaired-translation-87ab89cdca651f87742844016b0cfa49fa7bd3ee/models/cut_model.py\", line 154, in forward\n",
            "    self.fake = self.netG(self.real)\n",
            "  File \"/usr/local/lib/python3.7/dist-packages/torch/nn/modules/module.py\", line 1102, in _call_impl\n",
            "    return forward_call(*input, **kwargs)\n",
            "  File \"/usr/local/lib/python3.7/dist-packages/torch/nn/parallel/data_parallel.py\", line 166, in forward\n",
            "    return self.module(*inputs[0], **kwargs[0])\n",
            "  File \"/usr/local/lib/python3.7/dist-packages/torch/nn/modules/module.py\", line 1102, in _call_impl\n",
            "    return forward_call(*input, **kwargs)\n",
            "  File \"/content/contrastive-unpaired-translation-87ab89cdca651f87742844016b0cfa49fa7bd3ee/models/stylegan_networks.py\", line 905, in forward\n",
            "    feat, feats = self.encoder(input, layers, True)\n",
            "  File \"/usr/local/lib/python3.7/dist-packages/torch/nn/modules/module.py\", line 1102, in _call_impl\n",
            "    return forward_call(*input, **kwargs)\n",
            "  File \"/content/contrastive-unpaired-translation-87ab89cdca651f87742844016b0cfa49fa7bd3ee/models/stylegan_networks.py\", line 840, in forward\n",
            "    feat = layer(feat)\n",
            "  File \"/usr/local/lib/python3.7/dist-packages/torch/nn/modules/module.py\", line 1102, in _call_impl\n",
            "    return forward_call(*input, **kwargs)\n",
            "  File \"/content/contrastive-unpaired-translation-87ab89cdca651f87742844016b0cfa49fa7bd3ee/models/stylegan_networks.py\", line 686, in forward\n",
            "    out = self.conv1(input)\n",
            "  File \"/usr/local/lib/python3.7/dist-packages/torch/nn/modules/module.py\", line 1102, in _call_impl\n",
            "    return forward_call(*input, **kwargs)\n",
            "  File \"/usr/local/lib/python3.7/dist-packages/torch/nn/modules/container.py\", line 141, in forward\n",
            "    input = module(input)\n",
            "  File \"/usr/local/lib/python3.7/dist-packages/torch/nn/modules/module.py\", line 1102, in _call_impl\n",
            "    return forward_call(*input, **kwargs)\n",
            "  File \"/content/contrastive-unpaired-translation-87ab89cdca651f87742844016b0cfa49fa7bd3ee/models/stylegan_networks.py\", line 185, in forward\n",
            "    padding=self.padding,\n",
            "KeyboardInterrupt\n"
          ]
        }
      ]
    },
    {
      "cell_type": "code",
      "metadata": {
        "id": "hTvOnN7Ywcxr"
      },
      "source": [
        "!python test.py --model sincut\\\n",
        " --name singleimage_monet_etretat --dataroot ./datasets/single_image_monet_etretat\n",
        "# тестирование - результаты будут в папке results"
      ],
      "execution_count": null,
      "outputs": []
    },
    {
      "cell_type": "code",
      "metadata": {
        "colab": {
          "base_uri": "https://localhost:8080/"
        },
        "id": "28oo9hQkBCjm",
        "outputId": "65b273c8-80d7-45e9-b229-c07c66d75388"
      },
      "source": [
        "pip install pytorch-fid"
      ],
      "execution_count": 7,
      "outputs": [
        {
          "output_type": "stream",
          "name": "stdout",
          "text": [
            "Requirement already satisfied: pytorch-fid in /usr/local/lib/python3.7/dist-packages (0.2.1)\n",
            "Requirement already satisfied: torch>=1.0.1 in /usr/local/lib/python3.7/dist-packages (from pytorch-fid) (1.10.0+cu111)\n",
            "Requirement already satisfied: scipy in /usr/local/lib/python3.7/dist-packages (from pytorch-fid) (1.4.1)\n",
            "Requirement already satisfied: torchvision>=0.2.2 in /usr/local/lib/python3.7/dist-packages (from pytorch-fid) (0.11.1+cu111)\n",
            "Requirement already satisfied: numpy in /usr/local/lib/python3.7/dist-packages (from pytorch-fid) (1.19.5)\n",
            "Requirement already satisfied: pillow in /usr/local/lib/python3.7/dist-packages (from pytorch-fid) (7.1.2)\n",
            "Requirement already satisfied: typing-extensions in /usr/local/lib/python3.7/dist-packages (from torch>=1.0.1->pytorch-fid) (3.10.0.2)\n"
          ]
        }
      ]
    },
    {
      "cell_type": "code",
      "metadata": {
        "id": "NtDlFcqiwczr"
      },
      "source": [
        "#Считаем fid\n",
        "!python -m pytorch_fid ./results/singleimage_monet_etretat/test_latest/images/real_B/ ./results/singleimage_monet_etretat/test_latest/images/fake_B/"
      ],
      "execution_count": null,
      "outputs": []
    }
  ]
}