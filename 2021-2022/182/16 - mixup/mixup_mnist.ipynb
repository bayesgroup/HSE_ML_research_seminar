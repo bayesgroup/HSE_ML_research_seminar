{
  "nbformat": 4,
  "nbformat_minor": 0,
  "metadata": {
    "notebookPath": "mixup_test.ipynb",
    "language_info": {
      "file_extension": ".py",
      "version": "3.7.7",
      "mimetype": "text/x-python",
      "codemirror_mode": {
        "version": 3,
        "name": "ipython"
      },
      "name": "python",
      "nbconvert_exporter": "python",
      "pygments_lexer": "ipython3"
    },
    "notebookId": "c2a6912d-c397-4dab-8e96-ff0647c5080a",
    "colab": {
      "name": "mixup_test.ipynb",
      "provenance": [],
      "collapsed_sections": []
    },
    "widgets": {
      "application/vnd.jupyter.widget-state+json": {
        "619c5a8c8a2d400fb47636916d4fe0f8": {
          "model_module": "@jupyter-widgets/controls",
          "model_name": "HBoxModel",
          "model_module_version": "1.5.0",
          "state": {
            "_view_name": "HBoxView",
            "_dom_classes": [],
            "_model_name": "HBoxModel",
            "_view_module": "@jupyter-widgets/controls",
            "_model_module_version": "1.5.0",
            "_view_count": null,
            "_view_module_version": "1.5.0",
            "box_style": "",
            "layout": "IPY_MODEL_573bcab6e46840d7a6e77ce83baf66ad",
            "_model_module": "@jupyter-widgets/controls",
            "children": [
              "IPY_MODEL_1647f54bb92d48449e4a7f9cea8f68ce",
              "IPY_MODEL_50f11657714f4dadbdabb34abee2de68",
              "IPY_MODEL_298bcf2189e34afb885dd6a3179726ba"
            ]
          }
        },
        "573bcab6e46840d7a6e77ce83baf66ad": {
          "model_module": "@jupyter-widgets/base",
          "model_name": "LayoutModel",
          "model_module_version": "1.2.0",
          "state": {
            "_view_name": "LayoutView",
            "grid_template_rows": null,
            "right": null,
            "justify_content": null,
            "_view_module": "@jupyter-widgets/base",
            "overflow": null,
            "_model_module_version": "1.2.0",
            "_view_count": null,
            "flex_flow": null,
            "width": null,
            "min_width": null,
            "border": null,
            "align_items": null,
            "bottom": null,
            "_model_module": "@jupyter-widgets/base",
            "top": null,
            "grid_column": null,
            "overflow_y": null,
            "overflow_x": null,
            "grid_auto_flow": null,
            "grid_area": null,
            "grid_template_columns": null,
            "flex": null,
            "_model_name": "LayoutModel",
            "justify_items": null,
            "grid_row": null,
            "max_height": null,
            "align_content": null,
            "visibility": null,
            "align_self": null,
            "height": null,
            "min_height": null,
            "padding": null,
            "grid_auto_rows": null,
            "grid_gap": null,
            "max_width": null,
            "order": null,
            "_view_module_version": "1.2.0",
            "grid_template_areas": null,
            "object_position": null,
            "object_fit": null,
            "grid_auto_columns": null,
            "margin": null,
            "display": null,
            "left": null
          }
        },
        "1647f54bb92d48449e4a7f9cea8f68ce": {
          "model_module": "@jupyter-widgets/controls",
          "model_name": "HTMLModel",
          "model_module_version": "1.5.0",
          "state": {
            "_view_name": "HTMLView",
            "style": "IPY_MODEL_325011f734244ba2b3b94caede40fd00",
            "_dom_classes": [],
            "description": "",
            "_model_name": "HTMLModel",
            "placeholder": "​",
            "_view_module": "@jupyter-widgets/controls",
            "_model_module_version": "1.5.0",
            "value": "",
            "_view_count": null,
            "_view_module_version": "1.5.0",
            "description_tooltip": null,
            "_model_module": "@jupyter-widgets/controls",
            "layout": "IPY_MODEL_adc29c482b1343388ff26c036a0df5e6"
          }
        },
        "50f11657714f4dadbdabb34abee2de68": {
          "model_module": "@jupyter-widgets/controls",
          "model_name": "FloatProgressModel",
          "model_module_version": "1.5.0",
          "state": {
            "_view_name": "ProgressView",
            "style": "IPY_MODEL_bbb761d7cfb547f69b349baa0e689c36",
            "_dom_classes": [],
            "description": "",
            "_model_name": "FloatProgressModel",
            "bar_style": "success",
            "max": 9912422,
            "_view_module": "@jupyter-widgets/controls",
            "_model_module_version": "1.5.0",
            "value": 9912422,
            "_view_count": null,
            "_view_module_version": "1.5.0",
            "orientation": "horizontal",
            "min": 0,
            "description_tooltip": null,
            "_model_module": "@jupyter-widgets/controls",
            "layout": "IPY_MODEL_02cb35705ecd4965aa1fe9df673d36df"
          }
        },
        "298bcf2189e34afb885dd6a3179726ba": {
          "model_module": "@jupyter-widgets/controls",
          "model_name": "HTMLModel",
          "model_module_version": "1.5.0",
          "state": {
            "_view_name": "HTMLView",
            "style": "IPY_MODEL_8c7e8b99cb5942d188fbe4809e858cb6",
            "_dom_classes": [],
            "description": "",
            "_model_name": "HTMLModel",
            "placeholder": "​",
            "_view_module": "@jupyter-widgets/controls",
            "_model_module_version": "1.5.0",
            "value": " 9913344/? [00:00&lt;00:00, 47020102.43it/s]",
            "_view_count": null,
            "_view_module_version": "1.5.0",
            "description_tooltip": null,
            "_model_module": "@jupyter-widgets/controls",
            "layout": "IPY_MODEL_70d9ce1957954ea5a175b917a976041a"
          }
        },
        "325011f734244ba2b3b94caede40fd00": {
          "model_module": "@jupyter-widgets/controls",
          "model_name": "DescriptionStyleModel",
          "model_module_version": "1.5.0",
          "state": {
            "_view_name": "StyleView",
            "_model_name": "DescriptionStyleModel",
            "description_width": "",
            "_view_module": "@jupyter-widgets/base",
            "_model_module_version": "1.5.0",
            "_view_count": null,
            "_view_module_version": "1.2.0",
            "_model_module": "@jupyter-widgets/controls"
          }
        },
        "adc29c482b1343388ff26c036a0df5e6": {
          "model_module": "@jupyter-widgets/base",
          "model_name": "LayoutModel",
          "model_module_version": "1.2.0",
          "state": {
            "_view_name": "LayoutView",
            "grid_template_rows": null,
            "right": null,
            "justify_content": null,
            "_view_module": "@jupyter-widgets/base",
            "overflow": null,
            "_model_module_version": "1.2.0",
            "_view_count": null,
            "flex_flow": null,
            "width": null,
            "min_width": null,
            "border": null,
            "align_items": null,
            "bottom": null,
            "_model_module": "@jupyter-widgets/base",
            "top": null,
            "grid_column": null,
            "overflow_y": null,
            "overflow_x": null,
            "grid_auto_flow": null,
            "grid_area": null,
            "grid_template_columns": null,
            "flex": null,
            "_model_name": "LayoutModel",
            "justify_items": null,
            "grid_row": null,
            "max_height": null,
            "align_content": null,
            "visibility": null,
            "align_self": null,
            "height": null,
            "min_height": null,
            "padding": null,
            "grid_auto_rows": null,
            "grid_gap": null,
            "max_width": null,
            "order": null,
            "_view_module_version": "1.2.0",
            "grid_template_areas": null,
            "object_position": null,
            "object_fit": null,
            "grid_auto_columns": null,
            "margin": null,
            "display": null,
            "left": null
          }
        },
        "bbb761d7cfb547f69b349baa0e689c36": {
          "model_module": "@jupyter-widgets/controls",
          "model_name": "ProgressStyleModel",
          "model_module_version": "1.5.0",
          "state": {
            "_view_name": "StyleView",
            "_model_name": "ProgressStyleModel",
            "description_width": "",
            "_view_module": "@jupyter-widgets/base",
            "_model_module_version": "1.5.0",
            "_view_count": null,
            "_view_module_version": "1.2.0",
            "bar_color": null,
            "_model_module": "@jupyter-widgets/controls"
          }
        },
        "02cb35705ecd4965aa1fe9df673d36df": {
          "model_module": "@jupyter-widgets/base",
          "model_name": "LayoutModel",
          "model_module_version": "1.2.0",
          "state": {
            "_view_name": "LayoutView",
            "grid_template_rows": null,
            "right": null,
            "justify_content": null,
            "_view_module": "@jupyter-widgets/base",
            "overflow": null,
            "_model_module_version": "1.2.0",
            "_view_count": null,
            "flex_flow": null,
            "width": null,
            "min_width": null,
            "border": null,
            "align_items": null,
            "bottom": null,
            "_model_module": "@jupyter-widgets/base",
            "top": null,
            "grid_column": null,
            "overflow_y": null,
            "overflow_x": null,
            "grid_auto_flow": null,
            "grid_area": null,
            "grid_template_columns": null,
            "flex": null,
            "_model_name": "LayoutModel",
            "justify_items": null,
            "grid_row": null,
            "max_height": null,
            "align_content": null,
            "visibility": null,
            "align_self": null,
            "height": null,
            "min_height": null,
            "padding": null,
            "grid_auto_rows": null,
            "grid_gap": null,
            "max_width": null,
            "order": null,
            "_view_module_version": "1.2.0",
            "grid_template_areas": null,
            "object_position": null,
            "object_fit": null,
            "grid_auto_columns": null,
            "margin": null,
            "display": null,
            "left": null
          }
        },
        "8c7e8b99cb5942d188fbe4809e858cb6": {
          "model_module": "@jupyter-widgets/controls",
          "model_name": "DescriptionStyleModel",
          "model_module_version": "1.5.0",
          "state": {
            "_view_name": "StyleView",
            "_model_name": "DescriptionStyleModel",
            "description_width": "",
            "_view_module": "@jupyter-widgets/base",
            "_model_module_version": "1.5.0",
            "_view_count": null,
            "_view_module_version": "1.2.0",
            "_model_module": "@jupyter-widgets/controls"
          }
        },
        "70d9ce1957954ea5a175b917a976041a": {
          "model_module": "@jupyter-widgets/base",
          "model_name": "LayoutModel",
          "model_module_version": "1.2.0",
          "state": {
            "_view_name": "LayoutView",
            "grid_template_rows": null,
            "right": null,
            "justify_content": null,
            "_view_module": "@jupyter-widgets/base",
            "overflow": null,
            "_model_module_version": "1.2.0",
            "_view_count": null,
            "flex_flow": null,
            "width": null,
            "min_width": null,
            "border": null,
            "align_items": null,
            "bottom": null,
            "_model_module": "@jupyter-widgets/base",
            "top": null,
            "grid_column": null,
            "overflow_y": null,
            "overflow_x": null,
            "grid_auto_flow": null,
            "grid_area": null,
            "grid_template_columns": null,
            "flex": null,
            "_model_name": "LayoutModel",
            "justify_items": null,
            "grid_row": null,
            "max_height": null,
            "align_content": null,
            "visibility": null,
            "align_self": null,
            "height": null,
            "min_height": null,
            "padding": null,
            "grid_auto_rows": null,
            "grid_gap": null,
            "max_width": null,
            "order": null,
            "_view_module_version": "1.2.0",
            "grid_template_areas": null,
            "object_position": null,
            "object_fit": null,
            "grid_auto_columns": null,
            "margin": null,
            "display": null,
            "left": null
          }
        },
        "618043ba2c3142b8b987b452e42e4b84": {
          "model_module": "@jupyter-widgets/controls",
          "model_name": "HBoxModel",
          "model_module_version": "1.5.0",
          "state": {
            "_view_name": "HBoxView",
            "_dom_classes": [],
            "_model_name": "HBoxModel",
            "_view_module": "@jupyter-widgets/controls",
            "_model_module_version": "1.5.0",
            "_view_count": null,
            "_view_module_version": "1.5.0",
            "box_style": "",
            "layout": "IPY_MODEL_cdb2d63b2e8341609dbe030671d010f8",
            "_model_module": "@jupyter-widgets/controls",
            "children": [
              "IPY_MODEL_a8ab1ecd7f4e456ca27bb9b47b69e826",
              "IPY_MODEL_f64478a829824630b1d50bd7c5bb40c9",
              "IPY_MODEL_6cbbc3565e7f479e8a00f3b922c66f91"
            ]
          }
        },
        "cdb2d63b2e8341609dbe030671d010f8": {
          "model_module": "@jupyter-widgets/base",
          "model_name": "LayoutModel",
          "model_module_version": "1.2.0",
          "state": {
            "_view_name": "LayoutView",
            "grid_template_rows": null,
            "right": null,
            "justify_content": null,
            "_view_module": "@jupyter-widgets/base",
            "overflow": null,
            "_model_module_version": "1.2.0",
            "_view_count": null,
            "flex_flow": null,
            "width": null,
            "min_width": null,
            "border": null,
            "align_items": null,
            "bottom": null,
            "_model_module": "@jupyter-widgets/base",
            "top": null,
            "grid_column": null,
            "overflow_y": null,
            "overflow_x": null,
            "grid_auto_flow": null,
            "grid_area": null,
            "grid_template_columns": null,
            "flex": null,
            "_model_name": "LayoutModel",
            "justify_items": null,
            "grid_row": null,
            "max_height": null,
            "align_content": null,
            "visibility": null,
            "align_self": null,
            "height": null,
            "min_height": null,
            "padding": null,
            "grid_auto_rows": null,
            "grid_gap": null,
            "max_width": null,
            "order": null,
            "_view_module_version": "1.2.0",
            "grid_template_areas": null,
            "object_position": null,
            "object_fit": null,
            "grid_auto_columns": null,
            "margin": null,
            "display": null,
            "left": null
          }
        },
        "a8ab1ecd7f4e456ca27bb9b47b69e826": {
          "model_module": "@jupyter-widgets/controls",
          "model_name": "HTMLModel",
          "model_module_version": "1.5.0",
          "state": {
            "_view_name": "HTMLView",
            "style": "IPY_MODEL_77332151f8a240d8a0be17049446cf1d",
            "_dom_classes": [],
            "description": "",
            "_model_name": "HTMLModel",
            "placeholder": "​",
            "_view_module": "@jupyter-widgets/controls",
            "_model_module_version": "1.5.0",
            "value": "",
            "_view_count": null,
            "_view_module_version": "1.5.0",
            "description_tooltip": null,
            "_model_module": "@jupyter-widgets/controls",
            "layout": "IPY_MODEL_5f449b068efc4d01a6591ebeffa1b300"
          }
        },
        "f64478a829824630b1d50bd7c5bb40c9": {
          "model_module": "@jupyter-widgets/controls",
          "model_name": "FloatProgressModel",
          "model_module_version": "1.5.0",
          "state": {
            "_view_name": "ProgressView",
            "style": "IPY_MODEL_584b1284b8284a6ca661deb2c5e89206",
            "_dom_classes": [],
            "description": "",
            "_model_name": "FloatProgressModel",
            "bar_style": "success",
            "max": 28881,
            "_view_module": "@jupyter-widgets/controls",
            "_model_module_version": "1.5.0",
            "value": 28881,
            "_view_count": null,
            "_view_module_version": "1.5.0",
            "orientation": "horizontal",
            "min": 0,
            "description_tooltip": null,
            "_model_module": "@jupyter-widgets/controls",
            "layout": "IPY_MODEL_92dd618e4f3a4018ac557ef44f132be7"
          }
        },
        "6cbbc3565e7f479e8a00f3b922c66f91": {
          "model_module": "@jupyter-widgets/controls",
          "model_name": "HTMLModel",
          "model_module_version": "1.5.0",
          "state": {
            "_view_name": "HTMLView",
            "style": "IPY_MODEL_ba22b4cdb8e847c5a18d11e8dd7ef41c",
            "_dom_classes": [],
            "description": "",
            "_model_name": "HTMLModel",
            "placeholder": "​",
            "_view_module": "@jupyter-widgets/controls",
            "_model_module_version": "1.5.0",
            "value": " 29696/? [00:00&lt;00:00, 421093.73it/s]",
            "_view_count": null,
            "_view_module_version": "1.5.0",
            "description_tooltip": null,
            "_model_module": "@jupyter-widgets/controls",
            "layout": "IPY_MODEL_79499b30d7584a38a5539ba17489fb7d"
          }
        },
        "77332151f8a240d8a0be17049446cf1d": {
          "model_module": "@jupyter-widgets/controls",
          "model_name": "DescriptionStyleModel",
          "model_module_version": "1.5.0",
          "state": {
            "_view_name": "StyleView",
            "_model_name": "DescriptionStyleModel",
            "description_width": "",
            "_view_module": "@jupyter-widgets/base",
            "_model_module_version": "1.5.0",
            "_view_count": null,
            "_view_module_version": "1.2.0",
            "_model_module": "@jupyter-widgets/controls"
          }
        },
        "5f449b068efc4d01a6591ebeffa1b300": {
          "model_module": "@jupyter-widgets/base",
          "model_name": "LayoutModel",
          "model_module_version": "1.2.0",
          "state": {
            "_view_name": "LayoutView",
            "grid_template_rows": null,
            "right": null,
            "justify_content": null,
            "_view_module": "@jupyter-widgets/base",
            "overflow": null,
            "_model_module_version": "1.2.0",
            "_view_count": null,
            "flex_flow": null,
            "width": null,
            "min_width": null,
            "border": null,
            "align_items": null,
            "bottom": null,
            "_model_module": "@jupyter-widgets/base",
            "top": null,
            "grid_column": null,
            "overflow_y": null,
            "overflow_x": null,
            "grid_auto_flow": null,
            "grid_area": null,
            "grid_template_columns": null,
            "flex": null,
            "_model_name": "LayoutModel",
            "justify_items": null,
            "grid_row": null,
            "max_height": null,
            "align_content": null,
            "visibility": null,
            "align_self": null,
            "height": null,
            "min_height": null,
            "padding": null,
            "grid_auto_rows": null,
            "grid_gap": null,
            "max_width": null,
            "order": null,
            "_view_module_version": "1.2.0",
            "grid_template_areas": null,
            "object_position": null,
            "object_fit": null,
            "grid_auto_columns": null,
            "margin": null,
            "display": null,
            "left": null
          }
        },
        "584b1284b8284a6ca661deb2c5e89206": {
          "model_module": "@jupyter-widgets/controls",
          "model_name": "ProgressStyleModel",
          "model_module_version": "1.5.0",
          "state": {
            "_view_name": "StyleView",
            "_model_name": "ProgressStyleModel",
            "description_width": "",
            "_view_module": "@jupyter-widgets/base",
            "_model_module_version": "1.5.0",
            "_view_count": null,
            "_view_module_version": "1.2.0",
            "bar_color": null,
            "_model_module": "@jupyter-widgets/controls"
          }
        },
        "92dd618e4f3a4018ac557ef44f132be7": {
          "model_module": "@jupyter-widgets/base",
          "model_name": "LayoutModel",
          "model_module_version": "1.2.0",
          "state": {
            "_view_name": "LayoutView",
            "grid_template_rows": null,
            "right": null,
            "justify_content": null,
            "_view_module": "@jupyter-widgets/base",
            "overflow": null,
            "_model_module_version": "1.2.0",
            "_view_count": null,
            "flex_flow": null,
            "width": null,
            "min_width": null,
            "border": null,
            "align_items": null,
            "bottom": null,
            "_model_module": "@jupyter-widgets/base",
            "top": null,
            "grid_column": null,
            "overflow_y": null,
            "overflow_x": null,
            "grid_auto_flow": null,
            "grid_area": null,
            "grid_template_columns": null,
            "flex": null,
            "_model_name": "LayoutModel",
            "justify_items": null,
            "grid_row": null,
            "max_height": null,
            "align_content": null,
            "visibility": null,
            "align_self": null,
            "height": null,
            "min_height": null,
            "padding": null,
            "grid_auto_rows": null,
            "grid_gap": null,
            "max_width": null,
            "order": null,
            "_view_module_version": "1.2.0",
            "grid_template_areas": null,
            "object_position": null,
            "object_fit": null,
            "grid_auto_columns": null,
            "margin": null,
            "display": null,
            "left": null
          }
        },
        "ba22b4cdb8e847c5a18d11e8dd7ef41c": {
          "model_module": "@jupyter-widgets/controls",
          "model_name": "DescriptionStyleModel",
          "model_module_version": "1.5.0",
          "state": {
            "_view_name": "StyleView",
            "_model_name": "DescriptionStyleModel",
            "description_width": "",
            "_view_module": "@jupyter-widgets/base",
            "_model_module_version": "1.5.0",
            "_view_count": null,
            "_view_module_version": "1.2.0",
            "_model_module": "@jupyter-widgets/controls"
          }
        },
        "79499b30d7584a38a5539ba17489fb7d": {
          "model_module": "@jupyter-widgets/base",
          "model_name": "LayoutModel",
          "model_module_version": "1.2.0",
          "state": {
            "_view_name": "LayoutView",
            "grid_template_rows": null,
            "right": null,
            "justify_content": null,
            "_view_module": "@jupyter-widgets/base",
            "overflow": null,
            "_model_module_version": "1.2.0",
            "_view_count": null,
            "flex_flow": null,
            "width": null,
            "min_width": null,
            "border": null,
            "align_items": null,
            "bottom": null,
            "_model_module": "@jupyter-widgets/base",
            "top": null,
            "grid_column": null,
            "overflow_y": null,
            "overflow_x": null,
            "grid_auto_flow": null,
            "grid_area": null,
            "grid_template_columns": null,
            "flex": null,
            "_model_name": "LayoutModel",
            "justify_items": null,
            "grid_row": null,
            "max_height": null,
            "align_content": null,
            "visibility": null,
            "align_self": null,
            "height": null,
            "min_height": null,
            "padding": null,
            "grid_auto_rows": null,
            "grid_gap": null,
            "max_width": null,
            "order": null,
            "_view_module_version": "1.2.0",
            "grid_template_areas": null,
            "object_position": null,
            "object_fit": null,
            "grid_auto_columns": null,
            "margin": null,
            "display": null,
            "left": null
          }
        },
        "5f1fcc0b00554dde937308d9f9711b23": {
          "model_module": "@jupyter-widgets/controls",
          "model_name": "HBoxModel",
          "model_module_version": "1.5.0",
          "state": {
            "_view_name": "HBoxView",
            "_dom_classes": [],
            "_model_name": "HBoxModel",
            "_view_module": "@jupyter-widgets/controls",
            "_model_module_version": "1.5.0",
            "_view_count": null,
            "_view_module_version": "1.5.0",
            "box_style": "",
            "layout": "IPY_MODEL_5dfb502789d64779b6818bce4b630b7b",
            "_model_module": "@jupyter-widgets/controls",
            "children": [
              "IPY_MODEL_4ef8eef9a2014e4ea8ef9b7fe774dc4b",
              "IPY_MODEL_78d710c22b2f499eb9165f2502a7e201",
              "IPY_MODEL_2aa9e5edf71a43e593c769fed3849ee7"
            ]
          }
        },
        "5dfb502789d64779b6818bce4b630b7b": {
          "model_module": "@jupyter-widgets/base",
          "model_name": "LayoutModel",
          "model_module_version": "1.2.0",
          "state": {
            "_view_name": "LayoutView",
            "grid_template_rows": null,
            "right": null,
            "justify_content": null,
            "_view_module": "@jupyter-widgets/base",
            "overflow": null,
            "_model_module_version": "1.2.0",
            "_view_count": null,
            "flex_flow": null,
            "width": null,
            "min_width": null,
            "border": null,
            "align_items": null,
            "bottom": null,
            "_model_module": "@jupyter-widgets/base",
            "top": null,
            "grid_column": null,
            "overflow_y": null,
            "overflow_x": null,
            "grid_auto_flow": null,
            "grid_area": null,
            "grid_template_columns": null,
            "flex": null,
            "_model_name": "LayoutModel",
            "justify_items": null,
            "grid_row": null,
            "max_height": null,
            "align_content": null,
            "visibility": null,
            "align_self": null,
            "height": null,
            "min_height": null,
            "padding": null,
            "grid_auto_rows": null,
            "grid_gap": null,
            "max_width": null,
            "order": null,
            "_view_module_version": "1.2.0",
            "grid_template_areas": null,
            "object_position": null,
            "object_fit": null,
            "grid_auto_columns": null,
            "margin": null,
            "display": null,
            "left": null
          }
        },
        "4ef8eef9a2014e4ea8ef9b7fe774dc4b": {
          "model_module": "@jupyter-widgets/controls",
          "model_name": "HTMLModel",
          "model_module_version": "1.5.0",
          "state": {
            "_view_name": "HTMLView",
            "style": "IPY_MODEL_d20b0fb667574780b9a16896139180ee",
            "_dom_classes": [],
            "description": "",
            "_model_name": "HTMLModel",
            "placeholder": "​",
            "_view_module": "@jupyter-widgets/controls",
            "_model_module_version": "1.5.0",
            "value": "",
            "_view_count": null,
            "_view_module_version": "1.5.0",
            "description_tooltip": null,
            "_model_module": "@jupyter-widgets/controls",
            "layout": "IPY_MODEL_c83b8c6b99c1464faf59e14f5f3b32f8"
          }
        },
        "78d710c22b2f499eb9165f2502a7e201": {
          "model_module": "@jupyter-widgets/controls",
          "model_name": "FloatProgressModel",
          "model_module_version": "1.5.0",
          "state": {
            "_view_name": "ProgressView",
            "style": "IPY_MODEL_1002fb24f25043ecbefc082aec2a7185",
            "_dom_classes": [],
            "description": "",
            "_model_name": "FloatProgressModel",
            "bar_style": "success",
            "max": 1648877,
            "_view_module": "@jupyter-widgets/controls",
            "_model_module_version": "1.5.0",
            "value": 1648877,
            "_view_count": null,
            "_view_module_version": "1.5.0",
            "orientation": "horizontal",
            "min": 0,
            "description_tooltip": null,
            "_model_module": "@jupyter-widgets/controls",
            "layout": "IPY_MODEL_d5b9f6e4ef884f88a216d80b0bb9c7e0"
          }
        },
        "2aa9e5edf71a43e593c769fed3849ee7": {
          "model_module": "@jupyter-widgets/controls",
          "model_name": "HTMLModel",
          "model_module_version": "1.5.0",
          "state": {
            "_view_name": "HTMLView",
            "style": "IPY_MODEL_61b5386f54b2479a80d60e9209c999d7",
            "_dom_classes": [],
            "description": "",
            "_model_name": "HTMLModel",
            "placeholder": "​",
            "_view_module": "@jupyter-widgets/controls",
            "_model_module_version": "1.5.0",
            "value": " 1649664/? [00:00&lt;00:00, 11447484.84it/s]",
            "_view_count": null,
            "_view_module_version": "1.5.0",
            "description_tooltip": null,
            "_model_module": "@jupyter-widgets/controls",
            "layout": "IPY_MODEL_a8aae7b972fd4c1ca93a886aa91608a7"
          }
        },
        "d20b0fb667574780b9a16896139180ee": {
          "model_module": "@jupyter-widgets/controls",
          "model_name": "DescriptionStyleModel",
          "model_module_version": "1.5.0",
          "state": {
            "_view_name": "StyleView",
            "_model_name": "DescriptionStyleModel",
            "description_width": "",
            "_view_module": "@jupyter-widgets/base",
            "_model_module_version": "1.5.0",
            "_view_count": null,
            "_view_module_version": "1.2.0",
            "_model_module": "@jupyter-widgets/controls"
          }
        },
        "c83b8c6b99c1464faf59e14f5f3b32f8": {
          "model_module": "@jupyter-widgets/base",
          "model_name": "LayoutModel",
          "model_module_version": "1.2.0",
          "state": {
            "_view_name": "LayoutView",
            "grid_template_rows": null,
            "right": null,
            "justify_content": null,
            "_view_module": "@jupyter-widgets/base",
            "overflow": null,
            "_model_module_version": "1.2.0",
            "_view_count": null,
            "flex_flow": null,
            "width": null,
            "min_width": null,
            "border": null,
            "align_items": null,
            "bottom": null,
            "_model_module": "@jupyter-widgets/base",
            "top": null,
            "grid_column": null,
            "overflow_y": null,
            "overflow_x": null,
            "grid_auto_flow": null,
            "grid_area": null,
            "grid_template_columns": null,
            "flex": null,
            "_model_name": "LayoutModel",
            "justify_items": null,
            "grid_row": null,
            "max_height": null,
            "align_content": null,
            "visibility": null,
            "align_self": null,
            "height": null,
            "min_height": null,
            "padding": null,
            "grid_auto_rows": null,
            "grid_gap": null,
            "max_width": null,
            "order": null,
            "_view_module_version": "1.2.0",
            "grid_template_areas": null,
            "object_position": null,
            "object_fit": null,
            "grid_auto_columns": null,
            "margin": null,
            "display": null,
            "left": null
          }
        },
        "1002fb24f25043ecbefc082aec2a7185": {
          "model_module": "@jupyter-widgets/controls",
          "model_name": "ProgressStyleModel",
          "model_module_version": "1.5.0",
          "state": {
            "_view_name": "StyleView",
            "_model_name": "ProgressStyleModel",
            "description_width": "",
            "_view_module": "@jupyter-widgets/base",
            "_model_module_version": "1.5.0",
            "_view_count": null,
            "_view_module_version": "1.2.0",
            "bar_color": null,
            "_model_module": "@jupyter-widgets/controls"
          }
        },
        "d5b9f6e4ef884f88a216d80b0bb9c7e0": {
          "model_module": "@jupyter-widgets/base",
          "model_name": "LayoutModel",
          "model_module_version": "1.2.0",
          "state": {
            "_view_name": "LayoutView",
            "grid_template_rows": null,
            "right": null,
            "justify_content": null,
            "_view_module": "@jupyter-widgets/base",
            "overflow": null,
            "_model_module_version": "1.2.0",
            "_view_count": null,
            "flex_flow": null,
            "width": null,
            "min_width": null,
            "border": null,
            "align_items": null,
            "bottom": null,
            "_model_module": "@jupyter-widgets/base",
            "top": null,
            "grid_column": null,
            "overflow_y": null,
            "overflow_x": null,
            "grid_auto_flow": null,
            "grid_area": null,
            "grid_template_columns": null,
            "flex": null,
            "_model_name": "LayoutModel",
            "justify_items": null,
            "grid_row": null,
            "max_height": null,
            "align_content": null,
            "visibility": null,
            "align_self": null,
            "height": null,
            "min_height": null,
            "padding": null,
            "grid_auto_rows": null,
            "grid_gap": null,
            "max_width": null,
            "order": null,
            "_view_module_version": "1.2.0",
            "grid_template_areas": null,
            "object_position": null,
            "object_fit": null,
            "grid_auto_columns": null,
            "margin": null,
            "display": null,
            "left": null
          }
        },
        "61b5386f54b2479a80d60e9209c999d7": {
          "model_module": "@jupyter-widgets/controls",
          "model_name": "DescriptionStyleModel",
          "model_module_version": "1.5.0",
          "state": {
            "_view_name": "StyleView",
            "_model_name": "DescriptionStyleModel",
            "description_width": "",
            "_view_module": "@jupyter-widgets/base",
            "_model_module_version": "1.5.0",
            "_view_count": null,
            "_view_module_version": "1.2.0",
            "_model_module": "@jupyter-widgets/controls"
          }
        },
        "a8aae7b972fd4c1ca93a886aa91608a7": {
          "model_module": "@jupyter-widgets/base",
          "model_name": "LayoutModel",
          "model_module_version": "1.2.0",
          "state": {
            "_view_name": "LayoutView",
            "grid_template_rows": null,
            "right": null,
            "justify_content": null,
            "_view_module": "@jupyter-widgets/base",
            "overflow": null,
            "_model_module_version": "1.2.0",
            "_view_count": null,
            "flex_flow": null,
            "width": null,
            "min_width": null,
            "border": null,
            "align_items": null,
            "bottom": null,
            "_model_module": "@jupyter-widgets/base",
            "top": null,
            "grid_column": null,
            "overflow_y": null,
            "overflow_x": null,
            "grid_auto_flow": null,
            "grid_area": null,
            "grid_template_columns": null,
            "flex": null,
            "_model_name": "LayoutModel",
            "justify_items": null,
            "grid_row": null,
            "max_height": null,
            "align_content": null,
            "visibility": null,
            "align_self": null,
            "height": null,
            "min_height": null,
            "padding": null,
            "grid_auto_rows": null,
            "grid_gap": null,
            "max_width": null,
            "order": null,
            "_view_module_version": "1.2.0",
            "grid_template_areas": null,
            "object_position": null,
            "object_fit": null,
            "grid_auto_columns": null,
            "margin": null,
            "display": null,
            "left": null
          }
        },
        "ce27f2279374400b95d96d6840f80c2d": {
          "model_module": "@jupyter-widgets/controls",
          "model_name": "HBoxModel",
          "model_module_version": "1.5.0",
          "state": {
            "_view_name": "HBoxView",
            "_dom_classes": [],
            "_model_name": "HBoxModel",
            "_view_module": "@jupyter-widgets/controls",
            "_model_module_version": "1.5.0",
            "_view_count": null,
            "_view_module_version": "1.5.0",
            "box_style": "",
            "layout": "IPY_MODEL_166ea308dc1b40e8a50c3ca49c91942d",
            "_model_module": "@jupyter-widgets/controls",
            "children": [
              "IPY_MODEL_130b4ef174e347af913cb4ea818615db",
              "IPY_MODEL_24ad5fc04ed14051b2a289cd24815cfb",
              "IPY_MODEL_1669d2a8d7ed46bb8935e151431324e6"
            ]
          }
        },
        "166ea308dc1b40e8a50c3ca49c91942d": {
          "model_module": "@jupyter-widgets/base",
          "model_name": "LayoutModel",
          "model_module_version": "1.2.0",
          "state": {
            "_view_name": "LayoutView",
            "grid_template_rows": null,
            "right": null,
            "justify_content": null,
            "_view_module": "@jupyter-widgets/base",
            "overflow": null,
            "_model_module_version": "1.2.0",
            "_view_count": null,
            "flex_flow": null,
            "width": null,
            "min_width": null,
            "border": null,
            "align_items": null,
            "bottom": null,
            "_model_module": "@jupyter-widgets/base",
            "top": null,
            "grid_column": null,
            "overflow_y": null,
            "overflow_x": null,
            "grid_auto_flow": null,
            "grid_area": null,
            "grid_template_columns": null,
            "flex": null,
            "_model_name": "LayoutModel",
            "justify_items": null,
            "grid_row": null,
            "max_height": null,
            "align_content": null,
            "visibility": null,
            "align_self": null,
            "height": null,
            "min_height": null,
            "padding": null,
            "grid_auto_rows": null,
            "grid_gap": null,
            "max_width": null,
            "order": null,
            "_view_module_version": "1.2.0",
            "grid_template_areas": null,
            "object_position": null,
            "object_fit": null,
            "grid_auto_columns": null,
            "margin": null,
            "display": null,
            "left": null
          }
        },
        "130b4ef174e347af913cb4ea818615db": {
          "model_module": "@jupyter-widgets/controls",
          "model_name": "HTMLModel",
          "model_module_version": "1.5.0",
          "state": {
            "_view_name": "HTMLView",
            "style": "IPY_MODEL_78dcb99bc62d41ad98419155602a51a0",
            "_dom_classes": [],
            "description": "",
            "_model_name": "HTMLModel",
            "placeholder": "​",
            "_view_module": "@jupyter-widgets/controls",
            "_model_module_version": "1.5.0",
            "value": "",
            "_view_count": null,
            "_view_module_version": "1.5.0",
            "description_tooltip": null,
            "_model_module": "@jupyter-widgets/controls",
            "layout": "IPY_MODEL_80014b427cef4de4949d41412a7d58c1"
          }
        },
        "24ad5fc04ed14051b2a289cd24815cfb": {
          "model_module": "@jupyter-widgets/controls",
          "model_name": "FloatProgressModel",
          "model_module_version": "1.5.0",
          "state": {
            "_view_name": "ProgressView",
            "style": "IPY_MODEL_13a740869f624c6e9ab44f5630935ab1",
            "_dom_classes": [],
            "description": "",
            "_model_name": "FloatProgressModel",
            "bar_style": "success",
            "max": 4542,
            "_view_module": "@jupyter-widgets/controls",
            "_model_module_version": "1.5.0",
            "value": 4542,
            "_view_count": null,
            "_view_module_version": "1.5.0",
            "orientation": "horizontal",
            "min": 0,
            "description_tooltip": null,
            "_model_module": "@jupyter-widgets/controls",
            "layout": "IPY_MODEL_296809b358ce4309831b4e8514b9aca2"
          }
        },
        "1669d2a8d7ed46bb8935e151431324e6": {
          "model_module": "@jupyter-widgets/controls",
          "model_name": "HTMLModel",
          "model_module_version": "1.5.0",
          "state": {
            "_view_name": "HTMLView",
            "style": "IPY_MODEL_e5bb302c346f47b890754e0220cc826f",
            "_dom_classes": [],
            "description": "",
            "_model_name": "HTMLModel",
            "placeholder": "​",
            "_view_module": "@jupyter-widgets/controls",
            "_model_module_version": "1.5.0",
            "value": " 5120/? [00:00&lt;00:00, 124881.29it/s]",
            "_view_count": null,
            "_view_module_version": "1.5.0",
            "description_tooltip": null,
            "_model_module": "@jupyter-widgets/controls",
            "layout": "IPY_MODEL_ca24677de9654f23b7625fcd1a10ad4e"
          }
        },
        "78dcb99bc62d41ad98419155602a51a0": {
          "model_module": "@jupyter-widgets/controls",
          "model_name": "DescriptionStyleModel",
          "model_module_version": "1.5.0",
          "state": {
            "_view_name": "StyleView",
            "_model_name": "DescriptionStyleModel",
            "description_width": "",
            "_view_module": "@jupyter-widgets/base",
            "_model_module_version": "1.5.0",
            "_view_count": null,
            "_view_module_version": "1.2.0",
            "_model_module": "@jupyter-widgets/controls"
          }
        },
        "80014b427cef4de4949d41412a7d58c1": {
          "model_module": "@jupyter-widgets/base",
          "model_name": "LayoutModel",
          "model_module_version": "1.2.0",
          "state": {
            "_view_name": "LayoutView",
            "grid_template_rows": null,
            "right": null,
            "justify_content": null,
            "_view_module": "@jupyter-widgets/base",
            "overflow": null,
            "_model_module_version": "1.2.0",
            "_view_count": null,
            "flex_flow": null,
            "width": null,
            "min_width": null,
            "border": null,
            "align_items": null,
            "bottom": null,
            "_model_module": "@jupyter-widgets/base",
            "top": null,
            "grid_column": null,
            "overflow_y": null,
            "overflow_x": null,
            "grid_auto_flow": null,
            "grid_area": null,
            "grid_template_columns": null,
            "flex": null,
            "_model_name": "LayoutModel",
            "justify_items": null,
            "grid_row": null,
            "max_height": null,
            "align_content": null,
            "visibility": null,
            "align_self": null,
            "height": null,
            "min_height": null,
            "padding": null,
            "grid_auto_rows": null,
            "grid_gap": null,
            "max_width": null,
            "order": null,
            "_view_module_version": "1.2.0",
            "grid_template_areas": null,
            "object_position": null,
            "object_fit": null,
            "grid_auto_columns": null,
            "margin": null,
            "display": null,
            "left": null
          }
        },
        "13a740869f624c6e9ab44f5630935ab1": {
          "model_module": "@jupyter-widgets/controls",
          "model_name": "ProgressStyleModel",
          "model_module_version": "1.5.0",
          "state": {
            "_view_name": "StyleView",
            "_model_name": "ProgressStyleModel",
            "description_width": "",
            "_view_module": "@jupyter-widgets/base",
            "_model_module_version": "1.5.0",
            "_view_count": null,
            "_view_module_version": "1.2.0",
            "bar_color": null,
            "_model_module": "@jupyter-widgets/controls"
          }
        },
        "296809b358ce4309831b4e8514b9aca2": {
          "model_module": "@jupyter-widgets/base",
          "model_name": "LayoutModel",
          "model_module_version": "1.2.0",
          "state": {
            "_view_name": "LayoutView",
            "grid_template_rows": null,
            "right": null,
            "justify_content": null,
            "_view_module": "@jupyter-widgets/base",
            "overflow": null,
            "_model_module_version": "1.2.0",
            "_view_count": null,
            "flex_flow": null,
            "width": null,
            "min_width": null,
            "border": null,
            "align_items": null,
            "bottom": null,
            "_model_module": "@jupyter-widgets/base",
            "top": null,
            "grid_column": null,
            "overflow_y": null,
            "overflow_x": null,
            "grid_auto_flow": null,
            "grid_area": null,
            "grid_template_columns": null,
            "flex": null,
            "_model_name": "LayoutModel",
            "justify_items": null,
            "grid_row": null,
            "max_height": null,
            "align_content": null,
            "visibility": null,
            "align_self": null,
            "height": null,
            "min_height": null,
            "padding": null,
            "grid_auto_rows": null,
            "grid_gap": null,
            "max_width": null,
            "order": null,
            "_view_module_version": "1.2.0",
            "grid_template_areas": null,
            "object_position": null,
            "object_fit": null,
            "grid_auto_columns": null,
            "margin": null,
            "display": null,
            "left": null
          }
        },
        "e5bb302c346f47b890754e0220cc826f": {
          "model_module": "@jupyter-widgets/controls",
          "model_name": "DescriptionStyleModel",
          "model_module_version": "1.5.0",
          "state": {
            "_view_name": "StyleView",
            "_model_name": "DescriptionStyleModel",
            "description_width": "",
            "_view_module": "@jupyter-widgets/base",
            "_model_module_version": "1.5.0",
            "_view_count": null,
            "_view_module_version": "1.2.0",
            "_model_module": "@jupyter-widgets/controls"
          }
        },
        "ca24677de9654f23b7625fcd1a10ad4e": {
          "model_module": "@jupyter-widgets/base",
          "model_name": "LayoutModel",
          "model_module_version": "1.2.0",
          "state": {
            "_view_name": "LayoutView",
            "grid_template_rows": null,
            "right": null,
            "justify_content": null,
            "_view_module": "@jupyter-widgets/base",
            "overflow": null,
            "_model_module_version": "1.2.0",
            "_view_count": null,
            "flex_flow": null,
            "width": null,
            "min_width": null,
            "border": null,
            "align_items": null,
            "bottom": null,
            "_model_module": "@jupyter-widgets/base",
            "top": null,
            "grid_column": null,
            "overflow_y": null,
            "overflow_x": null,
            "grid_auto_flow": null,
            "grid_area": null,
            "grid_template_columns": null,
            "flex": null,
            "_model_name": "LayoutModel",
            "justify_items": null,
            "grid_row": null,
            "max_height": null,
            "align_content": null,
            "visibility": null,
            "align_self": null,
            "height": null,
            "min_height": null,
            "padding": null,
            "grid_auto_rows": null,
            "grid_gap": null,
            "max_width": null,
            "order": null,
            "_view_module_version": "1.2.0",
            "grid_template_areas": null,
            "object_position": null,
            "object_fit": null,
            "grid_auto_columns": null,
            "margin": null,
            "display": null,
            "left": null
          }
        }
      }
    },
    "kernelspec": {
      "name": "python3",
      "display_name": "Yandex DataSphere Kernel",
      "language": "python"
    }
  },
  "cells": [
    {
      "cell_type": "code",
      "metadata": {
        "id": "UTP9dbVlgCTn",
        "cellId": "mq8sndrdc65bszpcl5lsx",
        "trusted": true
      },
      "source": [
        "%matplotlib inline\n",
        "import matplotlib.pyplot as plt\n",
        "import numpy as np\n",
        "from IPython.display import clear_output\n",
        "\n",
        "import torch\n",
        "import torchvision\n",
        "from torch.autograd import Variable\n",
        "import torch.nn as nn\n",
        "import torch.nn.functional as F\n",
        "import torchvision.datasets as dsets\n",
        "import torchvision.transforms as transforms\n",
        "import torch.optim as optim\n",
        "from torch.utils.data.sampler import Sampler, BatchSampler\n",
        "from torch.nn.modules.loss import MSELoss"
      ],
      "execution_count": null,
      "outputs": []
    },
    {
      "cell_type": "code",
      "metadata": {
        "id": "SsOFgKjBAVcf",
        "cellId": "zvose2cg7nydblq1wfq9o",
        "trusted": true,
        "colab": {
          "base_uri": "https://localhost:8080/",
          "height": 417,
          "referenced_widgets": [
            "619c5a8c8a2d400fb47636916d4fe0f8",
            "573bcab6e46840d7a6e77ce83baf66ad",
            "1647f54bb92d48449e4a7f9cea8f68ce",
            "50f11657714f4dadbdabb34abee2de68",
            "298bcf2189e34afb885dd6a3179726ba",
            "325011f734244ba2b3b94caede40fd00",
            "adc29c482b1343388ff26c036a0df5e6",
            "bbb761d7cfb547f69b349baa0e689c36",
            "02cb35705ecd4965aa1fe9df673d36df",
            "8c7e8b99cb5942d188fbe4809e858cb6",
            "70d9ce1957954ea5a175b917a976041a",
            "618043ba2c3142b8b987b452e42e4b84",
            "cdb2d63b2e8341609dbe030671d010f8",
            "a8ab1ecd7f4e456ca27bb9b47b69e826",
            "f64478a829824630b1d50bd7c5bb40c9",
            "6cbbc3565e7f479e8a00f3b922c66f91",
            "77332151f8a240d8a0be17049446cf1d",
            "5f449b068efc4d01a6591ebeffa1b300",
            "584b1284b8284a6ca661deb2c5e89206",
            "92dd618e4f3a4018ac557ef44f132be7",
            "ba22b4cdb8e847c5a18d11e8dd7ef41c",
            "79499b30d7584a38a5539ba17489fb7d",
            "5f1fcc0b00554dde937308d9f9711b23",
            "5dfb502789d64779b6818bce4b630b7b",
            "4ef8eef9a2014e4ea8ef9b7fe774dc4b",
            "78d710c22b2f499eb9165f2502a7e201",
            "2aa9e5edf71a43e593c769fed3849ee7",
            "d20b0fb667574780b9a16896139180ee",
            "c83b8c6b99c1464faf59e14f5f3b32f8",
            "1002fb24f25043ecbefc082aec2a7185",
            "d5b9f6e4ef884f88a216d80b0bb9c7e0",
            "61b5386f54b2479a80d60e9209c999d7",
            "a8aae7b972fd4c1ca93a886aa91608a7",
            "ce27f2279374400b95d96d6840f80c2d",
            "166ea308dc1b40e8a50c3ca49c91942d",
            "130b4ef174e347af913cb4ea818615db",
            "24ad5fc04ed14051b2a289cd24815cfb",
            "1669d2a8d7ed46bb8935e151431324e6",
            "78dcb99bc62d41ad98419155602a51a0",
            "80014b427cef4de4949d41412a7d58c1",
            "13a740869f624c6e9ab44f5630935ab1",
            "296809b358ce4309831b4e8514b9aca2",
            "e5bb302c346f47b890754e0220cc826f",
            "ca24677de9654f23b7625fcd1a10ad4e"
          ]
        },
        "outputId": "1656f9e4-4a7f-4d9e-fffc-b74dd75a7373"
      },
      "source": [
        "input_size = 784\n",
        "num_classes = 10\n",
        "batch_size = 256\n",
        "\n",
        "train_dataset = dsets.MNIST(root='./MNIST/', \n",
        "                            train=True, \n",
        "                            transform=transforms.ToTensor(),\n",
        "                            download=True)\n",
        "\n",
        "test_dataset = dsets.MNIST(root='./MNIST/', \n",
        "                           train=False, \n",
        "                           transform=transforms.ToTensor())\n",
        "\n",
        "\n",
        "train_loader = torch.utils.data.DataLoader(dataset=train_dataset,\n",
        "                                           batch_size=batch_size,\n",
        "                                           shuffle=False)\n",
        "\n",
        "test_loader = torch.utils.data.DataLoader(dataset=test_dataset, \n",
        "                                          batch_size=batch_size,         \n",
        "                                          shuffle=False)"
      ],
      "execution_count": null,
      "outputs": [
        {
          "output_type": "stream",
          "name": "stdout",
          "text": [
            "Downloading http://yann.lecun.com/exdb/mnist/train-images-idx3-ubyte.gz\n",
            "Downloading http://yann.lecun.com/exdb/mnist/train-images-idx3-ubyte.gz to ./MNIST/MNIST/raw/train-images-idx3-ubyte.gz\n"
          ]
        },
        {
          "output_type": "display_data",
          "data": {
            "application/vnd.jupyter.widget-view+json": {
              "model_id": "619c5a8c8a2d400fb47636916d4fe0f8",
              "version_minor": 0,
              "version_major": 2
            },
            "text/plain": [
              "  0%|          | 0/9912422 [00:00<?, ?it/s]"
            ]
          },
          "metadata": {}
        },
        {
          "output_type": "stream",
          "name": "stdout",
          "text": [
            "Extracting ./MNIST/MNIST/raw/train-images-idx3-ubyte.gz to ./MNIST/MNIST/raw\n",
            "\n",
            "Downloading http://yann.lecun.com/exdb/mnist/train-labels-idx1-ubyte.gz\n",
            "Downloading http://yann.lecun.com/exdb/mnist/train-labels-idx1-ubyte.gz to ./MNIST/MNIST/raw/train-labels-idx1-ubyte.gz\n"
          ]
        },
        {
          "output_type": "display_data",
          "data": {
            "application/vnd.jupyter.widget-view+json": {
              "model_id": "618043ba2c3142b8b987b452e42e4b84",
              "version_minor": 0,
              "version_major": 2
            },
            "text/plain": [
              "  0%|          | 0/28881 [00:00<?, ?it/s]"
            ]
          },
          "metadata": {}
        },
        {
          "output_type": "stream",
          "name": "stdout",
          "text": [
            "Extracting ./MNIST/MNIST/raw/train-labels-idx1-ubyte.gz to ./MNIST/MNIST/raw\n",
            "\n",
            "Downloading http://yann.lecun.com/exdb/mnist/t10k-images-idx3-ubyte.gz\n",
            "Downloading http://yann.lecun.com/exdb/mnist/t10k-images-idx3-ubyte.gz to ./MNIST/MNIST/raw/t10k-images-idx3-ubyte.gz\n"
          ]
        },
        {
          "output_type": "display_data",
          "data": {
            "application/vnd.jupyter.widget-view+json": {
              "model_id": "5f1fcc0b00554dde937308d9f9711b23",
              "version_minor": 0,
              "version_major": 2
            },
            "text/plain": [
              "  0%|          | 0/1648877 [00:00<?, ?it/s]"
            ]
          },
          "metadata": {}
        },
        {
          "output_type": "stream",
          "name": "stdout",
          "text": [
            "Extracting ./MNIST/MNIST/raw/t10k-images-idx3-ubyte.gz to ./MNIST/MNIST/raw\n",
            "\n",
            "Downloading http://yann.lecun.com/exdb/mnist/t10k-labels-idx1-ubyte.gz\n",
            "Downloading http://yann.lecun.com/exdb/mnist/t10k-labels-idx1-ubyte.gz to ./MNIST/MNIST/raw/t10k-labels-idx1-ubyte.gz\n"
          ]
        },
        {
          "output_type": "display_data",
          "data": {
            "application/vnd.jupyter.widget-view+json": {
              "model_id": "ce27f2279374400b95d96d6840f80c2d",
              "version_minor": 0,
              "version_major": 2
            },
            "text/plain": [
              "  0%|          | 0/4542 [00:00<?, ?it/s]"
            ]
          },
          "metadata": {}
        },
        {
          "output_type": "stream",
          "name": "stdout",
          "text": [
            "Extracting ./MNIST/MNIST/raw/t10k-labels-idx1-ubyte.gz to ./MNIST/MNIST/raw\n",
            "\n"
          ]
        }
      ]
    },
    {
      "cell_type": "code",
      "metadata": {
        "id": "tTkT95x5sz5p",
        "cellId": "c2g6365fs9nyy85jkgajdb",
        "trusted": true
      },
      "source": [
        "class ConvNet(nn.Module):\n",
        "    def __init__(self):\n",
        "        super().__init__()\n",
        "        \n",
        "        self.first = nn.Sequential(\n",
        "            nn.Conv2d(1, 8, 3),\n",
        "            nn.MaxPool2d(2),\n",
        "            nn.ReLU(),\n",
        "        )\n",
        "\n",
        "        self.second = nn.Sequential(\n",
        "            nn.Conv2d(8, 16, 3),\n",
        "            nn.ReLU(),\n",
        "            nn.MaxPool2d(2),\n",
        "        )\n",
        "\n",
        "        self.classifier = nn.Linear(400, 10)\n",
        "        \n",
        "    def forward(self, x):\n",
        "        out = self.first(x)  # batches, channels, (n, m)\n",
        "        out = self.second(out)\n",
        "        out = out.view(out.size(0), -1)\n",
        "        out = self.classifier(out)\n",
        "        return F.log_softmax(out, dim=-1)"
      ],
      "execution_count": null,
      "outputs": []
    },
    {
      "cell_type": "code",
      "metadata": {
        "id": "r0XvzdKFfSqG",
        "cellId": "7yv9ud154d58cj7lf07vzt",
        "trusted": true
      },
      "source": [
        "def mixup(x, y, alpha=1.0, size=batch_size):\n",
        "    lam = np.random.beta(alpha, alpha) if alpha > 0 else 1\n",
        "    size = min(size, x.size(0))\n",
        "    batch_size = x.size()[0]\n",
        "    index = torch.randperm(size)\n",
        "    \n",
        "\n",
        "    mixup_x = lam * x + (1 - lam) * x[index, :]\n",
        "    y_a, y_b = y, y[index]\n",
        "    return mixup_x, y_a, y_b, lam\n",
        "\n",
        "\n",
        "def mixup_loss(criterion, pred, y_a, y_b, lam):\n",
        "    return lam * criterion()(pred, y_a) + (1 - lam) * criterion()(pred, y_b)\n"
      ],
      "execution_count": null,
      "outputs": []
    },
    {
      "cell_type": "code",
      "metadata": {
        "id": "N0xcYTvpbOUR",
        "cellId": "ln1tu7gsnesv5r0cf39tzm",
        "trusted": true,
        "colab": {
          "base_uri": "https://localhost:8080/",
          "height": 296
        },
        "outputId": "31c83167-5aea-4c3f-f0d5-c85bc9c7b90b"
      },
      "source": [
        "inputs, labels = iter(test_loader).next()\n",
        "inputs = inputs[:4]\n",
        "labels = labels[:4]\n",
        "\n",
        "def imshow(images):\n",
        "    img = images\n",
        "    img = torchvision.utils.make_grid(img)\n",
        "    npimg = img.numpy()\n",
        "    plt.figure(figsize = (8, 8))\n",
        "    plt.imshow(np.transpose(npimg, (1, 2, 0)))\n",
        "    plt.axis('off')\n",
        "    plt.show()\n",
        "imshow(inputs)\n",
        "print(labels.numpy())\n",
        "\n",
        "mixed, _, _, _ = mixup(inputs, labels, alpha=0.5, size=4)\n",
        "\n",
        "imshow(mixed)"
      ],
      "execution_count": null,
      "outputs": [
        {
          "output_type": "display_data",
          "data": {
            "image/png": "[encoded data removed]",
            "text/plain": [
              "<Figure size 576x576 with 1 Axes>"
            ]
          },
          "metadata": {
            "needs_background": "light"
          }
        },
        {
          "output_type": "stream",
          "name": "stdout",
          "text": [
            "[7 2 1 0]\n"
          ]
        },
        {
          "output_type": "display_data",
          "data": {
            "image/png": "[encoded data removed]",
            "text/plain": [
              "<Figure size 576x576 with 1 Axes>"
            ]
          },
          "metadata": {
            "needs_background": "light"
          }
        }
      ]
    },
    {
      "cell_type": "code",
      "metadata": {
        "id": "a_tFb-CDhzp6",
        "cellId": "qm68jtgp9ugpe4rp1inlq",
        "trusted": true
      },
      "source": [
        "#!g1.1\n",
        "DEVICE = 'cuda' if torch.cuda.is_available() else 'cpu'"
      ],
      "execution_count": null,
      "outputs": []
    },
    {
      "cell_type": "code",
      "metadata": {
        "id": "4r7SY8dbkjOD",
        "cellId": "s5izpn0qz98bs0zfmjuf4",
        "trusted": true
      },
      "source": [
        "#!g1.1\n",
        "from tqdm import trange\n",
        "\n",
        "        \n",
        "def train_epoch(model, optimizer, batchsize=32, use_mixup=True, alpha=0.5):\n",
        "    loss_log, acc_log = [], []\n",
        "    model.train()\n",
        "    for _, (x_batch, y_batch) in zip(trange(len(train_loader)), train_loader):\n",
        "        data = x_batch\n",
        "        target = y_batch\n",
        "        data = data.to(DEVICE)\n",
        "        target = target.to(DEVICE)\n",
        "        optimizer.zero_grad()\n",
        "        output = model(data)   \n",
        "        if use_mixup:\n",
        "            data, targets_a, targets_b, lam = mixup(data, target, alpha)\n",
        "            data, targets_a, targets_b = map(Variable, (data,\n",
        "                                                      targets_a, targets_b))\n",
        "        \n",
        "        pred = torch.max(output, 1)[1]\n",
        "        acc = torch.eq(pred, target).float().mean()\n",
        "        acc_log.append(acc)\n",
        "        \n",
        "        if use_mixup:\n",
        "            loss = mixup_loss(nn.NLLLoss, output, targets_a, targets_b, lam)\n",
        "        else:\n",
        "            loss = nn.NLLLoss()(output, target)\n",
        "        loss.backward()\n",
        "        optimizer.step()\n",
        "        loss = loss.item()\n",
        "        loss_log.append(loss)\n",
        "    return loss_log, acc_log\n",
        "\n",
        "def test(model):\n",
        "    loss_log, acc_log = [], []\n",
        "    model.eval()\n",
        "    for batch_num, (x_batch, y_batch) in enumerate(test_loader):  \n",
        "        data = x_batch\n",
        "        target = y_batch\n",
        "        data = data.to(DEVICE)\n",
        "        target = target.to(DEVICE)\n",
        "        output = model(data)\n",
        "        loss = nn.NLLLoss()(output, target)\n",
        "        \n",
        "        pred = torch.max(output, 1)[1]\n",
        "        acc = torch.eq(pred, target).float().mean()\n",
        "        acc_log.append(acc)\n",
        "        \n",
        "        loss = loss.item()\n",
        "        loss_log.append(loss)\n",
        "    return loss_log, acc_log\n",
        "\n",
        "def plot_history(train_history, val_history, title='loss'):\n",
        "    plt.figure()\n",
        "    plt.title('{}'.format(title))\n",
        "    plt.plot(train_history, label='train', zorder=1)\n",
        "    \n",
        "    points = np.array(val_history)\n",
        "    \n",
        "    plt.scatter(points[:, 0], points[:, 1], marker='+', s=180, c='orange', label='val', zorder=2)\n",
        "    plt.xlabel('train steps')\n",
        "    \n",
        "    plt.legend(loc='best')\n",
        "    plt.grid()\n",
        "\n",
        "    plt.show()\n",
        "    \n",
        "def train(model, opt, n_epochs, use_mixup=True, alpha=0.5):\n",
        "    best_acc = 0\n",
        "    best_wts = None\n",
        "    train_log, train_acc_log = [], []\n",
        "    val_log, val_acc_log = [], []\n",
        "\n",
        "    batchsize = 32\n",
        "\n",
        "    for epoch in range(n_epochs):\n",
        "        print(\"Epoch\", epoch)\n",
        "        train_loss, train_acc = train_epoch(model, opt, batchsize=batchsize, use_mixup=use_mixup, alpha=alpha)\n",
        "\n",
        "        val_loss, val_acc = test(model)\n",
        "        mean_acc = torch.mean(torch.Tensor(val_acc))\n",
        "        clear_output()\n",
        "        print(f\"Current cccuracy is {mean_acc}\")\n",
        "        if mean_acc > best_acc:\n",
        "            print(f\"Best accuracy now is {mean_acc}\")\n",
        "            best_acc = mean_acc\n",
        "            best_wts = model.state_dict()\n",
        "        train_log.extend(train_loss)\n",
        "        train_acc_log.extend(train_acc)\n",
        "\n",
        "        steps = len(train_dataset.targets) / batch_size\n",
        "        val_log.append((steps * (epoch + 1), torch.mean(torch.Tensor(val_loss)).float().cpu().numpy()))\n",
        "        val_acc_log.append((steps * (epoch + 1), torch.mean(torch.Tensor(val_acc)).float().cpu().numpy()))\n",
        "\n",
        "        plot_history(train_log, val_log)    \n",
        "        plot_history(train_acc_log, val_acc_log, title='accuracy')   \n",
        "    model.load_state_dict(best_wts)        \n",
        "    print(\"Final error: {:.2%}\".format(1 - val_acc_log[-1][1]))"
      ],
      "execution_count": null,
      "outputs": []
    },
    {
      "cell_type": "code",
      "metadata": {
        "id": "SOW1hpUSBTgQ",
        "cellId": "ht49f2qn58bfswdfjd7s8",
        "trusted": true,
        "colab": {
          "base_uri": "https://localhost:8080/",
          "height": 641
        },
        "outputId": "7e8e927e-c6ba-4b00-870d-8015497732ef"
      },
      "source": [
        "#!g1.1\n",
        "%%time\n",
        "\n",
        "model_no_mixup = ConvNet()\n",
        "model_no_mixup.to(DEVICE)\n",
        "opt = optim.Adam(model_no_mixup.parameters(), lr=0.01, weight_decay=1e-4)\n",
        "train(model_no_mixup, opt, 15, use_mixup=False)"
      ],
      "execution_count": null,
      "outputs": [
        {
          "output_type": "stream",
          "name": "stdout",
          "text": [
            "Current cccuracy is 0.98193359375\n"
          ]
        },
        {
          "output_type": "display_data",
          "data": {
            "image/png": "[encoded data removed]",
            "text/plain": [
              "<Figure size 432x288 with 1 Axes>"
            ]
          },
          "metadata": {
            "needs_background": "light"
          }
        },
        {
          "output_type": "display_data",
          "data": {
            "image/png": "[encoded data removed]",
            "text/plain": [
              "<Figure size 432x288 with 1 Axes>"
            ]
          },
          "metadata": {
            "needs_background": "light"
          }
        },
        {
          "output_type": "stream",
          "name": "stdout",
          "text": [
            "Final error: 1.81%\n",
            "CPU times: user 3min 8s, sys: 2.33 s, total: 3min 10s\n",
            "Wall time: 3min 10s\n"
          ]
        }
      ]
    },
    {
      "cell_type": "code",
      "metadata": {
        "id": "15oLRe-kDrkY",
        "cellId": "fpi6cm0hgaddws6vuhde3n",
        "trusted": true,
        "colab": {
          "base_uri": "https://localhost:8080/",
          "height": 279
        },
        "outputId": "9b71165e-cf17-4e69-cf0a-7c5f76c45bc2"
      },
      "source": [
        "#!g1.1\n",
        "import torchvision\n",
        "\n",
        "def corrupt_sign(inputs, labels, model, weight):\n",
        "    model.zero_grad()\n",
        "    var_inputs = Variable(inputs, requires_grad=True)\n",
        "    F.nll_loss(model(var_inputs), labels).backward()\n",
        "    var_inputs = var_inputs + weight * torch.sign(var_inputs.grad)\n",
        "    return torch.clamp(var_inputs, min=0, max=1)\n",
        "    \n",
        "    return corrupted_inputs\n",
        "\n",
        "def corrupt_simple(inputs, labels, model, weight):\n",
        "    model.zero_grad()\n",
        "    var_inputs = Variable(inputs, requires_grad=True)\n",
        "    F.nll_loss(model(var_inputs), labels).backward()\n",
        "    var_inputs = var_inputs + weight * var_inputs.grad \n",
        "    return torch.clamp(var_inputs, min=0, max=1)\n",
        "\n",
        "inputs, labels = iter(test_loader).next()\n",
        "inputs = inputs[:4]\n",
        "labels = labels[:4]\n",
        "inputs = inputs.to(DEVICE)\n",
        "labels = labels.to(DEVICE)\n",
        "\n",
        "corrupted_inputs = corrupt_sign(inputs, labels, model_no_mixup, 0.2)\n",
        "imshow(corrupted_inputs.data.cpu()) \n",
        "\n",
        "corrupted_inputs = corrupt_simple(inputs, labels, model_no_mixup, 2000)\n",
        "imshow(corrupted_inputs.data.cpu()) "
      ],
      "execution_count": null,
      "outputs": [
        {
          "output_type": "display_data",
          "data": {
            "image/png": "[encoded data removed]",
            "text/plain": [
              "<Figure size 576x576 with 1 Axes>"
            ]
          },
          "metadata": {
            "needs_background": "light"
          }
        },
        {
          "output_type": "display_data",
          "data": {
            "image/png": "[encoded data removed]",
            "text/plain": [
              "<Figure size 576x576 with 1 Axes>"
            ]
          },
          "metadata": {
            "needs_background": "light"
          }
        }
      ]
    },
    {
      "cell_type": "code",
      "metadata": {
        "id": "TEKixJPLEZ0t",
        "cellId": "sdjy7t7w33mrqfg696yqmo",
        "trusted": true
      },
      "source": [
        "#!g1.1\n",
        "def evaluate_network_attack(net, corrupt_function, weight, verbose=True):\n",
        "    class_correct = list(0. for i in range(10))\n",
        "    class_total = list(0. for i in range(10))\n",
        "    for data in test_loader:\n",
        "        images, labels = data\n",
        "        images = images.to(DEVICE)\n",
        "        labels = labels.to(DEVICE)\n",
        "        images = corrupt_function(images, labels, net, weight)\n",
        "        outputs = net(images)\n",
        "        _, predicted = torch.max(outputs.data, 1)\n",
        "        c = (predicted == labels).long().squeeze()\n",
        "        for i in range(4):\n",
        "            label = labels[i]\n",
        "            class_correct[label] += c[i].item()\n",
        "            class_total[label] += 1\n",
        "    accuracy = (100. * sum(class_correct) / sum(class_total))\n",
        "    if verbose:\n",
        "        print('Accuracy %d %% \\n' % (100. * sum(class_correct) / sum(class_total)))\n",
        "        \n",
        "        for i in range(10):\n",
        "            print('Accuracy of %2s : %2d %%' % (\n",
        "                i, 100. * class_correct[i] / class_total[i]))\n",
        "    return accuracy"
      ],
      "execution_count": null,
      "outputs": []
    },
    {
      "cell_type": "code",
      "metadata": {
        "id": "2WU1owCHFHBm",
        "cellId": "w3wrdmr5lhov069lyvxg1",
        "trusted": true,
        "colab": {
          "base_uri": "https://localhost:8080/"
        },
        "outputId": "0209a0ea-d23f-43bf-b4a6-cb2e6f09c2df"
      },
      "source": [
        "#!g1.1\n",
        "print('Without corruption:')\n",
        "evaluate_network_attack(model_no_mixup, corrupt_sign, 0)\n",
        "print('\\n================\\n')\n",
        "print('With corruption:')\n",
        "evaluate_network_attack(model_no_mixup, corrupt_sign, 0.2)"
      ],
      "execution_count": null,
      "outputs": [
        {
          "output_type": "stream",
          "name": "stdout",
          "text": [
            "Without corruption:\n",
            "Accuracy 98 % \n",
            "\n",
            "Accuracy of  0 : 100 %\n",
            "Accuracy of  1 : 94 %\n",
            "Accuracy of  2 : 100 %\n",
            "Accuracy of  3 : 100 %\n",
            "Accuracy of  4 : 100 %\n",
            "Accuracy of  5 : 90 %\n",
            "Accuracy of  6 : 100 %\n",
            "Accuracy of  7 : 93 %\n",
            "Accuracy of  8 : 100 %\n",
            "Accuracy of  9 : 100 %\n",
            "\n",
            "================\n",
            "\n",
            "With corruption:\n",
            "Accuracy 23 % \n",
            "\n",
            "Accuracy of  0 : 15 %\n",
            "Accuracy of  1 : 41 %\n",
            "Accuracy of  2 : 33 %\n",
            "Accuracy of  3 : 12 %\n",
            "Accuracy of  4 : 50 %\n",
            "Accuracy of  5 : 10 %\n",
            "Accuracy of  6 : 21 %\n",
            "Accuracy of  7 : 26 %\n",
            "Accuracy of  8 : 14 %\n",
            "Accuracy of  9 :  0 %\n"
          ]
        },
        {
          "output_type": "execute_result",
          "data": {
            "text/plain": [
              "23.75"
            ]
          },
          "metadata": {},
          "execution_count": 28
        }
      ]
    },
    {
      "cell_type": "code",
      "metadata": {
        "id": "IW-xWfEMFl9B",
        "cellId": "yub27xs0csipaj7t01fwpb",
        "trusted": true,
        "colab": {
          "base_uri": "https://localhost:8080/",
          "height": 811
        },
        "outputId": "f479e2b7-e1e4-435b-b397-c1ded5256ac4"
      },
      "source": [
        "#!g1.1\n",
        "results = {}\n",
        "\n",
        "for alpha in np.arange(0.1, 1.1, 0.1):\n",
        "    model_mixup = ConvNet()\n",
        "    model_mixup.to(DEVICE)\n",
        "    opt = optim.Adam(model_mixup.parameters(), lr=0.01, weight_decay=1e-4)\n",
        "    train(model_mixup, opt, 15, use_mixup=True, alpha=alpha)\n",
        "    acc = evaluate_network_attack(model_mixup, corrupt_sign, 0.2)\n",
        "    results[alpha] = acc"
      ],
      "execution_count": null,
      "outputs": [
        {
          "output_type": "stream",
          "name": "stdout",
          "text": [
            "Current cccuracy is 0.9593750238418579\n"
          ]
        },
        {
          "output_type": "display_data",
          "data": {
            "image/png": "[encoded data removed]",
            "text/plain": [
              "<Figure size 432x288 with 1 Axes>"
            ]
          },
          "metadata": {
            "needs_background": "light"
          }
        },
        {
          "output_type": "display_data",
          "data": {
            "image/png": "[encoded data removed]",
            "text/plain": [
              "<Figure size 432x288 with 1 Axes>"
            ]
          },
          "metadata": {
            "needs_background": "light"
          }
        },
        {
          "output_type": "stream",
          "name": "stdout",
          "text": [
            "Final error: 4.06%\n",
            "Accuracy 33 % \n",
            "\n",
            "Accuracy of  0 : 61 %\n",
            "Accuracy of  1 : 94 %\n",
            "Accuracy of  2 : 22 %\n",
            "Accuracy of  3 : 25 %\n",
            "Accuracy of  4 : 22 %\n",
            "Accuracy of  5 :  0 %\n",
            "Accuracy of  6 : 50 %\n",
            "Accuracy of  7 : 40 %\n",
            "Accuracy of  8 : 14 %\n",
            "Accuracy of  9 :  4 %\n"
          ]
        }
      ]
    },
    {
      "cell_type": "code",
      "metadata": {
        "id": "qX4MdtuoJ_nW",
        "cellId": "kthidl6yn6qm1gh7g7pq4",
        "trusted": true,
        "colab": {
          "base_uri": "https://localhost:8080/"
        },
        "outputId": "34d2e7b8-da00-48a3-822c-5ae9458c9649"
      },
      "source": [
        "for alpha, acc in results.items():\n",
        "    print(f\"Mixup. Alpha = {alpha}, accuracy = {acc}\")"
      ],
      "execution_count": null,
      "outputs": [
        {
          "output_type": "stream",
          "name": "stdout",
          "text": [
            "Mixup. Alpha = 0.1, accuracy = 19.375\n",
            "Mixup. Alpha = 0.2, accuracy = 0.625\n",
            "Mixup. Alpha = 0.30000000000000004, accuracy = 18.125\n",
            "Mixup. Alpha = 0.4, accuracy = 30.0\n",
            "Mixup. Alpha = 0.5, accuracy = 23.75\n",
            "Mixup. Alpha = 0.6, accuracy = 11.25\n",
            "Mixup. Alpha = 0.7000000000000001, accuracy = 29.375\n",
            "Mixup. Alpha = 0.8, accuracy = 6.25\n",
            "Mixup. Alpha = 0.9, accuracy = 35.625\n",
            "Mixup. Alpha = 1.0, accuracy = 33.125\n"
          ]
        }
      ]
    },
    {
      "cell_type": "code",
      "metadata": {
        "id": "ElswaGPgR4hp",
        "cellId": "p2kczunuh35ao5a4lgr15",
        "trusted": true,
        "colab": {
          "base_uri": "https://localhost:8080/",
          "height": 148
        },
        "outputId": "9bd63191-9410-4dda-9bc0-5d307ceef57e"
      },
      "source": [
        "#!g1.1\n",
        "inputs, labels = iter(test_loader).next()\n",
        "inputs = inputs[:4]\n",
        "labels = labels[:4]\n",
        "inputs = inputs.to(DEVICE)\n",
        "labels = labels.to(DEVICE)\n",
        "corrupted_inputs = corrupt_simple(inputs, labels, model_no_mixup, 0.1)\n",
        "imshow(corrupted_inputs.cpu().data) "
      ],
      "execution_count": null,
      "outputs": [
        {
          "output_type": "display_data",
          "data": {
            "image/png": "[encoded data removed]",
            "text/plain": [
              "<Figure size 576x576 with 1 Axes>"
            ]
          },
          "metadata": {
            "needs_background": "light"
          }
        }
      ]
    },
    {
      "cell_type": "code",
      "metadata": {
        "id": "tkwWu8XvKODZ",
        "cellId": "vdr5n4r22cucim7dw8cd",
        "trusted": true,
        "colab": {
          "base_uri": "https://localhost:8080/"
        },
        "outputId": "2db589df-8b3f-4944-a5d7-90edb47f7d76"
      },
      "source": [
        "#!g1.1\n",
        "evaluate_network_attack(model_no_mixup, corrupt_simple, 0.1)"
      ],
      "execution_count": null,
      "outputs": [
        {
          "output_type": "stream",
          "name": "stdout",
          "text": [
            "Accuracy 98 % \n",
            "\n",
            "Accuracy of  0 : 92 %\n",
            "Accuracy of  1 : 100 %\n",
            "Accuracy of  2 : 94 %\n",
            "Accuracy of  3 : 100 %\n",
            "Accuracy of  4 : 100 %\n",
            "Accuracy of  5 : 90 %\n",
            "Accuracy of  6 : 100 %\n",
            "Accuracy of  7 : 100 %\n",
            "Accuracy of  8 : 100 %\n",
            "Accuracy of  9 : 100 %\n"
          ]
        },
        {
          "output_type": "execute_result",
          "data": {
            "text/plain": [
              "98.125"
            ]
          },
          "metadata": {},
          "execution_count": 35
        }
      ]
    },
    {
      "cell_type": "code",
      "metadata": {
        "id": "cmO4USTKRu1Y",
        "cellId": "rtqkx8064m0qusaza3jhx",
        "trusted": true,
        "colab": {
          "base_uri": "https://localhost:8080/",
          "height": 981
        },
        "outputId": "f91839fe-e055-4ef0-d0ac-24d18e6e5d9a"
      },
      "source": [
        "#!g1.1\n",
        "results_simple = {}\n",
        "\n",
        "for alpha in np.arange(0.1, 1.1, 0.1):\n",
        "    model_mixup = ConvNet()\n",
        "    model_mixup.to(DEVICE)\n",
        "    opt = optim.Adam(model_mixup.parameters(), lr=0.01, weight_decay=1e-4)\n",
        "    train(model_mixup, opt, 15, use_mixup=True, alpha=alpha)\n",
        "    acc = evaluate_network_attack(model_mixup, corrupt_simple, 2000)\n",
        "    results_simple[alpha] = acc\n",
        "for alpha, acc in results_simple.items():\n",
        "    print(f\"Mixup. Alpha = {alpha}, accuracy = {acc}\")"
      ],
      "execution_count": null,
      "outputs": [
        {
          "output_type": "stream",
          "name": "stdout",
          "text": [
            "Current cccuracy is 0.9658203125\n"
          ]
        },
        {
          "output_type": "display_data",
          "data": {
            "image/png": "[encoded data removed]",
            "text/plain": [
              "<Figure size 432x288 with 1 Axes>"
            ]
          },
          "metadata": {
            "needs_background": "light"
          }
        },
        {
          "output_type": "display_data",
          "data": {
            "image/png": "[encoded data removed]",
            "text/plain": [
              "<Figure size 432x288 with 1 Axes>"
            ]
          },
          "metadata": {
            "needs_background": "light"
          }
        },
        {
          "output_type": "stream",
          "name": "stdout",
          "text": [
            "Final error: 3.42%\n",
            "Accuracy 9 % \n",
            "\n",
            "Accuracy of  0 :  0 %\n",
            "Accuracy of  1 :  5 %\n",
            "Accuracy of  2 :  5 %\n",
            "Accuracy of  3 : 25 %\n",
            "Accuracy of  4 :  0 %\n",
            "Accuracy of  5 :  0 %\n",
            "Accuracy of  6 :  7 %\n",
            "Accuracy of  7 :  0 %\n",
            "Accuracy of  8 : 57 %\n",
            "Accuracy of  9 :  0 %\n",
            "Mixup. Alpha = 0.1, accuracy = 13.125\n",
            "Mixup. Alpha = 0.2, accuracy = 51.25\n",
            "Mixup. Alpha = 0.30000000000000004, accuracy = 36.25\n",
            "Mixup. Alpha = 0.4, accuracy = 2.5\n",
            "Mixup. Alpha = 0.5, accuracy = 56.875\n",
            "Mixup. Alpha = 0.6, accuracy = 5.0\n",
            "Mixup. Alpha = 0.7000000000000001, accuracy = 38.125\n",
            "Mixup. Alpha = 0.8, accuracy = 16.25\n",
            "Mixup. Alpha = 0.9, accuracy = 35.0\n",
            "Mixup. Alpha = 1.0, accuracy = 9.375\n"
          ]
        }
      ]
    },
    {
      "cell_type": "code",
      "metadata": {
        "cellId": "lh8cm4ta07rxhryrr5o6vr",
        "id": "6sWDxuoOWFOc"
      },
      "source": [
        "#!g1.1\n"
      ],
      "execution_count": null,
      "outputs": []
    }
  ]
}