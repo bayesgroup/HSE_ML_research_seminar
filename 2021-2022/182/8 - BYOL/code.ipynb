{
  "nbformat": 4,
  "nbformat_minor": 0,
  "metadata": {
    "accelerator": "GPU",
    "colab": {
      "name": "byol_Kolesnikov.ipynb",
      "provenance": [],
      "collapsed_sections": []
    },
    "kernelspec": {
      "display_name": "Yandex DataSphere Kernel",
      "name": "python3"
    },
    "language_info": {
      "codemirror_mode": {
        "name": "ipython",
        "version": 3
      },
      "file_extension": ".py",
      "mimetype": "text/x-python",
      "name": "python",
      "nbconvert_exporter": "python",
      "pygments_lexer": "ipython3",
      "version": "3.7.7"
    },
    "notebookId": "2150080c-7a61-4b0a-8ae0-31a6232fb010",
    "widgets": {
      "application/vnd.jupyter.widget-state+json": {
        "7f96e30ba4a1444a9178d77e58360395": {
          "model_module": "@jupyter-widgets/controls",
          "model_name": "HBoxModel",
          "model_module_version": "1.5.0",
          "state": {
            "_dom_classes": [],
            "_model_module": "@jupyter-widgets/controls",
            "_model_module_version": "1.5.0",
            "_model_name": "HBoxModel",
            "_view_count": null,
            "_view_module": "@jupyter-widgets/controls",
            "_view_module_version": "1.5.0",
            "_view_name": "HBoxView",
            "box_style": "",
            "children": [
              "IPY_MODEL_dd10fd26d3a04c1c8a3141cccd778f24",
              "IPY_MODEL_81c45ca96a4644f8abcc487af6add459",
              "IPY_MODEL_cac82fcde3df4d92b2520a8fe832de2a"
            ],
            "layout": "IPY_MODEL_47472eb69a1c40f482281b4f24df62e5"
          }
        },
        "dd10fd26d3a04c1c8a3141cccd778f24": {
          "model_module": "@jupyter-widgets/controls",
          "model_name": "HTMLModel",
          "model_module_version": "1.5.0",
          "state": {
            "_dom_classes": [],
            "_model_module": "@jupyter-widgets/controls",
            "_model_module_version": "1.5.0",
            "_model_name": "HTMLModel",
            "_view_count": null,
            "_view_module": "@jupyter-widgets/controls",
            "_view_module_version": "1.5.0",
            "_view_name": "HTMLView",
            "description": "",
            "description_tooltip": null,
            "layout": "IPY_MODEL_75371626cd0c49c5ad3568713ccf9b3d",
            "placeholder": "​",
            "style": "IPY_MODEL_9e4d843113d54a0d829e24861979e716",
            "value": ""
          }
        },
        "81c45ca96a4644f8abcc487af6add459": {
          "model_module": "@jupyter-widgets/controls",
          "model_name": "FloatProgressModel",
          "model_module_version": "1.5.0",
          "state": {
            "_dom_classes": [],
            "_model_module": "@jupyter-widgets/controls",
            "_model_module_version": "1.5.0",
            "_model_name": "FloatProgressModel",
            "_view_count": null,
            "_view_module": "@jupyter-widgets/controls",
            "_view_module_version": "1.5.0",
            "_view_name": "ProgressView",
            "bar_style": "success",
            "description": "",
            "description_tooltip": null,
            "layout": "IPY_MODEL_e3779169ceef468a856d32e0a0148712",
            "max": 2640397119,
            "min": 0,
            "orientation": "horizontal",
            "style": "IPY_MODEL_2b8862cb774d4ffcbdce2962f85b55a0",
            "value": 2640397119
          }
        },
        "cac82fcde3df4d92b2520a8fe832de2a": {
          "model_module": "@jupyter-widgets/controls",
          "model_name": "HTMLModel",
          "model_module_version": "1.5.0",
          "state": {
            "_dom_classes": [],
            "_model_module": "@jupyter-widgets/controls",
            "_model_module_version": "1.5.0",
            "_model_name": "HTMLModel",
            "_view_count": null,
            "_view_module": "@jupyter-widgets/controls",
            "_view_module_version": "1.5.0",
            "_view_name": "HTMLView",
            "description": "",
            "description_tooltip": null,
            "layout": "IPY_MODEL_0fe73b84d0274b44994270773fa2c7a5",
            "placeholder": "​",
            "style": "IPY_MODEL_2426fb1c64c9436381523fa00acf1a89",
            "value": " 2640397312/? [36:54&lt;00:00, 2434425.06it/s]"
          }
        },
        "47472eb69a1c40f482281b4f24df62e5": {
          "model_module": "@jupyter-widgets/base",
          "model_name": "LayoutModel",
          "model_module_version": "1.2.0",
          "state": {
            "_model_module": "@jupyter-widgets/base",
            "_model_module_version": "1.2.0",
            "_model_name": "LayoutModel",
            "_view_count": null,
            "_view_module": "@jupyter-widgets/base",
            "_view_module_version": "1.2.0",
            "_view_name": "LayoutView",
            "align_content": null,
            "align_items": null,
            "align_self": null,
            "border": null,
            "bottom": null,
            "display": null,
            "flex": null,
            "flex_flow": null,
            "grid_area": null,
            "grid_auto_columns": null,
            "grid_auto_flow": null,
            "grid_auto_rows": null,
            "grid_column": null,
            "grid_gap": null,
            "grid_row": null,
            "grid_template_areas": null,
            "grid_template_columns": null,
            "grid_template_rows": null,
            "height": null,
            "justify_content": null,
            "justify_items": null,
            "left": null,
            "margin": null,
            "max_height": null,
            "max_width": null,
            "min_height": null,
            "min_width": null,
            "object_fit": null,
            "object_position": null,
            "order": null,
            "overflow": null,
            "overflow_x": null,
            "overflow_y": null,
            "padding": null,
            "right": null,
            "top": null,
            "visibility": null,
            "width": null
          }
        },
        "75371626cd0c49c5ad3568713ccf9b3d": {
          "model_module": "@jupyter-widgets/base",
          "model_name": "LayoutModel",
          "model_module_version": "1.2.0",
          "state": {
            "_model_module": "@jupyter-widgets/base",
            "_model_module_version": "1.2.0",
            "_model_name": "LayoutModel",
            "_view_count": null,
            "_view_module": "@jupyter-widgets/base",
            "_view_module_version": "1.2.0",
            "_view_name": "LayoutView",
            "align_content": null,
            "align_items": null,
            "align_self": null,
            "border": null,
            "bottom": null,
            "display": null,
            "flex": null,
            "flex_flow": null,
            "grid_area": null,
            "grid_auto_columns": null,
            "grid_auto_flow": null,
            "grid_auto_rows": null,
            "grid_column": null,
            "grid_gap": null,
            "grid_row": null,
            "grid_template_areas": null,
            "grid_template_columns": null,
            "grid_template_rows": null,
            "height": null,
            "justify_content": null,
            "justify_items": null,
            "left": null,
            "margin": null,
            "max_height": null,
            "max_width": null,
            "min_height": null,
            "min_width": null,
            "object_fit": null,
            "object_position": null,
            "order": null,
            "overflow": null,
            "overflow_x": null,
            "overflow_y": null,
            "padding": null,
            "right": null,
            "top": null,
            "visibility": null,
            "width": null
          }
        },
        "9e4d843113d54a0d829e24861979e716": {
          "model_module": "@jupyter-widgets/controls",
          "model_name": "DescriptionStyleModel",
          "model_module_version": "1.5.0",
          "state": {
            "_model_module": "@jupyter-widgets/controls",
            "_model_module_version": "1.5.0",
            "_model_name": "DescriptionStyleModel",
            "_view_count": null,
            "_view_module": "@jupyter-widgets/base",
            "_view_module_version": "1.2.0",
            "_view_name": "StyleView",
            "description_width": ""
          }
        },
        "e3779169ceef468a856d32e0a0148712": {
          "model_module": "@jupyter-widgets/base",
          "model_name": "LayoutModel",
          "model_module_version": "1.2.0",
          "state": {
            "_model_module": "@jupyter-widgets/base",
            "_model_module_version": "1.2.0",
            "_model_name": "LayoutModel",
            "_view_count": null,
            "_view_module": "@jupyter-widgets/base",
            "_view_module_version": "1.2.0",
            "_view_name": "LayoutView",
            "align_content": null,
            "align_items": null,
            "align_self": null,
            "border": null,
            "bottom": null,
            "display": null,
            "flex": null,
            "flex_flow": null,
            "grid_area": null,
            "grid_auto_columns": null,
            "grid_auto_flow": null,
            "grid_auto_rows": null,
            "grid_column": null,
            "grid_gap": null,
            "grid_row": null,
            "grid_template_areas": null,
            "grid_template_columns": null,
            "grid_template_rows": null,
            "height": null,
            "justify_content": null,
            "justify_items": null,
            "left": null,
            "margin": null,
            "max_height": null,
            "max_width": null,
            "min_height": null,
            "min_width": null,
            "object_fit": null,
            "object_position": null,
            "order": null,
            "overflow": null,
            "overflow_x": null,
            "overflow_y": null,
            "padding": null,
            "right": null,
            "top": null,
            "visibility": null,
            "width": null
          }
        },
        "2b8862cb774d4ffcbdce2962f85b55a0": {
          "model_module": "@jupyter-widgets/controls",
          "model_name": "ProgressStyleModel",
          "model_module_version": "1.5.0",
          "state": {
            "_model_module": "@jupyter-widgets/controls",
            "_model_module_version": "1.5.0",
            "_model_name": "ProgressStyleModel",
            "_view_count": null,
            "_view_module": "@jupyter-widgets/base",
            "_view_module_version": "1.2.0",
            "_view_name": "StyleView",
            "bar_color": null,
            "description_width": ""
          }
        },
        "0fe73b84d0274b44994270773fa2c7a5": {
          "model_module": "@jupyter-widgets/base",
          "model_name": "LayoutModel",
          "model_module_version": "1.2.0",
          "state": {
            "_model_module": "@jupyter-widgets/base",
            "_model_module_version": "1.2.0",
            "_model_name": "LayoutModel",
            "_view_count": null,
            "_view_module": "@jupyter-widgets/base",
            "_view_module_version": "1.2.0",
            "_view_name": "LayoutView",
            "align_content": null,
            "align_items": null,
            "align_self": null,
            "border": null,
            "bottom": null,
            "display": null,
            "flex": null,
            "flex_flow": null,
            "grid_area": null,
            "grid_auto_columns": null,
            "grid_auto_flow": null,
            "grid_auto_rows": null,
            "grid_column": null,
            "grid_gap": null,
            "grid_row": null,
            "grid_template_areas": null,
            "grid_template_columns": null,
            "grid_template_rows": null,
            "height": null,
            "justify_content": null,
            "justify_items": null,
            "left": null,
            "margin": null,
            "max_height": null,
            "max_width": null,
            "min_height": null,
            "min_width": null,
            "object_fit": null,
            "object_position": null,
            "order": null,
            "overflow": null,
            "overflow_x": null,
            "overflow_y": null,
            "padding": null,
            "right": null,
            "top": null,
            "visibility": null,
            "width": null
          }
        },
        "2426fb1c64c9436381523fa00acf1a89": {
          "model_module": "@jupyter-widgets/controls",
          "model_name": "DescriptionStyleModel",
          "model_module_version": "1.5.0",
          "state": {
            "_model_module": "@jupyter-widgets/controls",
            "_model_module_version": "1.5.0",
            "_model_name": "DescriptionStyleModel",
            "_view_count": null,
            "_view_module": "@jupyter-widgets/base",
            "_view_module_version": "1.2.0",
            "_view_name": "StyleView",
            "description_width": ""
          }
        }
      }
    },
    "ydsNotebookPath": "byol.ipynb"
  },
  "cells": [
    {
      "cell_type": "code",
      "metadata": {
        "id": "NLtLmwmdDFuI"
      },
      "source": [
        "#!g1.1\n",
        "%matplotlib inline\n",
        "import matplotlib.pyplot as plt\n",
        "import numpy as np\n",
        "import random\n",
        "from IPython.display import clear_output\n",
        "\n",
        "import torch\n",
        "import torch.nn as nn\n",
        "import torch.nn.functional as F\n",
        "\n",
        "import torchvision\n",
        "from torchvision import transforms\n",
        "from copy import deepcopy\n",
        "from torch.utils.data import DataLoader\n",
        "\n",
        "# random.seed(42)\n",
        "# np.random.seed(42)\n",
        "# torch.manual_seed(42)\n",
        "# if torch.cuda.is_available():\n",
        "#     torch.cuda.manual_seed_all(42)"
      ],
      "execution_count": null,
      "outputs": []
    },
    {
      "cell_type": "markdown",
      "metadata": {
        "id": "HJ0lHMWzXIip"
      },
      "source": [
        "Загрузим датасет с большой неразмеченной частью"
      ]
    },
    {
      "cell_type": "code",
      "metadata": {
        "colab": {
          "background_save": true,
          "base_uri": "https://localhost:8080/",
          "height": 120,
          "referenced_widgets": [
            "7f96e30ba4a1444a9178d77e58360395",
            "dd10fd26d3a04c1c8a3141cccd778f24",
            "81c45ca96a4644f8abcc487af6add459",
            "cac82fcde3df4d92b2520a8fe832de2a",
            "47472eb69a1c40f482281b4f24df62e5",
            "75371626cd0c49c5ad3568713ccf9b3d",
            "9e4d843113d54a0d829e24861979e716",
            "e3779169ceef468a856d32e0a0148712",
            "2b8862cb774d4ffcbdce2962f85b55a0",
            "0fe73b84d0274b44994270773fa2c7a5",
            "2426fb1c64c9436381523fa00acf1a89"
          ]
        },
        "id": "b_qwCdT-XJ0i",
        "outputId": "9201c141-8ea5-4a7a-d166-d5544325a01a"
      },
      "source": [
        "#!g1.1\n",
        "from torchvision.datasets import STL10\n",
        "from torchvision.transforms import ToTensor\n",
        "\n",
        "\n",
        "trainDataset = STL10(root=\"data\", split=\"train\", download=True, transform=ToTensor())\n",
        "trainDatasetWithUnlabeled = STL10(\n",
        "    root=\"data\", split=\"train+unlabeled\", download=True, transform=ToTensor()\n",
        ")\n",
        "testDataset = STL10(root=\"data\", split=\"test\", download=True, transform=ToTensor())"
      ],
      "execution_count": null,
      "outputs": [
        {
          "name": "stdout",
          "output_type": "stream",
          "text": [
            "Downloading http://ai.stanford.edu/~acoates/stl10/stl10_binary.tar.gz to data/stl10_binary.tar.gz\n"
          ]
        },
        {
          "data": {
            "application/vnd.jupyter.widget-view+json": {
              "model_id": "7f96e30ba4a1444a9178d77e58360395",
              "version_major": 2,
              "version_minor": 0
            },
            "text/plain": [
              "  0%|          | 0/2640397119 [00:00<?, ?it/s]"
            ]
          },
          "metadata": {},
          "output_type": "display_data"
        },
        {
          "name": "stdout",
          "output_type": "stream",
          "text": [
            "Extracting data/stl10_binary.tar.gz to data\n",
            "Files already downloaded and verified\n",
            "Files already downloaded and verified\n"
          ]
        }
      ]
    },
    {
      "cell_type": "code",
      "metadata": {
        "colab": {
          "background_save": true
        },
        "id": "Wn43Kfx-Xujb"
      },
      "source": [
        "#!g1.1\n",
        "train = DataLoader(\n",
        "    trainDataset,\n",
        "    batch_size=128,\n",
        "    shuffle=True,\n",
        ")\n",
        "trainUnl = DataLoader(\n",
        "    trainDatasetWithUnlabeled,\n",
        "    batch_size=128,\n",
        "    shuffle=True,\n",
        ")\n",
        "val = DataLoader(\n",
        "    testDataset,\n",
        "    batch_size=128,\n",
        ")\n",
        "dataloaders = {\n",
        "    \"train\": train,\n",
        "    \"trainUnl\": trainUnl,\n",
        "    \"val\": val\n",
        "}\n",
        "dataset_sizes = {\n",
        "    \"train\": len(train.dataset),\n",
        "    \"trainUnl\": len(trainUnl.dataset),\n",
        "    \"val\": len(val.dataset)\n",
        "}"
      ],
      "execution_count": null,
      "outputs": []
    },
    {
      "cell_type": "markdown",
      "metadata": {
        "id": "6Amur12lG639"
      },
      "source": [
        "Соберем дефолтную аугментацию"
      ]
    },
    {
      "cell_type": "code",
      "metadata": {
        "colab": {
          "background_save": true
        },
        "id": "4MnKAJHSHFY0"
      },
      "source": [
        "#!g1.1\n",
        "def getDefaultAugmentation(imageSize=(224,224)):\n",
        "    return nn.Sequential(*[\n",
        "        transforms.Resize(size=imageSize),\n",
        "        transforms.RandomApply(nn.ModuleList([\n",
        "            transforms.ColorJitter(0.8, 0.8, 0.8, 0.2),\n",
        "        ]), p=0.4),\n",
        "        transforms.RandomGrayscale(p=0.2),\n",
        "        transforms.RandomHorizontalFlip(),\n",
        "        transforms.GaussianBlur((3, 3)),\n",
        "        transforms.RandomResizedCrop(size=imageSize),\n",
        "        transforms.Normalize(\n",
        "            mean=torch.tensor([0.485, 0.456, 0.406]),\n",
        "            std=torch.tensor([0.229, 0.224, 0.225]),\n",
        "        ),\n",
        "    ])"
      ],
      "execution_count": null,
      "outputs": []
    },
    {
      "cell_type": "markdown",
      "metadata": {
        "id": "sY7Ye1H_ElVG"
      },
      "source": [
        "# Реализация BYOL"
      ]
    },
    {
      "cell_type": "code",
      "metadata": {
        "colab": {
          "background_save": true
        },
        "id": "bSfl35i-EjNh"
      },
      "source": [
        "#!g1.1\n",
        "class BYOL(nn.Module):\n",
        "    def __init__(self,\n",
        "                 reprModel = torchvision.models.resnet18(),\n",
        "                 reprOutputSize = 1000,\n",
        "                 projectionHidden = 4096,\n",
        "                 projectionSize = 256,\n",
        "                 augmentationModel = getDefaultAugmentation(),\n",
        "                 predictionModel = nn.Sequential(*[\n",
        "                        nn.Linear(256, 4096),\n",
        "                        nn.ReLU(),\n",
        "                        nn.Linear(4096, 256),\n",
        "                 ]).cuda(),\n",
        "                 beta = 0.9\n",
        "    ):\n",
        "        super(BYOL, self).__init__()\n",
        "        self.augmentationModel = augmentationModel\n",
        "        self.targetModel = deepcopy(reprModel)\n",
        "        self.onlineModel = deepcopy(reprModel)\n",
        "        self.projectionTargetModel = nn.Sequential(*[\n",
        "            nn.Linear(reprOutputSize, projectionHidden),\n",
        "            nn.ReLU(),\n",
        "            nn.Linear(projectionHidden, projectionSize),\n",
        "        ]).cuda()\n",
        "        self.projectionOnlineModel = nn.Sequential(*[\n",
        "            nn.Linear(reprOutputSize, projectionHidden),\n",
        "            nn.ReLU(),\n",
        "            nn.Linear(projectionHidden, projectionSize),\n",
        "        ]).cuda()\n",
        "        self.predictionModel = predictionModel\n",
        "        self.beta = beta\n",
        "    \n",
        "    def forward(self, x, mode=\"target\"):\n",
        "        x = self.augmentationModel(x)\n",
        "        x = self.targetModel(x) if mode == \"target\" else self.onlineModel(x)\n",
        "        x = self.projectionTargetModel(x) if mode == \"target\" else self.projectionOnlineModel(x)\n",
        "        return x\n",
        "    \n",
        "    def getPrediction(self, x):\n",
        "        return self.predictionModel(x)\n",
        "\n",
        "    # обновляем веса target моделей через online\n",
        "    def updateTarget(self):\n",
        "        for x, y in zip(self.targetModel.parameters(), self.onlineModel.parameters()):\n",
        "            x.data = x * self.beta + y * (1 - self.beta)\n",
        "        for x, y in zip(self.projectionTargetModel.parameters(), self.projectionOnlineModel.parameters()):\n",
        "            x.data = x * self.beta + y * (1 - self.beta)"
      ],
      "execution_count": null,
      "outputs": []
    },
    {
      "cell_type": "markdown",
      "metadata": {
        "id": "OnmNuNr7WCml"
      },
      "source": [
        "Train supervised"
      ]
    },
    {
      "cell_type": "markdown",
      "metadata": {
        "id": "aqlD14itc90b"
      },
      "source": [
        "# Code"
      ]
    },
    {
      "cell_type": "code",
      "metadata": {
        "colab": {
          "background_save": true
        },
        "id": "ccCqMgQbKTrs"
      },
      "source": [
        "#!g1.1\n",
        "t = nn.Sequential(*[\n",
        "    transforms.Resize(size=(224, 224)),\n",
        "    transforms.Normalize(\n",
        "        mean=torch.tensor([0.485, 0.456, 0.406]),\n",
        "        std=torch.tensor([0.229, 0.224, 0.225]),\n",
        "    ),\n",
        "])\n",
        "\n",
        "def train_model(model, criterion, optimizer, scheduler, transform=False, num_epochs=25):\n",
        "    train_loss = []\n",
        "    val_loss = []\n",
        "    train_acc = []\n",
        "    val_acc = []\n",
        "    since = time.time()\n",
        "\n",
        "    best_model_wts = model.state_dict()\n",
        "    best_acc = 0.0\n",
        "\n",
        "    for epoch in range(num_epochs):\n",
        "        clear_output(True)\n",
        "        print('Epoch {}/{}'.format(epoch, num_epochs - 1))\n",
        "        print('-' * 10)\n",
        "\n",
        "        # Each epoch has a training and validation phase\n",
        "        for phase in ['train', 'val']:\n",
        "            if phase == 'train':\n",
        "                scheduler.step()\n",
        "                model.train(True)  # Set model to training mode\n",
        "            else:\n",
        "                model.train(False)  # Set model to evaluate mode\n",
        "\n",
        "            running_loss = 0.0\n",
        "            running_corrects = 0\n",
        "\n",
        "            # Iterate over data.\n",
        "            for data in dataloaders[phase]:\n",
        "                # get the inputs\n",
        "                inputs, labels = data\n",
        "\n",
        "                inputs = inputs.cuda()\n",
        "                if transform:\n",
        "                    inputs = t(inputs)\n",
        "                labels = labels.cuda()\n",
        "\n",
        "                # zero the parameter gradients\n",
        "                optimizer.zero_grad()\n",
        "\n",
        "                # forward\n",
        "                outputs = model(inputs)\n",
        "                _, preds = torch.max(outputs, 1)\n",
        "                loss = criterion(outputs, labels)\n",
        "\n",
        "                # backward + optimize only if in training phase\n",
        "                if phase == 'train':\n",
        "                    loss.backward()\n",
        "                    optimizer.step()\n",
        "\n",
        "                # statistics\n",
        "                running_loss += loss.item()\n",
        "                running_corrects += torch.sum(preds == labels).type(torch.float)\n",
        "\n",
        "            epoch_loss = running_loss / dataset_sizes[phase]\n",
        "            epoch_acc = running_corrects / dataset_sizes[phase]\n",
        "\n",
        "            print('{} Loss: {:.4f} Acc: {:.4f}'.format(\n",
        "                phase, epoch_loss, epoch_acc))\n",
        "\n",
        "            # deep copy the model\n",
        "            if phase == 'val' and epoch_acc > best_acc:\n",
        "                best_acc = epoch_acc\n",
        "                best_model_wts = model.state_dict()\n",
        "        \n",
        "        time_elapsed = time.time() - since\n",
        "        print('Elapsed {:.0f}m {:.0f}s\\n'.format(time_elapsed // 60, time_elapsed % 60))\n",
        "\n",
        "    time_elapsed = time.time() - since\n",
        "    print('Training complete in {:.0f}m {:.0f}s'.format(\n",
        "        time_elapsed // 60, time_elapsed % 60))\n",
        "    print('Best val Acc: {:4f}'.format(best_acc))\n",
        "\n",
        "    # load best model weights\n",
        "    model.load_state_dict(best_model_wts)\n",
        "    return model"
      ],
      "execution_count": null,
      "outputs": []
    },
    {
      "cell_type": "code",
      "metadata": {
        "colab": {
          "background_save": true
        },
        "id": "K-RVUNinYIk6"
      },
      "source": [
        "#!g1.1\n",
        "from torchvision import models\n",
        "import torch.optim as optim\n",
        "import torchvision\n",
        "\n",
        "from torchvision import datasets, models, transforms\n",
        "from torch.optim import lr_scheduler\n",
        "import time"
      ],
      "execution_count": null,
      "outputs": []
    },
    {
      "cell_type": "markdown",
      "metadata": {
        "id": "EDkN6qmtdBYd"
      },
      "source": [
        "# Supervised train"
      ]
    },
    {
      "cell_type": "markdown",
      "metadata": {
        "id": "sUHav4u_tdVa"
      },
      "source": [
        "Дообучим resnet18 на размеченных данных"
      ]
    },
    {
      "cell_type": "code",
      "metadata": {
        "colab": {
          "background_save": true,
          "referenced_widgets": [
            "572228494f5d47979c72ed48ef69b185"
          ]
        },
        "id": "aE-eXGS5WXNc",
        "outputId": "02838372-593f-4938-866d-93acd8fa3355"
      },
      "source": [
        "#!g1.1\n",
        "model_ft = models.resnet18(pretrained=True)\n",
        "\n",
        "for params in model_ft.parameters():\n",
        "    params.requires_grad = False \n",
        "\n",
        "model_ft.fc = nn.Linear(512, 10)\n",
        "params_to_train = model_ft.parameters()\n",
        "model_ft = model_ft.cuda()\n",
        "\n",
        "criterion = nn.CrossEntropyLoss()\n",
        "optimizer_ft = optim.SGD(params_to_train, lr=0.001, momentum=0.9)\n",
        "exp_lr_scheduler = lr_scheduler.StepLR(optimizer_ft, step_size=7, gamma=0.1)"
      ],
      "execution_count": null,
      "outputs": [
        {
          "name": "stderr",
          "output_type": "stream",
          "text": [
            "Downloading: \"https://download.pytorch.org/models/resnet18-f37072fd.pth\" to /root/.cache/torch/hub/checkpoints/resnet18-f37072fd.pth\n"
          ]
        },
        {
          "data": {
            "application/vnd.jupyter.widget-view+json": {
              "model_id": "572228494f5d47979c72ed48ef69b185",
              "version_major": 2,
              "version_minor": 0
            },
            "text/plain": [
              "  0%|          | 0.00/44.7M [00:00<?, ?B/s]"
            ]
          },
          "metadata": {},
          "output_type": "display_data"
        }
      ]
    },
    {
      "cell_type": "code",
      "metadata": {
        "colab": {
          "background_save": true,
          "base_uri": "https://localhost:8080/"
        },
        "id": "Q91ra2AxWtfK",
        "outputId": "fff20d1f-56f5-40a7-c668-ee61773d16e5"
      },
      "source": [
        "#!g1.1\n",
        "model_ft_all = train_model(model_ft, criterion, optimizer_ft, exp_lr_scheduler, transform=True, num_epochs=25)"
      ],
      "execution_count": null,
      "outputs": [
        {
          "name": "stdout",
          "output_type": "stream",
          "text": [
            "Epoch 0/24\n",
            "----------\n"
          ]
        },
        {
          "name": "stderr",
          "output_type": "stream",
          "text": [
            "/usr/local/lib/python3.7/dist-packages/torch/optim/lr_scheduler.py:134: UserWarning: Detected call of `lr_scheduler.step()` before `optimizer.step()`. In PyTorch 1.1.0 and later, you should call them in the opposite order: `optimizer.step()` before `lr_scheduler.step()`.  Failure to do this will result in PyTorch skipping the first value of the learning rate schedule. See more details at https://pytorch.org/docs/stable/optim.html#how-to-adjust-learning-rate\n",
            "  \"https://pytorch.org/docs/stable/optim.html#how-to-adjust-learning-rate\", UserWarning)\n",
            "/usr/local/lib/python3.7/dist-packages/torch/nn/functional.py:718: UserWarning: Named tensors and all their associated APIs are an experimental feature and subject to change. Please do not use them for anything important until they are released as stable. (Triggered internally at  /pytorch/c10/core/TensorImpl.h:1156.)\n",
            "  return torch.max_pool2d(input, kernel_size, stride, padding, dilation, ceil_mode)\n"
          ]
        },
        {
          "name": "stdout",
          "output_type": "stream",
          "text": [
            "train Loss: 0.0136 Acc: 0.5020\n",
            "val Loss: 0.0077 Acc: 0.8369\n",
            "Elapsed 0m 29s\n",
            "\n",
            "Epoch 1/24\n",
            "----------\n",
            "train Loss: 0.0061 Acc: 0.8738\n",
            "val Loss: 0.0044 Acc: 0.9044\n",
            "Elapsed 0m 57s\n",
            "\n",
            "Epoch 2/24\n",
            "----------\n",
            "train Loss: 0.0040 Acc: 0.9122\n",
            "val Loss: 0.0033 Acc: 0.9208\n",
            "Elapsed 1m 25s\n",
            "\n",
            "Epoch 3/24\n",
            "----------\n",
            "train Loss: 0.0033 Acc: 0.9190\n",
            "val Loss: 0.0028 Acc: 0.9309\n",
            "Elapsed 1m 53s\n",
            "\n",
            "Epoch 4/24\n",
            "----------\n",
            "train Loss: 0.0027 Acc: 0.9294\n",
            "val Loss: 0.0026 Acc: 0.9311\n",
            "Elapsed 2m 21s\n",
            "\n",
            "Epoch 5/24\n",
            "----------\n",
            "train Loss: 0.0026 Acc: 0.9316\n",
            "val Loss: 0.0024 Acc: 0.9349\n",
            "Elapsed 2m 49s\n",
            "\n",
            "Epoch 6/24\n",
            "----------\n",
            "train Loss: 0.0024 Acc: 0.9404\n",
            "val Loss: 0.0023 Acc: 0.9358\n",
            "Elapsed 3m 17s\n",
            "\n",
            "Epoch 7/24\n",
            "----------\n",
            "train Loss: 0.0025 Acc: 0.9358\n",
            "val Loss: 0.0023 Acc: 0.9375\n",
            "Elapsed 3m 45s\n",
            "\n",
            "Epoch 8/24\n",
            "----------\n",
            "train Loss: 0.0023 Acc: 0.9394\n",
            "val Loss: 0.0023 Acc: 0.9359\n",
            "Elapsed 4m 13s\n",
            "\n",
            "Epoch 9/24\n",
            "----------\n",
            "train Loss: 0.0023 Acc: 0.9402\n",
            "val Loss: 0.0023 Acc: 0.9353\n",
            "Elapsed 4m 41s\n",
            "\n",
            "Epoch 10/24\n",
            "----------\n",
            "train Loss: 0.0023 Acc: 0.9370\n",
            "val Loss: 0.0023 Acc: 0.9371\n",
            "Elapsed 5m 9s\n",
            "\n",
            "Epoch 11/24\n",
            "----------\n",
            "train Loss: 0.0022 Acc: 0.9394\n",
            "val Loss: 0.0022 Acc: 0.9365\n",
            "Elapsed 5m 37s\n",
            "\n",
            "Epoch 12/24\n",
            "----------\n",
            "train Loss: 0.0023 Acc: 0.9390\n",
            "val Loss: 0.0022 Acc: 0.9360\n",
            "Elapsed 6m 5s\n",
            "\n",
            "Epoch 13/24\n",
            "----------\n",
            "train Loss: 0.0023 Acc: 0.9416\n",
            "val Loss: 0.0022 Acc: 0.9364\n",
            "Elapsed 6m 33s\n",
            "\n",
            "Epoch 14/24\n",
            "----------\n",
            "train Loss: 0.0023 Acc: 0.9394\n",
            "val Loss: 0.0022 Acc: 0.9375\n",
            "Elapsed 7m 1s\n",
            "\n",
            "Epoch 15/24\n",
            "----------\n",
            "train Loss: 0.0023 Acc: 0.9384\n",
            "val Loss: 0.0022 Acc: 0.9388\n",
            "Elapsed 7m 29s\n",
            "\n",
            "Epoch 16/24\n",
            "----------\n",
            "train Loss: 0.0023 Acc: 0.9406\n",
            "val Loss: 0.0022 Acc: 0.9379\n",
            "Elapsed 7m 57s\n",
            "\n",
            "Epoch 17/24\n",
            "----------\n",
            "train Loss: 0.0022 Acc: 0.9420\n",
            "val Loss: 0.0022 Acc: 0.9385\n",
            "Elapsed 8m 25s\n",
            "\n",
            "Epoch 18/24\n",
            "----------\n",
            "train Loss: 0.0023 Acc: 0.9402\n",
            "val Loss: 0.0022 Acc: 0.9378\n",
            "Elapsed 8m 53s\n",
            "\n",
            "Epoch 19/24\n",
            "----------\n",
            "train Loss: 0.0022 Acc: 0.9396\n",
            "val Loss: 0.0022 Acc: 0.9380\n",
            "Elapsed 9m 21s\n",
            "\n",
            "Epoch 20/24\n",
            "----------\n",
            "train Loss: 0.0022 Acc: 0.9372\n",
            "val Loss: 0.0022 Acc: 0.9364\n",
            "Elapsed 9m 49s\n",
            "\n",
            "Epoch 21/24\n",
            "----------\n",
            "train Loss: 0.0022 Acc: 0.9398\n",
            "val Loss: 0.0022 Acc: 0.9375\n",
            "Elapsed 10m 17s\n",
            "\n",
            "Epoch 22/24\n",
            "----------\n",
            "train Loss: 0.0022 Acc: 0.9392\n",
            "val Loss: 0.0022 Acc: 0.9375\n",
            "Elapsed 10m 45s\n",
            "\n",
            "Epoch 23/24\n",
            "----------\n",
            "train Loss: 0.0022 Acc: 0.9404\n",
            "val Loss: 0.0022 Acc: 0.9365\n",
            "Elapsed 11m 12s\n",
            "\n",
            "Epoch 24/24\n",
            "----------\n",
            "train Loss: 0.0023 Acc: 0.9398\n",
            "val Loss: 0.0022 Acc: 0.9381\n",
            "Elapsed 11m 40s\n",
            "\n",
            "Training complete in 11m 40s\n",
            "Best val Acc: 0.938750\n"
          ]
        }
      ]
    },
    {
      "cell_type": "markdown",
      "metadata": {
        "id": "spmJ6EdpcKRP"
      },
      "source": [
        "# BOYL train code"
      ]
    },
    {
      "cell_type": "code",
      "metadata": {
        "colab": {
          "background_save": true
        },
        "id": "W6pLSuC_Y7cQ"
      },
      "source": [
        "#!g1.1\n",
        "import numpy as np\n",
        "\n",
        "def train_BOYLmodel(model, optimizer, scheduler, num_epochs=25):\n",
        "    since = time.time()\n",
        "\n",
        "    best_model_wts = model.state_dict()\n",
        "    best_acc = 0.0\n",
        "\n",
        "    for epoch in range(num_epochs):\n",
        "        l = []\n",
        "        clear_output(True)\n",
        "        print('Epoch {}/{}'.format(epoch, num_epochs - 1))\n",
        "        print('-' * 10)\n",
        "\n",
        "        # Iterate over data.\n",
        "        for data in dataloaders[\"trainUnl\"]:\n",
        "            # get the inputs\n",
        "            inputs, _ = data\n",
        "            inputs = inputs.cuda()\n",
        "\n",
        "            optimizer.zero_grad()\n",
        "\n",
        "            outputs1 = model(inputs, mode=\"online\")\n",
        "            outputs2 = model(inputs, mode=\"target\")\n",
        "            # берем prediction для online модели\n",
        "            predict1 = model.getPrediction(outputs1)\n",
        "            diff = torch.norm((F.normalize(predict1, dim=-1) - F.normalize(outputs2, dim=-1)), dim=1) ** 2\n",
        "            loss = torch.mean(diff)\n",
        "\n",
        "            loss.backward()\n",
        "            optimizer.step()\n",
        "            l.append(loss.item())\n",
        "        print(\"loss = \", np.mean(l))\n",
        "        model.updateTarget()\n",
        "    return model"
      ],
      "execution_count": null,
      "outputs": []
    },
    {
      "cell_type": "markdown",
      "metadata": {
        "id": "-VI9793rfxt8"
      },
      "source": [
        "# BOYL train process"
      ]
    },
    {
      "cell_type": "code",
      "metadata": {
        "colab": {
          "background_save": true
        },
        "id": "wgSJ-rpdjRAr"
      },
      "source": [
        "#!g1.1\n",
        "import itertools"
      ],
      "execution_count": null,
      "outputs": []
    },
    {
      "cell_type": "code",
      "metadata": {
        "colab": {
          "background_save": true
        },
        "id": "1dHlsek3ZRxl"
      },
      "source": [
        "#!g1.1\n",
        "model_ft = models.resnet18(pretrained=True).cuda()\n",
        "for params in model_ft.parameters():\n",
        "    params.requires_grad = False \n",
        "\n",
        "model_ft.fc = nn.Linear(512, 1000)\n",
        "byol = BYOL(reprModel=model_ft.cuda())\n",
        "\n",
        "# оптимизируем только онлайн часть\n",
        "optimizer_ft = optim.SGD(itertools.chain(*[\n",
        "    byol.onlineModel.parameters(),\n",
        "    byol.projectionOnlineModel.parameters(),\n",
        "    byol.predictionModel.parameters()\n",
        "]), lr=0.001, momentum=0.9)\n",
        "exp_lr_scheduler = lr_scheduler.StepLR(optimizer_ft, step_size=7, gamma=0.1)"
      ],
      "execution_count": null,
      "outputs": []
    },
    {
      "cell_type": "code",
      "metadata": {
        "id": "6-qQZEpwia-4",
        "colab": {
          "base_uri": "https://localhost:8080/"
        },
        "outputId": "265c90c1-13fb-4bf8-d123-b262c3f5b109"
      },
      "source": [
        "#!g1.1\n",
        "model_BYOL = train_BOYLmodel(byol, optimizer_ft, exp_lr_scheduler, num_epochs=8)"
      ],
      "execution_count": 14,
      "outputs": [
        {
          "output_type": "stream",
          "name": "stdout",
          "text": [
            "Epoch 7/7\n",
            "----------\n",
            "loss =  0.3200041124649373\n"
          ]
        }
      ]
    },
    {
      "cell_type": "markdown",
      "metadata": {
        "id": "YrdkGpZ98cO6"
      },
      "source": [
        "# Linear evaluation protocol"
      ]
    },
    {
      "cell_type": "markdown",
      "metadata": {
        "id": "BUWlzSpHJx9o"
      },
      "source": [
        "На зафиксированных имбедах применяем линейную регрессию"
      ]
    },
    {
      "cell_type": "code",
      "metadata": {
        "id": "XE9Bl8VjJYvB"
      },
      "source": [
        "#!g1.1\n",
        "for params in model_BYOL.targetModel.parameters():\n",
        "    params.requires_grad = False\n",
        "for params in model_BYOL.projectionTargetModel.parameters():\n",
        "    params.requires_grad = False\n",
        "for params in model_BYOL.onlineModel.parameters():\n",
        "    params.requires_grad = False\n",
        "for params in model_BYOL.projectionOnlineModel.parameters():\n",
        "    params.requires_grad = False\n",
        "for params in model_BYOL.predictionModel.parameters():\n",
        "    params.requires_grad = False"
      ],
      "execution_count": 15,
      "outputs": []
    },
    {
      "cell_type": "code",
      "metadata": {
        "id": "oJmMVALojmqC"
      },
      "source": [
        "#!g1.1\n",
        "emb_model = nn.Sequential(*[\n",
        "#     model_BYOL.onlineModel,\n",
        "    model_BYOL.targetModel,\n",
        "    model_BYOL.projectionTargetModel,\n",
        "#     model_BYOL.projectionOnlineModel,\n",
        "    model_BYOL.predictionModel\n",
        "])\n",
        "\n",
        "lr_model = nn.Sequential(*[\n",
        "    emb_model,\n",
        "    nn.Linear(256, 10),\n",
        "#     nn.Linear(1000, 10),\n",
        "])\n",
        "lr_model = lr_model.cuda()\n",
        "params_to_train = lr_model.parameters()\n"
      ],
      "execution_count": 16,
      "outputs": []
    },
    {
      "cell_type": "code",
      "metadata": {
        "id": "Dv1bPJo71t5L"
      },
      "source": [
        "#!g1.1\n",
        "criterion = nn.CrossEntropyLoss()\n",
        "optimizer_ft = optim.SGD(params_to_train, lr=0.001, momentum=0.9)\n",
        "exp_lr_scheduler = lr_scheduler.StepLR(optimizer_ft, step_size=7, gamma=0.1)"
      ],
      "execution_count": 17,
      "outputs": []
    },
    {
      "cell_type": "markdown",
      "metadata": {
        "id": "XHB_siNWtdVe"
      },
      "source": [
        "Сложно получить заметные результаты на такой модели, так как нужны достаточно большие вычилительные ресурсы. Цитата из статьи:\n",
        "\n",
        "**We use a batch size of 4096 split over 512 Cloud TPU v3 cores.\n",
        "With this setup, training takes approximately 8 hours for a ResNet-50(×1)**"
      ]
    },
    {
      "cell_type": "code",
      "metadata": {
        "id": "_XZynW7kpbke",
        "colab": {
          "base_uri": "https://localhost:8080/"
        },
        "outputId": "d4c84019-b2ac-40e9-81b9-6ecebfb8ddee"
      },
      "source": [
        "#!g1.1\n",
        "\n",
        "lr_model = train_model(lr_model, criterion, optimizer_ft, exp_lr_scheduler, transform=True, num_epochs=25)"
      ],
      "execution_count": 18,
      "outputs": [
        {
          "output_type": "stream",
          "name": "stdout",
          "text": [
            "Epoch 24/24\n",
            "----------\n",
            "train Loss: 0.0183 Acc: 0.2182\n",
            "val Loss: 0.0181 Acc: 0.2201\n",
            "Elapsed 11m 53s\n",
            "\n",
            "Training complete in 11m 53s\n",
            "Best val Acc: 0.222000\n"
          ]
        }
      ]
    },
    {
      "cell_type": "code",
      "metadata": {
        "id": "aNIoJts6rMqm"
      },
      "source": [
        ""
      ],
      "execution_count": null,
      "outputs": []
    }
  ]
}