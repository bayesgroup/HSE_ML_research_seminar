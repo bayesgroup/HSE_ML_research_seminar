{
  "nbformat": 4,
  "nbformat_minor": 5,
  "metadata": {
    "kernelspec": {
      "display_name": "Python 3",
      "language": "python",
      "name": "python3"
    },
    "language_info": {
      "codemirror_mode": {
        "name": "ipython",
        "version": 3
      },
      "file_extension": ".py",
      "mimetype": "text/x-python",
      "name": "python",
      "nbconvert_exporter": "python",
      "pygments_lexer": "ipython3",
      "version": "3.7.9"
    },
    "colab": {
      "name": "VOLT.ipynb",
      "provenance": []
    }
  },
  "cells": [
    {
      "cell_type": "code",
      "metadata": {
        "colab": {
          "base_uri": "https://localhost:8080/"
        },
        "id": "fifty-instrumentation",
        "outputId": "9361ffa6-a5f0-46b1-8c58-865b82623bf7"
      },
      "source": [
        "pip install POT"
      ],
      "id": "fifty-instrumentation",
      "execution_count": 1,
      "outputs": [
        {
          "output_type": "stream",
          "name": "stdout",
          "text": [
            "Collecting POT\n",
            "  Downloading POT-0.7.0-cp37-cp37m-manylinux2010_x86_64.whl (430 kB)\n",
            "\u001b[?25l\r\u001b[K     |▊                               | 10 kB 21.8 MB/s eta 0:00:01\r\u001b[K     |█▌                              | 20 kB 23.1 MB/s eta 0:00:01\r\u001b[K     |██▎                             | 30 kB 26.1 MB/s eta 0:00:01\r\u001b[K     |███                             | 40 kB 28.2 MB/s eta 0:00:01\r\u001b[K     |███▉                            | 51 kB 29.7 MB/s eta 0:00:01\r\u001b[K     |████▋                           | 61 kB 30.9 MB/s eta 0:00:01\r\u001b[K     |█████▎                          | 71 kB 29.9 MB/s eta 0:00:01\r\u001b[K     |██████                          | 81 kB 29.1 MB/s eta 0:00:01\r\u001b[K     |██████▉                         | 92 kB 30.8 MB/s eta 0:00:01\r\u001b[K     |███████▋                        | 102 kB 30.1 MB/s eta 0:00:01\r\u001b[K     |████████▍                       | 112 kB 30.1 MB/s eta 0:00:01\r\u001b[K     |█████████▏                      | 122 kB 30.1 MB/s eta 0:00:01\r\u001b[K     |██████████                      | 133 kB 30.1 MB/s eta 0:00:01\r\u001b[K     |██████████▋                     | 143 kB 30.1 MB/s eta 0:00:01\r\u001b[K     |███████████▍                    | 153 kB 30.1 MB/s eta 0:00:01\r\u001b[K     |████████████▏                   | 163 kB 30.1 MB/s eta 0:00:01\r\u001b[K     |█████████████                   | 174 kB 30.1 MB/s eta 0:00:01\r\u001b[K     |█████████████▊                  | 184 kB 30.1 MB/s eta 0:00:01\r\u001b[K     |██████████████▌                 | 194 kB 30.1 MB/s eta 0:00:01\r\u001b[K     |███████████████▏                | 204 kB 30.1 MB/s eta 0:00:01\r\u001b[K     |████████████████                | 215 kB 30.1 MB/s eta 0:00:01\r\u001b[K     |████████████████▊               | 225 kB 30.1 MB/s eta 0:00:01\r\u001b[K     |█████████████████▌              | 235 kB 30.1 MB/s eta 0:00:01\r\u001b[K     |██████████████████▎             | 245 kB 30.1 MB/s eta 0:00:01\r\u001b[K     |███████████████████             | 256 kB 30.1 MB/s eta 0:00:01\r\u001b[K     |███████████████████▉            | 266 kB 30.1 MB/s eta 0:00:01\r\u001b[K     |████████████████████▌           | 276 kB 30.1 MB/s eta 0:00:01\r\u001b[K     |█████████████████████▎          | 286 kB 30.1 MB/s eta 0:00:01\r\u001b[K     |██████████████████████          | 296 kB 30.1 MB/s eta 0:00:01\r\u001b[K     |██████████████████████▉         | 307 kB 30.1 MB/s eta 0:00:01\r\u001b[K     |███████████████████████▋        | 317 kB 30.1 MB/s eta 0:00:01\r\u001b[K     |████████████████████████▍       | 327 kB 30.1 MB/s eta 0:00:01\r\u001b[K     |█████████████████████████       | 337 kB 30.1 MB/s eta 0:00:01\r\u001b[K     |█████████████████████████▉      | 348 kB 30.1 MB/s eta 0:00:01\r\u001b[K     |██████████████████████████▋     | 358 kB 30.1 MB/s eta 0:00:01\r\u001b[K     |███████████████████████████▍    | 368 kB 30.1 MB/s eta 0:00:01\r\u001b[K     |████████████████████████████▏   | 378 kB 30.1 MB/s eta 0:00:01\r\u001b[K     |█████████████████████████████   | 389 kB 30.1 MB/s eta 0:00:01\r\u001b[K     |█████████████████████████████▊  | 399 kB 30.1 MB/s eta 0:00:01\r\u001b[K     |██████████████████████████████▍ | 409 kB 30.1 MB/s eta 0:00:01\r\u001b[K     |███████████████████████████████▏| 419 kB 30.1 MB/s eta 0:00:01\r\u001b[K     |████████████████████████████████| 430 kB 30.1 MB/s eta 0:00:01\r\u001b[K     |████████████████████████████████| 430 kB 30.1 MB/s \n",
            "\u001b[?25hRequirement already satisfied: cython>=0.23 in /usr/local/lib/python3.7/dist-packages (from POT) (0.29.24)\n",
            "Requirement already satisfied: scipy>=1.0 in /usr/local/lib/python3.7/dist-packages (from POT) (1.4.1)\n",
            "Requirement already satisfied: numpy>=1.16 in /usr/local/lib/python3.7/dist-packages (from POT) (1.19.5)\n",
            "Installing collected packages: POT\n",
            "Successfully installed POT-0.7.0\n"
          ]
        }
      ]
    },
    {
      "cell_type": "code",
      "metadata": {
        "id": "9D8KaA6XM0Ml"
      },
      "source": [
        "import numpy as np\n",
        "import ot"
      ],
      "id": "9D8KaA6XM0Ml",
      "execution_count": 2,
      "outputs": []
    },
    {
      "cell_type": "code",
      "metadata": {
        "id": "southern-florist"
      },
      "source": [
        "def calc_Pc(items):\n",
        "    total_items = 0\n",
        "    for item in items:\n",
        "        total_items += item[1]\n",
        "    P = []\n",
        "    for item in items:\n",
        "        P.append(item[1] / total_items)\n",
        "    return P\n",
        "\n",
        "def calc_Pt(items, corpus):\n",
        "    total_items = 0\n",
        "    for item in items:\n",
        "        total_items += corpus[item[0]]\n",
        "    P = []\n",
        "    for item in items:\n",
        "        P.append(corpus[item[0]] / total_items)\n",
        "    return P\n",
        "\n",
        "def calc_dist_matrix(chars, tokens):\n",
        "    matrix = np.zeros((len(chars), len(tokens)))\n",
        "    rows = len(chars)\n",
        "    cols = len(tokens)\n",
        "    for i in range(rows):\n",
        "        for j in range(cols):\n",
        "            if chars[i][0] in tokens[j][0]:\n",
        "                matrix[i][j] = np.log(len(tokens[j][0]))\n",
        "            else:\n",
        "                matrix[i][j] = 1e2\n",
        "    return matrix\n",
        "\n",
        "def write_vocab(chars, tokens, opt_matrix):\n",
        "    total_tokens = 0\n",
        "    for token in tokens:\n",
        "        total_tokens += token[1]\n",
        "    vocab = []\n",
        "    for j in range(len(opt_matrix[0])):\n",
        "        for i in range(len(opt_matrix)):\n",
        "            if opt_matrix[i][j] != 0:\n",
        "                vocab.append(tokens[j][0])\n",
        "                break\n",
        "    return vocab\n",
        "\n",
        "def calc_alv(vocab): \n",
        "    lv = 0\n",
        "    for word in vocab:\n",
        "        lv += len(word)\n",
        "    return lv / len(vocab)\n",
        "\n",
        "def calc_entropy(matrix, alv): \n",
        "    entropy = 0\n",
        "    for rows in matrix:\n",
        "        for item in rows:\n",
        "            entropy -= item * np.log(item)\n",
        "    return entropy / alv"
      ],
      "id": "southern-florist",
      "execution_count": 3,
      "outputs": []
    },
    {
      "cell_type": "code",
      "metadata": {
        "id": "designing-history"
      },
      "source": [
        "def VOLT(L, C, S, Dc):\n",
        "    vocabularies = []\n",
        "    C = list(C.items())\n",
        "    L = list(L.items())\n",
        "    Pc = calc_Pc(C)\n",
        "    for item in S:\n",
        "        T = L[:item]\n",
        "        Pt = calc_Pt(T, Dc)\n",
        "        D = calc_dist_matrix(C, T)\n",
        "        optimal_matrix = ot.sinkhorn(Pc, Pt, D, 1.0, method='sinkhorn')\n",
        "        vocab = write_vocab(C, T, optimal_matrix)\n",
        "        entropy = calc_entropy(optimal_matrix, calc_alv(vocab))\n",
        "        vocabularies.append((entropy, vocab))\n",
        "    best_vocab = vocabularies[0][1]\n",
        "    best_diff = -1e6\n",
        "    for i in range(1, len(vocabularies)): \n",
        "        diff_entropy = vocabularies[i][0] - vocabularies[i - 1][0]\n",
        "        if diff_entropy > best_diff:\n",
        "            best_vocab = vocabularies[i][1]\n",
        "            best_diff = diff_entropy\n",
        "    return best_vocab"
      ],
      "id": "designing-history",
      "execution_count": 4,
      "outputs": []
    }
  ]
}