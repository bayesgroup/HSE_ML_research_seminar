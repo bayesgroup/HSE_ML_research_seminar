{
  "nbformat": 4,
  "nbformat_minor": 0,
  "metadata": {
    "language_info": {
      "codemirror_mode": {
        "version": 3,
        "name": "ipython"
      },
      "name": "python",
      "mimetype": "text/x-python",
      "pygments_lexer": "ipython3",
      "file_extension": ".py",
      "version": "3.7.7",
      "nbconvert_exporter": "python"
    },
    "notebookId": "ce6b4614-80be-45d1-a1da-85ff80f2dbb4",
    "kernelspec": {
      "name": "python3",
      "display_name": "Yandex DataSphere Kernel",
      "language": "python"
    },
    "ydsNotebookPath": "HW1-Copy1.ipynb",
    "colab": {
      "name": "fcn_resnet _on_stylegan_data.ipynb",
      "provenance": [],
      "collapsed_sections": []
    },
    "widgets": {
      "application/vnd.jupyter.widget-state+json": {
        "ce078a831b414890a8beec64ac59aa4c": {
          "model_module": "@jupyter-widgets/controls",
          "model_name": "HBoxModel",
          "model_module_version": "1.5.0",
          "state": {
            "_view_name": "HBoxView",
            "_dom_classes": [],
            "_model_name": "HBoxModel",
            "_view_module": "@jupyter-widgets/controls",
            "_model_module_version": "1.5.0",
            "_view_count": null,
            "_view_module_version": "1.5.0",
            "box_style": "",
            "layout": "IPY_MODEL_65edb321b030414e8333d8ff70c92c4a",
            "_model_module": "@jupyter-widgets/controls",
            "children": [
              "IPY_MODEL_5a4323f3314f4bd0a62cc49385877664",
              "IPY_MODEL_49c7e45858cc49d0bacf0c7d80eebd1a",
              "IPY_MODEL_d0aaaa7aaebc4b138c684c302f80e7b2"
            ]
          }
        },
        "65edb321b030414e8333d8ff70c92c4a": {
          "model_module": "@jupyter-widgets/base",
          "model_name": "LayoutModel",
          "model_module_version": "1.2.0",
          "state": {
            "_view_name": "LayoutView",
            "grid_template_rows": null,
            "right": null,
            "justify_content": null,
            "_view_module": "@jupyter-widgets/base",
            "overflow": null,
            "_model_module_version": "1.2.0",
            "_view_count": null,
            "flex_flow": null,
            "width": null,
            "min_width": null,
            "border": null,
            "align_items": null,
            "bottom": null,
            "_model_module": "@jupyter-widgets/base",
            "top": null,
            "grid_column": null,
            "overflow_y": null,
            "overflow_x": null,
            "grid_auto_flow": null,
            "grid_area": null,
            "grid_template_columns": null,
            "flex": null,
            "_model_name": "LayoutModel",
            "justify_items": null,
            "grid_row": null,
            "max_height": null,
            "align_content": null,
            "visibility": null,
            "align_self": null,
            "height": null,
            "min_height": null,
            "padding": null,
            "grid_auto_rows": null,
            "grid_gap": null,
            "max_width": null,
            "order": null,
            "_view_module_version": "1.2.0",
            "grid_template_areas": null,
            "object_position": null,
            "object_fit": null,
            "grid_auto_columns": null,
            "margin": null,
            "display": null,
            "left": null
          }
        },
        "5a4323f3314f4bd0a62cc49385877664": {
          "model_module": "@jupyter-widgets/controls",
          "model_name": "HTMLModel",
          "model_module_version": "1.5.0",
          "state": {
            "_view_name": "HTMLView",
            "style": "IPY_MODEL_c80238558df74561a2c6fe1d05994e49",
            "_dom_classes": [],
            "description": "",
            "_model_name": "HTMLModel",
            "placeholder": "​",
            "_view_module": "@jupyter-widgets/controls",
            "_model_module_version": "1.5.0",
            "value": "100%",
            "_view_count": null,
            "_view_module_version": "1.5.0",
            "description_tooltip": null,
            "_model_module": "@jupyter-widgets/controls",
            "layout": "IPY_MODEL_0357e811a4b4400697cb7d08095c6498"
          }
        },
        "49c7e45858cc49d0bacf0c7d80eebd1a": {
          "model_module": "@jupyter-widgets/controls",
          "model_name": "FloatProgressModel",
          "model_module_version": "1.5.0",
          "state": {
            "_view_name": "ProgressView",
            "style": "IPY_MODEL_eaae791a47c54184aa3305ec51d5fec5",
            "_dom_classes": [],
            "description": "",
            "_model_name": "FloatProgressModel",
            "bar_style": "success",
            "max": 141567418,
            "_view_module": "@jupyter-widgets/controls",
            "_model_module_version": "1.5.0",
            "value": 141567418,
            "_view_count": null,
            "_view_module_version": "1.5.0",
            "orientation": "horizontal",
            "min": 0,
            "description_tooltip": null,
            "_model_module": "@jupyter-widgets/controls",
            "layout": "IPY_MODEL_baaf7275fab9444285a4d3780cdd13ec"
          }
        },
        "d0aaaa7aaebc4b138c684c302f80e7b2": {
          "model_module": "@jupyter-widgets/controls",
          "model_name": "HTMLModel",
          "model_module_version": "1.5.0",
          "state": {
            "_view_name": "HTMLView",
            "style": "IPY_MODEL_005a8b8e16b44d178b711866085cec50",
            "_dom_classes": [],
            "description": "",
            "_model_name": "HTMLModel",
            "placeholder": "​",
            "_view_module": "@jupyter-widgets/controls",
            "_model_module_version": "1.5.0",
            "value": " 135M/135M [00:01&lt;00:00, 88.2MB/s]",
            "_view_count": null,
            "_view_module_version": "1.5.0",
            "description_tooltip": null,
            "_model_module": "@jupyter-widgets/controls",
            "layout": "IPY_MODEL_7d903bb88bf1401ebf627ea9064b13fc"
          }
        },
        "c80238558df74561a2c6fe1d05994e49": {
          "model_module": "@jupyter-widgets/controls",
          "model_name": "DescriptionStyleModel",
          "model_module_version": "1.5.0",
          "state": {
            "_view_name": "StyleView",
            "_model_name": "DescriptionStyleModel",
            "description_width": "",
            "_view_module": "@jupyter-widgets/base",
            "_model_module_version": "1.5.0",
            "_view_count": null,
            "_view_module_version": "1.2.0",
            "_model_module": "@jupyter-widgets/controls"
          }
        },
        "0357e811a4b4400697cb7d08095c6498": {
          "model_module": "@jupyter-widgets/base",
          "model_name": "LayoutModel",
          "model_module_version": "1.2.0",
          "state": {
            "_view_name": "LayoutView",
            "grid_template_rows": null,
            "right": null,
            "justify_content": null,
            "_view_module": "@jupyter-widgets/base",
            "overflow": null,
            "_model_module_version": "1.2.0",
            "_view_count": null,
            "flex_flow": null,
            "width": null,
            "min_width": null,
            "border": null,
            "align_items": null,
            "bottom": null,
            "_model_module": "@jupyter-widgets/base",
            "top": null,
            "grid_column": null,
            "overflow_y": null,
            "overflow_x": null,
            "grid_auto_flow": null,
            "grid_area": null,
            "grid_template_columns": null,
            "flex": null,
            "_model_name": "LayoutModel",
            "justify_items": null,
            "grid_row": null,
            "max_height": null,
            "align_content": null,
            "visibility": null,
            "align_self": null,
            "height": null,
            "min_height": null,
            "padding": null,
            "grid_auto_rows": null,
            "grid_gap": null,
            "max_width": null,
            "order": null,
            "_view_module_version": "1.2.0",
            "grid_template_areas": null,
            "object_position": null,
            "object_fit": null,
            "grid_auto_columns": null,
            "margin": null,
            "display": null,
            "left": null
          }
        },
        "eaae791a47c54184aa3305ec51d5fec5": {
          "model_module": "@jupyter-widgets/controls",
          "model_name": "ProgressStyleModel",
          "model_module_version": "1.5.0",
          "state": {
            "_view_name": "StyleView",
            "_model_name": "ProgressStyleModel",
            "description_width": "",
            "_view_module": "@jupyter-widgets/base",
            "_model_module_version": "1.5.0",
            "_view_count": null,
            "_view_module_version": "1.2.0",
            "bar_color": null,
            "_model_module": "@jupyter-widgets/controls"
          }
        },
        "baaf7275fab9444285a4d3780cdd13ec": {
          "model_module": "@jupyter-widgets/base",
          "model_name": "LayoutModel",
          "model_module_version": "1.2.0",
          "state": {
            "_view_name": "LayoutView",
            "grid_template_rows": null,
            "right": null,
            "justify_content": null,
            "_view_module": "@jupyter-widgets/base",
            "overflow": null,
            "_model_module_version": "1.2.0",
            "_view_count": null,
            "flex_flow": null,
            "width": null,
            "min_width": null,
            "border": null,
            "align_items": null,
            "bottom": null,
            "_model_module": "@jupyter-widgets/base",
            "top": null,
            "grid_column": null,
            "overflow_y": null,
            "overflow_x": null,
            "grid_auto_flow": null,
            "grid_area": null,
            "grid_template_columns": null,
            "flex": null,
            "_model_name": "LayoutModel",
            "justify_items": null,
            "grid_row": null,
            "max_height": null,
            "align_content": null,
            "visibility": null,
            "align_self": null,
            "height": null,
            "min_height": null,
            "padding": null,
            "grid_auto_rows": null,
            "grid_gap": null,
            "max_width": null,
            "order": null,
            "_view_module_version": "1.2.0",
            "grid_template_areas": null,
            "object_position": null,
            "object_fit": null,
            "grid_auto_columns": null,
            "margin": null,
            "display": null,
            "left": null
          }
        },
        "005a8b8e16b44d178b711866085cec50": {
          "model_module": "@jupyter-widgets/controls",
          "model_name": "DescriptionStyleModel",
          "model_module_version": "1.5.0",
          "state": {
            "_view_name": "StyleView",
            "_model_name": "DescriptionStyleModel",
            "description_width": "",
            "_view_module": "@jupyter-widgets/base",
            "_model_module_version": "1.5.0",
            "_view_count": null,
            "_view_module_version": "1.2.0",
            "_model_module": "@jupyter-widgets/controls"
          }
        },
        "7d903bb88bf1401ebf627ea9064b13fc": {
          "model_module": "@jupyter-widgets/base",
          "model_name": "LayoutModel",
          "model_module_version": "1.2.0",
          "state": {
            "_view_name": "LayoutView",
            "grid_template_rows": null,
            "right": null,
            "justify_content": null,
            "_view_module": "@jupyter-widgets/base",
            "overflow": null,
            "_model_module_version": "1.2.0",
            "_view_count": null,
            "flex_flow": null,
            "width": null,
            "min_width": null,
            "border": null,
            "align_items": null,
            "bottom": null,
            "_model_module": "@jupyter-widgets/base",
            "top": null,
            "grid_column": null,
            "overflow_y": null,
            "overflow_x": null,
            "grid_auto_flow": null,
            "grid_area": null,
            "grid_template_columns": null,
            "flex": null,
            "_model_name": "LayoutModel",
            "justify_items": null,
            "grid_row": null,
            "max_height": null,
            "align_content": null,
            "visibility": null,
            "align_self": null,
            "height": null,
            "min_height": null,
            "padding": null,
            "grid_auto_rows": null,
            "grid_gap": null,
            "max_width": null,
            "order": null,
            "_view_module_version": "1.2.0",
            "grid_template_areas": null,
            "object_position": null,
            "object_fit": null,
            "grid_auto_columns": null,
            "margin": null,
            "display": null,
            "left": null
          }
        }
      }
    }
  },
  "cells": [
    {
      "cell_type": "code",
      "metadata": {
        "id": "ZbdKbvVN14WR"
      },
      "source": [
        "from torchvision.models.segmentation.segmentation import fcn_resnet50"
      ],
      "execution_count": null,
      "outputs": []
    },
    {
      "cell_type": "code",
      "metadata": {
        "colab": {
          "base_uri": "https://localhost:8080/",
          "height": 306
        },
        "id": "S3RfwOCjoWUZ",
        "outputId": "094f5e35-427e-43c9-cd5c-32cafee4c6c5"
      },
      "source": [
        "#Пример того как натренированная модель fcn умеет отделять бэкграунд от объектов\n",
        "# мы хоти чтобы бэкграунда у нас считалось все кроме кошачьего носика\n",
        "import urllib\n",
        "url, filename = (\"https://github.com/pytorch/hub/raw/master/images/deeplab1.png\", \"deeplab1.png\")\n",
        "try: urllib.URLopener().retrieve(url, filename)\n",
        "except: urllib.request.urlretrieve(url, filename)\n",
        "\n",
        "\n",
        "from PIL import Image\n",
        "from torchvision import transforms\n",
        "input_image = Image.open(filename)\n",
        "input_image = input_image.convert(\"RGB\")\n",
        "preprocess = transforms.Compose([\n",
        "    transforms.ToTensor(),\n",
        "    transforms.Normalize(mean=[0.485, 0.456, 0.406], std=[0.229, 0.224, 0.225]),\n",
        "])\n",
        "\n",
        "input_tensor = preprocess(input_image)\n",
        "input_batch = input_tensor.unsqueeze(0) # create a mini-batch as expected by the model\n",
        "\n",
        "model = fcn_resnet50(pretrained=True, progress=True, num_classes=21)\n",
        "# move the input and model to GPU for speed if available\n",
        "if torch.cuda.is_available():\n",
        "    input_batch = input_batch.to('cuda')\n",
        "    model.to('cuda')\n",
        "\n",
        "with torch.no_grad():\n",
        "    output = model(input_batch)['out'][0]\n",
        "output_predictions = output.argmax(0)\n",
        "import matplotlib.pyplot as plt\n",
        "tl = output_predictions\n",
        "tl[tl==0] = 255\n",
        "plt.imshow(output_predictions)"
      ],
      "execution_count": 28,
      "outputs": [
        {
          "output_type": "execute_result",
          "data": {
            "text/plain": [
              "<matplotlib.image.AxesImage at 0x7f26fc82bb50>"
            ]
          },
          "metadata": {},
          "execution_count": 28
        },
        {
          "output_type": "display_data",
          "data": {
            "image/png": "[encoded data removed]",
            "text/plain": [
              "<Figure size 432x288 with 1 Axes>"
            ]
          },
          "metadata": {
            "needs_background": "light"
          }
        }
      ]
    },
    {
      "cell_type": "code",
      "metadata": {
        "cellId": "yrrtli761eo64zzhdxslbe",
        "id": "xSrM3jDN8qml"
      },
      "source": [
        "#!g1.1\n",
        "%pip install torch==1.9.0+cu111 torchvision==0.10.0+cu111 -f\n",
        "%pip install pandas==1.3.3"
      ],
      "execution_count": null,
      "outputs": []
    },
    {
      "cell_type": "code",
      "metadata": {
        "cellId": "xlgwvvw7rn8ca4e6ut1v2m",
        "id": "--3iJFWl8qmq"
      },
      "source": [
        "import shutil\n",
        "import os"
      ],
      "execution_count": 1,
      "outputs": []
    },
    {
      "cell_type": "code",
      "metadata": {
        "id": "tw7n_Ci0mIAn"
      },
      "source": [
        "EPOCHES = 10"
      ],
      "execution_count": 2,
      "outputs": []
    },
    {
      "cell_type": "code",
      "metadata": {
        "id": "cUSjXTEzakPJ"
      },
      "source": [
        "train_data = ['./training_data/image_' + str(i) + '.jpg' for i in range(30)]\n",
        "train_labels = ['./training_labels/nose_mask' + str(i)+ '.jpg' for i in range(30)]"
      ],
      "execution_count": 3,
      "outputs": []
    },
    {
      "cell_type": "code",
      "metadata": {
        "id": "7xiAMZF9H1Cv"
      },
      "source": [
        "def transform_image(img_path):\n",
        "    img = cv2.imread(img_path) / 255\n",
        "    img = torch.tensor(img, dtype=torch.float32)\n",
        "    img = torch.transpose(torch.transpose(img, 1, 2), 0, 1)\n",
        "    img = transforms.Normalize(mean=[0.485, 0.456, 0.406], std=[0.229, 0.224, 0.225])(img)\n",
        "    return img.unsqueeze(0)"
      ],
      "execution_count": 4,
      "outputs": []
    },
    {
      "cell_type": "code",
      "metadata": {
        "id": "uy-54dx46WqL"
      },
      "source": [
        "def transform_target(img_path):\n",
        "    img = cv2.imread(img_path) / 255\n",
        "    img = torch.tensor(img, dtype=torch.float32)[:, :, 0]\n",
        "    img = img.unsqueeze(0).expand((1, img.shape[0], img.shape[1]))\n",
        "    return img.unsqueeze(0)"
      ],
      "execution_count": null,
      "outputs": []
    },
    {
      "cell_type": "code",
      "metadata": {
        "id": "n1XTBK4cphGo"
      },
      "source": [
        "images_dataset = [{'input':transform_image(train_data[i]), 'target':transform_target(train_labels[i])}\n",
        "                  for i in range(len(train_data))]"
      ],
      "execution_count": null,
      "outputs": []
    },
    {
      "cell_type": "code",
      "metadata": {
        "id": "7bzUKMEnsdXi",
        "colab": {
          "base_uri": "https://localhost:8080/",
          "height": 86,
          "referenced_widgets": [
            "ce078a831b414890a8beec64ac59aa4c",
            "65edb321b030414e8333d8ff70c92c4a",
            "5a4323f3314f4bd0a62cc49385877664",
            "49c7e45858cc49d0bacf0c7d80eebd1a",
            "d0aaaa7aaebc4b138c684c302f80e7b2",
            "c80238558df74561a2c6fe1d05994e49",
            "0357e811a4b4400697cb7d08095c6498",
            "eaae791a47c54184aa3305ec51d5fec5",
            "baaf7275fab9444285a4d3780cdd13ec",
            "005a8b8e16b44d178b711866085cec50",
            "7d903bb88bf1401ebf627ea9064b13fc"
          ]
        },
        "outputId": "e7403d97-8dad-44ae-dddd-4f968770bf93"
      },
      "source": [
        "model = fcn_resnet50(pretrained=True, progress=True, num_classes=21)\n",
        "#поскольку мы хотим файнтюнить натренированную модель, придется мириться с 21 классом вместо требуемых 2\n",
        "#однако мы знаем, что 0-й выходной фрейм отвечает за бэкраунд, поэтому будем считать что argmax по всем слоям должен научиться отделять нос от бэкраунда\n",
        "#либо можно накинуть еще один слой: (линейный либо активация + линейный, который как раз разобьет на два класса)\n",
        "#спойлер: ни одна из этих моделей не сможет работать так же хорошо, как datasetGAN"
      ],
      "execution_count": 6,
      "outputs": [
        {
          "output_type": "stream",
          "name": "stderr",
          "text": [
            "Downloading: \"https://download.pytorch.org/models/fcn_resnet50_coco-1167a1af.pth\" to /root/.cache/torch/hub/checkpoints/fcn_resnet50_coco-1167a1af.pth\n"
          ]
        },
        {
          "output_type": "display_data",
          "data": {
            "application/vnd.jupyter.widget-view+json": {
              "model_id": "ce078a831b414890a8beec64ac59aa4c",
              "version_minor": 0,
              "version_major": 2
            },
            "text/plain": [
              "  0%|          | 0.00/135M [00:00<?, ?B/s]"
            ]
          },
          "metadata": {}
        }
      ]
    },
    {
      "cell_type": "code",
      "metadata": {
        "id": "6TK5qw1vgryl"
      },
      "source": [
        "import torch.nn as nn\n",
        "import torch\n",
        "\n",
        "class FCN_2class(nn.Module):\n",
        "    def __init__(self):\n",
        "        super(FCN_2class, self).__init__()\n",
        "\n",
        "        self.fcn_resnet50 = fcn_resnet50(pretrained=True, progress=True, num_classes=21)\n",
        "        self.conv = nn.Sequential(nn.LeakyReLU(), nn.Conv2d(21, 2, 3, (1, 1), (1, 1)))\n",
        "        # self.conv = nn.Conv2d(21, 1, 3)\n",
        "\n",
        "    def forward(self, input):\n",
        "        out = self.fcn_resnet50(input)['out']\n",
        "        out = self.conv(out)\n",
        "        return out         \n"
      ],
      "execution_count": 60,
      "outputs": []
    },
    {
      "cell_type": "code",
      "metadata": {
        "colab": {
          "base_uri": "https://localhost:8080/",
          "height": 322
        },
        "id": "bTP_heXUwc6a",
        "outputId": "6304dab6-fb40-4c83-ad81-1d699e20984b"
      },
      "source": [
        "#example of the output mask for random input\n",
        "\n",
        "# example_model = FCN_2class()\n",
        "# out = example_model(tt).detach()\n",
        "example_model = fcn_resnet50(pretrained=True, progress=True, num_classes=21)\n",
        "out = example_model(tt)['out'].detach()\n",
        "print(out.shape)\n",
        "out = out.argmax(1)\n",
        "out = out/(out + 1e-5)\n",
        "plt.imshow(out[0])"
      ],
      "execution_count": 61,
      "outputs": [
        {
          "output_type": "stream",
          "name": "stdout",
          "text": [
            "torch.Size([1, 21, 256, 256])\n"
          ]
        },
        {
          "output_type": "execute_result",
          "data": {
            "text/plain": [
              "<matplotlib.image.AxesImage at 0x7f26fbbfa5d0>"
            ]
          },
          "metadata": {},
          "execution_count": 61
        },
        {
          "output_type": "display_data",
          "data": {
            "image/png": "[encoded data removed]",
            "text/plain": [
              "<Figure size 432x288 with 1 Axes>"
            ]
          },
          "metadata": {
            "needs_background": "light"
          }
        }
      ]
    },
    {
      "cell_type": "code",
      "metadata": {
        "id": "-gIVx0RhKMQM"
      },
      "source": [
        "criterion = nn.MSELoss()\n",
        "EPOCH_SIZE = 32\n",
        "EPOCHES = 5\n",
        "from random import sample\n",
        "from tqdm import tqdm"
      ],
      "execution_count": null,
      "outputs": []
    },
    {
      "cell_type": "code",
      "metadata": {
        "id": "eoniinW2LAXn"
      },
      "source": [
        "model = fcn_resnet50(pretrained=True, progress=True, num_classes=21)\n",
        "optimizer = torch.optim.Adam(model.parameters(), lr=0.001)"
      ],
      "execution_count": 18,
      "outputs": []
    },
    {
      "cell_type": "code",
      "metadata": {
        "id": "zzkbEt5WtQoS"
      },
      "source": [
        "model.train(True)\n",
        "running_loss = 0\n",
        "for epoch in tqdm(range(EPOCHES)):\n",
        "    for epoch_size in range(EPOCH_SIZE):\n",
        "        idx = sample(range(len(images_dataset)), 1)[0]\n",
        "        input, target = images_dataset[idx]['input'], images_dataset[idx]['target']\n",
        "        data = input#.to('cuda')\n",
        "        target = target#.to('cuda')\n",
        "        \n",
        "        # zero the parameter gradients\n",
        "        optimizer.zero_grad()\n",
        "\n",
        "        # forward\n",
        "        if model.__class__ == FCN_2class:\n",
        "          outputs = model(data)\n",
        "        else:\n",
        "          outputs = model(data)['out']\n",
        "        outputs = outputs.argmax(1) \n",
        "        outputs =  outputs / (outputs + 1e-5) #all classes except for zero  background label as 1\n",
        "        #делим чтобы все классы кроме нулевого считались первым классом\n",
        "        loss = criterion(outputs, target)\n",
        "        loss.backward()\n",
        "        optimizer.step()\n",
        "\n",
        "        # statistics\n",
        "        running_loss += loss.item()\n",
        "#         except RuntimeError:\n",
        "#             print(\"RuntimeError, data.shape=\", data.shape, \"target.shape=\", target.shape, \"outputs.shape\", outputs.shape)\n",
        "    epoch_loss = running_loss / EPOCH_SIZE\n",
        "    print(epoch , epoch_loss)"
      ],
      "execution_count": null,
      "outputs": []
    },
    {
      "cell_type": "code",
      "metadata": {
        "id": "k77K5z0HMl8J"
      },
      "source": [
        "test_data = ['./testing_data/cat_' + str(i) + '.png' for i in range(20)]\n",
        "test_gan_labels = ['./test_gan_labels/nose_mask' +  str(i) + '.jpg' for i in range(20)]"
      ],
      "execution_count": null,
      "outputs": []
    },
    {
      "cell_type": "code",
      "metadata": {
        "id": "pB9511d-NN84"
      },
      "source": [
        "test_dataset = [{'input':transform_image(test_data[i]), 'target':transform_target(test_gan_labels[i])}\n",
        "                  for i in range(len(test_data))]"
      ],
      "execution_count": null,
      "outputs": []
    },
    {
      "cell_type": "code",
      "metadata": {
        "colab": {
          "base_uri": "https://localhost:8080/"
        },
        "id": "Movm8xQkS6nb",
        "outputId": "25e7276c-a128-46bb-e5e8-513edeccd054"
      },
      "source": [
        "idexes = np.argwhere(image) < 0.5\n",
        "# idexes = idexes.T\n",
        "idexes.shape"
      ],
      "execution_count": null,
      "outputs": [
        {
          "output_type": "execute_result",
          "data": {
            "text/plain": [
              "(2, 204000)"
            ]
          },
          "metadata": {},
          "execution_count": 196
        }
      ]
    },
    {
      "cell_type": "code",
      "metadata": {
        "colab": {
          "base_uri": "https://localhost:8080/"
        },
        "id": "DYR38MO6TsyH",
        "outputId": "34f27f78-eafb-4e4c-c7e4-0221f9b5c89d"
      },
      "source": [
        "idexes"
      ],
      "execution_count": null,
      "outputs": [
        {
          "output_type": "execute_result",
          "data": {
            "text/plain": [
              "array([[ True,  True,  True, ..., False, False, False],\n",
              "       [ True, False, False, ..., False, False, False]])"
            ]
          },
          "metadata": {},
          "execution_count": 198
        }
      ]
    },
    {
      "cell_type": "code",
      "metadata": {
        "colab": {
          "base_uri": "https://localhost:8080/"
        },
        "id": "muHpkaeUS9gM",
        "outputId": "0cba5d9e-4927-4e75-ce2c-11b7e42974e5"
      },
      "source": [
        "image[image> 0.5]"
      ],
      "execution_count": null,
      "outputs": [
        {
          "output_type": "execute_result",
          "data": {
            "text/plain": [
              "array([0.5019018, 0.5039938, 0.5060857, ..., 0.5105272, 0.5105272,\n",
              "       0.5105272], dtype=float32)"
            ]
          },
          "metadata": {},
          "execution_count": 199
        }
      ]
    },
    {
      "cell_type": "code",
      "metadata": {
        "id": "6HpGqY16Nqtj"
      },
      "source": [
        "model.eval()\n",
        "with torch.no_grad():\n",
        "  for idx, data in enumerate(test_dataset):\n",
        "      input = data['input']\n",
        "      target = data['target']\n",
        "      target = torch.mean(target, dim=1)\n",
        "      if model.__class__ == FCN_2class:\n",
        "          outputs = model(data)\n",
        "        else:\n",
        "          outputs = model(data)['out']\n",
        "      image = outputs.argmax(1)\n",
        "      image[image > 0] = 255\n",
        "      a = image.astype(int)\n",
        "      cv2.imwrite(f'./testing_pred_labels/nose_mask{str(idx)}.jpg', a)"
      ],
      "execution_count": null,
      "outputs": []
    }
  ]
}