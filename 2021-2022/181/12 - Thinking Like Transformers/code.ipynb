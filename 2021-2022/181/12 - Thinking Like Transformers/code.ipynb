{
  "nbformat": 4,
  "nbformat_minor": 0,
  "metadata": {
    "colab": {
      "name": "Thinking Like Transformers - code",
      "provenance": [],
      "collapsed_sections": []
    },
    "kernelspec": {
      "name": "python3",
      "display_name": "Python 3"
    },
    "language_info": {
      "name": "python"
    },
    "accelerator": "GPU"
  },
  "cells": [
    {
      "cell_type": "markdown",
      "metadata": {
        "id": "_ylz4MVbdAoB"
      },
      "source": [
        "# Thinking Like Transformers\n",
        "\n",
        "[Paper on arXiv](https://arxiv.org/abs/2106.06981)\n",
        "\n",
        "Notebook author: Polina Guseva"
      ]
    },
    {
      "cell_type": "code",
      "metadata": {
        "id": "iuTQIDXMc5ZA"
      },
      "source": [
        "import matplotlib.pyplot as plt\n",
        "import numpy as np\n",
        "import seaborn\n",
        "import torch\n",
        "import torch.nn as nn\n",
        "import torch.nn.functional as F"
      ],
      "execution_count": 1,
      "outputs": []
    },
    {
      "cell_type": "markdown",
      "metadata": {
        "id": "SKPeB5Itq7jg"
      },
      "source": [
        "## Training setup"
      ]
    },
    {
      "cell_type": "code",
      "metadata": {
        "id": "HIIbUY2i96yS"
      },
      "source": [
        "import math\n",
        "\n",
        "\n",
        "class PositionalEncoding(nn.Module):\n",
        "\n",
        "    def __init__(self, d_model, dropout=0., max_len=512):\n",
        "        super(PositionalEncoding, self).__init__()\n",
        "\n",
        "        self.dropout = nn.Dropout(p=dropout)\n",
        "\n",
        "        pe = torch.zeros(max_len, d_model)\n",
        "        position = torch.arange(0, max_len, dtype=torch.float).unsqueeze(1)\n",
        "        div_term = torch.exp(torch.arange(0, d_model, 2).float() * (-math.log(10000.0) / d_model))\n",
        "        pe[:, 0::2] = torch.sin(position * div_term)\n",
        "        pe[:, 1::2] = torch.cos(position * div_term)\n",
        "        pe = pe.unsqueeze(0).transpose(0, 1)\n",
        "\n",
        "        self.register_buffer(\"pe\", pe)\n",
        "\n",
        "    def forward(self, x):\n",
        "        embedding = self.pe[:x.size(0), :]\n",
        "        x = x + embedding\n",
        "        return self.dropout(x)\n",
        "\n",
        "\n",
        "class PositionalEmbedding(nn.Module):\n",
        "\n",
        "    def __init__(self, d_model, dropout=0.0, max_len=512):\n",
        "        super(PositionalEmbedding, self).__init__()\n",
        "        self.dropout = nn.Dropout(p=dropout)\n",
        "        self.d_forwards = d_model\n",
        "        self.forwards_embedding = nn.Embedding(max_len, self.d_forwards)\n",
        "\n",
        "    def forward(self, x, real_lengths=None):\n",
        "        seq_len = x.shape[0]\n",
        "        def make_indices_tensor(indices):\n",
        "            res = torch.LongTensor([indices]).transpose(0,1)\n",
        "            if next(self.parameters()).is_cuda:  res = res.cuda()\n",
        "            return res\n",
        "        x[:,:,:self.d_forwards]+= self.forwards_embedding(make_indices_tensor(list(range(seq_len))))\n",
        "        return self.dropout(x)\n",
        "\n",
        "\n",
        "class FullEmbedding(nn.Module):\n",
        "\n",
        "    def __init__(self, d_model, num_tokens, max_len,\n",
        "                       positional_encoding_type, positional_dropout):\n",
        "        super(FullEmbedding,self).__init__()\n",
        "\n",
        "        position_modules = {\"sin\":PositionalEncoding,\n",
        "                            \"embed\":PositionalEmbedding}\n",
        "        position_module = position_modules[positional_encoding_type]\n",
        "\n",
        "        positional_encoding = position_module(d_model,positional_dropout,\n",
        "            max_len=max_len)\n",
        "        \n",
        "        word_embedding = nn.Embedding(num_tokens, d_model)\n",
        "\n",
        "        self.word = word_embedding\n",
        "        self.pos = positional_encoding\n",
        "        self.max_len = max_len\n",
        "\n",
        "    def forward(self,x,real_lengths=None):\n",
        "        res = self.word(x)\n",
        "        return self.pos(res)"
      ],
      "execution_count": 2,
      "outputs": []
    },
    {
      "cell_type": "code",
      "metadata": {
        "id": "2OyVWJgG1-4N"
      },
      "source": [
        "class Encoder(nn.Module):\n",
        "\n",
        "    def __init__(self, vocab_size, d_model, heads, layers, dim_feedforward, out_size):\n",
        "        super().__init__()\n",
        "\n",
        "        self.emb = FullEmbedding(d_model, vocab_size, 100, \"sin\", 0.)\n",
        "\n",
        "        encoder_layer = nn.TransformerEncoderLayer(\n",
        "            d_model, heads, dim_feedforward, activation=\"relu\", batch_first=True, dropout=0.\n",
        "        )\n",
        "        self.encoder = nn.TransformerEncoder(encoder_layer, layers)\n",
        "\n",
        "        self.projection = nn.Linear(d_model, out_size)\n",
        "    \n",
        "        self.is_classifier = out_size > 1\n",
        "    \n",
        "    def task_type(self):\n",
        "        if self.is_classifier:\n",
        "            return \"classification\"\n",
        "        return \"regression\"\n",
        "\n",
        "    def forward(self, x):\n",
        "        x = self.emb(x)\n",
        "        out = self.encoder(x)\n",
        "        out = self.projection(out)\n",
        "        if not self.is_classifier:\n",
        "            out = out.squeeze(-1)\n",
        "        return out"
      ],
      "execution_count": 20,
      "outputs": []
    },
    {
      "cell_type": "code",
      "metadata": {
        "id": "TCZhyn8LDp3x"
      },
      "source": [
        "class Trainer:\n",
        "\n",
        "    def __init__(self, model, optimizer, device,\n",
        "                 train_dataloader, val_dataloader, scheduler, **kwargs):\n",
        "        self.model = model\n",
        "        self.optimizer = optimizer\n",
        "        self.scheduler = scheduler\n",
        "\n",
        "        self.cur_epoch = 1\n",
        "        self.num_epochs = kwargs.get(\"num_epochs\", 10)\n",
        "\n",
        "        self.train_dataloader = train_dataloader\n",
        "        self.val_dataloader = val_dataloader\n",
        "\n",
        "        self.max_gradient_norm = kwargs.get(\"max_gradient_norm\", 3.0)\n",
        "\n",
        "        self.log_step = 100\n",
        "\n",
        "        self.device = device\n",
        "    \n",
        "    @staticmethod\n",
        "    def move_to_device(batch, device):\n",
        "        for key in [\"src\", \"tgt\"]:\n",
        "            batch[key] = batch[key].to(device)\n",
        "        return batch\n",
        "\n",
        "    def train(self):\n",
        "        start_epoch = self.cur_epoch\n",
        "        for epoch in range(start_epoch, self.num_epochs + 1):\n",
        "            self._train_epoch(epoch)\n",
        "            self.cur_epoch += 1\n",
        "            if self.scheduler is not None:\n",
        "                self.scheduler.step()\n",
        "    \n",
        "    def process_batch(self, batch, is_training):\n",
        "        batch = self.move_to_device(batch, self.device)\n",
        "    \n",
        "        outputs = self.model(batch[\"src\"])\n",
        "        \n",
        "        if self.model.task_type() == \"classification\":\n",
        "            loss = F.cross_entropy(outputs.transpose(1, 2), batch[\"tgt\"])\n",
        "\n",
        "        else:\n",
        "            loss = F.mse_loss(outputs, batch[\"tgt\"].float())\n",
        "        \n",
        "        if is_training:\n",
        "            loss.backward()\n",
        "            nn.utils.clip_grad_norm_(self.model.parameters(), self.max_gradient_norm)\n",
        "            self.optimizer.step()\n",
        "\n",
        "        preds = outputs.detach()\n",
        "        if self.model.task_type() == \"classification\":\n",
        "            preds = preds.argmax(dim=-1)\n",
        "        else:\n",
        "            preds = torch.round(preds)\n",
        "\n",
        "        return loss, preds\n",
        "\n",
        "    def _train_epoch(self, epoch):\n",
        "        self.model.train()\n",
        "        for batch_idx, batch in enumerate(self.train_dataloader):\n",
        "            self.optimizer.zero_grad()\n",
        "            loss, preds = self.process_batch(batch, is_training=True)\n",
        "\n",
        "            if batch_idx % self.log_step == 0:\n",
        "                acc = (preds == batch[\"tgt\"]).float().mean()\n",
        "                print(\n",
        "                    \"TRAIN (epoch {}, batch {}) - accuracy {:.4f} - loss {:.4f} - grad norm {:.4f}\".format(\n",
        "                        epoch, batch_idx, acc, loss, self.get_grad_norm()\n",
        "                ))\n",
        "        \n",
        "        self._valid_epoch(epoch)\n",
        "\n",
        "    def _valid_epoch(self, epoch):\n",
        "        self.model.eval()\n",
        "        sum_correct = 0\n",
        "        sum_loss = 0.\n",
        "        num_datapoints = 0\n",
        "        with torch.no_grad():\n",
        "            for batch_idx, batch in enumerate(self.val_dataloader):\n",
        "                loss, preds = self.process_batch(batch, is_training=False)\n",
        "\n",
        "                batch_size = preds.size(0) * preds.size(1)\n",
        "                sum_correct += (preds == batch[\"tgt\"]).float().sum()\n",
        "                sum_loss += loss * batch_size\n",
        "                num_datapoints += batch_size\n",
        "            \n",
        "            print(\"VALID (epoch {}) - accuracy {:.4f} - loss {:.4f}\".format(\n",
        "                epoch, sum_correct / num_datapoints, sum_loss / num_datapoints\n",
        "            ))\n",
        "    \n",
        "    @torch.no_grad()\n",
        "    def get_grad_norm(self):\n",
        "        params = [p for p in self.model.parameters() if p.grad is not None]\n",
        "        total_norm = torch.norm(torch.stack([torch.norm(p.grad.detach(), p=2).cpu() for p in params]), p=2)\n",
        "        return total_norm.item()"
      ],
      "execution_count": 128,
      "outputs": []
    },
    {
      "cell_type": "markdown",
      "metadata": {
        "id": "9AkBrZJA2JNS"
      },
      "source": [
        "## Replication\n"
      ]
    },
    {
      "cell_type": "markdown",
      "metadata": {
        "id": "D9ScpAC6Rln9"
      },
      "source": [
        "For simplicity, we are going to work with sequences that have the same fixed length."
      ]
    },
    {
      "cell_type": "code",
      "metadata": {
        "id": "6nN_WS-A81cF"
      },
      "source": [
        "SEED = 42"
      ],
      "execution_count": 6,
      "outputs": []
    },
    {
      "cell_type": "code",
      "metadata": {
        "id": "mdpHcmuTUfuG"
      },
      "source": [
        "import random\n",
        "\n",
        "\n",
        "def set_seed(seed):\n",
        "    np.random.seed(seed)\n",
        "    \n",
        "    random.seed(seed)\n",
        "    \n",
        "    torch.manual_seed(seed)\n",
        "    torch.cuda.manual_seed_all(seed)\n",
        "    torch.cuda.manual_seed(seed)\n",
        "    \n",
        "    torch.backends.cudnn.deterministic = True\n",
        "    torch.backends.cudnn.benchmark = False"
      ],
      "execution_count": 7,
      "outputs": []
    },
    {
      "cell_type": "markdown",
      "metadata": {
        "id": "YBJVRUNRRfth"
      },
      "source": [
        "### Datasets"
      ]
    },
    {
      "cell_type": "code",
      "metadata": {
        "id": "4TmoFp2_U6AK"
      },
      "source": [
        "import string"
      ],
      "execution_count": 8,
      "outputs": []
    },
    {
      "cell_type": "code",
      "metadata": {
        "id": "fYZcmIJERdIF"
      },
      "source": [
        "def generate_data(rng, dataset_size, alphabet_size, seq_len, out_filepath):\n",
        "    assert 0 < alphabet_size <= 26\n",
        "\n",
        "    alphabet = list(string.ascii_lowercase[:alphabet_size])\n",
        "    with open(out_filepath, \"w\") as out_file:\n",
        "        for _ in range(dataset_size):\n",
        "            seq = rng.choice(alphabet, size=seq_len)\n",
        "            seq = \"\".join(seq)\n",
        "            out_file.write(seq)\n",
        "            out_file.write(\"\\n\")"
      ],
      "execution_count": 9,
      "outputs": []
    },
    {
      "cell_type": "code",
      "metadata": {
        "id": "AfemndCZWiab"
      },
      "source": [
        "TRAIN_SIZE = 10_000\n",
        "VAL_SIZE = 1_000\n",
        "TEST_SIZE = 1_000\n",
        "\n",
        "ALPHABET_SIZE = 8\n",
        "SEQ_LEN = 20\n",
        "\n",
        "rng = np.random.default_rng(SEED)\n",
        "\n",
        "generate_data(rng, TRAIN_SIZE, ALPHABET_SIZE, SEQ_LEN, f\"train_a{ALPHABET_SIZE}_seq{SEQ_LEN}.txt\")\n",
        "generate_data(rng, VAL_SIZE, ALPHABET_SIZE, SEQ_LEN, f\"val_a{ALPHABET_SIZE}_seq{SEQ_LEN}.txt\")\n",
        "generate_data(rng, TEST_SIZE, ALPHABET_SIZE, SEQ_LEN, f\"test_a{ALPHABET_SIZE}_seq{SEQ_LEN}.txt\")"
      ],
      "execution_count": 10,
      "outputs": []
    },
    {
      "cell_type": "code",
      "metadata": {
        "id": "MlLkMjBnZ-Rp"
      },
      "source": [
        "import linecache"
      ],
      "execution_count": 11,
      "outputs": []
    },
    {
      "cell_type": "code",
      "metadata": {
        "id": "kH6r0QRVXsu5"
      },
      "source": [
        "class SequenceDataset(torch.utils.data.Dataset):\n",
        "\n",
        "    def __init__(self, datafile, tgt_transform, bos_id=None):\n",
        "        super().__init__()\n",
        "\n",
        "        self.datafile = datafile\n",
        "        self.tgt_transform = tgt_transform\n",
        "\n",
        "        self.bos_id = bos_id\n",
        "\n",
        "        self.dataset_size = 0\n",
        "        with open(self.datafile) as f:\n",
        "            for _ in f:\n",
        "                self.dataset_size += 1\n",
        "    \n",
        "    def __len__(self):\n",
        "        return self.dataset_size\n",
        "    \n",
        "    def __getitem__(self, idx):\n",
        "        src = linecache.getline(self.datafile, idx + 1).strip()\n",
        "        src = list(map(lambda x: string.ascii_lowercase.index(x), src))\n",
        "\n",
        "        tgt = self.tgt_transform(src)\n",
        "\n",
        "        if self.bos_id is not None:\n",
        "            src = [self.bos_id] + src\n",
        "            tgt = [self.bos_id] + tgt + ([self.bos_id] * (len(src) - len(tgt) - 1))\n",
        "\n",
        "        return {\n",
        "            \"src\": src,\n",
        "            \"tgt\": tgt,\n",
        "        }"
      ],
      "execution_count": 12,
      "outputs": []
    },
    {
      "cell_type": "code",
      "metadata": {
        "id": "voa34ycMmWqc"
      },
      "source": [
        "def collate_fn(batch):\n",
        "    result = dict()\n",
        "    for key in [\"src\", \"tgt\"]:\n",
        "        result[key] = torch.cat(\n",
        "            [torch.LongTensor(item[key]).unsqueeze(0) for item in batch], dim=0\n",
        "        )\n",
        "\n",
        "    return result"
      ],
      "execution_count": 13,
      "outputs": []
    },
    {
      "cell_type": "code",
      "metadata": {
        "id": "t3b-0PYlAjih"
      },
      "source": [
        "def test_eval(filepath, transform_func, model, device):\n",
        "    dataset = SequenceDataset(filepath, transform_func)\n",
        "    dataloader = torch.utils.data.DataLoader(dataset, batch_size=BATCH_SIZE, collate_fn=collate_fn)\n",
        "\n",
        "    model.eval()\n",
        "    sum_correct = 0\n",
        "    sum_loss = 0\n",
        "    num_datapoints = 0\n",
        "    with torch.no_grad():\n",
        "        for batch_idx, batch in enumerate(dataloader):\n",
        "            batch = Trainer.move_to_device(batch, device)\n",
        "\n",
        "            outputs = model(batch[\"src\"])\n",
        "\n",
        "            if model.task_type() == \"classification\":\n",
        "                loss = F.cross_entropy(outputs.transpose(1, 2), batch[\"tgt\"])\n",
        "\n",
        "            else:\n",
        "                loss = F.mse_loss(outputs, batch[\"tgt\"].float())\n",
        "\n",
        "            preds = outputs.detach()\n",
        "            if model.task_type() == \"classification\":\n",
        "                preds = preds.argmax(dim=-1)\n",
        "            else:\n",
        "                preds = torch.round(preds)\n",
        "\n",
        "            batch_size = preds.size(0) * preds.size(1)\n",
        "            sum_correct += (preds == batch[\"tgt\"]).float().sum()\n",
        "            sum_loss += loss * batch_size\n",
        "            num_datapoints += batch_size\n",
        "    \n",
        "    return sum_correct / num_datapoints, sum_loss / num_datapoints"
      ],
      "execution_count": 44,
      "outputs": []
    },
    {
      "cell_type": "markdown",
      "metadata": {
        "id": "2PA0t5AbDLy0"
      },
      "source": [
        "### Tools for extracting attention maps"
      ]
    },
    {
      "cell_type": "code",
      "metadata": {
        "id": "D2vZW8IDDPf3"
      },
      "source": [
        "class OutputHook:\n",
        "    def __init__(self, name):\n",
        "        self.saved_outs = []\n",
        "        self.name = name\n",
        "\n",
        "    def __call__(self, module, input, output):\n",
        "        self.saved_outs.append(output[1].detach().cpu())"
      ],
      "execution_count": 84,
      "outputs": []
    },
    {
      "cell_type": "code",
      "metadata": {
        "id": "y2WBkJgoDS10"
      },
      "source": [
        "def add_hooks(model):\n",
        "    hooks = dict()\n",
        "    handles = []\n",
        "    for layer_id, layer in enumerate(model.encoder.layers):\n",
        "        name = f\"l{layer_id}\"\n",
        "        hook = OutputHook(name)\n",
        "        hooks[name] = hook\n",
        "        handles.append(layer.self_attn.register_forward_hook(hook))\n",
        "\n",
        "    return hooks, handles\n",
        "\n",
        "def remove_hooks(hook_handles):\n",
        "    for handle in hook_handles:\n",
        "        handle.remove()"
      ],
      "execution_count": 81,
      "outputs": []
    },
    {
      "cell_type": "markdown",
      "metadata": {
        "id": "Q_KCkZ0UjMoj"
      },
      "source": [
        "### Histograms"
      ]
    },
    {
      "cell_type": "code",
      "metadata": {
        "id": "mlnZ0qdGkyKg"
      },
      "source": [
        "set_seed(SEED)"
      ],
      "execution_count": 34,
      "outputs": []
    },
    {
      "cell_type": "code",
      "metadata": {
        "id": "O3ULOGbtfNIK"
      },
      "source": [
        "model = Encoder(ALPHABET_SIZE, 256, 1, 1, 512, 1)\n",
        "\n",
        "optim = torch.optim.Adam(model.parameters(), lr=2e-4)\n",
        "scheduler = None"
      ],
      "execution_count": 35,
      "outputs": []
    },
    {
      "cell_type": "code",
      "metadata": {
        "id": "zwdYBb1SnAvQ"
      },
      "source": [
        "def hist(x):\n",
        "    _, inv, cnt = np.unique(x, return_inverse=True, return_counts=True)\n",
        "    return list(cnt[inv])"
      ],
      "execution_count": 36,
      "outputs": []
    },
    {
      "cell_type": "code",
      "metadata": {
        "id": "ebhEFFYmkPts"
      },
      "source": [
        "BATCH_SIZE = 32\n",
        "\n",
        "train_dataset = SequenceDataset(\"train_a8_seq20.txt\", hist)\n",
        "val_dataset = SequenceDataset(\"val_a8_seq20.txt\", hist)\n",
        "\n",
        "train_dataloader = torch.utils.data.DataLoader(train_dataset, batch_size=BATCH_SIZE, shuffle=False, drop_last=True, collate_fn=collate_fn)\n",
        "val_dataloader = torch.utils.data.DataLoader(val_dataset, batch_size=BATCH_SIZE, shuffle=True, collate_fn=collate_fn)"
      ],
      "execution_count": 37,
      "outputs": []
    },
    {
      "cell_type": "code",
      "metadata": {
        "id": "ZAhPQx3alGd4"
      },
      "source": [
        "device = \"cuda\" if torch.cuda.is_available() else \"cpu\""
      ],
      "execution_count": 38,
      "outputs": []
    },
    {
      "cell_type": "code",
      "metadata": {
        "colab": {
          "base_uri": "https://localhost:8080/"
        },
        "id": "p1Fc8IOklUyF",
        "outputId": "fab95796-2fd9-45dc-b883-e826a7f9c899"
      },
      "source": [
        "model = model.to(device)\n",
        "\n",
        "trainer = Trainer(\n",
        "    model, \n",
        "    optim,\n",
        "    device, \n",
        "    train_dataloader,\n",
        "    val_dataloader,\n",
        "    scheduler,\n",
        "    max_gradient_norm=10.,\n",
        "    num_epochs=50,\n",
        ")\n",
        "\n",
        "trainer.train()"
      ],
      "execution_count": 39,
      "outputs": [
        {
          "output_type": "stream",
          "name": "stdout",
          "text": [
            "TRAIN (epoch 1, batch 0) - accuracy 0.0203 - loss 10.1641 - grad norm 10.0000\n",
            "TRAIN (epoch 1, batch 100) - accuracy 0.3531 - loss 1.5386 - grad norm 5.5502\n",
            "TRAIN (epoch 1, batch 200) - accuracy 0.4203 - loss 1.2735 - grad norm 10.0000\n",
            "TRAIN (epoch 1, batch 300) - accuracy 0.4375 - loss 1.3563 - grad norm 6.3124\n",
            "VALID (epoch 1) - accuracy 0.4691 - loss 1.0919\n",
            "TRAIN (epoch 2, batch 0) - accuracy 0.4672 - loss 0.8027 - grad norm 10.0000\n",
            "TRAIN (epoch 2, batch 100) - accuracy 0.5078 - loss 0.9968 - grad norm 10.0000\n",
            "TRAIN (epoch 2, batch 200) - accuracy 0.4719 - loss 1.0750 - grad norm 9.4165\n",
            "TRAIN (epoch 2, batch 300) - accuracy 0.4437 - loss 1.2627 - grad norm 6.0833\n",
            "VALID (epoch 2) - accuracy 0.5237 - loss 1.0111\n",
            "TRAIN (epoch 3, batch 0) - accuracy 0.5375 - loss 0.7004 - grad norm 8.0226\n",
            "TRAIN (epoch 3, batch 100) - accuracy 0.5203 - loss 0.9320 - grad norm 8.6834\n",
            "TRAIN (epoch 3, batch 200) - accuracy 0.4719 - loss 1.0584 - grad norm 8.5109\n",
            "TRAIN (epoch 3, batch 300) - accuracy 0.4437 - loss 1.2510 - grad norm 5.7596\n",
            "VALID (epoch 3) - accuracy 0.5189 - loss 1.0191\n",
            "TRAIN (epoch 4, batch 0) - accuracy 0.5594 - loss 0.6928 - grad norm 6.3619\n",
            "TRAIN (epoch 4, batch 100) - accuracy 0.5297 - loss 0.9108 - grad norm 7.4399\n",
            "TRAIN (epoch 4, batch 200) - accuracy 0.4813 - loss 1.0432 - grad norm 7.8217\n",
            "TRAIN (epoch 4, batch 300) - accuracy 0.4531 - loss 1.2425 - grad norm 5.6076\n",
            "VALID (epoch 4) - accuracy 0.5224 - loss 1.0078\n",
            "TRAIN (epoch 5, batch 0) - accuracy 0.5797 - loss 0.6983 - grad norm 5.9410\n",
            "TRAIN (epoch 5, batch 100) - accuracy 0.5375 - loss 0.9166 - grad norm 7.9852\n",
            "TRAIN (epoch 5, batch 200) - accuracy 0.4828 - loss 1.0363 - grad norm 7.3208\n",
            "TRAIN (epoch 5, batch 300) - accuracy 0.4547 - loss 1.2382 - grad norm 5.8282\n",
            "VALID (epoch 5) - accuracy 0.5213 - loss 1.0058\n",
            "TRAIN (epoch 6, batch 0) - accuracy 0.5672 - loss 0.7007 - grad norm 5.4180\n",
            "TRAIN (epoch 6, batch 100) - accuracy 0.5406 - loss 0.9265 - grad norm 8.5005\n",
            "TRAIN (epoch 6, batch 200) - accuracy 0.4797 - loss 1.0386 - grad norm 7.1632\n",
            "TRAIN (epoch 6, batch 300) - accuracy 0.4437 - loss 1.2278 - grad norm 5.6312\n",
            "VALID (epoch 6) - accuracy 0.5282 - loss 0.9865\n",
            "TRAIN (epoch 7, batch 0) - accuracy 0.5437 - loss 0.7041 - grad norm 5.3309\n",
            "TRAIN (epoch 7, batch 100) - accuracy 0.5344 - loss 0.9367 - grad norm 8.9274\n",
            "TRAIN (epoch 7, batch 200) - accuracy 0.4766 - loss 1.0290 - grad norm 6.5604\n",
            "TRAIN (epoch 7, batch 300) - accuracy 0.4547 - loss 1.2159 - grad norm 5.2603\n",
            "VALID (epoch 7) - accuracy 0.5360 - loss 0.9807\n",
            "TRAIN (epoch 8, batch 0) - accuracy 0.5484 - loss 0.7063 - grad norm 5.2926\n",
            "TRAIN (epoch 8, batch 100) - accuracy 0.5266 - loss 0.9421 - grad norm 8.9189\n",
            "TRAIN (epoch 8, batch 200) - accuracy 0.4813 - loss 1.0132 - grad norm 6.0503\n",
            "TRAIN (epoch 8, batch 300) - accuracy 0.4563 - loss 1.1993 - grad norm 4.8310\n",
            "VALID (epoch 8) - accuracy 0.5429 - loss 0.9692\n",
            "TRAIN (epoch 9, batch 0) - accuracy 0.5563 - loss 0.6943 - grad norm 5.1921\n",
            "TRAIN (epoch 9, batch 100) - accuracy 0.5594 - loss 0.9041 - grad norm 8.0337\n",
            "TRAIN (epoch 9, batch 200) - accuracy 0.5516 - loss 0.9366 - grad norm 5.2059\n",
            "TRAIN (epoch 9, batch 300) - accuracy 0.5125 - loss 1.1278 - grad norm 3.8498\n",
            "VALID (epoch 9) - accuracy 0.5835 - loss 0.9296\n",
            "TRAIN (epoch 10, batch 0) - accuracy 0.6328 - loss 0.6430 - grad norm 4.4291\n",
            "TRAIN (epoch 10, batch 100) - accuracy 0.5891 - loss 0.8617 - grad norm 7.4508\n",
            "TRAIN (epoch 10, batch 200) - accuracy 0.6078 - loss 0.8852 - grad norm 4.6672\n",
            "TRAIN (epoch 10, batch 300) - accuracy 0.5859 - loss 1.0087 - grad norm 3.9338\n",
            "VALID (epoch 10) - accuracy 0.6481 - loss 0.8721\n",
            "TRAIN (epoch 11, batch 0) - accuracy 0.6953 - loss 0.5974 - grad norm 4.7490\n",
            "TRAIN (epoch 11, batch 100) - accuracy 0.6516 - loss 0.8027 - grad norm 5.8524\n",
            "TRAIN (epoch 11, batch 200) - accuracy 0.6969 - loss 0.7094 - grad norm 5.7132\n",
            "TRAIN (epoch 11, batch 300) - accuracy 0.7812 - loss 0.5366 - grad norm 2.8732\n",
            "VALID (epoch 11) - accuracy 0.7724 - loss 0.6163\n",
            "TRAIN (epoch 12, batch 0) - accuracy 0.7859 - loss 0.3988 - grad norm 5.1162\n",
            "TRAIN (epoch 12, batch 100) - accuracy 0.8109 - loss 0.3445 - grad norm 1.2475\n",
            "TRAIN (epoch 12, batch 200) - accuracy 0.7406 - loss 0.6871 - grad norm 5.8584\n",
            "TRAIN (epoch 12, batch 300) - accuracy 0.7969 - loss 0.5230 - grad norm 3.6219\n",
            "VALID (epoch 12) - accuracy 0.7741 - loss 0.6078\n",
            "TRAIN (epoch 13, batch 0) - accuracy 0.7937 - loss 0.3925 - grad norm 4.5226\n",
            "TRAIN (epoch 13, batch 100) - accuracy 0.8344 - loss 0.3421 - grad norm 1.6955\n",
            "TRAIN (epoch 13, batch 200) - accuracy 0.7406 - loss 0.6886 - grad norm 5.7555\n",
            "TRAIN (epoch 13, batch 300) - accuracy 0.8031 - loss 0.5139 - grad norm 2.9674\n",
            "VALID (epoch 13) - accuracy 0.7752 - loss 0.6066\n",
            "TRAIN (epoch 14, batch 0) - accuracy 0.7937 - loss 0.3870 - grad norm 3.9821\n",
            "TRAIN (epoch 14, batch 100) - accuracy 0.8219 - loss 0.3423 - grad norm 1.9218\n",
            "TRAIN (epoch 14, batch 200) - accuracy 0.7406 - loss 0.6929 - grad norm 5.7638\n",
            "TRAIN (epoch 14, batch 300) - accuracy 0.8109 - loss 0.5104 - grad norm 2.5811\n",
            "VALID (epoch 14) - accuracy 0.7796 - loss 0.6021\n",
            "TRAIN (epoch 15, batch 0) - accuracy 0.7937 - loss 0.3821 - grad norm 3.2947\n",
            "TRAIN (epoch 15, batch 100) - accuracy 0.8219 - loss 0.3406 - grad norm 1.9002\n",
            "TRAIN (epoch 15, batch 200) - accuracy 0.7406 - loss 0.6902 - grad norm 5.5595\n",
            "TRAIN (epoch 15, batch 300) - accuracy 0.8125 - loss 0.5051 - grad norm 2.3250\n",
            "VALID (epoch 15) - accuracy 0.7873 - loss 0.6003\n",
            "TRAIN (epoch 16, batch 0) - accuracy 0.8125 - loss 0.3776 - grad norm 2.7268\n",
            "TRAIN (epoch 16, batch 100) - accuracy 0.8219 - loss 0.3394 - grad norm 1.7479\n",
            "TRAIN (epoch 16, batch 200) - accuracy 0.7625 - loss 0.6739 - grad norm 5.0981\n",
            "TRAIN (epoch 16, batch 300) - accuracy 0.8266 - loss 0.4877 - grad norm 2.4146\n",
            "VALID (epoch 16) - accuracy 0.8039 - loss 0.5838\n",
            "TRAIN (epoch 17, batch 0) - accuracy 0.8250 - loss 0.3639 - grad norm 2.1525\n",
            "TRAIN (epoch 17, batch 100) - accuracy 0.8469 - loss 0.3234 - grad norm 1.0401\n",
            "TRAIN (epoch 17, batch 200) - accuracy 0.7844 - loss 0.6572 - grad norm 5.0447\n",
            "TRAIN (epoch 17, batch 300) - accuracy 0.8391 - loss 0.4813 - grad norm 2.2213\n",
            "VALID (epoch 17) - accuracy 0.8135 - loss 0.5711\n",
            "TRAIN (epoch 18, batch 0) - accuracy 0.8313 - loss 0.3581 - grad norm 1.7478\n",
            "TRAIN (epoch 18, batch 100) - accuracy 0.8469 - loss 0.3181 - grad norm 0.8482\n",
            "TRAIN (epoch 18, batch 200) - accuracy 0.7734 - loss 0.6597 - grad norm 5.0864\n",
            "TRAIN (epoch 18, batch 300) - accuracy 0.8344 - loss 0.4819 - grad norm 2.3855\n",
            "VALID (epoch 18) - accuracy 0.8142 - loss 0.5738\n",
            "TRAIN (epoch 19, batch 0) - accuracy 0.8313 - loss 0.3553 - grad norm 1.6323\n",
            "TRAIN (epoch 19, batch 100) - accuracy 0.8469 - loss 0.3162 - grad norm 0.7734\n",
            "TRAIN (epoch 19, batch 200) - accuracy 0.7781 - loss 0.6624 - grad norm 5.1538\n",
            "TRAIN (epoch 19, batch 300) - accuracy 0.8344 - loss 0.4830 - grad norm 2.2630\n",
            "VALID (epoch 19) - accuracy 0.8144 - loss 0.5710\n",
            "TRAIN (epoch 20, batch 0) - accuracy 0.8250 - loss 0.3555 - grad norm 1.7612\n",
            "TRAIN (epoch 20, batch 100) - accuracy 0.8406 - loss 0.3149 - grad norm 0.7672\n",
            "TRAIN (epoch 20, batch 200) - accuracy 0.7781 - loss 0.6618 - grad norm 5.2117\n",
            "TRAIN (epoch 20, batch 300) - accuracy 0.8344 - loss 0.4823 - grad norm 2.2257\n",
            "VALID (epoch 20) - accuracy 0.8155 - loss 0.5744\n",
            "TRAIN (epoch 21, batch 0) - accuracy 0.8250 - loss 0.3550 - grad norm 1.8356\n",
            "TRAIN (epoch 21, batch 100) - accuracy 0.8406 - loss 0.3143 - grad norm 1.0067\n",
            "TRAIN (epoch 21, batch 200) - accuracy 0.7781 - loss 0.6641 - grad norm 5.3464\n",
            "TRAIN (epoch 21, batch 300) - accuracy 0.8344 - loss 0.4816 - grad norm 2.0932\n",
            "VALID (epoch 21) - accuracy 0.8150 - loss 0.5737\n",
            "TRAIN (epoch 22, batch 0) - accuracy 0.8250 - loss 0.3530 - grad norm 1.6614\n",
            "TRAIN (epoch 22, batch 100) - accuracy 0.8406 - loss 0.3184 - grad norm 2.0554\n",
            "TRAIN (epoch 22, batch 200) - accuracy 0.7781 - loss 0.6683 - grad norm 5.5630\n",
            "TRAIN (epoch 22, batch 300) - accuracy 0.8344 - loss 0.4807 - grad norm 1.8236\n",
            "VALID (epoch 22) - accuracy 0.8150 - loss 0.5733\n",
            "TRAIN (epoch 23, batch 0) - accuracy 0.8250 - loss 0.3527 - grad norm 1.6714\n",
            "TRAIN (epoch 23, batch 100) - accuracy 0.8406 - loss 0.3172 - grad norm 2.1652\n",
            "TRAIN (epoch 23, batch 200) - accuracy 0.7781 - loss 0.6693 - grad norm 5.4941\n",
            "TRAIN (epoch 23, batch 300) - accuracy 0.8297 - loss 0.4792 - grad norm 1.9074\n",
            "VALID (epoch 23) - accuracy 0.8134 - loss 0.5753\n",
            "TRAIN (epoch 24, batch 0) - accuracy 0.8250 - loss 0.3544 - grad norm 1.8776\n",
            "TRAIN (epoch 24, batch 100) - accuracy 0.8406 - loss 0.3124 - grad norm 1.3994\n",
            "TRAIN (epoch 24, batch 200) - accuracy 0.7781 - loss 0.6717 - grad norm 5.4842\n",
            "TRAIN (epoch 24, batch 300) - accuracy 0.8344 - loss 0.4817 - grad norm 2.0178\n",
            "VALID (epoch 24) - accuracy 0.8152 - loss 0.5772\n",
            "TRAIN (epoch 25, batch 0) - accuracy 0.8313 - loss 0.3528 - grad norm 1.8711\n",
            "TRAIN (epoch 25, batch 100) - accuracy 0.8406 - loss 0.3114 - grad norm 1.4034\n",
            "TRAIN (epoch 25, batch 200) - accuracy 0.7781 - loss 0.6717 - grad norm 5.4544\n",
            "TRAIN (epoch 25, batch 300) - accuracy 0.8297 - loss 0.4829 - grad norm 1.9522\n",
            "VALID (epoch 25) - accuracy 0.8147 - loss 0.5755\n",
            "TRAIN (epoch 26, batch 0) - accuracy 0.8313 - loss 0.3540 - grad norm 1.8746\n",
            "TRAIN (epoch 26, batch 100) - accuracy 0.8406 - loss 0.3084 - grad norm 1.2432\n",
            "TRAIN (epoch 26, batch 200) - accuracy 0.7734 - loss 0.6677 - grad norm 5.3292\n",
            "TRAIN (epoch 26, batch 300) - accuracy 0.8297 - loss 0.4794 - grad norm 1.9612\n",
            "VALID (epoch 26) - accuracy 0.8155 - loss 0.5746\n",
            "TRAIN (epoch 27, batch 0) - accuracy 0.8250 - loss 0.3510 - grad norm 1.7252\n",
            "TRAIN (epoch 27, batch 100) - accuracy 0.8406 - loss 0.3051 - grad norm 1.2859\n",
            "TRAIN (epoch 27, batch 200) - accuracy 0.7734 - loss 0.6653 - grad norm 5.3121\n",
            "TRAIN (epoch 27, batch 300) - accuracy 0.8250 - loss 0.4748 - grad norm 1.8646\n",
            "VALID (epoch 27) - accuracy 0.8151 - loss 0.5716\n",
            "TRAIN (epoch 28, batch 0) - accuracy 0.8250 - loss 0.3507 - grad norm 1.5506\n",
            "TRAIN (epoch 28, batch 100) - accuracy 0.8406 - loss 0.3045 - grad norm 1.3680\n",
            "TRAIN (epoch 28, batch 200) - accuracy 0.7734 - loss 0.6574 - grad norm 5.1891\n",
            "TRAIN (epoch 28, batch 300) - accuracy 0.8203 - loss 0.4704 - grad norm 1.8711\n",
            "VALID (epoch 28) - accuracy 0.8140 - loss 0.5762\n",
            "TRAIN (epoch 29, batch 0) - accuracy 0.8297 - loss 0.3476 - grad norm 1.5202\n",
            "TRAIN (epoch 29, batch 100) - accuracy 0.8813 - loss 0.2642 - grad norm 2.8272\n",
            "TRAIN (epoch 29, batch 200) - accuracy 0.8969 - loss 0.2621 - grad norm 3.4361\n",
            "TRAIN (epoch 29, batch 300) - accuracy 0.9219 - loss 0.1788 - grad norm 1.2198\n",
            "VALID (epoch 29) - accuracy 0.9069 - loss 0.3012\n",
            "TRAIN (epoch 30, batch 0) - accuracy 0.9187 - loss 0.1943 - grad norm 1.8331\n",
            "TRAIN (epoch 30, batch 100) - accuracy 0.9203 - loss 0.2134 - grad norm 0.6328\n",
            "TRAIN (epoch 30, batch 200) - accuracy 0.8969 - loss 0.2495 - grad norm 1.7415\n",
            "TRAIN (epoch 30, batch 300) - accuracy 0.9219 - loss 0.1765 - grad norm 1.2565\n",
            "VALID (epoch 30) - accuracy 0.9063 - loss 0.3001\n",
            "TRAIN (epoch 31, batch 0) - accuracy 0.9187 - loss 0.1874 - grad norm 1.8040\n",
            "TRAIN (epoch 31, batch 100) - accuracy 0.9141 - loss 0.2133 - grad norm 0.7102\n",
            "TRAIN (epoch 31, batch 200) - accuracy 0.8969 - loss 0.2485 - grad norm 1.7303\n",
            "TRAIN (epoch 31, batch 300) - accuracy 0.9266 - loss 0.1718 - grad norm 0.7768\n",
            "VALID (epoch 31) - accuracy 0.9062 - loss 0.2982\n",
            "TRAIN (epoch 32, batch 0) - accuracy 0.9187 - loss 0.1874 - grad norm 1.9832\n",
            "TRAIN (epoch 32, batch 100) - accuracy 0.9141 - loss 0.2120 - grad norm 0.7619\n",
            "TRAIN (epoch 32, batch 200) - accuracy 0.8969 - loss 0.2486 - grad norm 1.9104\n",
            "TRAIN (epoch 32, batch 300) - accuracy 0.9219 - loss 0.1712 - grad norm 0.8354\n",
            "VALID (epoch 32) - accuracy 0.9065 - loss 0.3015\n",
            "TRAIN (epoch 33, batch 0) - accuracy 0.9187 - loss 0.1868 - grad norm 1.8904\n",
            "TRAIN (epoch 33, batch 100) - accuracy 0.9141 - loss 0.2120 - grad norm 0.9262\n",
            "TRAIN (epoch 33, batch 200) - accuracy 0.9016 - loss 0.2489 - grad norm 1.9511\n",
            "TRAIN (epoch 33, batch 300) - accuracy 0.9266 - loss 0.1704 - grad norm 0.7579\n",
            "VALID (epoch 33) - accuracy 0.9068 - loss 0.3001\n",
            "TRAIN (epoch 34, batch 0) - accuracy 0.9187 - loss 0.1843 - grad norm 1.7684\n",
            "TRAIN (epoch 34, batch 100) - accuracy 0.9141 - loss 0.2125 - grad norm 1.0699\n",
            "TRAIN (epoch 34, batch 200) - accuracy 0.9016 - loss 0.2486 - grad norm 2.0309\n",
            "TRAIN (epoch 34, batch 300) - accuracy 0.9266 - loss 0.1685 - grad norm 0.8177\n",
            "VALID (epoch 34) - accuracy 0.9077 - loss 0.3001\n",
            "TRAIN (epoch 35, batch 0) - accuracy 0.9187 - loss 0.1798 - grad norm 1.7594\n",
            "TRAIN (epoch 35, batch 100) - accuracy 0.9156 - loss 0.1232 - grad norm 3.1724\n",
            "TRAIN (epoch 35, batch 200) - accuracy 0.9875 - loss 0.0185 - grad norm 1.7167\n",
            "TRAIN (epoch 35, batch 300) - accuracy 1.0000 - loss 0.0042 - grad norm 0.7984\n",
            "VALID (epoch 35) - accuracy 0.9979 - loss 0.0060\n",
            "TRAIN (epoch 36, batch 0) - accuracy 1.0000 - loss 0.0038 - grad norm 0.9112\n",
            "TRAIN (epoch 36, batch 100) - accuracy 0.9984 - loss 0.0064 - grad norm 1.3079\n",
            "TRAIN (epoch 36, batch 200) - accuracy 1.0000 - loss 0.0033 - grad norm 0.8757\n",
            "TRAIN (epoch 36, batch 300) - accuracy 1.0000 - loss 0.0028 - grad norm 0.6285\n",
            "VALID (epoch 36) - accuracy 0.9995 - loss 0.0034\n",
            "TRAIN (epoch 37, batch 0) - accuracy 1.0000 - loss 0.0024 - grad norm 0.7622\n",
            "TRAIN (epoch 37, batch 100) - accuracy 1.0000 - loss 0.0035 - grad norm 0.9403\n",
            "TRAIN (epoch 37, batch 200) - accuracy 1.0000 - loss 0.0021 - grad norm 0.6446\n",
            "TRAIN (epoch 37, batch 300) - accuracy 1.0000 - loss 0.0035 - grad norm 0.9749\n",
            "VALID (epoch 37) - accuracy 0.9995 - loss 0.0023\n",
            "TRAIN (epoch 38, batch 0) - accuracy 1.0000 - loss 0.0017 - grad norm 0.5398\n",
            "TRAIN (epoch 38, batch 100) - accuracy 1.0000 - loss 0.0023 - grad norm 0.6731\n",
            "TRAIN (epoch 38, batch 200) - accuracy 1.0000 - loss 0.0019 - grad norm 0.5751\n",
            "TRAIN (epoch 38, batch 300) - accuracy 1.0000 - loss 0.0055 - grad norm 1.4840\n",
            "VALID (epoch 38) - accuracy 1.0000 - loss 0.0021\n",
            "TRAIN (epoch 39, batch 0) - accuracy 1.0000 - loss 0.0021 - grad norm 0.7614\n",
            "TRAIN (epoch 39, batch 100) - accuracy 1.0000 - loss 0.0031 - grad norm 0.8819\n",
            "TRAIN (epoch 39, batch 200) - accuracy 1.0000 - loss 0.0013 - grad norm 0.5638\n",
            "TRAIN (epoch 39, batch 300) - accuracy 1.0000 - loss 0.0056 - grad norm 1.4408\n",
            "VALID (epoch 39) - accuracy 1.0000 - loss 0.0029\n",
            "TRAIN (epoch 40, batch 0) - accuracy 1.0000 - loss 0.0028 - grad norm 0.9223\n",
            "TRAIN (epoch 40, batch 100) - accuracy 1.0000 - loss 0.0026 - grad norm 0.7606\n",
            "TRAIN (epoch 40, batch 200) - accuracy 1.0000 - loss 0.0008 - grad norm 0.3794\n",
            "TRAIN (epoch 40, batch 300) - accuracy 1.0000 - loss 0.0046 - grad norm 1.1929\n",
            "VALID (epoch 40) - accuracy 1.0000 - loss 0.0021\n",
            "TRAIN (epoch 41, batch 0) - accuracy 1.0000 - loss 0.0017 - grad norm 0.5565\n",
            "TRAIN (epoch 41, batch 100) - accuracy 1.0000 - loss 0.0019 - grad norm 0.5923\n",
            "TRAIN (epoch 41, batch 200) - accuracy 1.0000 - loss 0.0011 - grad norm 0.4214\n",
            "TRAIN (epoch 41, batch 300) - accuracy 1.0000 - loss 0.0037 - grad norm 0.9250\n",
            "VALID (epoch 41) - accuracy 1.0000 - loss 0.0024\n",
            "TRAIN (epoch 42, batch 0) - accuracy 1.0000 - loss 0.0019 - grad norm 0.5821\n",
            "TRAIN (epoch 42, batch 100) - accuracy 1.0000 - loss 0.0020 - grad norm 0.6063\n",
            "TRAIN (epoch 42, batch 200) - accuracy 1.0000 - loss 0.0014 - grad norm 0.6652\n",
            "TRAIN (epoch 42, batch 300) - accuracy 1.0000 - loss 0.0025 - grad norm 0.6641\n",
            "VALID (epoch 42) - accuracy 1.0000 - loss 0.0030\n",
            "TRAIN (epoch 43, batch 0) - accuracy 1.0000 - loss 0.0026 - grad norm 0.7862\n",
            "TRAIN (epoch 43, batch 100) - accuracy 1.0000 - loss 0.0018 - grad norm 0.6581\n",
            "TRAIN (epoch 43, batch 200) - accuracy 1.0000 - loss 0.0015 - grad norm 0.6359\n",
            "TRAIN (epoch 43, batch 300) - accuracy 1.0000 - loss 0.0027 - grad norm 0.8356\n",
            "VALID (epoch 43) - accuracy 1.0000 - loss 0.0060\n",
            "TRAIN (epoch 44, batch 0) - accuracy 1.0000 - loss 0.0053 - grad norm 1.2974\n",
            "TRAIN (epoch 44, batch 100) - accuracy 1.0000 - loss 0.0012 - grad norm 0.4904\n",
            "TRAIN (epoch 44, batch 200) - accuracy 1.0000 - loss 0.0030 - grad norm 0.8337\n",
            "TRAIN (epoch 44, batch 300) - accuracy 1.0000 - loss 0.0018 - grad norm 0.4923\n",
            "VALID (epoch 44) - accuracy 1.0000 - loss 0.0012\n",
            "TRAIN (epoch 45, batch 0) - accuracy 1.0000 - loss 0.0008 - grad norm 0.3085\n",
            "TRAIN (epoch 45, batch 100) - accuracy 1.0000 - loss 0.0020 - grad norm 0.6495\n",
            "TRAIN (epoch 45, batch 200) - accuracy 1.0000 - loss 0.0017 - grad norm 0.6260\n",
            "TRAIN (epoch 45, batch 300) - accuracy 1.0000 - loss 0.0017 - grad norm 0.6044\n",
            "VALID (epoch 45) - accuracy 1.0000 - loss 0.0024\n",
            "TRAIN (epoch 46, batch 0) - accuracy 1.0000 - loss 0.0018 - grad norm 0.7080\n",
            "TRAIN (epoch 46, batch 100) - accuracy 1.0000 - loss 0.0022 - grad norm 0.7645\n",
            "TRAIN (epoch 46, batch 200) - accuracy 1.0000 - loss 0.0021 - grad norm 0.8072\n",
            "TRAIN (epoch 46, batch 300) - accuracy 1.0000 - loss 0.0012 - grad norm 0.4020\n",
            "VALID (epoch 46) - accuracy 1.0000 - loss 0.0009\n",
            "TRAIN (epoch 47, batch 0) - accuracy 1.0000 - loss 0.0007 - grad norm 0.3232\n",
            "TRAIN (epoch 47, batch 100) - accuracy 1.0000 - loss 0.0015 - grad norm 0.5371\n",
            "TRAIN (epoch 47, batch 200) - accuracy 1.0000 - loss 0.0009 - grad norm 0.3784\n",
            "TRAIN (epoch 47, batch 300) - accuracy 1.0000 - loss 0.0012 - grad norm 0.4649\n",
            "VALID (epoch 47) - accuracy 1.0000 - loss 0.0020\n",
            "TRAIN (epoch 48, batch 0) - accuracy 1.0000 - loss 0.0016 - grad norm 0.6371\n",
            "TRAIN (epoch 48, batch 100) - accuracy 1.0000 - loss 0.0017 - grad norm 0.6050\n",
            "TRAIN (epoch 48, batch 200) - accuracy 1.0000 - loss 0.0010 - grad norm 0.4472\n",
            "TRAIN (epoch 48, batch 300) - accuracy 1.0000 - loss 0.0018 - grad norm 0.4415\n",
            "VALID (epoch 48) - accuracy 1.0000 - loss 0.0019\n",
            "TRAIN (epoch 49, batch 0) - accuracy 1.0000 - loss 0.0015 - grad norm 0.5231\n",
            "TRAIN (epoch 49, batch 100) - accuracy 1.0000 - loss 0.0052 - grad norm 1.1291\n",
            "TRAIN (epoch 49, batch 200) - accuracy 1.0000 - loss 0.0034 - grad norm 0.8195\n",
            "TRAIN (epoch 49, batch 300) - accuracy 1.0000 - loss 0.0017 - grad norm 0.5501\n",
            "VALID (epoch 49) - accuracy 0.9995 - loss 0.0016\n",
            "TRAIN (epoch 50, batch 0) - accuracy 1.0000 - loss 0.0013 - grad norm 0.5730\n",
            "TRAIN (epoch 50, batch 100) - accuracy 1.0000 - loss 0.0021 - grad norm 0.7221\n",
            "TRAIN (epoch 50, batch 200) - accuracy 1.0000 - loss 0.0011 - grad norm 0.4507\n",
            "TRAIN (epoch 50, batch 300) - accuracy 1.0000 - loss 0.0017 - grad norm 0.6617\n",
            "VALID (epoch 50) - accuracy 0.9995 - loss 0.0013\n"
          ]
        }
      ]
    },
    {
      "cell_type": "markdown",
      "metadata": {
        "id": "OjNmCDeb_v1E"
      },
      "source": [
        "Paper states that on Hist language upper bound is (1, 2). With 1 layer and 2 heads transformer is able to reach accuracy 99.9, but with 1 layer and 1 head one can only reach accuracy of 91.9.\n",
        "\n",
        "The experiment shows that transformer with L=1, H=1 is capable of learning Hist language, hence the claim in the paper is false. It is possible that hyperparameters in paper aren't well optimized."
      ]
    },
    {
      "cell_type": "code",
      "metadata": {
        "colab": {
          "base_uri": "https://localhost:8080/",
          "height": 36
        },
        "id": "n0xU687jDr6n",
        "outputId": "47b7cb7b-3851-4828-ee0b-e245d5a05043"
      },
      "source": [
        "acc, loss = test_eval(\"test_a8_seq20.txt\", hist, model, device)\n",
        "\n",
        "\"TEST acc {:.4f} - loss {:.4f}\".format(acc, loss)"
      ],
      "execution_count": 45,
      "outputs": [
        {
          "output_type": "execute_result",
          "data": {
            "application/vnd.google.colaboratory.intrinsic+json": {
              "type": "string"
            },
            "text/plain": [
              "'TEST acc 1.0000 - loss 0.0013'"
            ]
          },
          "metadata": {},
          "execution_count": 45
        }
      ]
    },
    {
      "cell_type": "markdown",
      "metadata": {
        "id": "VZk9IheyJSqn"
      },
      "source": [
        "Also let's look at attention map"
      ]
    },
    {
      "cell_type": "code",
      "metadata": {
        "id": "jEjQ60C0CStT"
      },
      "source": [
        "hooks, handles = add_hooks(model)\n",
        "\n",
        "seq = np.random.choice(np.arange(ALPHABET_SIZE), size=SEQ_LEN)\n",
        "\n",
        "model(torch.LongTensor([seq]).to(\"cuda\"))\n",
        "\n",
        "remove_hooks(handles)"
      ],
      "execution_count": 88,
      "outputs": []
    },
    {
      "cell_type": "code",
      "metadata": {
        "id": "-7dUz5vGJnzp"
      },
      "source": [
        "attention_map = hooks[\"l0\"].saved_outs[0].squeeze(0)"
      ],
      "execution_count": 92,
      "outputs": []
    },
    {
      "cell_type": "code",
      "metadata": {
        "colab": {
          "base_uri": "https://localhost:8080/",
          "height": 483
        },
        "id": "aEk87QZRJqyo",
        "outputId": "e3e783a9-b1d0-484f-ab3d-e8823661d486"
      },
      "source": [
        "plt.figure(figsize=(10, 8))\n",
        "\n",
        "decoded_seq = [string.ascii_lowercase[id] for id in seq]\n",
        "\n",
        "ax = seaborn.heatmap(\n",
        "    attention_map, \n",
        "    square=True, \n",
        "    xticklabels=decoded_seq, \n",
        "    yticklabels=decoded_seq\n",
        ")\n",
        "\n",
        "ax.invert_yaxis()\n",
        "\n",
        "plt.show()"
      ],
      "execution_count": 98,
      "outputs": [
        {
          "output_type": "display_data",
          "data": {
            "image/png": "[encoded data removed]",
            "text/plain": [
              "<Figure size 720x576 with 2 Axes>"
            ]
          },
          "metadata": {
            "needs_background": "light"
          }
        }
      ]
    },
    {
      "cell_type": "markdown",
      "metadata": {
        "id": "GMTe1T_wMzrd"
      },
      "source": [
        "### Count greater values"
      ]
    },
    {
      "cell_type": "code",
      "metadata": {
        "id": "XhHjAdTfKK_y"
      },
      "source": [
        "set_seed(SEED)"
      ],
      "execution_count": 254,
      "outputs": []
    },
    {
      "cell_type": "code",
      "metadata": {
        "id": "6o3J5J1LNLv1"
      },
      "source": [
        "model = Encoder(ALPHABET_SIZE, 256, 1, 1, 512, 1)\n",
        "\n",
        "optim = torch.optim.Adam(model.parameters(), lr=5e-4)\n",
        "scheduler = torch.optim.lr_scheduler.ExponentialLR(optim, gamma=0.99)"
      ],
      "execution_count": 255,
      "outputs": []
    },
    {
      "cell_type": "code",
      "metadata": {
        "id": "5S8zfMUxNbq9"
      },
      "source": [
        "from collections import defaultdict\n",
        "\n",
        "\n",
        "def c_hist(x):\n",
        "    unique_vals, inv, cnts = np.unique(x, return_inverse=True, return_counts=True)\n",
        "    greater_cnts = len(x) - np.cumsum(cnts)\n",
        "    return list(greater_cnts[inv])"
      ],
      "execution_count": 256,
      "outputs": []
    },
    {
      "cell_type": "code",
      "metadata": {
        "id": "smP8HgwRNijE"
      },
      "source": [
        "BATCH_SIZE = 32\n",
        "\n",
        "train_dataset = SequenceDataset(\"train_a8_seq20.txt\", c_hist)\n",
        "val_dataset = SequenceDataset(\"val_a8_seq20.txt\", c_hist)\n",
        "\n",
        "train_dataloader = torch.utils.data.DataLoader(train_dataset, batch_size=BATCH_SIZE, shuffle=False, drop_last=True, collate_fn=collate_fn)\n",
        "val_dataloader = torch.utils.data.DataLoader(val_dataset, batch_size=BATCH_SIZE, shuffle=True, collate_fn=collate_fn)"
      ],
      "execution_count": 257,
      "outputs": []
    },
    {
      "cell_type": "code",
      "metadata": {
        "id": "9-rOCFquOGYz"
      },
      "source": [
        "device = \"cuda\" if torch.cuda.is_available() else \"cpu\""
      ],
      "execution_count": 258,
      "outputs": []
    },
    {
      "cell_type": "code",
      "metadata": {
        "colab": {
          "base_uri": "https://localhost:8080/"
        },
        "id": "McVAc7yPOKqC",
        "outputId": "9591d149-4a53-4644-d4b3-3ec39455747d"
      },
      "source": [
        "model = model.to(device)\n",
        "\n",
        "trainer = Trainer(\n",
        "    model, \n",
        "    optim,\n",
        "    device, \n",
        "    train_dataloader,\n",
        "    val_dataloader,\n",
        "    scheduler,\n",
        "    max_gradient_norm=5.,\n",
        "    num_epochs=15,\n",
        ")\n",
        "\n",
        "trainer.train()"
      ],
      "execution_count": 259,
      "outputs": [
        {
          "output_type": "stream",
          "name": "stdout",
          "text": [
            "TRAIN (epoch 1, batch 0) - accuracy 0.0625 - loss 98.3075 - grad norm 5.0000\n",
            "TRAIN (epoch 1, batch 100) - accuracy 0.2938 - loss 2.5228 - grad norm 5.0000\n",
            "TRAIN (epoch 1, batch 200) - accuracy 0.3609 - loss 1.2700 - grad norm 5.0000\n",
            "TRAIN (epoch 1, batch 300) - accuracy 0.5906 - loss 0.7224 - grad norm 5.0000\n",
            "VALID (epoch 1) - accuracy 0.6341 - loss 0.4140\n",
            "TRAIN (epoch 2, batch 0) - accuracy 0.7063 - loss 0.2957 - grad norm 4.3974\n",
            "TRAIN (epoch 2, batch 100) - accuracy 0.7500 - loss 0.2276 - grad norm 4.2895\n",
            "TRAIN (epoch 2, batch 200) - accuracy 0.8297 - loss 0.1664 - grad norm 4.0373\n",
            "TRAIN (epoch 2, batch 300) - accuracy 0.7266 - loss 0.2269 - grad norm 5.0000\n",
            "VALID (epoch 2) - accuracy 0.9085 - loss 0.0943\n",
            "TRAIN (epoch 3, batch 0) - accuracy 0.9375 - loss 0.0672 - grad norm 4.7017\n",
            "TRAIN (epoch 3, batch 100) - accuracy 0.9594 - loss 0.0653 - grad norm 3.7551\n",
            "TRAIN (epoch 3, batch 200) - accuracy 0.9500 - loss 0.0504 - grad norm 2.7540\n",
            "TRAIN (epoch 3, batch 300) - accuracy 0.8672 - loss 0.0966 - grad norm 3.5256\n",
            "VALID (epoch 3) - accuracy 0.9260 - loss 0.0756\n",
            "TRAIN (epoch 4, batch 0) - accuracy 0.9422 - loss 0.0656 - grad norm 2.8433\n",
            "TRAIN (epoch 4, batch 100) - accuracy 0.9438 - loss 0.0617 - grad norm 2.7103\n",
            "TRAIN (epoch 4, batch 200) - accuracy 0.9672 - loss 0.0436 - grad norm 3.1968\n",
            "TRAIN (epoch 4, batch 300) - accuracy 0.9406 - loss 0.0534 - grad norm 1.6062\n",
            "VALID (epoch 4) - accuracy 0.9579 - loss 0.0467\n",
            "TRAIN (epoch 5, batch 0) - accuracy 0.9594 - loss 0.0377 - grad norm 1.8626\n",
            "TRAIN (epoch 5, batch 100) - accuracy 0.9688 - loss 0.0418 - grad norm 1.8659\n",
            "TRAIN (epoch 5, batch 200) - accuracy 0.9703 - loss 0.0377 - grad norm 2.3378\n",
            "TRAIN (epoch 5, batch 300) - accuracy 0.9406 - loss 0.0487 - grad norm 1.4085\n",
            "VALID (epoch 5) - accuracy 0.9555 - loss 0.0455\n",
            "TRAIN (epoch 6, batch 0) - accuracy 0.9656 - loss 0.0346 - grad norm 1.5752\n",
            "TRAIN (epoch 6, batch 100) - accuracy 0.9703 - loss 0.0421 - grad norm 2.1450\n",
            "TRAIN (epoch 6, batch 200) - accuracy 0.9672 - loss 0.0367 - grad norm 2.2055\n",
            "TRAIN (epoch 6, batch 300) - accuracy 0.9563 - loss 0.0455 - grad norm 1.3127\n",
            "VALID (epoch 6) - accuracy 0.9552 - loss 0.0469\n",
            "TRAIN (epoch 7, batch 0) - accuracy 0.9656 - loss 0.0358 - grad norm 2.0169\n",
            "TRAIN (epoch 7, batch 100) - accuracy 0.9734 - loss 0.0412 - grad norm 1.9974\n",
            "TRAIN (epoch 7, batch 200) - accuracy 0.9578 - loss 0.0385 - grad norm 2.7148\n",
            "TRAIN (epoch 7, batch 300) - accuracy 0.9578 - loss 0.0432 - grad norm 1.2917\n",
            "VALID (epoch 7) - accuracy 0.9517 - loss 0.0475\n",
            "TRAIN (epoch 8, batch 0) - accuracy 0.9688 - loss 0.0344 - grad norm 1.9406\n",
            "TRAIN (epoch 8, batch 100) - accuracy 0.9844 - loss 0.0359 - grad norm 1.8657\n",
            "TRAIN (epoch 8, batch 200) - accuracy 0.9594 - loss 0.0423 - grad norm 3.3602\n",
            "TRAIN (epoch 8, batch 300) - accuracy 0.9500 - loss 0.0400 - grad norm 0.9557\n",
            "VALID (epoch 8) - accuracy 0.9537 - loss 0.0451\n",
            "TRAIN (epoch 9, batch 0) - accuracy 0.9688 - loss 0.0311 - grad norm 1.7324\n",
            "TRAIN (epoch 9, batch 100) - accuracy 0.9844 - loss 0.0316 - grad norm 1.7533\n",
            "TRAIN (epoch 9, batch 200) - accuracy 0.9656 - loss 0.0429 - grad norm 3.2912\n",
            "TRAIN (epoch 9, batch 300) - accuracy 0.9563 - loss 0.0404 - grad norm 1.1311\n",
            "VALID (epoch 9) - accuracy 0.9619 - loss 0.0410\n",
            "TRAIN (epoch 10, batch 0) - accuracy 0.9781 - loss 0.0281 - grad norm 1.3463\n",
            "TRAIN (epoch 10, batch 100) - accuracy 0.9766 - loss 0.0284 - grad norm 1.2210\n",
            "TRAIN (epoch 10, batch 200) - accuracy 0.9688 - loss 0.0405 - grad norm 2.6675\n",
            "TRAIN (epoch 10, batch 300) - accuracy 0.9563 - loss 0.0384 - grad norm 1.2415\n",
            "VALID (epoch 10) - accuracy 0.9657 - loss 0.0324\n",
            "TRAIN (epoch 11, batch 0) - accuracy 0.9797 - loss 0.0219 - grad norm 1.0614\n",
            "TRAIN (epoch 11, batch 100) - accuracy 1.0000 - loss 0.0047 - grad norm 0.7934\n",
            "TRAIN (epoch 11, batch 200) - accuracy 1.0000 - loss 0.0029 - grad norm 0.7299\n",
            "TRAIN (epoch 11, batch 300) - accuracy 1.0000 - loss 0.0030 - grad norm 0.6248\n",
            "VALID (epoch 11) - accuracy 0.9999 - loss 0.0026\n",
            "TRAIN (epoch 12, batch 0) - accuracy 1.0000 - loss 0.0022 - grad norm 0.9564\n",
            "TRAIN (epoch 12, batch 100) - accuracy 1.0000 - loss 0.0012 - grad norm 0.3858\n",
            "TRAIN (epoch 12, batch 200) - accuracy 1.0000 - loss 0.0028 - grad norm 0.8979\n",
            "TRAIN (epoch 12, batch 300) - accuracy 1.0000 - loss 0.0013 - grad norm 0.2368\n",
            "VALID (epoch 12) - accuracy 0.9999 - loss 0.0013\n",
            "TRAIN (epoch 13, batch 0) - accuracy 1.0000 - loss 0.0011 - grad norm 0.3530\n",
            "TRAIN (epoch 13, batch 100) - accuracy 1.0000 - loss 0.0068 - grad norm 2.0775\n",
            "TRAIN (epoch 13, batch 200) - accuracy 1.0000 - loss 0.0011 - grad norm 0.3702\n",
            "TRAIN (epoch 13, batch 300) - accuracy 1.0000 - loss 0.0025 - grad norm 0.5157\n",
            "VALID (epoch 13) - accuracy 0.9999 - loss 0.0034\n",
            "TRAIN (epoch 14, batch 0) - accuracy 1.0000 - loss 0.0031 - grad norm 1.1342\n",
            "TRAIN (epoch 14, batch 100) - accuracy 1.0000 - loss 0.0014 - grad norm 0.4610\n",
            "TRAIN (epoch 14, batch 200) - accuracy 1.0000 - loss 0.0014 - grad norm 0.6007\n",
            "TRAIN (epoch 14, batch 300) - accuracy 1.0000 - loss 0.0014 - grad norm 0.3810\n",
            "VALID (epoch 14) - accuracy 0.9999 - loss 0.0012\n",
            "TRAIN (epoch 15, batch 0) - accuracy 1.0000 - loss 0.0011 - grad norm 0.3708\n",
            "TRAIN (epoch 15, batch 100) - accuracy 1.0000 - loss 0.0044 - grad norm 1.3805\n",
            "TRAIN (epoch 15, batch 200) - accuracy 1.0000 - loss 0.0049 - grad norm 1.1705\n",
            "TRAIN (epoch 15, batch 300) - accuracy 1.0000 - loss 0.0063 - grad norm 1.3026\n",
            "VALID (epoch 15) - accuracy 0.9999 - loss 0.0024\n"
          ]
        }
      ]
    },
    {
      "cell_type": "code",
      "metadata": {
        "colab": {
          "base_uri": "https://localhost:8080/",
          "height": 36
        },
        "id": "Z5uQOK1OOQAf",
        "outputId": "d08b8eab-e77f-4908-8b01-1a185c71cc5e"
      },
      "source": [
        "acc, loss = test_eval(\"test_a8_seq20.txt\", c_hist, model, device)\n",
        "\n",
        "\"TEST acc {:.4f} - loss {:.4f}\".format(acc, loss)"
      ],
      "execution_count": 260,
      "outputs": [
        {
          "output_type": "execute_result",
          "data": {
            "application/vnd.google.colaboratory.intrinsic+json": {
              "type": "string"
            },
            "text/plain": [
              "'TEST acc 1.0000 - loss 0.0025'"
            ]
          },
          "metadata": {},
          "execution_count": 260
        }
      ]
    },
    {
      "cell_type": "code",
      "metadata": {
        "id": "2D8STiB5h4-0"
      },
      "source": [
        "hooks, handles = add_hooks(model)\n",
        "\n",
        "seq = np.random.choice(np.arange(ALPHABET_SIZE), size=SEQ_LEN)\n",
        "\n",
        "model(torch.LongTensor([seq]).to(\"cuda\"))\n",
        "\n",
        "remove_hooks(handles)"
      ],
      "execution_count": 261,
      "outputs": []
    },
    {
      "cell_type": "code",
      "metadata": {
        "id": "EEXxF9FwldWw"
      },
      "source": [
        "attention_map = hooks[\"l0\"].saved_outs[0].squeeze(0)"
      ],
      "execution_count": 262,
      "outputs": []
    },
    {
      "cell_type": "code",
      "metadata": {
        "colab": {
          "base_uri": "https://localhost:8080/",
          "height": 483
        },
        "id": "wsl7DtTWlgBa",
        "outputId": "f16b508b-5930-4c5b-c0ec-6a90bba3c5c6"
      },
      "source": [
        "plt.figure(figsize=(10, 8))\n",
        "\n",
        "decoded_seq = [string.ascii_lowercase[id] for id in seq]\n",
        "\n",
        "ax = seaborn.heatmap(\n",
        "    attention_map, \n",
        "    square=True, \n",
        "    xticklabels=decoded_seq, \n",
        "    yticklabels=decoded_seq\n",
        ")\n",
        "\n",
        "ax.invert_yaxis()\n",
        "\n",
        "plt.show()"
      ],
      "execution_count": 263,
      "outputs": [
        {
          "output_type": "display_data",
          "data": {
            "image/png": "[encoded data removed]",
            "text/plain": [
              "<Figure size 720x576 with 2 Axes>"
            ]
          },
          "metadata": {
            "needs_background": "light"
          }
        }
      ]
    },
    {
      "cell_type": "code",
      "metadata": {
        "id": "JaYqDW55lyJ0"
      },
      "source": [
        ""
      ],
      "execution_count": null,
      "outputs": []
    }
  ]
}