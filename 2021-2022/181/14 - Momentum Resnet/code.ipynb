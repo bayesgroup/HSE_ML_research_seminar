{
  "nbformat": 4,
  "nbformat_minor": 0,
  "metadata": {
    "colab": {
      "name": "MomentumNet.ipynb",
      "provenance": [],
      "collapsed_sections": [
        "wuVf5AK_T2AQ"
      ]
    },
    "kernelspec": {
      "name": "python3",
      "display_name": "Python 3"
    },
    "language_info": {
      "name": "python"
    },
    "accelerator": "GPU"
  },
  "cells": [
    {
      "cell_type": "markdown",
      "metadata": {
        "id": "IziWVhsuTtbc"
      },
      "source": [
        "## Необходимые библиотеки"
      ]
    },
    {
      "cell_type": "code",
      "metadata": {
        "id": "abljePCFaMAV",
        "colab": {
          "base_uri": "https://localhost:8080/"
        },
        "outputId": "eb02f6fe-1aa0-4ad0-fb65-0428bb0ef0af"
      },
      "source": [
        "!pip install momentumnet\n",
        "!pip install memory-profiler\n",
        "!pip install transformers --quiet\n",
        "!pip install timm\n",
        "!pip install mlp-mixer-pytorch"
      ],
      "execution_count": 1,
      "outputs": [
        {
          "output_type": "stream",
          "name": "stdout",
          "text": [
            "Collecting momentumnet\n",
            "  Downloading momentumnet-0.9-py3-none-any.whl (18 kB)\n",
            "Requirement already satisfied: matplotlib in /usr/local/lib/python3.7/dist-packages (from momentumnet) (3.2.2)\n",
            "Collecting vit-pytorch\n",
            "  Downloading vit_pytorch-0.22.0-py3-none-any.whl (39 kB)\n",
            "Requirement already satisfied: torchvision in /usr/local/lib/python3.7/dist-packages (from momentumnet) (0.11.1+cu111)\n",
            "Requirement already satisfied: torch>=1.9 in /usr/local/lib/python3.7/dist-packages (from momentumnet) (1.10.0+cu111)\n",
            "Requirement already satisfied: numpy>=1.15 in /usr/local/lib/python3.7/dist-packages (from momentumnet) (1.19.5)\n",
            "Requirement already satisfied: imageio in /usr/local/lib/python3.7/dist-packages (from momentumnet) (2.4.1)\n",
            "Requirement already satisfied: typing-extensions in /usr/local/lib/python3.7/dist-packages (from torch>=1.9->momentumnet) (3.10.0.2)\n",
            "Requirement already satisfied: pillow in /usr/local/lib/python3.7/dist-packages (from imageio->momentumnet) (7.1.2)\n",
            "Requirement already satisfied: cycler>=0.10 in /usr/local/lib/python3.7/dist-packages (from matplotlib->momentumnet) (0.11.0)\n",
            "Requirement already satisfied: pyparsing!=2.0.4,!=2.1.2,!=2.1.6,>=2.0.1 in /usr/local/lib/python3.7/dist-packages (from matplotlib->momentumnet) (2.4.7)\n",
            "Requirement already satisfied: kiwisolver>=1.0.1 in /usr/local/lib/python3.7/dist-packages (from matplotlib->momentumnet) (1.3.2)\n",
            "Requirement already satisfied: python-dateutil>=2.1 in /usr/local/lib/python3.7/dist-packages (from matplotlib->momentumnet) (2.8.2)\n",
            "Requirement already satisfied: six>=1.5 in /usr/local/lib/python3.7/dist-packages (from python-dateutil>=2.1->matplotlib->momentumnet) (1.15.0)\n",
            "Collecting einops>=0.3\n",
            "  Downloading einops-0.3.2-py3-none-any.whl (25 kB)\n",
            "Installing collected packages: einops, vit-pytorch, momentumnet\n",
            "Successfully installed einops-0.3.2 momentumnet-0.9 vit-pytorch-0.22.0\n",
            "Collecting memory-profiler\n",
            "  Downloading memory_profiler-0.58.0.tar.gz (36 kB)\n",
            "Requirement already satisfied: psutil in /usr/local/lib/python3.7/dist-packages (from memory-profiler) (5.4.8)\n",
            "Building wheels for collected packages: memory-profiler\n",
            "  Building wheel for memory-profiler (setup.py) ... \u001b[?25l\u001b[?25hdone\n",
            "  Created wheel for memory-profiler: filename=memory_profiler-0.58.0-py3-none-any.whl size=30190 sha256=66df9d59f0c0f575a900759db7a85f9a49417c9406778e1bdd58fac7d8cd275a\n",
            "  Stored in directory: /root/.cache/pip/wheels/56/19/d5/8cad06661aec65a04a0d6785b1a5ad035cb645b1772a4a0882\n",
            "Successfully built memory-profiler\n",
            "Installing collected packages: memory-profiler\n",
            "Successfully installed memory-profiler-0.58.0\n",
            "\u001b[K     |████████████████████████████████| 3.1 MB 5.3 MB/s \n",
            "\u001b[K     |████████████████████████████████| 596 kB 43.0 MB/s \n",
            "\u001b[K     |████████████████████████████████| 3.3 MB 20.8 MB/s \n",
            "\u001b[K     |████████████████████████████████| 895 kB 40.9 MB/s \n",
            "\u001b[K     |████████████████████████████████| 59 kB 6.4 MB/s \n",
            "\u001b[?25hCollecting timm\n",
            "  Downloading timm-0.4.12-py3-none-any.whl (376 kB)\n",
            "\u001b[K     |████████████████████████████████| 376 kB 5.4 MB/s \n",
            "\u001b[?25hRequirement already satisfied: torch>=1.4 in /usr/local/lib/python3.7/dist-packages (from timm) (1.10.0+cu111)\n",
            "Requirement already satisfied: torchvision in /usr/local/lib/python3.7/dist-packages (from timm) (0.11.1+cu111)\n",
            "Requirement already satisfied: typing-extensions in /usr/local/lib/python3.7/dist-packages (from torch>=1.4->timm) (3.10.0.2)\n",
            "Requirement already satisfied: pillow!=8.3.0,>=5.3.0 in /usr/local/lib/python3.7/dist-packages (from torchvision->timm) (7.1.2)\n",
            "Requirement already satisfied: numpy in /usr/local/lib/python3.7/dist-packages (from torchvision->timm) (1.19.5)\n",
            "Installing collected packages: timm\n",
            "Successfully installed timm-0.4.12\n",
            "Collecting mlp-mixer-pytorch\n",
            "  Downloading mlp_mixer_pytorch-0.0.10-py3-none-any.whl (4.1 kB)\n",
            "Requirement already satisfied: einops>=0.3 in /usr/local/lib/python3.7/dist-packages (from mlp-mixer-pytorch) (0.3.2)\n",
            "Requirement already satisfied: torch>=1.6 in /usr/local/lib/python3.7/dist-packages (from mlp-mixer-pytorch) (1.10.0+cu111)\n",
            "Requirement already satisfied: typing-extensions in /usr/local/lib/python3.7/dist-packages (from torch>=1.6->mlp-mixer-pytorch) (3.10.0.2)\n",
            "Installing collected packages: mlp-mixer-pytorch\n",
            "Successfully installed mlp-mixer-pytorch-0.0.10\n"
          ]
        }
      ]
    },
    {
      "cell_type": "code",
      "metadata": {
        "id": "h_rfAaJked4W"
      },
      "source": [
        "from transformers import ViTFeatureExtractor, ViTForImageClassification\n",
        "\n",
        "import torchvision.transforms as T\n",
        "import torchvision.datasets as D\n",
        "import torchvision\n",
        "import torch\n",
        "import timm\n",
        "from vit_pytorch import ViT\n",
        "from mlp_mixer_pytorch import MLPMixer\n",
        "import momentumnet\n",
        "import random\n",
        "from momentumnet import transform_to_momentumnet, MomentumNet\n",
        "from tqdm import tqdm\n",
        "\n",
        "import numpy as np\n",
        "from memory_profiler import memory_usage\n",
        "import torch.nn as nn\n",
        "from matplotlib import pyplot as plt\n",
        "\n",
        "import os"
      ],
      "execution_count": 2,
      "outputs": []
    },
    {
      "cell_type": "code",
      "metadata": {
        "id": "wLD9zMyVyRZe"
      },
      "source": [
        "random.seed(42)\n",
        "torch.manual_seed(42)\n",
        "torch.cuda.manual_seed(42)\n",
        "np.random.seed(42)"
      ],
      "execution_count": 3,
      "outputs": []
    },
    {
      "cell_type": "markdown",
      "metadata": {
        "id": "wuVf5AK_T2AQ"
      },
      "source": [
        "## Тест потребления памяти\n",
        "\n",
        "для честности теста нужно каждый раз перезапускать среду выполнения\n",
        "\n",
        "\n",
        "\n"
      ]
    },
    {
      "cell_type": "markdown",
      "metadata": {
        "id": "l5X4uxGGhC90"
      },
      "source": [
        "### Vision Transformer"
      ]
    },
    {
      "cell_type": "code",
      "metadata": {
        "id": "Hy3Za7ms06U9"
      },
      "source": [
        "CRITERION = torch.nn.CrossEntropyLoss().to('cuda')\n",
        "BATCH_SIZE = 8\n",
        "\n",
        "def loss_func(model):\n",
        "    # for INPUT, TARGET in train_loader:\n",
        "        IN = torch.rand(BATCH_SIZE, 3, 224, 224)\n",
        "        #input = fe(images=IN, return_tensors=\"pt\", do_resize=False)\n",
        "        target = torch.zeros(BATCH_SIZE).long()\n",
        "        out = model(IN)\n",
        "        loss = CRITERION(out, target)\n",
        "        return loss.backward()"
      ],
      "execution_count": null,
      "outputs": []
    },
    {
      "cell_type": "code",
      "metadata": {
        "id": "tF9tUeeLcsDg"
      },
      "source": [
        "def run_model(image_size=224, patch_size=16, num_classes=1000, depth=12, heads=12, use_momentum=False, gamma=0.9):\n",
        "    \n",
        "    v = ViT(\n",
        "        image_size = image_size,\n",
        "        patch_size = patch_size,\n",
        "        num_classes = num_classes,\n",
        "        dim = 768,\n",
        "        depth = depth,\n",
        "        heads = heads,\n",
        "        mlp_dim = 3072,\n",
        "        dropout = 0.1,\n",
        "        emb_dropout = 0.1\n",
        "    )\n",
        "    if use_momentum == False:\n",
        "        return v\n",
        "    \n",
        "    momentum_v = transform_to_momentumnet(v, sub_layers=[\"transformer.layers.\" + str(i) for i in range(depth)], gamma=gamma)\n",
        "    return momentum_v\n",
        "\n",
        "\n",
        "model = run_model(depth=12, use_momentum=True)"
      ],
      "execution_count": null,
      "outputs": []
    },
    {
      "cell_type": "code",
      "metadata": {
        "colab": {
          "base_uri": "https://localhost:8080/"
        },
        "id": "fOJedWjidSLG",
        "outputId": "b85d2c0f-c563-46de-f12f-c566a180b2cc"
      },
      "source": [
        "%%time\n",
        "\n",
        "np.max(memory_usage((loss_func, [model], )))"
      ],
      "execution_count": null,
      "outputs": [
        {
          "output_type": "stream",
          "name": "stdout",
          "text": [
            "CPU times: user 19.1 s, sys: 867 ms, total: 20 s\n",
            "Wall time: 19.9 s\n"
          ]
        },
        {
          "output_type": "execute_result",
          "data": {
            "text/plain": [
              "3148.4921875"
            ]
          },
          "metadata": {},
          "execution_count": 5
        }
      ]
    },
    {
      "cell_type": "code",
      "metadata": {
        "id": "uz3wpeiamCOP"
      },
      "source": [
        "vit_batches = [8, 16, 32, 48]\n",
        "vit_res_m = [3149, 4401, 6807, 9385]\n",
        "vit_res = [3477, 5071, 8288, 11490]\n",
        "vit_time_m = [20, 40, 80, 121]\n",
        "vit_time = [15, 30, 59, 90]"
      ],
      "execution_count": null,
      "outputs": []
    },
    {
      "cell_type": "code",
      "metadata": {
        "id": "sTcPyPYCmipW"
      },
      "source": [
        "ds = [4, 8, 12, 16]\n",
        "vit_res_32 = [3884, 6079, 8256, 10537]\n",
        "vit_res_32_m = [3688, 5358, 6973, 8612] "
      ],
      "execution_count": null,
      "outputs": []
    },
    {
      "cell_type": "markdown",
      "metadata": {
        "id": "GVjenzq3hISt"
      },
      "source": [
        "### MLP-Mixer"
      ]
    },
    {
      "cell_type": "code",
      "metadata": {
        "id": "aOpRONYlKzPO"
      },
      "source": [
        "CRITERION = torch.nn.CrossEntropyLoss().to('cuda')\n",
        "BATCH_SIZE = 32\n",
        "\n",
        "def loss_func(model):\n",
        "    # for INPUT, TARGET in train_loader:\n",
        "        IN = torch.rand(BATCH_SIZE, 3, 224, 224)\n",
        "        #input = fe(images=IN, return_tensors=\"pt\", do_resize=False)\n",
        "        target = torch.zeros(BATCH_SIZE).long()\n",
        "        out = model(IN)\n",
        "        loss = CRITERION(out, target)\n",
        "        return loss.backward()"
      ],
      "execution_count": null,
      "outputs": []
    },
    {
      "cell_type": "code",
      "metadata": {
        "id": "bhI4jBZPonlc"
      },
      "source": [
        "def run_model(image_size=224, patch_size=16, num_classes=1000, depth=12, dim=768, use_momentum=False, gamma=0.9):\n",
        "\n",
        "    model = MLPMixer(\n",
        "        image_size = image_size,\n",
        "        channels = 3,\n",
        "        patch_size = patch_size,\n",
        "        dim = dim,\n",
        "        depth = depth,\n",
        "        num_classes = num_classes\n",
        "    )\n",
        "    if use_momentum == False:\n",
        "        return model\n",
        "    \n",
        "    momentum_m = transform_to_momentumnet(model, sub_layers=[str(i + 2) for i in range(depth)], gamma=gamma)\n",
        "    return momentum_m\n",
        "\n",
        "\n",
        "model = run_model(depth=16, use_momentum=True)"
      ],
      "execution_count": null,
      "outputs": []
    },
    {
      "cell_type": "code",
      "metadata": {
        "colab": {
          "base_uri": "https://localhost:8080/"
        },
        "id": "Y65OMDQVorG4",
        "outputId": "a589a5b4-914f-484a-9434-189940840cf9"
      },
      "source": [
        "%%time\n",
        "\n",
        "np.max(memory_usage((loss_func, [model], )))"
      ],
      "execution_count": null,
      "outputs": [
        {
          "output_type": "stream",
          "name": "stdout",
          "text": [
            "CPU times: user 1min 28s, sys: 2.77 s, total: 1min 31s\n",
            "Wall time: 1min 30s\n"
          ]
        },
        {
          "output_type": "execute_result",
          "data": {
            "text/plain": [
              "6794.59765625"
            ]
          },
          "metadata": {},
          "execution_count": 5
        }
      ]
    },
    {
      "cell_type": "code",
      "metadata": {
        "id": "VMGcM8TdO5Xe"
      },
      "source": [
        "mlp_batches = [8, 16, 32, 48, 64]\n",
        "mlp_res_m = [2711, 3648, 5530, 7404, 9216]\n",
        "mlp_res = [2914, 4053, 6365, 8642, 10960]\n",
        "mlp_time_m = [17, 34, 68, 102, 135]\n",
        "mlp_time = [12, 24, 48, 71, 95]"
      ],
      "execution_count": null,
      "outputs": []
    },
    {
      "cell_type": "code",
      "metadata": {
        "id": "r_Prl5y6P6Km"
      },
      "source": [
        "ds = [4, 8, 12, 16]\n",
        "mlp_res_32 = [3254, 4821, 6365, 7909]\n",
        "mlp_res_32_m = [3139, 4392, 5530, 6795] "
      ],
      "execution_count": null,
      "outputs": []
    },
    {
      "cell_type": "markdown",
      "metadata": {
        "id": "37NMjZ1QXsdo"
      },
      "source": [
        "### Graphs"
      ]
    },
    {
      "cell_type": "code",
      "metadata": {
        "colab": {
          "base_uri": "https://localhost:8080/",
          "height": 408
        },
        "id": "SkGm-5jMSyhi",
        "outputId": "cbc9041e-14ef-4358-ff5a-498d342f46aa"
      },
      "source": [
        "plt.figure(figsize=(8, 6))\n",
        "plt.plot(vit_batches, vit_res, label='ViT-base')\n",
        "plt.plot(vit_batches, vit_res_m, label='ViT-base momentum')\n",
        "plt.plot(mlp_batches, mlp_res, label='MLP-mixer', linestyle='dashed')\n",
        "plt.plot(mlp_batches, mlp_res_m, label='MLP-mixer momentum', linestyle='dashed')\n",
        "plt.title('Memory consumption', fontsize=14)\n",
        "plt.xlabel('batch_size', fontsize=12)\n",
        "plt.ylabel('MiB', fontsize=12)\n",
        "plt.legend(fontsize='x-large')\n",
        "plt.savefig('1')\n",
        "plt.show()"
      ],
      "execution_count": null,
      "outputs": [
        {
          "output_type": "display_data",
          "data": {
            "image/png": "[encoded data removed]",
            "text/plain": [
              "<Figure size 576x432 with 1 Axes>"
            ]
          },
          "metadata": {
            "needs_background": "light"
          }
        }
      ]
    },
    {
      "cell_type": "code",
      "metadata": {
        "colab": {
          "base_uri": "https://localhost:8080/",
          "height": 408
        },
        "id": "rxOIvWmbWU5q",
        "outputId": "8dbc636e-ef87-4171-f585-df5fe67346ff"
      },
      "source": [
        "plt.figure(figsize=(8, 6))\n",
        "plt.plot(vit_batches, vit_time, label='ViT-base')\n",
        "plt.plot(vit_batches, vit_time_m, label='ViT-base momentum')\n",
        "plt.plot(mlp_batches, mlp_time, label='MLP-mixer', linestyle='dashed')\n",
        "plt.plot(mlp_batches, mlp_time_m, label='MLP-mixer momentum', linestyle='dashed')\n",
        "plt.title('Time per batch', fontsize=14)\n",
        "plt.xlabel('batch_size', fontsize=12)\n",
        "plt.ylabel('time, s', fontsize=12)\n",
        "plt.legend(fontsize='x-large')\n",
        "plt.savefig('2')\n",
        "plt.show()"
      ],
      "execution_count": null,
      "outputs": [
        {
          "output_type": "display_data",
          "data": {
            "image/png": "[encoded data removed]",
            "text/plain": [
              "<Figure size 576x432 with 1 Axes>"
            ]
          },
          "metadata": {
            "needs_background": "light"
          }
        }
      ]
    },
    {
      "cell_type": "code",
      "metadata": {
        "colab": {
          "base_uri": "https://localhost:8080/",
          "height": 408
        },
        "id": "zD2oD15PXC1p",
        "outputId": "34139489-2866-4565-e322-4cdcd2bb0587"
      },
      "source": [
        "plt.figure(figsize=(8, 6))\n",
        "plt.plot(ds, vit_res_32, label='ViT-base')\n",
        "plt.plot(ds, vit_res_32_m, label='ViT-base momentum')\n",
        "plt.plot(ds, mlp_res_32, label='MLP-mixer', linestyle='dashed')\n",
        "plt.plot(ds, mlp_res_32_m, label='MLP-mixer momentum', linestyle='dashed')\n",
        "plt.title('Different depth of models', fontsize=14)\n",
        "plt.xlabel('depth', fontsize=12)\n",
        "plt.ylabel('MiB', fontsize=12)\n",
        "plt.legend(fontsize='x-large')\n",
        "plt.savefig('3')\n",
        "plt.show()"
      ],
      "execution_count": null,
      "outputs": [
        {
          "output_type": "display_data",
          "data": {
            "image/png": "[encoded data removed]",
            "text/plain": [
              "<Figure size 576x432 with 1 Axes>"
            ]
          },
          "metadata": {
            "needs_background": "light"
          }
        }
      ]
    },
    {
      "cell_type": "markdown",
      "metadata": {
        "id": "Dk7Q06jyKzxM"
      },
      "source": [
        "## Fine-tuning results\n"
      ]
    },
    {
      "cell_type": "code",
      "metadata": {
        "colab": {
          "base_uri": "https://localhost:8080/"
        },
        "id": "FghEUYj67c-b",
        "outputId": "9d05622d-cc23-4fb1-c18c-5983df3acc02"
      },
      "source": [
        "!wget --quiet --show-progress \"https://download.pytorch.org/tutorial/hymenoptera_data.zip\"\n",
        "!unzip -q ./hymenoptera_data.zip"
      ],
      "execution_count": 4,
      "outputs": [
        {
          "output_type": "stream",
          "name": "stdout",
          "text": [
            "hymenoptera_data.zi 100%[===================>]  45.10M   133MB/s    in 0.3s    \n"
          ]
        }
      ]
    },
    {
      "cell_type": "code",
      "metadata": {
        "colab": {
          "base_uri": "https://localhost:8080/"
        },
        "id": "8fnlDLwf60vd",
        "outputId": "afa3ae5b-a1c2-47df-a918-c80293f1d715"
      },
      "source": [
        "data_transforms = {\n",
        "    'train': T.Compose([\n",
        "        T.RandomResizedCrop(224),\n",
        "        T.RandomHorizontalFlip(),\n",
        "        T.ToTensor(),\n",
        "        T.Normalize([0.485, 0.456, 0.406], [0.229, 0.224, 0.225])\n",
        "    ]),\n",
        "    'val': T.Compose([\n",
        "        T.Resize(256),\n",
        "        T.CenterCrop(224),\n",
        "        T.ToTensor(),\n",
        "        T.Normalize([0.485, 0.456, 0.406], [0.229, 0.224, 0.225])\n",
        "    ]),\n",
        "}\n",
        "\n",
        "data_dir = 'hymenoptera_data'\n",
        "image_datasets = {x: D.ImageFolder(os.path.join(data_dir, x),\n",
        "                                          data_transforms[x])\n",
        "                  for x in ['train', 'val']}\n",
        "dataloaders = {x: torch.utils.data.DataLoader(image_datasets[x], batch_size=128,\n",
        "                                             shuffle=True, num_workers=4)\n",
        "              for x in ['train', 'val']}\n",
        "dataset_sizes = {x: len(image_datasets[x]) for x in ['train', 'val']}\n",
        "class_names = image_datasets['train'].classes\n",
        "\n",
        "CRITERION = torch.nn.CrossEntropyLoss().to('cuda')"
      ],
      "execution_count": 5,
      "outputs": [
        {
          "output_type": "stream",
          "name": "stderr",
          "text": [
            "/usr/local/lib/python3.7/dist-packages/torch/utils/data/dataloader.py:481: UserWarning: This DataLoader will create 4 worker processes in total. Our suggested max number of worker in current system is 2, which is smaller than what this DataLoader is going to create. Please be aware that excessive worker creation might get DataLoader running slow or even freeze, lower the worker number to avoid potential slowness/freeze if necessary.\n",
            "  cpuset_checked))\n"
          ]
        }
      ]
    },
    {
      "cell_type": "code",
      "metadata": {
        "colab": {
          "base_uri": "https://localhost:8080/"
        },
        "id": "gqbL8EY-7gjP",
        "outputId": "749047d4-cb7f-41a4-9d82-f1a83106132b"
      },
      "source": [
        "class_names"
      ],
      "execution_count": 7,
      "outputs": [
        {
          "output_type": "execute_result",
          "data": {
            "text/plain": [
              "['ants', 'bees']"
            ]
          },
          "metadata": {},
          "execution_count": 7
        }
      ]
    },
    {
      "cell_type": "code",
      "metadata": {
        "id": "POlAoMpPyW-a"
      },
      "source": [
        "def train(model, optimizer, num_epoch):\n",
        "    train_losses = []\n",
        "    test_losses = []\n",
        "    train_acc = []\n",
        "    test_acc = []\n",
        "\n",
        "    for epoch in range(1, num_epoch + 1):\n",
        "        cur_loss = 0\n",
        "        cur_iter = 0\n",
        "\n",
        "        preds = []\n",
        "        targets = []\n",
        "        \n",
        "        model.train()\n",
        "        for idx, (x, y) in enumerate(tqdm(dataloaders['train'], leave=True, position=0)):\n",
        "            \n",
        "            optimizer.zero_grad()\n",
        "            \n",
        "            x = x.cuda()\n",
        "            y = y.cuda()\n",
        "            \n",
        "            logits = model(x)\n",
        "            loss = CRITERION(logits, y)\n",
        "\n",
        "            with torch.no_grad():\n",
        "                preds.append(torch.max(logits, dim=1)[1].cpu())\n",
        "                targets.append(y.cpu())\n",
        "            \n",
        "            loss.backward()\n",
        "            optimizer.step()\n",
        "\n",
        "            cur_loss += loss.item()\n",
        "            cur_iter += 1\n",
        "            \n",
        "            # progress_bar.set_postfix({\n",
        "            #     'Epoch': epoch,\n",
        "            #     'Loss': cur_loss / cur_iter\n",
        "            # })\n",
        "\n",
        "        preds = torch.cat(preds).numpy()\n",
        "        targets = torch.cat(targets).numpy()   \n",
        "        \n",
        "        val_loss, val_acc = test(model)\n",
        "        test_losses.append(val_loss)\n",
        "        test_acc.append(val_acc)\n",
        "\n",
        "        train_losses.append(cur_loss / cur_iter)\n",
        "        train_acc.append((preds == targets).mean())\n",
        "     \n",
        "        print(f'Epoch {epoch} ended, Train Loss: {cur_loss / cur_iter}, Val Loss: {val_loss}')\n",
        "        print(f'Train Accuracy: {(preds == targets).mean()} Val Accuracy: {val_acc}')\n",
        "    \n",
        "    return train_losses, test_losses, train_acc, test_acc\n",
        "\n",
        "\n",
        "@torch.no_grad()\n",
        "def test(model):\n",
        "    model.eval()\n",
        "\n",
        "    preds = []\n",
        "    targets = []\n",
        "    cur_loss = 0\n",
        "    cur_iter = 0\n",
        "\n",
        "\n",
        "    for x, y in dataloaders['val']:\n",
        "        x = x.to('cuda')\n",
        "        y = y.to('cuda')\n",
        "\n",
        "        logits = model(x)\n",
        "\n",
        "        loss = CRITERION(logits, y)\n",
        "\n",
        "        cur_loss += loss.item()\n",
        "        cur_iter += 1\n",
        "                \n",
        "        preds.append(torch.max(logits, dim=1)[1].cpu())\n",
        "        targets.append(y.cpu())\n",
        "        \n",
        "    preds = torch.cat(preds).numpy()\n",
        "    targets = torch.cat(targets).numpy()\n",
        "\n",
        "    return cur_loss / cur_iter, (preds == targets).mean()"
      ],
      "execution_count": 8,
      "outputs": []
    },
    {
      "cell_type": "code",
      "metadata": {
        "colab": {
          "base_uri": "https://localhost:8080/"
        },
        "id": "y9X-8tpi2f35",
        "outputId": "7b1e796d-2020-4831-ec44-4bf17c0ef561"
      },
      "source": [
        "N_CLASSES = 2\n",
        "N_EPOCHS = 60\n",
        "\n",
        "\n",
        "model = torchvision.models.resnet18(pretrained=True).to('cuda')\n",
        "model.fc = nn.Linear(model.fc.in_features, N_CLASSES).to('cuda')\n",
        "\n",
        "\n",
        "train_losses, test_losses, train_acc, test_acc = train(model, torch.optim.Adam(params=model.parameters(), lr=1e-4, weight_decay=1e-4), N_EPOCHS)"
      ],
      "execution_count": 26,
      "outputs": [
        {
          "output_type": "stream",
          "name": "stderr",
          "text": [
            "\r  0%|          | 0/61 [00:00<?, ?it/s]/usr/local/lib/python3.7/dist-packages/torch/utils/data/dataloader.py:481: UserWarning: This DataLoader will create 4 worker processes in total. Our suggested max number of worker in current system is 2, which is smaller than what this DataLoader is going to create. Please be aware that excessive worker creation might get DataLoader running slow or even freeze, lower the worker number to avoid potential slowness/freeze if necessary.\n",
            "  cpuset_checked))\n",
            "100%|██████████| 61/61 [00:04<00:00, 12.48it/s]\n"
          ]
        },
        {
          "output_type": "stream",
          "name": "stdout",
          "text": [
            "Epoch 1 ended, Train Loss: 0.5281975774979982, Val Loss: 0.31790952938489425\n",
            "Train Accuracy: 0.75 Val Accuracy: 0.8366013071895425\n"
          ]
        },
        {
          "output_type": "stream",
          "name": "stderr",
          "text": [
            "100%|██████████| 61/61 [00:04<00:00, 12.85it/s]\n"
          ]
        },
        {
          "output_type": "stream",
          "name": "stdout",
          "text": [
            "Epoch 2 ended, Train Loss: 0.49259617179632187, Val Loss: 0.46198595131341463\n",
            "Train Accuracy: 0.7704918032786885 Val Accuracy: 0.803921568627451\n"
          ]
        },
        {
          "output_type": "stream",
          "name": "stderr",
          "text": [
            "100%|██████████| 61/61 [00:04<00:00, 12.92it/s]\n"
          ]
        },
        {
          "output_type": "stream",
          "name": "stdout",
          "text": [
            "Epoch 3 ended, Train Loss: 0.4045074195524708, Val Loss: 0.5222941015455991\n",
            "Train Accuracy: 0.8114754098360656 Val Accuracy: 0.8366013071895425\n"
          ]
        },
        {
          "output_type": "stream",
          "name": "stderr",
          "text": [
            "100%|██████████| 61/61 [00:04<00:00, 12.81it/s]\n"
          ]
        },
        {
          "output_type": "stream",
          "name": "stdout",
          "text": [
            "Epoch 4 ended, Train Loss: 0.38221652935579664, Val Loss: 0.5544076157339777\n",
            "Train Accuracy: 0.819672131147541 Val Accuracy: 0.7908496732026143\n"
          ]
        },
        {
          "output_type": "stream",
          "name": "stderr",
          "text": [
            "100%|██████████| 61/61 [00:04<00:00, 12.94it/s]\n"
          ]
        },
        {
          "output_type": "stream",
          "name": "stdout",
          "text": [
            "Epoch 5 ended, Train Loss: 0.31959105084543343, Val Loss: 0.33510760759982544\n",
            "Train Accuracy: 0.8647540983606558 Val Accuracy: 0.9150326797385621\n"
          ]
        },
        {
          "output_type": "stream",
          "name": "stderr",
          "text": [
            "100%|██████████| 61/61 [00:04<00:00, 12.83it/s]\n"
          ]
        },
        {
          "output_type": "stream",
          "name": "stdout",
          "text": [
            "Epoch 6 ended, Train Loss: 0.3664342202856892, Val Loss: 0.4230596163692192\n",
            "Train Accuracy: 0.8442622950819673 Val Accuracy: 0.8888888888888888\n"
          ]
        },
        {
          "output_type": "stream",
          "name": "stderr",
          "text": [
            "100%|██████████| 61/61 [00:04<00:00, 12.88it/s]\n"
          ]
        },
        {
          "output_type": "stream",
          "name": "stdout",
          "text": [
            "Epoch 7 ended, Train Loss: 0.3535117862257557, Val Loss: 0.4355703328545086\n",
            "Train Accuracy: 0.8688524590163934 Val Accuracy: 0.8300653594771242\n"
          ]
        },
        {
          "output_type": "stream",
          "name": "stderr",
          "text": [
            "100%|██████████| 61/61 [00:04<00:00, 12.87it/s]\n"
          ]
        },
        {
          "output_type": "stream",
          "name": "stdout",
          "text": [
            "Epoch 8 ended, Train Loss: 0.34609518780327236, Val Loss: 0.4008944832782548\n",
            "Train Accuracy: 0.8565573770491803 Val Accuracy: 0.869281045751634\n"
          ]
        },
        {
          "output_type": "stream",
          "name": "stderr",
          "text": [
            "100%|██████████| 61/61 [00:04<00:00, 12.80it/s]\n"
          ]
        },
        {
          "output_type": "stream",
          "name": "stdout",
          "text": [
            "Epoch 9 ended, Train Loss: 0.30482294439475555, Val Loss: 0.3640456900048332\n",
            "Train Accuracy: 0.8811475409836066 Val Accuracy: 0.8888888888888888\n"
          ]
        },
        {
          "output_type": "stream",
          "name": "stderr",
          "text": [
            "100%|██████████| 61/61 [00:04<00:00, 12.90it/s]\n"
          ]
        },
        {
          "output_type": "stream",
          "name": "stdout",
          "text": [
            "Epoch 10 ended, Train Loss: 0.3060508987973215, Val Loss: 0.2879532313762376\n",
            "Train Accuracy: 0.8811475409836066 Val Accuracy: 0.9019607843137255\n"
          ]
        },
        {
          "output_type": "stream",
          "name": "stderr",
          "text": [
            "100%|██████████| 61/61 [00:04<00:00, 12.91it/s]\n"
          ]
        },
        {
          "output_type": "stream",
          "name": "stdout",
          "text": [
            "Epoch 11 ended, Train Loss: 0.3428881581200928, Val Loss: 0.25313487376731175\n",
            "Train Accuracy: 0.8401639344262295 Val Accuracy: 0.9084967320261438\n"
          ]
        },
        {
          "output_type": "stream",
          "name": "stderr",
          "text": [
            "100%|██████████| 61/61 [00:04<00:00, 12.92it/s]\n"
          ]
        },
        {
          "output_type": "stream",
          "name": "stdout",
          "text": [
            "Epoch 12 ended, Train Loss: 0.27408002303210927, Val Loss: 0.3420662238286474\n",
            "Train Accuracy: 0.9098360655737705 Val Accuracy: 0.8627450980392157\n"
          ]
        },
        {
          "output_type": "stream",
          "name": "stderr",
          "text": [
            "100%|██████████| 61/61 [00:04<00:00, 12.96it/s]\n"
          ]
        },
        {
          "output_type": "stream",
          "name": "stdout",
          "text": [
            "Epoch 13 ended, Train Loss: 0.34773982616263577, Val Loss: 0.2958850644958707\n",
            "Train Accuracy: 0.8647540983606558 Val Accuracy: 0.8758169934640523\n"
          ]
        },
        {
          "output_type": "stream",
          "name": "stderr",
          "text": [
            "100%|██████████| 61/61 [00:04<00:00, 12.82it/s]\n"
          ]
        },
        {
          "output_type": "stream",
          "name": "stdout",
          "text": [
            "Epoch 14 ended, Train Loss: 0.40245597791232046, Val Loss: 0.29760372297217447\n",
            "Train Accuracy: 0.8319672131147541 Val Accuracy: 0.9019607843137255\n"
          ]
        },
        {
          "output_type": "stream",
          "name": "stderr",
          "text": [
            "100%|██████████| 61/61 [00:04<00:00, 12.91it/s]\n"
          ]
        },
        {
          "output_type": "stream",
          "name": "stdout",
          "text": [
            "Epoch 15 ended, Train Loss: 0.30441184900701046, Val Loss: 0.2356703714109384\n",
            "Train Accuracy: 0.8647540983606558 Val Accuracy: 0.9019607843137255\n"
          ]
        },
        {
          "output_type": "stream",
          "name": "stderr",
          "text": [
            "100%|██████████| 61/61 [00:04<00:00, 12.76it/s]\n"
          ]
        },
        {
          "output_type": "stream",
          "name": "stdout",
          "text": [
            "Epoch 16 ended, Train Loss: 0.2997051430255419, Val Loss: 0.26031674478107536\n",
            "Train Accuracy: 0.8729508196721312 Val Accuracy: 0.9084967320261438\n"
          ]
        },
        {
          "output_type": "stream",
          "name": "stderr",
          "text": [
            "100%|██████████| 61/61 [00:04<00:00, 12.83it/s]\n"
          ]
        },
        {
          "output_type": "stream",
          "name": "stdout",
          "text": [
            "Epoch 17 ended, Train Loss: 0.2913985324138012, Val Loss: 0.22444208008117783\n",
            "Train Accuracy: 0.8647540983606558 Val Accuracy: 0.9019607843137255\n"
          ]
        },
        {
          "output_type": "stream",
          "name": "stderr",
          "text": [
            "100%|██████████| 61/61 [00:04<00:00, 12.96it/s]\n"
          ]
        },
        {
          "output_type": "stream",
          "name": "stdout",
          "text": [
            "Epoch 18 ended, Train Loss: 0.30260850918158644, Val Loss: 0.36791124170980394\n",
            "Train Accuracy: 0.8647540983606558 Val Accuracy: 0.8562091503267973\n"
          ]
        },
        {
          "output_type": "stream",
          "name": "stderr",
          "text": [
            "100%|██████████| 61/61 [00:04<00:00, 12.93it/s]\n"
          ]
        },
        {
          "output_type": "stream",
          "name": "stdout",
          "text": [
            "Epoch 19 ended, Train Loss: 0.28720463760441445, Val Loss: 0.27770924128783053\n",
            "Train Accuracy: 0.8811475409836066 Val Accuracy: 0.8954248366013072\n"
          ]
        },
        {
          "output_type": "stream",
          "name": "stderr",
          "text": [
            "100%|██████████| 61/61 [00:04<00:00, 12.70it/s]\n"
          ]
        },
        {
          "output_type": "stream",
          "name": "stdout",
          "text": [
            "Epoch 20 ended, Train Loss: 0.2419554959051311, Val Loss: 0.469388065716395\n",
            "Train Accuracy: 0.9139344262295082 Val Accuracy: 0.8562091503267973\n"
          ]
        },
        {
          "output_type": "stream",
          "name": "stderr",
          "text": [
            "100%|██████████| 61/61 [00:04<00:00, 12.71it/s]\n"
          ]
        },
        {
          "output_type": "stream",
          "name": "stdout",
          "text": [
            "Epoch 21 ended, Train Loss: 0.3035975642899265, Val Loss: 0.23675475501192686\n",
            "Train Accuracy: 0.8852459016393442 Val Accuracy: 0.8888888888888888\n"
          ]
        },
        {
          "output_type": "stream",
          "name": "stderr",
          "text": [
            "100%|██████████| 61/61 [00:04<00:00, 12.85it/s]\n"
          ]
        },
        {
          "output_type": "stream",
          "name": "stdout",
          "text": [
            "Epoch 22 ended, Train Loss: 0.27345242560459454, Val Loss: 0.2654089705430147\n",
            "Train Accuracy: 0.8647540983606558 Val Accuracy: 0.9150326797385621\n"
          ]
        },
        {
          "output_type": "stream",
          "name": "stderr",
          "text": [
            "100%|██████████| 61/61 [00:04<00:00, 12.92it/s]\n"
          ]
        },
        {
          "output_type": "stream",
          "name": "stdout",
          "text": [
            "Epoch 23 ended, Train Loss: 0.18233217338680244, Val Loss: 0.3410566772501438\n",
            "Train Accuracy: 0.9180327868852459 Val Accuracy: 0.8954248366013072\n"
          ]
        },
        {
          "output_type": "stream",
          "name": "stderr",
          "text": [
            "100%|██████████| 61/61 [00:04<00:00, 12.85it/s]\n"
          ]
        },
        {
          "output_type": "stream",
          "name": "stdout",
          "text": [
            "Epoch 24 ended, Train Loss: 0.32279980573497835, Val Loss: 0.37870049867062616\n",
            "Train Accuracy: 0.8647540983606558 Val Accuracy: 0.8888888888888888\n"
          ]
        },
        {
          "output_type": "stream",
          "name": "stderr",
          "text": [
            "100%|██████████| 61/61 [00:04<00:00, 12.92it/s]\n"
          ]
        },
        {
          "output_type": "stream",
          "name": "stdout",
          "text": [
            "Epoch 25 ended, Train Loss: 0.26872266635115516, Val Loss: 0.3656546463473485\n",
            "Train Accuracy: 0.8934426229508197 Val Accuracy: 0.9084967320261438\n"
          ]
        },
        {
          "output_type": "stream",
          "name": "stderr",
          "text": [
            "100%|██████████| 61/61 [00:04<00:00, 12.93it/s]\n"
          ]
        },
        {
          "output_type": "stream",
          "name": "stdout",
          "text": [
            "Epoch 26 ended, Train Loss: 0.2582529856991328, Val Loss: 0.31900976876465553\n",
            "Train Accuracy: 0.8975409836065574 Val Accuracy: 0.9150326797385621\n"
          ]
        },
        {
          "output_type": "stream",
          "name": "stderr",
          "text": [
            "100%|██████████| 61/61 [00:04<00:00, 12.92it/s]\n"
          ]
        },
        {
          "output_type": "stream",
          "name": "stdout",
          "text": [
            "Epoch 27 ended, Train Loss: 0.2759315485714889, Val Loss: 0.2988633602165068\n",
            "Train Accuracy: 0.8811475409836066 Val Accuracy: 0.9084967320261438\n"
          ]
        },
        {
          "output_type": "stream",
          "name": "stderr",
          "text": [
            "100%|██████████| 61/61 [00:04<00:00, 12.90it/s]\n"
          ]
        },
        {
          "output_type": "stream",
          "name": "stdout",
          "text": [
            "Epoch 28 ended, Train Loss: 0.17165799142762286, Val Loss: 0.4238315963675865\n",
            "Train Accuracy: 0.9221311475409836 Val Accuracy: 0.8627450980392157\n"
          ]
        },
        {
          "output_type": "stream",
          "name": "stderr",
          "text": [
            "100%|██████████| 61/61 [00:04<00:00, 12.83it/s]\n"
          ]
        },
        {
          "output_type": "stream",
          "name": "stdout",
          "text": [
            "Epoch 29 ended, Train Loss: 0.23312721576266845, Val Loss: 0.3284470565820065\n",
            "Train Accuracy: 0.9221311475409836 Val Accuracy: 0.8823529411764706\n"
          ]
        },
        {
          "output_type": "stream",
          "name": "stderr",
          "text": [
            "100%|██████████| 61/61 [00:04<00:00, 12.89it/s]\n"
          ]
        },
        {
          "output_type": "stream",
          "name": "stdout",
          "text": [
            "Epoch 30 ended, Train Loss: 0.16858451313446046, Val Loss: 0.3151092849050959\n",
            "Train Accuracy: 0.9385245901639344 Val Accuracy: 0.8888888888888888\n"
          ]
        },
        {
          "output_type": "stream",
          "name": "stderr",
          "text": [
            "100%|██████████| 61/61 [00:04<00:00, 12.71it/s]\n"
          ]
        },
        {
          "output_type": "stream",
          "name": "stdout",
          "text": [
            "Epoch 31 ended, Train Loss: 0.26696660928046484, Val Loss: 0.32921817826811606\n",
            "Train Accuracy: 0.8770491803278688 Val Accuracy: 0.8823529411764706\n"
          ]
        },
        {
          "output_type": "stream",
          "name": "stderr",
          "text": [
            "100%|██████████| 61/61 [00:04<00:00, 12.91it/s]\n"
          ]
        },
        {
          "output_type": "stream",
          "name": "stdout",
          "text": [
            "Epoch 32 ended, Train Loss: 0.2803726350262639, Val Loss: 0.29035361349964756\n",
            "Train Accuracy: 0.8729508196721312 Val Accuracy: 0.8758169934640523\n"
          ]
        },
        {
          "output_type": "stream",
          "name": "stderr",
          "text": [
            "100%|██████████| 61/61 [00:04<00:00, 12.93it/s]\n"
          ]
        },
        {
          "output_type": "stream",
          "name": "stdout",
          "text": [
            "Epoch 33 ended, Train Loss: 0.22210317466896576, Val Loss: 0.34972834651424095\n",
            "Train Accuracy: 0.889344262295082 Val Accuracy: 0.8888888888888888\n"
          ]
        },
        {
          "output_type": "stream",
          "name": "stderr",
          "text": [
            "100%|██████████| 61/61 [00:04<00:00, 12.92it/s]\n"
          ]
        },
        {
          "output_type": "stream",
          "name": "stdout",
          "text": [
            "Epoch 34 ended, Train Loss: 0.23407691639283154, Val Loss: 0.27355398046664703\n",
            "Train Accuracy: 0.9139344262295082 Val Accuracy: 0.9150326797385621\n"
          ]
        },
        {
          "output_type": "stream",
          "name": "stderr",
          "text": [
            "100%|██████████| 61/61 [00:04<00:00, 12.80it/s]\n"
          ]
        },
        {
          "output_type": "stream",
          "name": "stdout",
          "text": [
            "Epoch 35 ended, Train Loss: 0.20278828259038387, Val Loss: 0.22667118245758153\n",
            "Train Accuracy: 0.9057377049180327 Val Accuracy: 0.934640522875817\n"
          ]
        },
        {
          "output_type": "stream",
          "name": "stderr",
          "text": [
            "100%|██████████| 61/61 [00:04<00:00, 12.84it/s]\n"
          ]
        },
        {
          "output_type": "stream",
          "name": "stdout",
          "text": [
            "Epoch 36 ended, Train Loss: 0.2469550605451108, Val Loss: 0.30246818592795766\n",
            "Train Accuracy: 0.8975409836065574 Val Accuracy: 0.934640522875817\n"
          ]
        },
        {
          "output_type": "stream",
          "name": "stderr",
          "text": [
            "100%|██████████| 61/61 [00:04<00:00, 12.69it/s]\n"
          ]
        },
        {
          "output_type": "stream",
          "name": "stdout",
          "text": [
            "Epoch 37 ended, Train Loss: 0.24033859564510526, Val Loss: 0.30424883443480116\n",
            "Train Accuracy: 0.9016393442622951 Val Accuracy: 0.8888888888888888\n"
          ]
        },
        {
          "output_type": "stream",
          "name": "stderr",
          "text": [
            "100%|██████████| 61/61 [00:04<00:00, 12.97it/s]\n"
          ]
        },
        {
          "output_type": "stream",
          "name": "stdout",
          "text": [
            "Epoch 38 ended, Train Loss: 0.20830742173568637, Val Loss: 0.3496941107277496\n",
            "Train Accuracy: 0.9139344262295082 Val Accuracy: 0.8823529411764706\n"
          ]
        },
        {
          "output_type": "stream",
          "name": "stderr",
          "text": [
            "100%|██████████| 61/61 [00:04<00:00, 12.93it/s]\n"
          ]
        },
        {
          "output_type": "stream",
          "name": "stdout",
          "text": [
            "Epoch 39 ended, Train Loss: 0.13769096530760166, Val Loss: 0.284394562498141\n",
            "Train Accuracy: 0.9467213114754098 Val Accuracy: 0.8954248366013072\n"
          ]
        },
        {
          "output_type": "stream",
          "name": "stderr",
          "text": [
            "100%|██████████| 61/61 [00:04<00:00, 12.90it/s]\n"
          ]
        },
        {
          "output_type": "stream",
          "name": "stdout",
          "text": [
            "Epoch 40 ended, Train Loss: 0.2524137584507832, Val Loss: 0.33344185060988635\n",
            "Train Accuracy: 0.8811475409836066 Val Accuracy: 0.8888888888888888\n"
          ]
        },
        {
          "output_type": "stream",
          "name": "stderr",
          "text": [
            "100%|██████████| 61/61 [00:04<00:00, 12.82it/s]\n"
          ]
        },
        {
          "output_type": "stream",
          "name": "stdout",
          "text": [
            "Epoch 41 ended, Train Loss: 0.23292972936798803, Val Loss: 0.3055001139903489\n",
            "Train Accuracy: 0.9016393442622951 Val Accuracy: 0.8888888888888888\n"
          ]
        },
        {
          "output_type": "stream",
          "name": "stderr",
          "text": [
            "100%|██████████| 61/61 [00:04<00:00, 12.75it/s]\n"
          ]
        },
        {
          "output_type": "stream",
          "name": "stdout",
          "text": [
            "Epoch 42 ended, Train Loss: 0.2434957991048816, Val Loss: 0.24267351707702545\n",
            "Train Accuracy: 0.889344262295082 Val Accuracy: 0.9215686274509803\n"
          ]
        },
        {
          "output_type": "stream",
          "name": "stderr",
          "text": [
            "100%|██████████| 61/61 [00:04<00:00, 12.90it/s]\n"
          ]
        },
        {
          "output_type": "stream",
          "name": "stdout",
          "text": [
            "Epoch 43 ended, Train Loss: 0.20130798142769787, Val Loss: 0.23973849426525143\n",
            "Train Accuracy: 0.9098360655737705 Val Accuracy: 0.8888888888888888\n"
          ]
        },
        {
          "output_type": "stream",
          "name": "stderr",
          "text": [
            "100%|██████████| 61/61 [00:04<00:00, 12.89it/s]\n"
          ]
        },
        {
          "output_type": "stream",
          "name": "stdout",
          "text": [
            "Epoch 44 ended, Train Loss: 0.1498568714749007, Val Loss: 0.24314853177370074\n",
            "Train Accuracy: 0.9508196721311475 Val Accuracy: 0.9281045751633987\n"
          ]
        },
        {
          "output_type": "stream",
          "name": "stderr",
          "text": [
            "100%|██████████| 61/61 [00:04<00:00, 12.88it/s]\n"
          ]
        },
        {
          "output_type": "stream",
          "name": "stdout",
          "text": [
            "Epoch 45 ended, Train Loss: 0.19688359588445697, Val Loss: 0.2482653584283514\n",
            "Train Accuracy: 0.9385245901639344 Val Accuracy: 0.9019607843137255\n"
          ]
        },
        {
          "output_type": "stream",
          "name": "stderr",
          "text": [
            "100%|██████████| 61/61 [00:04<00:00, 12.76it/s]\n"
          ]
        },
        {
          "output_type": "stream",
          "name": "stdout",
          "text": [
            "Epoch 46 ended, Train Loss: 0.2138278323767676, Val Loss: 0.2241752227120555\n",
            "Train Accuracy: 0.9221311475409836 Val Accuracy: 0.9084967320261438\n"
          ]
        },
        {
          "output_type": "stream",
          "name": "stderr",
          "text": [
            "100%|██████████| 61/61 [00:04<00:00, 12.80it/s]\n"
          ]
        },
        {
          "output_type": "stream",
          "name": "stdout",
          "text": [
            "Epoch 47 ended, Train Loss: 0.2288851312926558, Val Loss: 0.22684783024044755\n",
            "Train Accuracy: 0.9098360655737705 Val Accuracy: 0.9084967320261438\n"
          ]
        },
        {
          "output_type": "stream",
          "name": "stderr",
          "text": [
            "100%|██████████| 61/61 [00:04<00:00, 12.89it/s]\n"
          ]
        },
        {
          "output_type": "stream",
          "name": "stdout",
          "text": [
            "Epoch 48 ended, Train Loss: 0.22433393756996411, Val Loss: 0.2428960495341856\n",
            "Train Accuracy: 0.9016393442622951 Val Accuracy: 0.8954248366013072\n"
          ]
        },
        {
          "output_type": "stream",
          "name": "stderr",
          "text": [
            "100%|██████████| 61/61 [00:04<00:00, 12.87it/s]\n"
          ]
        },
        {
          "output_type": "stream",
          "name": "stdout",
          "text": [
            "Epoch 49 ended, Train Loss: 0.16969639766717054, Val Loss: 0.30679946078154713\n",
            "Train Accuracy: 0.9467213114754098 Val Accuracy: 0.8758169934640523\n"
          ]
        },
        {
          "output_type": "stream",
          "name": "stderr",
          "text": [
            "100%|██████████| 61/61 [00:04<00:00, 12.84it/s]\n"
          ]
        },
        {
          "output_type": "stream",
          "name": "stdout",
          "text": [
            "Epoch 50 ended, Train Loss: 0.1413385741809597, Val Loss: 0.21852639798695841\n",
            "Train Accuracy: 0.9426229508196722 Val Accuracy: 0.9411764705882353\n"
          ]
        },
        {
          "output_type": "stream",
          "name": "stderr",
          "text": [
            "100%|██████████| 61/61 [00:04<00:00, 12.90it/s]\n"
          ]
        },
        {
          "output_type": "stream",
          "name": "stdout",
          "text": [
            "Epoch 51 ended, Train Loss: 0.16970474476788622, Val Loss: 0.451437186031865\n",
            "Train Accuracy: 0.930327868852459 Val Accuracy: 0.8627450980392157\n"
          ]
        },
        {
          "output_type": "stream",
          "name": "stderr",
          "text": [
            "100%|██████████| 61/61 [00:04<00:00, 12.96it/s]\n"
          ]
        },
        {
          "output_type": "stream",
          "name": "stdout",
          "text": [
            "Epoch 52 ended, Train Loss: 0.17352044191135124, Val Loss: 0.24351524418363205\n",
            "Train Accuracy: 0.9385245901639344 Val Accuracy: 0.9019607843137255\n"
          ]
        },
        {
          "output_type": "stream",
          "name": "stderr",
          "text": [
            "100%|██████████| 61/61 [00:04<00:00, 12.95it/s]\n"
          ]
        },
        {
          "output_type": "stream",
          "name": "stdout",
          "text": [
            "Epoch 53 ended, Train Loss: 0.16038046600144418, Val Loss: 0.2919719689525664\n",
            "Train Accuracy: 0.930327868852459 Val Accuracy: 0.8758169934640523\n"
          ]
        },
        {
          "output_type": "stream",
          "name": "stderr",
          "text": [
            "100%|██████████| 61/61 [00:04<00:00, 12.89it/s]\n"
          ]
        },
        {
          "output_type": "stream",
          "name": "stdout",
          "text": [
            "Epoch 54 ended, Train Loss: 0.13574780416903925, Val Loss: 0.2720592515184902\n",
            "Train Accuracy: 0.9549180327868853 Val Accuracy: 0.8954248366013072\n"
          ]
        },
        {
          "output_type": "stream",
          "name": "stderr",
          "text": [
            "100%|██████████| 61/61 [00:04<00:00, 12.97it/s]\n"
          ]
        },
        {
          "output_type": "stream",
          "name": "stdout",
          "text": [
            "Epoch 55 ended, Train Loss: 0.19140748982699435, Val Loss: 0.32365384958505344\n",
            "Train Accuracy: 0.9098360655737705 Val Accuracy: 0.8823529411764706\n"
          ]
        },
        {
          "output_type": "stream",
          "name": "stderr",
          "text": [
            "100%|██████████| 61/61 [00:04<00:00, 12.76it/s]\n"
          ]
        },
        {
          "output_type": "stream",
          "name": "stdout",
          "text": [
            "Epoch 56 ended, Train Loss: 0.1559855626918925, Val Loss: 0.3460950398114689\n",
            "Train Accuracy: 0.9180327868852459 Val Accuracy: 0.869281045751634\n"
          ]
        },
        {
          "output_type": "stream",
          "name": "stderr",
          "text": [
            "100%|██████████| 61/61 [00:04<00:00, 12.90it/s]\n"
          ]
        },
        {
          "output_type": "stream",
          "name": "stdout",
          "text": [
            "Epoch 57 ended, Train Loss: 0.15065931939886365, Val Loss: 0.27879414074302006\n",
            "Train Accuracy: 0.9467213114754098 Val Accuracy: 0.9084967320261438\n"
          ]
        },
        {
          "output_type": "stream",
          "name": "stderr",
          "text": [
            "100%|██████████| 61/61 [00:04<00:00, 12.93it/s]\n"
          ]
        },
        {
          "output_type": "stream",
          "name": "stdout",
          "text": [
            "Epoch 58 ended, Train Loss: 0.1261298040760162, Val Loss: 0.27341866594118375\n",
            "Train Accuracy: 0.9385245901639344 Val Accuracy: 0.9019607843137255\n"
          ]
        },
        {
          "output_type": "stream",
          "name": "stderr",
          "text": [
            "100%|██████████| 61/61 [00:04<00:00, 12.92it/s]\n"
          ]
        },
        {
          "output_type": "stream",
          "name": "stdout",
          "text": [
            "Epoch 59 ended, Train Loss: 0.14207890664883813, Val Loss: 0.28927440407017296\n",
            "Train Accuracy: 0.9262295081967213 Val Accuracy: 0.9084967320261438\n"
          ]
        },
        {
          "output_type": "stream",
          "name": "stderr",
          "text": [
            "100%|██████████| 61/61 [00:04<00:00, 12.73it/s]\n"
          ]
        },
        {
          "output_type": "stream",
          "name": "stdout",
          "text": [
            "Epoch 60 ended, Train Loss: 0.11995839002183409, Val Loss: 0.24522589553052035\n",
            "Train Accuracy: 0.9590163934426229 Val Accuracy: 0.9215686274509803\n"
          ]
        }
      ]
    },
    {
      "cell_type": "code",
      "metadata": {
        "colab": {
          "base_uri": "https://localhost:8080/"
        },
        "id": "D2OlDVE5KIVf",
        "outputId": "8849c138-df9d-447e-d1e0-e457f5586767"
      },
      "source": [
        "N_CLASSES = 2\n",
        "N_EPOCHS = 60\n",
        "\n",
        "model = transform_to_momentumnet(torchvision.models.resnet18(pretrained=True)).to('cuda')\n",
        "model.fc = nn.Linear(model.fc.in_features, N_CLASSES).to('cuda')\n",
        "\n",
        "\n",
        "train_losses1, test_losses1, train_acc1, test_acc1 = train(model, torch.optim.Adam(params=model.parameters(), lr=1e-4, weight_decay=1e-4), N_EPOCHS)"
      ],
      "execution_count": 27,
      "outputs": [
        {
          "output_type": "stream",
          "name": "stderr",
          "text": [
            "\r  0%|          | 0/61 [00:00<?, ?it/s]/usr/local/lib/python3.7/dist-packages/torch/utils/data/dataloader.py:481: UserWarning: This DataLoader will create 4 worker processes in total. Our suggested max number of worker in current system is 2, which is smaller than what this DataLoader is going to create. Please be aware that excessive worker creation might get DataLoader running slow or even freeze, lower the worker number to avoid potential slowness/freeze if necessary.\n",
            "  cpuset_checked))\n",
            "100%|██████████| 61/61 [00:06<00:00, 10.01it/s]\n"
          ]
        },
        {
          "output_type": "stream",
          "name": "stdout",
          "text": [
            "Epoch 1 ended, Train Loss: 0.604021674296895, Val Loss: 0.43905888459621334\n",
            "Train Accuracy: 0.6926229508196722 Val Accuracy: 0.7973856209150327\n"
          ]
        },
        {
          "output_type": "stream",
          "name": "stderr",
          "text": [
            "100%|██████████| 61/61 [00:06<00:00, 10.05it/s]\n"
          ]
        },
        {
          "output_type": "stream",
          "name": "stdout",
          "text": [
            "Epoch 2 ended, Train Loss: 0.4996900214035003, Val Loss: 0.6365270424538698\n",
            "Train Accuracy: 0.7745901639344263 Val Accuracy: 0.6797385620915033\n"
          ]
        },
        {
          "output_type": "stream",
          "name": "stderr",
          "text": [
            "100%|██████████| 61/61 [00:06<00:00, 10.05it/s]\n"
          ]
        },
        {
          "output_type": "stream",
          "name": "stdout",
          "text": [
            "Epoch 3 ended, Train Loss: 0.4928698893941817, Val Loss: 0.3949633836746216\n",
            "Train Accuracy: 0.7663934426229508 Val Accuracy: 0.8104575163398693\n"
          ]
        },
        {
          "output_type": "stream",
          "name": "stderr",
          "text": [
            "100%|██████████| 61/61 [00:06<00:00,  9.96it/s]\n"
          ]
        },
        {
          "output_type": "stream",
          "name": "stdout",
          "text": [
            "Epoch 4 ended, Train Loss: 0.45618117832746663, Val Loss: 0.37546324534102893\n",
            "Train Accuracy: 0.8032786885245902 Val Accuracy: 0.8627450980392157\n"
          ]
        },
        {
          "output_type": "stream",
          "name": "stderr",
          "text": [
            "100%|██████████| 61/61 [00:06<00:00, 10.01it/s]\n"
          ]
        },
        {
          "output_type": "stream",
          "name": "stdout",
          "text": [
            "Epoch 5 ended, Train Loss: 0.4037053506882464, Val Loss: 0.4288646083038587\n",
            "Train Accuracy: 0.8278688524590164 Val Accuracy: 0.803921568627451\n"
          ]
        },
        {
          "output_type": "stream",
          "name": "stderr",
          "text": [
            "100%|██████████| 61/61 [00:06<00:00, 10.02it/s]\n"
          ]
        },
        {
          "output_type": "stream",
          "name": "stdout",
          "text": [
            "Epoch 6 ended, Train Loss: 0.4179123621739325, Val Loss: 0.345910319342063\n",
            "Train Accuracy: 0.7950819672131147 Val Accuracy: 0.8627450980392157\n"
          ]
        },
        {
          "output_type": "stream",
          "name": "stderr",
          "text": [
            "100%|██████████| 61/61 [00:06<00:00, 10.06it/s]\n"
          ]
        },
        {
          "output_type": "stream",
          "name": "stdout",
          "text": [
            "Epoch 7 ended, Train Loss: 0.36371444507700496, Val Loss: 0.33767892324771637\n",
            "Train Accuracy: 0.8483606557377049 Val Accuracy: 0.8496732026143791\n"
          ]
        },
        {
          "output_type": "stream",
          "name": "stderr",
          "text": [
            "100%|██████████| 61/61 [00:06<00:00, 10.09it/s]\n"
          ]
        },
        {
          "output_type": "stream",
          "name": "stdout",
          "text": [
            "Epoch 8 ended, Train Loss: 0.3151840230480569, Val Loss: 0.41034144036567366\n",
            "Train Accuracy: 0.8811475409836066 Val Accuracy: 0.8627450980392157\n"
          ]
        },
        {
          "output_type": "stream",
          "name": "stderr",
          "text": [
            "100%|██████████| 61/61 [00:06<00:00, 10.02it/s]\n"
          ]
        },
        {
          "output_type": "stream",
          "name": "stdout",
          "text": [
            "Epoch 9 ended, Train Loss: 0.42180342898994194, Val Loss: 0.5138762095369972\n",
            "Train Accuracy: 0.7950819672131147 Val Accuracy: 0.7843137254901961\n"
          ]
        },
        {
          "output_type": "stream",
          "name": "stderr",
          "text": [
            "100%|██████████| 61/61 [00:06<00:00, 10.02it/s]\n"
          ]
        },
        {
          "output_type": "stream",
          "name": "stdout",
          "text": [
            "Epoch 10 ended, Train Loss: 0.3499879309388458, Val Loss: 0.39357275052521473\n",
            "Train Accuracy: 0.8729508196721312 Val Accuracy: 0.8431372549019608\n"
          ]
        },
        {
          "output_type": "stream",
          "name": "stderr",
          "text": [
            "100%|██████████| 61/61 [00:06<00:00, 10.10it/s]\n"
          ]
        },
        {
          "output_type": "stream",
          "name": "stdout",
          "text": [
            "Epoch 11 ended, Train Loss: 0.33278613305482707, Val Loss: 0.3954939369876415\n",
            "Train Accuracy: 0.8647540983606558 Val Accuracy: 0.8496732026143791\n"
          ]
        },
        {
          "output_type": "stream",
          "name": "stderr",
          "text": [
            "100%|██████████| 61/61 [00:06<00:00, 10.12it/s]\n"
          ]
        },
        {
          "output_type": "stream",
          "name": "stdout",
          "text": [
            "Epoch 12 ended, Train Loss: 0.31900014264173193, Val Loss: 0.4374114642170566\n",
            "Train Accuracy: 0.8770491803278688 Val Accuracy: 0.8562091503267973\n"
          ]
        },
        {
          "output_type": "stream",
          "name": "stderr",
          "text": [
            "100%|██████████| 61/61 [00:06<00:00, 10.02it/s]\n"
          ]
        },
        {
          "output_type": "stream",
          "name": "stdout",
          "text": [
            "Epoch 13 ended, Train Loss: 0.3058636260570073, Val Loss: 0.3511039095166593\n",
            "Train Accuracy: 0.8934426229508197 Val Accuracy: 0.8627450980392157\n"
          ]
        },
        {
          "output_type": "stream",
          "name": "stderr",
          "text": [
            "100%|██████████| 61/61 [00:06<00:00, 10.11it/s]\n"
          ]
        },
        {
          "output_type": "stream",
          "name": "stdout",
          "text": [
            "Epoch 14 ended, Train Loss: 0.34425515351725405, Val Loss: 0.39129190728402674\n",
            "Train Accuracy: 0.8565573770491803 Val Accuracy: 0.8496732026143791\n"
          ]
        },
        {
          "output_type": "stream",
          "name": "stderr",
          "text": [
            "100%|██████████| 61/61 [00:06<00:00, 10.06it/s]\n"
          ]
        },
        {
          "output_type": "stream",
          "name": "stdout",
          "text": [
            "Epoch 15 ended, Train Loss: 0.3527195613648071, Val Loss: 0.3720326971811935\n",
            "Train Accuracy: 0.8442622950819673 Val Accuracy: 0.869281045751634\n"
          ]
        },
        {
          "output_type": "stream",
          "name": "stderr",
          "text": [
            "100%|██████████| 61/61 [00:06<00:00,  9.98it/s]\n"
          ]
        },
        {
          "output_type": "stream",
          "name": "stdout",
          "text": [
            "Epoch 16 ended, Train Loss: 0.3053536652052989, Val Loss: 0.4215260828869083\n",
            "Train Accuracy: 0.8811475409836066 Val Accuracy: 0.8366013071895425\n"
          ]
        },
        {
          "output_type": "stream",
          "name": "stderr",
          "text": [
            "100%|██████████| 61/61 [00:06<00:00, 10.04it/s]\n"
          ]
        },
        {
          "output_type": "stream",
          "name": "stdout",
          "text": [
            "Epoch 17 ended, Train Loss: 0.31496660246467983, Val Loss: 0.4086909053178552\n",
            "Train Accuracy: 0.8729508196721312 Val Accuracy: 0.8562091503267973\n"
          ]
        },
        {
          "output_type": "stream",
          "name": "stderr",
          "text": [
            "100%|██████████| 61/61 [00:06<00:00, 10.05it/s]\n"
          ]
        },
        {
          "output_type": "stream",
          "name": "stdout",
          "text": [
            "Epoch 18 ended, Train Loss: 0.28991638942331566, Val Loss: 0.3781377377991493\n",
            "Train Accuracy: 0.8770491803278688 Val Accuracy: 0.8627450980392157\n"
          ]
        },
        {
          "output_type": "stream",
          "name": "stderr",
          "text": [
            "100%|██████████| 61/61 [00:06<00:00,  9.74it/s]\n"
          ]
        },
        {
          "output_type": "stream",
          "name": "stdout",
          "text": [
            "Epoch 19 ended, Train Loss: 0.3286546876073861, Val Loss: 0.271226082665798\n",
            "Train Accuracy: 0.860655737704918 Val Accuracy: 0.9084967320261438\n"
          ]
        },
        {
          "output_type": "stream",
          "name": "stderr",
          "text": [
            "100%|██████████| 61/61 [00:06<00:00,  9.88it/s]\n"
          ]
        },
        {
          "output_type": "stream",
          "name": "stdout",
          "text": [
            "Epoch 20 ended, Train Loss: 0.2558345290847489, Val Loss: 0.4839763972573938\n",
            "Train Accuracy: 0.9016393442622951 Val Accuracy: 0.8366013071895425\n"
          ]
        },
        {
          "output_type": "stream",
          "name": "stderr",
          "text": [
            "100%|██████████| 61/61 [00:06<00:00,  9.89it/s]\n"
          ]
        },
        {
          "output_type": "stream",
          "name": "stdout",
          "text": [
            "Epoch 21 ended, Train Loss: 0.20059759218673237, Val Loss: 0.3522393003297158\n",
            "Train Accuracy: 0.930327868852459 Val Accuracy: 0.8562091503267973\n"
          ]
        },
        {
          "output_type": "stream",
          "name": "stderr",
          "text": [
            "100%|██████████| 61/61 [00:06<00:00,  9.86it/s]\n"
          ]
        },
        {
          "output_type": "stream",
          "name": "stdout",
          "text": [
            "Epoch 22 ended, Train Loss: 0.32336468365593035, Val Loss: 0.5405180240766361\n",
            "Train Accuracy: 0.8442622950819673 Val Accuracy: 0.7908496732026143\n"
          ]
        },
        {
          "output_type": "stream",
          "name": "stderr",
          "text": [
            "100%|██████████| 61/61 [00:06<00:00,  9.85it/s]\n"
          ]
        },
        {
          "output_type": "stream",
          "name": "stdout",
          "text": [
            "Epoch 23 ended, Train Loss: 0.3364340855327786, Val Loss: 0.4494187726970547\n",
            "Train Accuracy: 0.8647540983606558 Val Accuracy: 0.8300653594771242\n"
          ]
        },
        {
          "output_type": "stream",
          "name": "stderr",
          "text": [
            "100%|██████████| 61/61 [00:06<00:00,  9.81it/s]\n"
          ]
        },
        {
          "output_type": "stream",
          "name": "stdout",
          "text": [
            "Epoch 24 ended, Train Loss: 0.2564292971472271, Val Loss: 0.5054274669442421\n",
            "Train Accuracy: 0.9221311475409836 Val Accuracy: 0.7843137254901961\n"
          ]
        },
        {
          "output_type": "stream",
          "name": "stderr",
          "text": [
            "100%|██████████| 61/61 [00:06<00:00,  9.74it/s]\n"
          ]
        },
        {
          "output_type": "stream",
          "name": "stdout",
          "text": [
            "Epoch 25 ended, Train Loss: 0.2704919983984017, Val Loss: 0.34501778088563767\n",
            "Train Accuracy: 0.9016393442622951 Val Accuracy: 0.8888888888888888\n"
          ]
        },
        {
          "output_type": "stream",
          "name": "stderr",
          "text": [
            "100%|██████████| 61/61 [00:06<00:00,  9.89it/s]\n"
          ]
        },
        {
          "output_type": "stream",
          "name": "stdout",
          "text": [
            "Epoch 26 ended, Train Loss: 0.2805009889187383, Val Loss: 0.42630301056376013\n",
            "Train Accuracy: 0.8975409836065574 Val Accuracy: 0.8300653594771242\n"
          ]
        },
        {
          "output_type": "stream",
          "name": "stderr",
          "text": [
            "100%|██████████| 61/61 [00:06<00:00,  9.91it/s]\n"
          ]
        },
        {
          "output_type": "stream",
          "name": "stdout",
          "text": [
            "Epoch 27 ended, Train Loss: 0.2513647367719744, Val Loss: 0.551034635458237\n",
            "Train Accuracy: 0.9221311475409836 Val Accuracy: 0.8431372549019608\n"
          ]
        },
        {
          "output_type": "stream",
          "name": "stderr",
          "text": [
            "100%|██████████| 61/61 [00:06<00:00,  9.83it/s]\n"
          ]
        },
        {
          "output_type": "stream",
          "name": "stdout",
          "text": [
            "Epoch 28 ended, Train Loss: 0.286249306205599, Val Loss: 0.676329326386062\n",
            "Train Accuracy: 0.8811475409836066 Val Accuracy: 0.7450980392156863\n"
          ]
        },
        {
          "output_type": "stream",
          "name": "stderr",
          "text": [
            "100%|██████████| 61/61 [00:06<00:00,  9.94it/s]\n"
          ]
        },
        {
          "output_type": "stream",
          "name": "stdout",
          "text": [
            "Epoch 29 ended, Train Loss: 0.2494758320514296, Val Loss: 0.34665470694502193\n",
            "Train Accuracy: 0.9139344262295082 Val Accuracy: 0.8888888888888888\n"
          ]
        },
        {
          "output_type": "stream",
          "name": "stderr",
          "text": [
            "100%|██████████| 61/61 [00:06<00:00,  9.98it/s]\n"
          ]
        },
        {
          "output_type": "stream",
          "name": "stdout",
          "text": [
            "Epoch 30 ended, Train Loss: 0.2962077685982966, Val Loss: 0.547593494077237\n",
            "Train Accuracy: 0.8770491803278688 Val Accuracy: 0.8431372549019608\n"
          ]
        },
        {
          "output_type": "stream",
          "name": "stderr",
          "text": [
            "100%|██████████| 61/61 [00:06<00:00,  9.96it/s]\n"
          ]
        },
        {
          "output_type": "stream",
          "name": "stdout",
          "text": [
            "Epoch 31 ended, Train Loss: 0.3162131360808357, Val Loss: 0.41530319991020054\n",
            "Train Accuracy: 0.8852459016393442 Val Accuracy: 0.8431372549019608\n"
          ]
        },
        {
          "output_type": "stream",
          "name": "stderr",
          "text": [
            "100%|██████████| 61/61 [00:06<00:00,  9.91it/s]\n"
          ]
        },
        {
          "output_type": "stream",
          "name": "stdout",
          "text": [
            "Epoch 32 ended, Train Loss: 0.21292965382826132, Val Loss: 0.35769520175302044\n",
            "Train Accuracy: 0.9139344262295082 Val Accuracy: 0.869281045751634\n"
          ]
        },
        {
          "output_type": "stream",
          "name": "stderr",
          "text": [
            "100%|██████████| 61/61 [00:06<00:00,  9.97it/s]\n"
          ]
        },
        {
          "output_type": "stream",
          "name": "stdout",
          "text": [
            "Epoch 33 ended, Train Loss: 0.2862217743255076, Val Loss: 0.5103978158619541\n",
            "Train Accuracy: 0.8975409836065574 Val Accuracy: 0.8169934640522876\n"
          ]
        },
        {
          "output_type": "stream",
          "name": "stderr",
          "text": [
            "100%|██████████| 61/61 [00:06<00:00, 10.01it/s]\n"
          ]
        },
        {
          "output_type": "stream",
          "name": "stdout",
          "text": [
            "Epoch 34 ended, Train Loss: 0.26516262936543245, Val Loss: 0.3574422859491255\n",
            "Train Accuracy: 0.8770491803278688 Val Accuracy: 0.8954248366013072\n"
          ]
        },
        {
          "output_type": "stream",
          "name": "stderr",
          "text": [
            "100%|██████████| 61/61 [00:06<00:00,  9.96it/s]\n"
          ]
        },
        {
          "output_type": "stream",
          "name": "stdout",
          "text": [
            "Epoch 35 ended, Train Loss: 0.25151516246746797, Val Loss: 0.3575968041490668\n",
            "Train Accuracy: 0.9057377049180327 Val Accuracy: 0.8431372549019608\n"
          ]
        },
        {
          "output_type": "stream",
          "name": "stderr",
          "text": [
            "100%|██████████| 61/61 [00:06<00:00,  9.97it/s]\n"
          ]
        },
        {
          "output_type": "stream",
          "name": "stdout",
          "text": [
            "Epoch 36 ended, Train Loss: 0.27500730746837915, Val Loss: 0.44860599135072565\n",
            "Train Accuracy: 0.8770491803278688 Val Accuracy: 0.803921568627451\n"
          ]
        },
        {
          "output_type": "stream",
          "name": "stderr",
          "text": [
            "100%|██████████| 61/61 [00:06<00:00,  9.91it/s]\n"
          ]
        },
        {
          "output_type": "stream",
          "name": "stdout",
          "text": [
            "Epoch 37 ended, Train Loss: 0.2368941781279005, Val Loss: 0.32652845666505015\n",
            "Train Accuracy: 0.9057377049180327 Val Accuracy: 0.869281045751634\n"
          ]
        },
        {
          "output_type": "stream",
          "name": "stderr",
          "text": [
            "100%|██████████| 61/61 [00:06<00:00,  9.99it/s]\n"
          ]
        },
        {
          "output_type": "stream",
          "name": "stdout",
          "text": [
            "Epoch 38 ended, Train Loss: 0.23405547073630037, Val Loss: 0.3851880983162958\n",
            "Train Accuracy: 0.9139344262295082 Val Accuracy: 0.8235294117647058\n"
          ]
        },
        {
          "output_type": "stream",
          "name": "stderr",
          "text": [
            "100%|██████████| 61/61 [00:06<00:00, 10.01it/s]\n"
          ]
        },
        {
          "output_type": "stream",
          "name": "stdout",
          "text": [
            "Epoch 39 ended, Train Loss: 0.2160026257643934, Val Loss: 0.3522839374267138\n",
            "Train Accuracy: 0.9139344262295082 Val Accuracy: 0.9084967320261438\n"
          ]
        },
        {
          "output_type": "stream",
          "name": "stderr",
          "text": [
            "100%|██████████| 61/61 [00:06<00:00,  9.98it/s]\n"
          ]
        },
        {
          "output_type": "stream",
          "name": "stdout",
          "text": [
            "Epoch 40 ended, Train Loss: 0.1878272559127358, Val Loss: 0.39906938419116134\n",
            "Train Accuracy: 0.9385245901639344 Val Accuracy: 0.869281045751634\n"
          ]
        },
        {
          "output_type": "stream",
          "name": "stderr",
          "text": [
            "100%|██████████| 61/61 [00:06<00:00,  9.93it/s]\n"
          ]
        },
        {
          "output_type": "stream",
          "name": "stdout",
          "text": [
            "Epoch 41 ended, Train Loss: 0.24432005791268388, Val Loss: 0.41892255931041944\n",
            "Train Accuracy: 0.8934426229508197 Val Accuracy: 0.8758169934640523\n"
          ]
        },
        {
          "output_type": "stream",
          "name": "stderr",
          "text": [
            "100%|██████████| 61/61 [00:06<00:00,  9.96it/s]\n"
          ]
        },
        {
          "output_type": "stream",
          "name": "stdout",
          "text": [
            "Epoch 42 ended, Train Loss: 0.23160546282153638, Val Loss: 0.4076381917648877\n",
            "Train Accuracy: 0.9139344262295082 Val Accuracy: 0.869281045751634\n"
          ]
        },
        {
          "output_type": "stream",
          "name": "stderr",
          "text": [
            "100%|██████████| 61/61 [00:06<00:00,  9.91it/s]\n"
          ]
        },
        {
          "output_type": "stream",
          "name": "stdout",
          "text": [
            "Epoch 43 ended, Train Loss: 0.23943801499048217, Val Loss: 0.4076859464821143\n",
            "Train Accuracy: 0.9180327868852459 Val Accuracy: 0.8758169934640523\n"
          ]
        },
        {
          "output_type": "stream",
          "name": "stderr",
          "text": [
            "100%|██████████| 61/61 [00:06<00:00,  9.95it/s]\n"
          ]
        },
        {
          "output_type": "stream",
          "name": "stdout",
          "text": [
            "Epoch 44 ended, Train Loss: 0.27904287606599876, Val Loss: 0.4178544871795636\n",
            "Train Accuracy: 0.8811475409836066 Val Accuracy: 0.8562091503267973\n"
          ]
        },
        {
          "output_type": "stream",
          "name": "stderr",
          "text": [
            "100%|██████████| 61/61 [00:06<00:00,  9.92it/s]\n"
          ]
        },
        {
          "output_type": "stream",
          "name": "stdout",
          "text": [
            "Epoch 45 ended, Train Loss: 0.23903821103396963, Val Loss: 0.4156793295831169\n",
            "Train Accuracy: 0.9344262295081968 Val Accuracy: 0.803921568627451\n"
          ]
        },
        {
          "output_type": "stream",
          "name": "stderr",
          "text": [
            "100%|██████████| 61/61 [00:06<00:00, 10.09it/s]\n"
          ]
        },
        {
          "output_type": "stream",
          "name": "stdout",
          "text": [
            "Epoch 46 ended, Train Loss: 0.1953170291590886, Val Loss: 0.30380475979472976\n",
            "Train Accuracy: 0.9344262295081968 Val Accuracy: 0.9150326797385621\n"
          ]
        },
        {
          "output_type": "stream",
          "name": "stderr",
          "text": [
            "100%|██████████| 61/61 [00:06<00:00,  9.95it/s]\n"
          ]
        },
        {
          "output_type": "stream",
          "name": "stdout",
          "text": [
            "Epoch 47 ended, Train Loss: 0.17025151738866431, Val Loss: 0.30789454242525\n",
            "Train Accuracy: 0.9508196721311475 Val Accuracy: 0.9084967320261438\n"
          ]
        },
        {
          "output_type": "stream",
          "name": "stderr",
          "text": [
            "100%|██████████| 61/61 [00:06<00:00,  9.99it/s]\n"
          ]
        },
        {
          "output_type": "stream",
          "name": "stdout",
          "text": [
            "Epoch 48 ended, Train Loss: 0.1452083438176845, Val Loss: 0.2883147749727449\n",
            "Train Accuracy: 0.9385245901639344 Val Accuracy: 0.9019607843137255\n"
          ]
        },
        {
          "output_type": "stream",
          "name": "stderr",
          "text": [
            "100%|██████████| 61/61 [00:06<00:00,  9.91it/s]\n"
          ]
        },
        {
          "output_type": "stream",
          "name": "stdout",
          "text": [
            "Epoch 49 ended, Train Loss: 0.12785926693287053, Val Loss: 0.3723398468290002\n",
            "Train Accuracy: 0.9508196721311475 Val Accuracy: 0.869281045751634\n"
          ]
        },
        {
          "output_type": "stream",
          "name": "stderr",
          "text": [
            "100%|██████████| 61/61 [00:06<00:00,  9.98it/s]\n"
          ]
        },
        {
          "output_type": "stream",
          "name": "stdout",
          "text": [
            "Epoch 50 ended, Train Loss: 0.21553981499593766, Val Loss: 0.26868727267719805\n",
            "Train Accuracy: 0.930327868852459 Val Accuracy: 0.9019607843137255\n"
          ]
        },
        {
          "output_type": "stream",
          "name": "stderr",
          "text": [
            "100%|██████████| 61/61 [00:06<00:00,  9.95it/s]\n"
          ]
        },
        {
          "output_type": "stream",
          "name": "stdout",
          "text": [
            "Epoch 51 ended, Train Loss: 0.22657016356338244, Val Loss: 0.4415758612523906\n",
            "Train Accuracy: 0.9262295081967213 Val Accuracy: 0.8823529411764706\n"
          ]
        },
        {
          "output_type": "stream",
          "name": "stderr",
          "text": [
            "100%|██████████| 61/61 [00:06<00:00,  9.88it/s]\n"
          ]
        },
        {
          "output_type": "stream",
          "name": "stdout",
          "text": [
            "Epoch 52 ended, Train Loss: 0.25091420440766654, Val Loss: 0.28351448115725547\n",
            "Train Accuracy: 0.8975409836065574 Val Accuracy: 0.8954248366013072\n"
          ]
        },
        {
          "output_type": "stream",
          "name": "stderr",
          "text": [
            "100%|██████████| 61/61 [00:06<00:00, 10.00it/s]\n"
          ]
        },
        {
          "output_type": "stream",
          "name": "stdout",
          "text": [
            "Epoch 53 ended, Train Loss: 0.208252290080561, Val Loss: 0.382048471747205\n",
            "Train Accuracy: 0.9221311475409836 Val Accuracy: 0.8888888888888888\n"
          ]
        },
        {
          "output_type": "stream",
          "name": "stderr",
          "text": [
            "100%|██████████| 61/61 [00:06<00:00,  9.99it/s]\n"
          ]
        },
        {
          "output_type": "stream",
          "name": "stdout",
          "text": [
            "Epoch 54 ended, Train Loss: 0.18685676743749713, Val Loss: 0.2980623512218396\n",
            "Train Accuracy: 0.9262295081967213 Val Accuracy: 0.8954248366013072\n"
          ]
        },
        {
          "output_type": "stream",
          "name": "stderr",
          "text": [
            "100%|██████████| 61/61 [00:06<00:00,  9.93it/s]\n"
          ]
        },
        {
          "output_type": "stream",
          "name": "stdout",
          "text": [
            "Epoch 55 ended, Train Loss: 0.1834435112560626, Val Loss: 0.40862774099103916\n",
            "Train Accuracy: 0.9385245901639344 Val Accuracy: 0.8366013071895425\n"
          ]
        },
        {
          "output_type": "stream",
          "name": "stderr",
          "text": [
            "100%|██████████| 61/61 [00:06<00:00,  9.96it/s]\n"
          ]
        },
        {
          "output_type": "stream",
          "name": "stdout",
          "text": [
            "Epoch 56 ended, Train Loss: 0.18563059369315865, Val Loss: 0.48496546125720785\n",
            "Train Accuracy: 0.9467213114754098 Val Accuracy: 0.8496732026143791\n"
          ]
        },
        {
          "output_type": "stream",
          "name": "stderr",
          "text": [
            "100%|██████████| 61/61 [00:06<00:00,  9.98it/s]\n"
          ]
        },
        {
          "output_type": "stream",
          "name": "stdout",
          "text": [
            "Epoch 57 ended, Train Loss: 0.1750105812107442, Val Loss: 0.3514723788361246\n",
            "Train Accuracy: 0.9426229508196722 Val Accuracy: 0.8954248366013072\n"
          ]
        },
        {
          "output_type": "stream",
          "name": "stderr",
          "text": [
            "100%|██████████| 61/61 [00:06<00:00,  9.98it/s]\n"
          ]
        },
        {
          "output_type": "stream",
          "name": "stdout",
          "text": [
            "Epoch 58 ended, Train Loss: 0.14281427365590316, Val Loss: 0.36778055099794305\n",
            "Train Accuracy: 0.9549180327868853 Val Accuracy: 0.8758169934640523\n"
          ]
        },
        {
          "output_type": "stream",
          "name": "stderr",
          "text": [
            "100%|██████████| 61/61 [00:06<00:00,  9.95it/s]\n"
          ]
        },
        {
          "output_type": "stream",
          "name": "stdout",
          "text": [
            "Epoch 59 ended, Train Loss: 0.17995434074250402, Val Loss: 0.35455206618047297\n",
            "Train Accuracy: 0.9385245901639344 Val Accuracy: 0.869281045751634\n"
          ]
        },
        {
          "output_type": "stream",
          "name": "stderr",
          "text": [
            "100%|██████████| 61/61 [00:06<00:00,  9.87it/s]\n"
          ]
        },
        {
          "output_type": "stream",
          "name": "stdout",
          "text": [
            "Epoch 60 ended, Train Loss: 0.1598093163863313, Val Loss: 0.37542101750687623\n",
            "Train Accuracy: 0.9344262295081968 Val Accuracy: 0.869281045751634\n"
          ]
        }
      ]
    },
    {
      "cell_type": "code",
      "metadata": {
        "id": "8qgMkIrALK-N"
      },
      "source": [
        "plt.figure(figsize=(8, 6))\n",
        "plt.title('Resnet18. Val accuracy', fontsize=14)\n",
        "plt.plot(test_acc1, label='val accuracy momentum')\n",
        "plt.plot(test_acc, label='val accuracy normal')\n",
        "plt.xlabel('epoch num', fontsize=12)\n",
        "plt.legend()\n",
        "plt.savefig('4')\n",
        "plt.show()"
      ],
      "execution_count": null,
      "outputs": []
    },
    {
      "cell_type": "code",
      "metadata": {
        "id": "qLFz2wJhSOR4"
      },
      "source": [
        "plt.figure(figsize=(8, 6))\n",
        "plt.title('Resnet18. Val loss', fontsize=14)\n",
        "plt.plot(test_losses1, label='val loss momentum')\n",
        "plt.plot(test_losses, label='val loss normal')\n",
        "plt.xlabel('epoch num', fontsize=12)\n",
        "plt.legend()\n",
        "plt.savefig('5')\n",
        "plt.show()"
      ],
      "execution_count": null,
      "outputs": []
    }
  ]
}